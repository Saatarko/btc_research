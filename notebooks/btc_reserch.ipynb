{
 "cells": [
  {
   "cell_type": "code",
   "execution_count": 1,
   "id": "e6a8ed79-cc43-4997-8e04-660bc39a82aa",
   "metadata": {},
   "outputs": [
    {
     "name": "stderr",
     "output_type": "stream",
     "text": [
      "/home/saatarko/anaconda3/envs/myenv/lib/python3.10/site-packages/xgboost/core.py:377: FutureWarning: Your system has an old version of glibc (< 2.28). We will stop supporting Linux distros with glibc older than 2.28 after **May 31, 2025**. Please upgrade to a recent Linux distro (with glibc >= 2.28) to use future versions of XGBoost.\n",
      "Note: You have installed the 'manylinux2014' variant of XGBoost. Certain features such as GPU algorithms or federated learning are not available. To use these features, please upgrade to a recent Linux distro with glibc 2.28+, and install the 'manylinux_2_28' variant.\n",
      "  warnings.warn(\n",
      "/home/saatarko/anaconda3/envs/myenv/lib/python3.10/site-packages/sklearn/experimental/enable_hist_gradient_boosting.py:19: UserWarning: Since version 1.0, it is not needed to import enable_hist_gradient_boosting anymore. HistGradientBoostingClassifier and HistGradientBoostingRegressor are now stable and can be normally imported from sklearn.ensemble.\n",
      "  warnings.warn(\n",
      "2025-06-25 23:08:09.164438: I tensorflow/core/platform/cpu_feature_guard.cc:182] This TensorFlow binary is optimized to use available CPU instructions in performance-critical operations.\n",
      "To enable the following instructions: AVX2 FMA, in other operations, rebuild TensorFlow with the appropriate compiler flags.\n"
     ]
    }
   ],
   "source": [
    "import numpy as np\n",
    "import pandas as pd\n",
    "import matplotlib.pyplot as plt\n",
    "from statsmodels.tsa.stattools import adfuller\n",
    "from statsmodels.tsa.seasonal import STL\n",
    "from statsmodels.tsa.filters.hp_filter import hpfilter\n",
    "from scipy.stats import linregress\n",
    "from statsmodels.tsa.arima.model import ARIMA\n",
    "from pyts.decomposition import SingularSpectrumAnalysis\n",
    "from pmdarima.arima import auto_arima\n",
    "import warnings\n",
    "import itertools\n",
    "from sklearn.linear_model import LinearRegression\n",
    "from statsmodels.tsa.holtwinters import ExponentialSmoothing\n",
    "from statsmodels.graphics.tsaplots import plot_acf, plot_pacf\n",
    "from scipy.signal import periodogram, find_peaks\n",
    "from rpy2.robjects import pandas2ri\n",
    "from rpy2.robjects.packages import importr\n",
    "from rpy2.robjects.conversion import localconverter\n",
    "import rpy2.robjects as ro\n",
    "from statsmodels.tsa.statespace.sarimax import SARIMAX\n",
    "from scipy.stats import boxcox, normaltest\n",
    "from scipy.stats.mstats import winsorize\n",
    "from scipy import stats\n",
    "from sklearn.preprocessing import StandardScaler, MinMaxScaler, RobustScaler\n",
    "from statsmodels.tsa.holtwinters import SimpleExpSmoothing, Holt\n",
    "import pywt\n",
    "from sklearn.decomposition import PCA\n",
    "from numpy.lib.stride_tricks import sliding_window_view\n",
    "from sklearn.utils.extmath import randomized_svd\n",
    "from PyEMD import EMD\n",
    "from sklearn.cluster import KMeans\n",
    "from scipy.stats import skew, kurtosis\n",
    "from pykalman import KalmanFilter\n",
    "import torch\n",
    "import torch.nn as nn\n",
    "from statsmodels.tsa.stattools import kpss\n",
    "from statsmodels.tsa.seasonal import seasonal_decompose\n",
    "from astropy.timeseries import LombScargle\n",
    "import statsmodels.api as sm\n",
    "from sklearn.ensemble import RandomForestRegressor\n",
    "from sklearn.cluster import KMeans\n",
    "from sklearn.metrics import silhouette_score, calinski_harabasz_score\n",
    "import seaborn as sns\n",
    "from sklearn.preprocessing import normalize\n",
    "from sklearn.mixture import GaussianMixture\n",
    "from scipy.stats import ttest_ind\n",
    "import datetime\n",
    "from scipy.interpolate import interp1d\n",
    "from scipy.signal import savgol_filter\n",
    "from scipy.signal import correlate\n",
    "from scipy.fft import fft, fftfreq\n",
    "from scipy.cluster.hierarchy import dendrogram, linkage\n",
    "from scipy.cluster.hierarchy import fcluster\n",
    "from collections import Counter\n",
    "from sklearn.cluster import DBSCAN\n",
    "import requests\n",
    "from io import StringIO\n",
    "from scipy.stats import spearmanr\n",
    "from sklearn.metrics import mutual_info_score\n",
    "from statsmodels.tsa.stattools import grangercausalitytests\n",
    "from pyinform.transferentropy import transfer_entropy\n",
    "from tigramite.data_processing import DataFrame as TDF\n",
    "from tigramite.pcmci import PCMCI\n",
    "import pyinform\n",
    "from sklearn.ensemble import IsolationForest\n",
    "import yfinance as yf\n",
    "import torch\n",
    "from torch.utils.data import Dataset, DataLoader, TensorDataset, random_split\n",
    "import torch.nn as nn\n",
    "from pytrends.request import TrendReq\n",
    "from fredapi import Fred\n",
    "from dotenv import load_dotenv\n",
    "import os\n",
    "from sklearn.model_selection import train_test_split\n",
    "import torch.optim as optim\n",
    "from sklearn.utils import resample\n",
    "from scipy.signal import hilbert\n",
    "from dtaidistance import dtw\n",
    "from scipy.signal import coherence, csd\n",
    "from pycoingecko import CoinGeckoAPI\n",
    "import pandas as pd\n",
    "import numpy as np\n",
    "from datetime import date, timedelta\n",
    "from scipy.stats import pearsonr\n",
    "import joblib\n",
    "import xgboost as xgb\n",
    "from sklearn.metrics import mean_squared_error\n",
    "import pytz\n",
    "from tqdm import tqdm\n",
    "from scipy.stats import zscore\n",
    "from scipy.ndimage import median_filter\n",
    "from sklearn.metrics import precision_score, recall_score, f1_score\n",
    "import ta\n",
    "from sklearn.linear_model import LogisticRegression\n",
    "from sklearn.naive_bayes import GaussianNB\n",
    "from sklearn.tree import DecisionTreeClassifier\n",
    "from sklearn.neighbors import KNeighborsClassifier\n",
    "from sklearn.discriminant_analysis import LinearDiscriminantAnalysis\n",
    "from sklearn.ensemble import RandomForestClassifier, GradientBoostingClassifier\n",
    "from xgboost import XGBClassifier\n",
    "from catboost import CatBoostClassifier\n",
    "from sklearn.metrics import accuracy_score, f1_score, roc_auc_score\n",
    "from sklearn.model_selection import StratifiedKFold, cross_val_predict\n",
    "from sklearn.ensemble import VotingClassifier\n",
    "from collections import defaultdict\n",
    "from sklearn.impute import SimpleImputer\n",
    "from sklearn.experimental import enable_hist_gradient_boosting  # Нужно для активации\n",
    "from sklearn.ensemble import HistGradientBoostingClassifier\n",
    "from sklearn.inspection import permutation_importance\n",
    "from sklearn.metrics import confusion_matrix\n",
    "from sklearn.model_selection import TimeSeriesSplit\n",
    "import pandas_datareader.data as web\n",
    "from tiingo import TiingoClient\n",
    "from pykalman import KalmanFilter\n",
    "from pytorch_forecasting import TimeSeriesDataSet\n",
    "from pytorch_forecasting.data import NaNLabelEncoder\n",
    "from pytorch_forecasting import TemporalFusionTransformer\n",
    "from pytorch_lightning import Trainer\n",
    "from pytorch_lightning.callbacks import EarlyStopping, LearningRateMonitor\n",
    "from pytorch_forecasting.metrics.base_metrics import Metric\n",
    "from lightning.pytorch import Trainer, LightningModule\n",
    "import ccxt\n",
    "import torch.nn.functional as F\n",
    "from stable_baselines3 import PPO\n",
    "import gymnasium as gym\n",
    "from gymnasium import spaces\n",
    "from stable_baselines3.common.vec_env import DummyVecEnv\n",
    "\n",
    "# Подавляем только FutureWarning\n",
    "warnings.filterwarnings(\"ignore\", category=FutureWarning)\n",
    "warnings.filterwarnings(\"ignore\", category=UserWarning)\n",
    "\n",
    "pd.set_option('display.precision', 2)\n",
    "pd.options.display.float_format = '{:,.2f}'.format"
   ]
  },
  {
   "cell_type": "code",
   "execution_count": 2,
   "id": "6b2e41be-51b7-436d-bf80-69941d8f5f57",
   "metadata": {},
   "outputs": [],
   "source": [
    "''' FUNCTIONS '''\n",
    "\n",
    "# Конввертируем время в привычный вариант\n",
    "def dateparse (time_in_secs):    \n",
    "    return pytz.utc.localize(datetime.datetime.fromtimestamp(float(time_in_secs)))\n",
    "\n",
    "def plot_strategy_vs_buy_hold(df_signals, threshold=0.6, resample='1H', show_signals=True, max_return=10.0):\n",
    "    \"\"\"\n",
    "    Визуализация стратегии и сравнение с Buy & Hold.\n",
    "\n",
    "    Parameters:\n",
    "    - df_signals: DataFrame с колонками ['strategy_return', 'future_return', 'signal']\n",
    "    - threshold: значение, использованное при генерации сигналов\n",
    "    - resample: частота агрегации ('1H', '1D', 'W', и т.д.)\n",
    "    - show_signals: если True — отмечает сделки на графике\n",
    "    - max_return: максимальное значение cumulative return, выше которого обрезаются выбросы\n",
    "    \"\"\"\n",
    "    df_plot = df_signals.copy()\n",
    "\n",
    "    # Убедимся, что индекс — datetime\n",
    "    df_plot.index = pd.to_datetime(df_plot.index)\n",
    "    df_plot = df_plot.sort_index()\n",
    "\n",
    "    # Пересчитаем кумулятивные доходности\n",
    "    df_plot['cumulative_return'] = (1 + df_plot['strategy_return']).cumprod()\n",
    "    df_plot['buy_and_hold'] = (1 + df_plot['future_return']).cumprod()\n",
    "\n",
    "    # Удалим выбросы\n",
    "    df_plot = df_plot[(df_plot['cumulative_return'] < max_return) & (df_plot['buy_and_hold'] < max_return)]\n",
    "\n",
    "    # Агрегация\n",
    "    df_plot = df_plot.resample(resample).last()\n",
    "\n",
    "    # График\n",
    "    plt.figure(figsize=(12, 6))\n",
    "    plt.plot(df_plot.index, df_plot['cumulative_return'], label='Strategy')\n",
    "    plt.plot(df_plot.index, df_plot['buy_and_hold'], label='Buy & Hold', linestyle='--')\n",
    "    \n",
    "    # Точки входа\n",
    "    if show_signals and 'signal' in df_plot.columns:\n",
    "        entry_points = df_plot[df_plot['signal'] == 1]\n",
    "        plt.scatter(entry_points.index, entry_points['cumulative_return'], color='green', marker='^', label='Entries', zorder=5)\n",
    "\n",
    "    plt.title(f'Strategy vs Buy & Hold (threshold={threshold}, resample={resample})')\n",
    "    plt.legend()\n",
    "    plt.grid(True)\n",
    "    plt.tight_layout()\n",
    "    plt.savefig(\"Strategy vs Buy & Hold\", dpi=300)\n",
    "    plt.show()\n",
    "\n",
    "def bar_plot(x, y,palette_len,title='Missing Values (%)', xlim = None, ylim = None, \n",
    "             xticklabels = None, yticklabels = None,xlabel = None, ylabel = None, \n",
    "             figsize = (10,4),axis_grid = 'y'):\n",
    "        \n",
    "    cmap = sns.color_palette(\"plasma\")\n",
    "    fig, ax = plt.subplots(figsize = figsize)\n",
    "    plt.title(title,size = 15, fontweight = 'bold')\n",
    "\n",
    "    for i in ['top', 'right', 'bottom', 'left']:\n",
    "        ax.spines[i].set_color('black')\n",
    "    \n",
    "    ax.spines['top'].set_visible(True);ax.spines['right'].set_visible(False)\n",
    "    ax.spines['bottom'].set_visible(False);ax.spines['left'].set_visible(False)\n",
    "\n",
    "    sns.barplot(x = x, y = y, edgecolor = 'black', ax = ax,\n",
    "                palette = cmap)\n",
    "    ax.set_xlim(xlim);ax.set_ylim(ylim)    \n",
    "    ax.set_xticklabels(xticklabels);ax.set_yticklabels(yticklabels)\n",
    "    plt.xlabel(xlabel);plt.ylabel(ylabel)\n",
    "    ax.grid(axis = axis_grid,ls='--',alpha = 0.9)\n",
    "    plt.show()\n",
    "\n",
    "def compute_indicators_v6(df, trend_emd=None, future_horizon=5, threshold=0.02, kalman_smooth=False):\n",
    "\n",
    "    if kalman_smooth:\n",
    "\n",
    "        kf = KalmanFilter(initial_state_mean=0, n_dim_obs=1)\n",
    "        df = df.copy()\n",
    "        \n",
    "        for col in ['Open', 'High', 'Low', 'Close', 'Volume']:\n",
    "            smoothed, _ = kf.smooth(df[col].values)\n",
    "            df[col] = smoothed.flatten()\n",
    "        \n",
    "    price_orig = df['Close']\n",
    "\n",
    "    # Если передан тренд из EMD — использовать его как очищенную цену для индикаторов (для снижения шума)\n",
    "    price = trend_emd if trend_emd is not None else price_orig\n",
    "\n",
    "    o, h, l, c, v = df['Open'], df['High'], df['Low'], df['Close'], df['Volume']\n",
    "\n",
    "    # --- Скользящие средние ---\n",
    "    df['sma_1d'] = price\n",
    "    df['sma_1w'] = price.rolling(7).mean()\n",
    "    df['sma_signal'] = (df['sma_1d'] > df['sma_1w']).astype(int)\n",
    "\n",
    "    ema12 = price.ewm(span=12, adjust=False).mean()\n",
    "    ema26 = price.ewm(span=26, adjust=False).mean()\n",
    "    df['ema_crossover'] = (ema12 > ema26).astype(int)\n",
    "\n",
    "    # --- RSI ---\n",
    "    delta = price.diff()\n",
    "    gain = delta.clip(lower=0)\n",
    "    loss = -delta.clip(upper=0)\n",
    "    rs = gain.rolling(14).mean() / (loss.rolling(14).mean() + 1e-8)\n",
    "    df['rsi'] = 100 - (100 / (1 + rs))\n",
    "    df['rsi_signal'] = (df['rsi'] < 30).astype(int)\n",
    "\n",
    "    # --- MACD ---\n",
    "    macd = ema12 - ema26\n",
    "    macd_signal = macd.ewm(span=9, adjust=False).mean()\n",
    "    df['macd'] = macd\n",
    "    df['macd_signal'] = macd_signal\n",
    "    df['macd_signal_bin'] = (macd > macd_signal).astype(int)\n",
    "\n",
    "    # --- Volatility ---\n",
    "    window_size = 7\n",
    "    df['volatility_1d'] = price.rolling(window=window_size).std()\n",
    "    median_vol = df['volatility_1d'].median()\n",
    "    df['volatility_signal'] = (df['volatility_1d'] > median_vol).astype(int)\n",
    "    vol_roll = df['volatility_1d'].rolling(14)\n",
    "    df['volatility_z'] = (df['volatility_1d'] - vol_roll.mean()) / (vol_roll.std() + 1e-8)\n",
    "\n",
    "    # --- Bollinger Bands ---\n",
    "    bb = ta.volatility.BollingerBands(close=price, window=20, window_dev=2)\n",
    "    df['bb_hband_indicator'] = bb.bollinger_hband_indicator()\n",
    "    df['bb_lband_indicator'] = bb.bollinger_lband_indicator()\n",
    "\n",
    "    # --- ATR ---\n",
    "    df['atr'] = ta.volatility.AverageTrueRange(high=h, low=l, close=c, window=14).average_true_range()\n",
    "\n",
    "    # --- On Balance Volume ---\n",
    "    df['obv'] = ta.volume.OnBalanceVolumeIndicator(close=c, volume=v).on_balance_volume()\n",
    "\n",
    "    # --- Stochastic RSI ---\n",
    "    df['stoch_rsi'] = ta.momentum.StochasticOscillator(high=h, low=l, close=c, window=14).stoch()\n",
    "\n",
    "    # --- Новые индикаторы ---\n",
    "\n",
    "    # ADX - сила тренда\n",
    "    df['adx'] = ta.trend.ADXIndicator(high=h, low=l, close=c, window=14).adx()\n",
    "\n",
    "    # CCI - перепроданность/перекупленность\n",
    "    df['cci'] = ta.trend.CCIIndicator(high=h, low=l, close=c, window=20).cci()\n",
    "\n",
    "    # Williams %R\n",
    "    df['williams_r'] = ta.momentum.WilliamsRIndicator(high=h, low=l, close=c, lbp=14).williams_r()\n",
    "\n",
    "    # Parabolic SAR\n",
    "    df['psar'] = ta.trend.PSARIndicator(high=h, low=l, close=c, step=0.02, max_step=0.2).psar()\n",
    "\n",
    "    # Momentum\n",
    "    df['momentum'] = c - c.shift(10)\n",
    "\n",
    "    # Chaikin Money Flow\n",
    "    df['cmf'] = ta.volume.ChaikinMoneyFlowIndicator(high=h, low=l, close=c, volume=v, window=20).chaikin_money_flow()\n",
    "\n",
    "    # --- Свечные паттерны ---\n",
    "    df['bull_candle'] = (c > o).astype(int)\n",
    "    df['bear_candle'] = (c < o).astype(int)\n",
    "    hl_range = h - l + 1e-8\n",
    "    df['hammer'] = ((h - l > 3 * abs(o - c)) &\n",
    "                    ((c - l) / hl_range > 0.6) &\n",
    "                    ((o - l) / hl_range > 0.6)).astype(int)\n",
    "    df['doji'] = (abs(c - o) <= 0.05 * hl_range).astype(int)\n",
    "    df['shooting_star'] = ((h - l > 3 * abs(o - c)) &\n",
    "                           ((h - c) / hl_range > 0.6) &\n",
    "                           ((h - o) / hl_range > 0.6)).astype(int)\n",
    "\n",
    "    prev_c, prev_o = c.shift(1), o.shift(1)\n",
    "    df['bullish_engulfing'] = ((prev_c < prev_o) & (c > o) & (c > prev_o) & (o < prev_c)).astype(int)\n",
    "    df['bearish_engulfing'] = ((prev_c > prev_o) & (c < o) & (c < prev_o) & (o > prev_c)).astype(int)\n",
    "    df['morning_star'] = ((df['bear_candle'].shift(2) == 1) &\n",
    "                          (df['doji'].shift(1) == 1) &\n",
    "                          (df['bull_candle'] == 1)).astype(int)\n",
    "    df['evening_star'] = ((df['bull_candle'].shift(2) == 1) &\n",
    "                          (df['doji'].shift(1) == 1) &\n",
    "                          (df['bear_candle'] == 1)).astype(int)\n",
    "\n",
    "    # --- Корреляции ---\n",
    "    df['corr_price_volume_7'] = c.rolling(7).corr(v)\n",
    "    df['corr_obv_price_7'] = df['obv'].rolling(7).corr(c)\n",
    "\n",
    "    # --- Volume spike ---\n",
    "    df['volume_spike'] = (v > 1.5 * v.rolling(14).mean()).astype(int)\n",
    "\n",
    "    # --- Лаги ---\n",
    "    lag_cols = ['Close', 'Volume', 'rsi', 'macd', 'macd_signal', 'obv', 'stoch_rsi', 'adx', 'cci', 'williams_r', 'momentum', 'cmf']\n",
    "    for col in lag_cols:\n",
    "        for lag in range(1, 4):\n",
    "            df[f'{col}_lag{lag}'] = df[col].shift(lag)\n",
    "\n",
    "    # --- Целевая переменная ---\n",
    "    df['future_return'] = df['Close'].shift(-future_horizon) / df['Close'] - 1\n",
    "    df['target'] = (df['future_return'] > threshold).astype(int)\n",
    "\n",
    "    # --- Свечная кластеризация ---\n",
    "    candle_features = pd.DataFrame({\n",
    "        'body': abs(c - o),\n",
    "        'upper_shadow': h - np.maximum(c, o),\n",
    "        'lower_shadow': np.maximum(0, np.minimum(c, o) - l)\n",
    "    }).replace([np.inf, -np.inf], 0).fillna(0)\n",
    "    candle_scaled = StandardScaler().fit_transform(candle_features)\n",
    "    kmeans = KMeans(n_clusters=6, random_state=42).fit(candle_scaled)\n",
    "    df['candle_cluster'] = kmeans.labels_\n",
    "\n",
    "    # --- Комбинированный сигнал ---\n",
    "    signals = ['sma_signal', 'ema_crossover', 'rsi_signal', 'macd_signal_bin', 'volatility_signal']\n",
    "    df['combined_signal'] = df[signals].sum(axis=1)\n",
    "\n",
    "    # --- Заполнение пропусков ---\n",
    "    df.fillna(method='ffill', inplace=True)\n",
    "    df.fillna(method='bfill', inplace=True)\n",
    "\n",
    "    return df\n",
    "\n",
    "class LSTMClassifier(nn.Module):\n",
    "    def __init__(self, input_dim, hidden_dim=64, num_layers=2, dropout=0.3):\n",
    "        super().__init__()\n",
    "        self.lstm = nn.LSTM(input_dim, hidden_dim, num_layers=num_layers,\n",
    "                            batch_first=True, dropout=dropout)\n",
    "        self.dropout = nn.Dropout(dropout)\n",
    "        self.fc = nn.Linear(hidden_dim, 1)\n",
    "\n",
    "    def forward(self, x):\n",
    "        # x shape: (batch, seq_len, input_dim)\n",
    "        out, _ = self.lstm(x)            # out shape: (batch, seq_len, hidden_dim)\n",
    "        out = out[:, -1, :]              # взять последний временной шаг (batch, hidden_dim)\n",
    "        out = self.dropout(out)\n",
    "        out = self.fc(out)               # (batch, 1)\n",
    "        return out.view(-1)              # привести к (batch,), чтобы loss корректно считывал\n",
    "\n",
    "\n",
    "# --- Кастомный Dataset ---\n",
    "class SequenceDataset(Dataset):\n",
    "    def __init__(self, X, y, timestamps):\n",
    "        self.X = X\n",
    "        self.y = y\n",
    "        # Преобразуем все timestamps в строку\n",
    "        self.timestamps = pd.to_datetime(timestamps).astype(str).tolist()\n",
    "\n",
    "    def __len__(self):\n",
    "        return len(self.X)\n",
    "\n",
    "    def __getitem__(self, idx):\n",
    "        return self.X[idx], self.y[idx], self.timestamps[idx]\n",
    "\n",
    "# --- Создание последовательностей ---\n",
    "def create_sequences(X, y, timesteps, horizon, timestamps):\n",
    "    Xs, ys, ts = [], [], []\n",
    "\n",
    "    for i in range(len(X) - timesteps - horizon + 1):\n",
    "        Xs.append(X[i:i+timesteps])\n",
    "        ys.append(y[i+timesteps + horizon - 1])  # целевое значение через horizon\n",
    "        ts.append(timestamps[i+timesteps + horizon - 1])  # timestamp для точки предсказания\n",
    "\n",
    "    return np.array(Xs), np.array(ys), np.array(ts)\n",
    "\n",
    "def train_epoch(model, loader, criterion, optimizer, device):\n",
    "    model.train()\n",
    "    total_loss = 0\n",
    "\n",
    "    for i, batch in enumerate(loader):\n",
    "        X_batch, y_batch, *_ = batch\n",
    "        X_batch = X_batch.float().to(device)  # 👈 float32\n",
    "        y_batch = y_batch.float().to(device)\n",
    "\n",
    "        optimizer.zero_grad()\n",
    "        preds = model(X_batch)\n",
    "        loss = criterion(preds, y_batch)\n",
    "        loss.backward()\n",
    "        optimizer.step()\n",
    "\n",
    "        total_loss += loss.item() * X_batch.size(0)\n",
    "\n",
    "    return total_loss / len(loader.dataset)\n",
    "\n",
    "def eval_epoch(model, dataloader, criterion, device):\n",
    "    model.eval()\n",
    "    losses, all_preds, all_targets, all_timestamps = [], [], [], []\n",
    "\n",
    "    with torch.no_grad():\n",
    "        for batch in dataloader:\n",
    "            X_batch, y_batch, ts_batch = batch\n",
    "            X_batch, y_batch = X_batch.float().to(device), y_batch.to(device)\n",
    "\n",
    "            outputs = model(X_batch).squeeze()\n",
    "            loss = criterion(outputs, y_batch)\n",
    "            losses.append(loss.item())\n",
    "\n",
    "            all_preds.extend(outputs.cpu().numpy())\n",
    "            all_targets.extend(y_batch.cpu().numpy())\n",
    "            all_timestamps.extend(ts_batch)  # теперь это list[str]\n",
    "\n",
    "    # Преобразуем строки обратно в Timestamp\n",
    "    all_timestamps = pd.to_datetime(all_timestamps)\n",
    "\n",
    "    return np.mean(losses), np.array(all_preds), np.array(all_targets), all_timestamps\n",
    "\n",
    "\n",
    "class CustomBinaryCrossEntropy(Metric):\n",
    "    def __init__(self):\n",
    "        super().__init__()\n",
    "        self.loss_fn = torch.nn.BCEWithLogitsLoss(reduction=\"sum\")\n",
    "        self.add_state(\"loss_sum\", default=torch.tensor(0.0), dist_reduce_fx=\"sum\")\n",
    "        self.add_state(\"total\", default=torch.tensor(0), dist_reduce_fx=\"sum\")\n",
    "\n",
    "    def update(self, y_pred, target):\n",
    "        if isinstance(y_pred, (tuple, list)):\n",
    "            y_pred = y_pred[0]\n",
    "        if isinstance(target, (tuple, list)):\n",
    "            target = target[0]\n",
    "    \n",
    "        # Перемещаем target на устройство y_pred\n",
    "        target = target.to(y_pred.device)\n",
    "    \n",
    "        # Приведение размерностей\n",
    "        if y_pred.ndim == 3 and y_pred.shape[2] == 1 and target.ndim == 2:\n",
    "            y_pred = y_pred.squeeze(-1)\n",
    "        elif y_pred.ndim == 3 and target.ndim == 2:\n",
    "            target = target.unsqueeze(1)  # [B, 1] -> [B, 1, 1]\n",
    "    \n",
    "        # Приведение типов\n",
    "        y_pred = y_pred.float()\n",
    "        target = target.float()\n",
    "    \n",
    "        loss = self.loss_fn(y_pred, target)\n",
    "        self.loss_sum += loss\n",
    "        self.total += target.numel()\n",
    "\n",
    "    def compute(self):\n",
    "        return self.loss_sum / self.total\n"
   ]
  },
  {
   "cell_type": "markdown",
   "id": "6d1daa2c-6d09-4af1-8735-29a4439417fe",
   "metadata": {},
   "source": [
    "# Загружаем датафрейм"
   ]
  },
  {
   "cell_type": "code",
   "execution_count": 16,
   "id": "6c73adca-0aea-4ba9-b112-53a1e2fa159e",
   "metadata": {},
   "outputs": [],
   "source": [
    "path ='btc_15m_data_2018_to_2025.csv'"
   ]
  },
  {
   "cell_type": "code",
   "execution_count": 20,
   "id": "0f77136a-eee4-43fa-9095-9b9491eff7e8",
   "metadata": {},
   "outputs": [],
   "source": [
    "btc_df = pd.read_csv('btc_15m_data_2018_to_2025.csv',  index_col='Open time')"
   ]
  },
  {
   "cell_type": "code",
   "execution_count": 21,
   "id": "4af6e505-b808-48ec-937b-cbb9f324a726",
   "metadata": {},
   "outputs": [
    {
     "data": {
      "text/html": [
       "<div>\n",
       "<style scoped>\n",
       "    .dataframe tbody tr th:only-of-type {\n",
       "        vertical-align: middle;\n",
       "    }\n",
       "\n",
       "    .dataframe tbody tr th {\n",
       "        vertical-align: top;\n",
       "    }\n",
       "\n",
       "    .dataframe thead th {\n",
       "        text-align: right;\n",
       "    }\n",
       "</style>\n",
       "<table border=\"1\" class=\"dataframe\">\n",
       "  <thead>\n",
       "    <tr style=\"text-align: right;\">\n",
       "      <th></th>\n",
       "      <th>Open</th>\n",
       "      <th>High</th>\n",
       "      <th>Low</th>\n",
       "      <th>Close</th>\n",
       "      <th>Volume</th>\n",
       "      <th>Close time</th>\n",
       "      <th>Quote asset volume</th>\n",
       "      <th>Number of trades</th>\n",
       "      <th>Taker buy base asset volume</th>\n",
       "      <th>Taker buy quote asset volume</th>\n",
       "      <th>Ignore</th>\n",
       "    </tr>\n",
       "    <tr>\n",
       "      <th>Open time</th>\n",
       "      <th></th>\n",
       "      <th></th>\n",
       "      <th></th>\n",
       "      <th></th>\n",
       "      <th></th>\n",
       "      <th></th>\n",
       "      <th></th>\n",
       "      <th></th>\n",
       "      <th></th>\n",
       "      <th></th>\n",
       "      <th></th>\n",
       "    </tr>\n",
       "  </thead>\n",
       "  <tbody>\n",
       "    <tr>\n",
       "      <th>2018-01-01 00:00:00</th>\n",
       "      <td>13,715.65</td>\n",
       "      <td>13,715.65</td>\n",
       "      <td>13,400.01</td>\n",
       "      <td>13,556.15</td>\n",
       "      <td>123.62</td>\n",
       "      <td>2018-01-01 00:14:59.999</td>\n",
       "      <td>1,675,544.89</td>\n",
       "      <td>1572</td>\n",
       "      <td>63.23</td>\n",
       "      <td>857,610.83</td>\n",
       "      <td>0</td>\n",
       "    </tr>\n",
       "    <tr>\n",
       "      <th>2018-01-01 00:15:00</th>\n",
       "      <td>13,533.75</td>\n",
       "      <td>13,550.87</td>\n",
       "      <td>13,402.00</td>\n",
       "      <td>13,521.12</td>\n",
       "      <td>98.14</td>\n",
       "      <td>2018-01-01 00:29:59.999</td>\n",
       "      <td>1,321,756.85</td>\n",
       "      <td>1461</td>\n",
       "      <td>47.69</td>\n",
       "      <td>642,281.17</td>\n",
       "      <td>0</td>\n",
       "    </tr>\n",
       "    <tr>\n",
       "      <th>2018-01-01 00:30:00</th>\n",
       "      <td>13,500.00</td>\n",
       "      <td>13,545.37</td>\n",
       "      <td>13,450.00</td>\n",
       "      <td>13,470.41</td>\n",
       "      <td>79.90</td>\n",
       "      <td>2018-01-01 00:44:59.999</td>\n",
       "      <td>1,078,825.29</td>\n",
       "      <td>1000</td>\n",
       "      <td>43.71</td>\n",
       "      <td>590,034.71</td>\n",
       "      <td>0</td>\n",
       "    </tr>\n",
       "    <tr>\n",
       "      <th>2018-01-01 00:45:00</th>\n",
       "      <td>13,494.65</td>\n",
       "      <td>13,690.87</td>\n",
       "      <td>13,450.00</td>\n",
       "      <td>13,529.01</td>\n",
       "      <td>141.70</td>\n",
       "      <td>2018-01-01 00:59:59.999</td>\n",
       "      <td>1,917,782.81</td>\n",
       "      <td>1195</td>\n",
       "      <td>73.90</td>\n",
       "      <td>1,000,614.39</td>\n",
       "      <td>0</td>\n",
       "    </tr>\n",
       "    <tr>\n",
       "      <th>2018-01-01 01:00:00</th>\n",
       "      <td>13,528.99</td>\n",
       "      <td>13,571.74</td>\n",
       "      <td>13,402.28</td>\n",
       "      <td>13,445.63</td>\n",
       "      <td>72.54</td>\n",
       "      <td>2018-01-01 01:14:59.999</td>\n",
       "      <td>977,819.79</td>\n",
       "      <td>898</td>\n",
       "      <td>34.26</td>\n",
       "      <td>461,836.85</td>\n",
       "      <td>0</td>\n",
       "    </tr>\n",
       "    <tr>\n",
       "      <th>...</th>\n",
       "      <td>...</td>\n",
       "      <td>...</td>\n",
       "      <td>...</td>\n",
       "      <td>...</td>\n",
       "      <td>...</td>\n",
       "      <td>...</td>\n",
       "      <td>...</td>\n",
       "      <td>...</td>\n",
       "      <td>...</td>\n",
       "      <td>...</td>\n",
       "      <td>...</td>\n",
       "    </tr>\n",
       "    <tr>\n",
       "      <th>2025-06-24 23:00:00</th>\n",
       "      <td>106,025.39</td>\n",
       "      <td>106,028.00</td>\n",
       "      <td>105,828.57</td>\n",
       "      <td>105,864.66</td>\n",
       "      <td>62.20</td>\n",
       "      <td>2025-06-24 23:14:59.999</td>\n",
       "      <td>6,587,454.33</td>\n",
       "      <td>17053</td>\n",
       "      <td>30.29</td>\n",
       "      <td>3,208,619.82</td>\n",
       "      <td>0</td>\n",
       "    </tr>\n",
       "    <tr>\n",
       "      <th>2025-06-24 23:15:00</th>\n",
       "      <td>105,864.67</td>\n",
       "      <td>105,864.67</td>\n",
       "      <td>105,774.90</td>\n",
       "      <td>105,837.89</td>\n",
       "      <td>54.34</td>\n",
       "      <td>2025-06-24 23:29:59.999</td>\n",
       "      <td>5,749,910.45</td>\n",
       "      <td>12214</td>\n",
       "      <td>14.93</td>\n",
       "      <td>1,579,963.57</td>\n",
       "      <td>0</td>\n",
       "    </tr>\n",
       "    <tr>\n",
       "      <th>2025-06-24 23:30:00</th>\n",
       "      <td>105,837.90</td>\n",
       "      <td>105,935.10</td>\n",
       "      <td>105,804.06</td>\n",
       "      <td>105,907.13</td>\n",
       "      <td>53.59</td>\n",
       "      <td>2025-06-24 23:44:59.999</td>\n",
       "      <td>5,674,537.82</td>\n",
       "      <td>12562</td>\n",
       "      <td>19.19</td>\n",
       "      <td>2,030,985.60</td>\n",
       "      <td>0</td>\n",
       "    </tr>\n",
       "    <tr>\n",
       "      <th>2025-06-24 23:45:00</th>\n",
       "      <td>105,907.14</td>\n",
       "      <td>106,083.00</td>\n",
       "      <td>105,868.62</td>\n",
       "      <td>106,083.00</td>\n",
       "      <td>81.63</td>\n",
       "      <td>2025-06-24 23:59:59.999</td>\n",
       "      <td>8,650,085.70</td>\n",
       "      <td>15164</td>\n",
       "      <td>49.90</td>\n",
       "      <td>5,287,993.78</td>\n",
       "      <td>0</td>\n",
       "    </tr>\n",
       "    <tr>\n",
       "      <th>2025-06-25 00:00:00</th>\n",
       "      <td>106,083.00</td>\n",
       "      <td>106,450.00</td>\n",
       "      <td>106,021.88</td>\n",
       "      <td>106,438.21</td>\n",
       "      <td>185.46</td>\n",
       "      <td>2025-06-25 00:14:59.999</td>\n",
       "      <td>19,701,544.25</td>\n",
       "      <td>38924</td>\n",
       "      <td>119.56</td>\n",
       "      <td>12,701,495.95</td>\n",
       "      <td>0</td>\n",
       "    </tr>\n",
       "  </tbody>\n",
       "</table>\n",
       "<p>261741 rows × 11 columns</p>\n",
       "</div>"
      ],
      "text/plain": [
       "                          Open       High        Low      Close  Volume  \\\n",
       "Open time                                                                 \n",
       "2018-01-01 00:00:00  13,715.65  13,715.65  13,400.01  13,556.15  123.62   \n",
       "2018-01-01 00:15:00  13,533.75  13,550.87  13,402.00  13,521.12   98.14   \n",
       "2018-01-01 00:30:00  13,500.00  13,545.37  13,450.00  13,470.41   79.90   \n",
       "2018-01-01 00:45:00  13,494.65  13,690.87  13,450.00  13,529.01  141.70   \n",
       "2018-01-01 01:00:00  13,528.99  13,571.74  13,402.28  13,445.63   72.54   \n",
       "...                        ...        ...        ...        ...     ...   \n",
       "2025-06-24 23:00:00 106,025.39 106,028.00 105,828.57 105,864.66   62.20   \n",
       "2025-06-24 23:15:00 105,864.67 105,864.67 105,774.90 105,837.89   54.34   \n",
       "2025-06-24 23:30:00 105,837.90 105,935.10 105,804.06 105,907.13   53.59   \n",
       "2025-06-24 23:45:00 105,907.14 106,083.00 105,868.62 106,083.00   81.63   \n",
       "2025-06-25 00:00:00 106,083.00 106,450.00 106,021.88 106,438.21  185.46   \n",
       "\n",
       "                                  Close time  Quote asset volume  \\\n",
       "Open time                                                          \n",
       "2018-01-01 00:00:00  2018-01-01 00:14:59.999        1,675,544.89   \n",
       "2018-01-01 00:15:00  2018-01-01 00:29:59.999        1,321,756.85   \n",
       "2018-01-01 00:30:00  2018-01-01 00:44:59.999        1,078,825.29   \n",
       "2018-01-01 00:45:00  2018-01-01 00:59:59.999        1,917,782.81   \n",
       "2018-01-01 01:00:00  2018-01-01 01:14:59.999          977,819.79   \n",
       "...                                      ...                 ...   \n",
       "2025-06-24 23:00:00  2025-06-24 23:14:59.999        6,587,454.33   \n",
       "2025-06-24 23:15:00  2025-06-24 23:29:59.999        5,749,910.45   \n",
       "2025-06-24 23:30:00  2025-06-24 23:44:59.999        5,674,537.82   \n",
       "2025-06-24 23:45:00  2025-06-24 23:59:59.999        8,650,085.70   \n",
       "2025-06-25 00:00:00  2025-06-25 00:14:59.999       19,701,544.25   \n",
       "\n",
       "                     Number of trades  Taker buy base asset volume  \\\n",
       "Open time                                                            \n",
       "2018-01-01 00:00:00              1572                        63.23   \n",
       "2018-01-01 00:15:00              1461                        47.69   \n",
       "2018-01-01 00:30:00              1000                        43.71   \n",
       "2018-01-01 00:45:00              1195                        73.90   \n",
       "2018-01-01 01:00:00               898                        34.26   \n",
       "...                               ...                          ...   \n",
       "2025-06-24 23:00:00             17053                        30.29   \n",
       "2025-06-24 23:15:00             12214                        14.93   \n",
       "2025-06-24 23:30:00             12562                        19.19   \n",
       "2025-06-24 23:45:00             15164                        49.90   \n",
       "2025-06-25 00:00:00             38924                       119.56   \n",
       "\n",
       "                     Taker buy quote asset volume  Ignore  \n",
       "Open time                                                  \n",
       "2018-01-01 00:00:00                    857,610.83       0  \n",
       "2018-01-01 00:15:00                    642,281.17       0  \n",
       "2018-01-01 00:30:00                    590,034.71       0  \n",
       "2018-01-01 00:45:00                  1,000,614.39       0  \n",
       "2018-01-01 01:00:00                    461,836.85       0  \n",
       "...                                           ...     ...  \n",
       "2025-06-24 23:00:00                  3,208,619.82       0  \n",
       "2025-06-24 23:15:00                  1,579,963.57       0  \n",
       "2025-06-24 23:30:00                  2,030,985.60       0  \n",
       "2025-06-24 23:45:00                  5,287,993.78       0  \n",
       "2025-06-25 00:00:00                 12,701,495.95       0  \n",
       "\n",
       "[261741 rows x 11 columns]"
      ]
     },
     "execution_count": 21,
     "metadata": {},
     "output_type": "execute_result"
    }
   ],
   "source": [
    "btc_df"
   ]
  },
  {
   "cell_type": "code",
   "execution_count": 22,
   "id": "5c6cda1f-6505-47b4-869a-dc6f06335b0b",
   "metadata": {},
   "outputs": [
    {
     "data": {
      "image/png": "[encoded data removed]",
      "text/plain": [
       "<Figure size 1000x500 with 1 Axes>"
      ]
     },
     "metadata": {},
     "output_type": "display_data"
    }
   ],
   "source": [
    "# Посмотрим что у нас с пропусками\n",
    "NaN_values = (btc_df.isnull().sum()/len(btc_df)*100).sort_values(ascending = False)\n",
    "\n",
    "# Plot missing data\n",
    "bar_plot(x = NaN_values,y = NaN_values.index,palette_len = NaN_values.index, \n",
    "         xlim = (0,100),xticklabels = range(0,101,20),yticklabels = NaN_values.index,\n",
    "         figsize = (10,5), axis_grid = 'x')"
   ]
  },
  {
   "cell_type": "code",
   "execution_count": 12,
   "id": "75fa7820-168c-4fe6-b6ca-eab3b9b65998",
   "metadata": {},
   "outputs": [
    {
     "data": {
      "text/plain": [
       "Open     0.00\n",
       "High     0.00\n",
       "Low      0.00\n",
       "Close    0.00\n",
       "Volume   0.00\n",
       "dtype: float64"
      ]
     },
     "execution_count": 12,
     "metadata": {},
     "output_type": "execute_result"
    }
   ],
   "source": [
    "NaN_values"
   ]
  },
  {
   "cell_type": "code",
   "execution_count": null,
   "id": "9332dffe-2682-480c-840d-a35ede43b5ce",
   "metadata": {},
   "outputs": [],
   "source": []
  },
  {
   "cell_type": "markdown",
   "id": "20686a49-1576-4306-81bf-e365c3477dcd",
   "metadata": {},
   "source": [
    "# 1.Готовим датайфрейм "
   ]
  },
  {
   "cell_type": "markdown",
   "id": "92daa3f1-5f83-4639-84c7-b97e159a9eb8",
   "metadata": {},
   "source": [
    "## 1.1 Подрезка с даты халвинга"
   ]
  },
  {
   "cell_type": "code",
   "execution_count": 23,
   "id": "0d7ffeed-a488-43c5-aeb1-85dc7b9f1993",
   "metadata": {},
   "outputs": [],
   "source": [
    "btc_df_after_halving = btc_df[btc_df.index >= '2020-05-11']"
   ]
  },
  {
   "cell_type": "code",
   "execution_count": 29,
   "id": "4874d28b-9be3-48c3-b9cf-8d56881b57c6",
   "metadata": {},
   "outputs": [],
   "source": [
    "btc_df_after_halving.index.name = 'Timestamp'"
   ]
  },
  {
   "cell_type": "code",
   "execution_count": 31,
   "id": "c48df052-89c8-43a0-8349-c958abf58cd7",
   "metadata": {},
   "outputs": [],
   "source": [
    "btc_df_after_halving = btc_df_after_halving.drop(columns=['Ignore','Close time'])"
   ]
  },
  {
   "cell_type": "code",
   "execution_count": 32,
   "id": "aec71827-70cf-467f-a5eb-b9b8257db3d8",
   "metadata": {},
   "outputs": [
    {
     "data": {
      "text/html": [
       "<div>\n",
       "<style scoped>\n",
       "    .dataframe tbody tr th:only-of-type {\n",
       "        vertical-align: middle;\n",
       "    }\n",
       "\n",
       "    .dataframe tbody tr th {\n",
       "        vertical-align: top;\n",
       "    }\n",
       "\n",
       "    .dataframe thead th {\n",
       "        text-align: right;\n",
       "    }\n",
       "</style>\n",
       "<table border=\"1\" class=\"dataframe\">\n",
       "  <thead>\n",
       "    <tr style=\"text-align: right;\">\n",
       "      <th></th>\n",
       "      <th>Open</th>\n",
       "      <th>High</th>\n",
       "      <th>Low</th>\n",
       "      <th>Close</th>\n",
       "      <th>Volume</th>\n",
       "      <th>Quote asset volume</th>\n",
       "      <th>Number of trades</th>\n",
       "      <th>Taker buy base asset volume</th>\n",
       "      <th>Taker buy quote asset volume</th>\n",
       "    </tr>\n",
       "    <tr>\n",
       "      <th>Timestamp</th>\n",
       "      <th></th>\n",
       "      <th></th>\n",
       "      <th></th>\n",
       "      <th></th>\n",
       "      <th></th>\n",
       "      <th></th>\n",
       "      <th></th>\n",
       "      <th></th>\n",
       "      <th></th>\n",
       "    </tr>\n",
       "  </thead>\n",
       "  <tbody>\n",
       "    <tr>\n",
       "      <th>2020-05-11 00:00:00</th>\n",
       "      <td>8,722.77</td>\n",
       "      <td>8,800.00</td>\n",
       "      <td>8,721.00</td>\n",
       "      <td>8,745.19</td>\n",
       "      <td>1,201.41</td>\n",
       "      <td>10,528,954.94</td>\n",
       "      <td>8989</td>\n",
       "      <td>636.99</td>\n",
       "      <td>5,583,818.86</td>\n",
       "    </tr>\n",
       "    <tr>\n",
       "      <th>2020-05-11 00:15:00</th>\n",
       "      <td>8,745.93</td>\n",
       "      <td>8,796.24</td>\n",
       "      <td>8,745.93</td>\n",
       "      <td>8,778.35</td>\n",
       "      <td>782.20</td>\n",
       "      <td>6,864,492.57</td>\n",
       "      <td>8713</td>\n",
       "      <td>357.29</td>\n",
       "      <td>3,135,830.40</td>\n",
       "    </tr>\n",
       "    <tr>\n",
       "      <th>2020-05-11 00:30:00</th>\n",
       "      <td>8,778.85</td>\n",
       "      <td>8,805.14</td>\n",
       "      <td>8,749.94</td>\n",
       "      <td>8,758.57</td>\n",
       "      <td>745.52</td>\n",
       "      <td>6,544,348.12</td>\n",
       "      <td>9044</td>\n",
       "      <td>329.34</td>\n",
       "      <td>2,891,749.14</td>\n",
       "    </tr>\n",
       "    <tr>\n",
       "      <th>2020-05-11 00:45:00</th>\n",
       "      <td>8,758.45</td>\n",
       "      <td>8,770.33</td>\n",
       "      <td>8,696.00</td>\n",
       "      <td>8,770.16</td>\n",
       "      <td>1,083.71</td>\n",
       "      <td>9,463,730.78</td>\n",
       "      <td>8832</td>\n",
       "      <td>503.38</td>\n",
       "      <td>4,396,292.27</td>\n",
       "    </tr>\n",
       "    <tr>\n",
       "      <th>2020-05-11 01:00:00</th>\n",
       "      <td>8,770.15</td>\n",
       "      <td>8,775.00</td>\n",
       "      <td>8,729.46</td>\n",
       "      <td>8,746.37</td>\n",
       "      <td>594.28</td>\n",
       "      <td>5,199,193.57</td>\n",
       "      <td>6208</td>\n",
       "      <td>236.29</td>\n",
       "      <td>2,066,803.28</td>\n",
       "    </tr>\n",
       "    <tr>\n",
       "      <th>...</th>\n",
       "      <td>...</td>\n",
       "      <td>...</td>\n",
       "      <td>...</td>\n",
       "      <td>...</td>\n",
       "      <td>...</td>\n",
       "      <td>...</td>\n",
       "      <td>...</td>\n",
       "      <td>...</td>\n",
       "      <td>...</td>\n",
       "    </tr>\n",
       "    <tr>\n",
       "      <th>2025-06-24 23:00:00</th>\n",
       "      <td>106,025.39</td>\n",
       "      <td>106,028.00</td>\n",
       "      <td>105,828.57</td>\n",
       "      <td>105,864.66</td>\n",
       "      <td>62.20</td>\n",
       "      <td>6,587,454.33</td>\n",
       "      <td>17053</td>\n",
       "      <td>30.29</td>\n",
       "      <td>3,208,619.82</td>\n",
       "    </tr>\n",
       "    <tr>\n",
       "      <th>2025-06-24 23:15:00</th>\n",
       "      <td>105,864.67</td>\n",
       "      <td>105,864.67</td>\n",
       "      <td>105,774.90</td>\n",
       "      <td>105,837.89</td>\n",
       "      <td>54.34</td>\n",
       "      <td>5,749,910.45</td>\n",
       "      <td>12214</td>\n",
       "      <td>14.93</td>\n",
       "      <td>1,579,963.57</td>\n",
       "    </tr>\n",
       "    <tr>\n",
       "      <th>2025-06-24 23:30:00</th>\n",
       "      <td>105,837.90</td>\n",
       "      <td>105,935.10</td>\n",
       "      <td>105,804.06</td>\n",
       "      <td>105,907.13</td>\n",
       "      <td>53.59</td>\n",
       "      <td>5,674,537.82</td>\n",
       "      <td>12562</td>\n",
       "      <td>19.19</td>\n",
       "      <td>2,030,985.60</td>\n",
       "    </tr>\n",
       "    <tr>\n",
       "      <th>2025-06-24 23:45:00</th>\n",
       "      <td>105,907.14</td>\n",
       "      <td>106,083.00</td>\n",
       "      <td>105,868.62</td>\n",
       "      <td>106,083.00</td>\n",
       "      <td>81.63</td>\n",
       "      <td>8,650,085.70</td>\n",
       "      <td>15164</td>\n",
       "      <td>49.90</td>\n",
       "      <td>5,287,993.78</td>\n",
       "    </tr>\n",
       "    <tr>\n",
       "      <th>2025-06-25 00:00:00</th>\n",
       "      <td>106,083.00</td>\n",
       "      <td>106,450.00</td>\n",
       "      <td>106,021.88</td>\n",
       "      <td>106,438.21</td>\n",
       "      <td>185.46</td>\n",
       "      <td>19,701,544.25</td>\n",
       "      <td>38924</td>\n",
       "      <td>119.56</td>\n",
       "      <td>12,701,495.95</td>\n",
       "    </tr>\n",
       "  </tbody>\n",
       "</table>\n",
       "<p>179509 rows × 9 columns</p>\n",
       "</div>"
      ],
      "text/plain": [
       "                          Open       High        Low      Close   Volume  \\\n",
       "Timestamp                                                                  \n",
       "2020-05-11 00:00:00   8,722.77   8,800.00   8,721.00   8,745.19 1,201.41   \n",
       "2020-05-11 00:15:00   8,745.93   8,796.24   8,745.93   8,778.35   782.20   \n",
       "2020-05-11 00:30:00   8,778.85   8,805.14   8,749.94   8,758.57   745.52   \n",
       "2020-05-11 00:45:00   8,758.45   8,770.33   8,696.00   8,770.16 1,083.71   \n",
       "2020-05-11 01:00:00   8,770.15   8,775.00   8,729.46   8,746.37   594.28   \n",
       "...                        ...        ...        ...        ...      ...   \n",
       "2025-06-24 23:00:00 106,025.39 106,028.00 105,828.57 105,864.66    62.20   \n",
       "2025-06-24 23:15:00 105,864.67 105,864.67 105,774.90 105,837.89    54.34   \n",
       "2025-06-24 23:30:00 105,837.90 105,935.10 105,804.06 105,907.13    53.59   \n",
       "2025-06-24 23:45:00 105,907.14 106,083.00 105,868.62 106,083.00    81.63   \n",
       "2025-06-25 00:00:00 106,083.00 106,450.00 106,021.88 106,438.21   185.46   \n",
       "\n",
       "                     Quote asset volume  Number of trades  \\\n",
       "Timestamp                                                   \n",
       "2020-05-11 00:00:00       10,528,954.94              8989   \n",
       "2020-05-11 00:15:00        6,864,492.57              8713   \n",
       "2020-05-11 00:30:00        6,544,348.12              9044   \n",
       "2020-05-11 00:45:00        9,463,730.78              8832   \n",
       "2020-05-11 01:00:00        5,199,193.57              6208   \n",
       "...                                 ...               ...   \n",
       "2025-06-24 23:00:00        6,587,454.33             17053   \n",
       "2025-06-24 23:15:00        5,749,910.45             12214   \n",
       "2025-06-24 23:30:00        5,674,537.82             12562   \n",
       "2025-06-24 23:45:00        8,650,085.70             15164   \n",
       "2025-06-25 00:00:00       19,701,544.25             38924   \n",
       "\n",
       "                     Taker buy base asset volume  Taker buy quote asset volume  \n",
       "Timestamp                                                                       \n",
       "2020-05-11 00:00:00                       636.99                  5,583,818.86  \n",
       "2020-05-11 00:15:00                       357.29                  3,135,830.40  \n",
       "2020-05-11 00:30:00                       329.34                  2,891,749.14  \n",
       "2020-05-11 00:45:00                       503.38                  4,396,292.27  \n",
       "2020-05-11 01:00:00                       236.29                  2,066,803.28  \n",
       "...                                          ...                           ...  \n",
       "2025-06-24 23:00:00                        30.29                  3,208,619.82  \n",
       "2025-06-24 23:15:00                        14.93                  1,579,963.57  \n",
       "2025-06-24 23:30:00                        19.19                  2,030,985.60  \n",
       "2025-06-24 23:45:00                        49.90                  5,287,993.78  \n",
       "2025-06-25 00:00:00                       119.56                 12,701,495.95  \n",
       "\n",
       "[179509 rows x 9 columns]"
      ]
     },
     "execution_count": 32,
     "metadata": {},
     "output_type": "execute_result"
    }
   ],
   "source": [
    "btc_df_after_halving"
   ]
  },
  {
   "cell_type": "markdown",
   "id": "57f664d8-48b9-4def-9e49-48065b6fd4cd",
   "metadata": {},
   "source": [
    "## 1.2 Применение функции генерации техничксикх индексов"
   ]
  },
  {
   "cell_type": "code",
   "execution_count": 33,
   "id": "33e2c775-b9f9-4bad-89c9-5fe64154d83f",
   "metadata": {},
   "outputs": [],
   "source": [
    "btc_with_ta = compute_indicators_v6(btc_df_after_halving, kalman_smooth=True)"
   ]
  },
  {
   "cell_type": "code",
   "execution_count": 34,
   "id": "554bee35-d2a1-4dcc-9125-44783c54a5b0",
   "metadata": {},
   "outputs": [
    {
     "data": {
      "text/html": [
       "<div>\n",
       "<style scoped>\n",
       "    .dataframe tbody tr th:only-of-type {\n",
       "        vertical-align: middle;\n",
       "    }\n",
       "\n",
       "    .dataframe tbody tr th {\n",
       "        vertical-align: top;\n",
       "    }\n",
       "\n",
       "    .dataframe thead th {\n",
       "        text-align: right;\n",
       "    }\n",
       "</style>\n",
       "<table border=\"1\" class=\"dataframe\">\n",
       "  <thead>\n",
       "    <tr style=\"text-align: right;\">\n",
       "      <th></th>\n",
       "      <th>Open</th>\n",
       "      <th>High</th>\n",
       "      <th>Low</th>\n",
       "      <th>Close</th>\n",
       "      <th>Volume</th>\n",
       "      <th>Quote asset volume</th>\n",
       "      <th>Number of trades</th>\n",
       "      <th>Taker buy base asset volume</th>\n",
       "      <th>Taker buy quote asset volume</th>\n",
       "      <th>sma_1d</th>\n",
       "      <th>...</th>\n",
       "      <th>momentum_lag1</th>\n",
       "      <th>momentum_lag2</th>\n",
       "      <th>momentum_lag3</th>\n",
       "      <th>cmf_lag1</th>\n",
       "      <th>cmf_lag2</th>\n",
       "      <th>cmf_lag3</th>\n",
       "      <th>future_return</th>\n",
       "      <th>target</th>\n",
       "      <th>candle_cluster</th>\n",
       "      <th>combined_signal</th>\n",
       "    </tr>\n",
       "    <tr>\n",
       "      <th>Timestamp</th>\n",
       "      <th></th>\n",
       "      <th></th>\n",
       "      <th></th>\n",
       "      <th></th>\n",
       "      <th></th>\n",
       "      <th></th>\n",
       "      <th></th>\n",
       "      <th></th>\n",
       "      <th></th>\n",
       "      <th></th>\n",
       "      <th></th>\n",
       "      <th></th>\n",
       "      <th></th>\n",
       "      <th></th>\n",
       "      <th></th>\n",
       "      <th></th>\n",
       "      <th></th>\n",
       "      <th></th>\n",
       "      <th></th>\n",
       "      <th></th>\n",
       "      <th></th>\n",
       "    </tr>\n",
       "  </thead>\n",
       "  <tbody>\n",
       "    <tr>\n",
       "      <th>2020-05-11 00:00:00</th>\n",
       "      <td>5,398.69</td>\n",
       "      <td>5,437.34</td>\n",
       "      <td>5,394.51</td>\n",
       "      <td>5,410.82</td>\n",
       "      <td>645.73</td>\n",
       "      <td>10,528,954.94</td>\n",
       "      <td>8989</td>\n",
       "      <td>636.99</td>\n",
       "      <td>5,583,818.86</td>\n",
       "      <td>5,410.82</td>\n",
       "      <td>...</td>\n",
       "      <td>3,331.30</td>\n",
       "      <td>3,331.30</td>\n",
       "      <td>3,331.30</td>\n",
       "      <td>0.05</td>\n",
       "      <td>0.05</td>\n",
       "      <td>0.05</td>\n",
       "      <td>0.61</td>\n",
       "      <td>1</td>\n",
       "      <td>0</td>\n",
       "      <td>0</td>\n",
       "    </tr>\n",
       "    <tr>\n",
       "      <th>2020-05-11 00:15:00</th>\n",
       "      <td>7,473.29</td>\n",
       "      <td>7,512.02</td>\n",
       "      <td>7,462.54</td>\n",
       "      <td>7,487.28</td>\n",
       "      <td>735.77</td>\n",
       "      <td>6,864,492.57</td>\n",
       "      <td>8713</td>\n",
       "      <td>357.29</td>\n",
       "      <td>3,135,830.40</td>\n",
       "      <td>7,487.28</td>\n",
       "      <td>...</td>\n",
       "      <td>3,331.30</td>\n",
       "      <td>3,331.30</td>\n",
       "      <td>3,331.30</td>\n",
       "      <td>0.05</td>\n",
       "      <td>0.05</td>\n",
       "      <td>0.05</td>\n",
       "      <td>0.16</td>\n",
       "      <td>1</td>\n",
       "      <td>0</td>\n",
       "      <td>2</td>\n",
       "    </tr>\n",
       "    <tr>\n",
       "      <th>2020-05-11 00:30:00</th>\n",
       "      <td>8,275.25</td>\n",
       "      <td>8,302.48</td>\n",
       "      <td>8,247.17</td>\n",
       "      <td>8,272.67</td>\n",
       "      <td>779.39</td>\n",
       "      <td>6,544,348.12</td>\n",
       "      <td>9044</td>\n",
       "      <td>329.34</td>\n",
       "      <td>2,891,749.14</td>\n",
       "      <td>8,272.67</td>\n",
       "      <td>...</td>\n",
       "      <td>3,331.30</td>\n",
       "      <td>3,331.30</td>\n",
       "      <td>3,331.30</td>\n",
       "      <td>0.05</td>\n",
       "      <td>0.05</td>\n",
       "      <td>0.05</td>\n",
       "      <td>0.05</td>\n",
       "      <td>1</td>\n",
       "      <td>0</td>\n",
       "      <td>2</td>\n",
       "    </tr>\n",
       "    <tr>\n",
       "      <th>2020-05-11 00:45:00</th>\n",
       "      <td>8,573.62</td>\n",
       "      <td>8,590.27</td>\n",
       "      <td>8,529.02</td>\n",
       "      <td>8,572.16</td>\n",
       "      <td>856.87</td>\n",
       "      <td>9,463,730.78</td>\n",
       "      <td>8832</td>\n",
       "      <td>503.38</td>\n",
       "      <td>4,396,292.27</td>\n",
       "      <td>8,572.16</td>\n",
       "      <td>...</td>\n",
       "      <td>3,331.30</td>\n",
       "      <td>3,331.30</td>\n",
       "      <td>3,331.30</td>\n",
       "      <td>0.05</td>\n",
       "      <td>0.05</td>\n",
       "      <td>0.05</td>\n",
       "      <td>0.02</td>\n",
       "      <td>0</td>\n",
       "      <td>0</td>\n",
       "      <td>2</td>\n",
       "    </tr>\n",
       "    <tr>\n",
       "      <th>2020-05-11 01:00:00</th>\n",
       "      <td>8,687.17</td>\n",
       "      <td>8,698.02</td>\n",
       "      <td>8,643.90</td>\n",
       "      <td>8,673.65</td>\n",
       "      <td>707.50</td>\n",
       "      <td>5,199,193.57</td>\n",
       "      <td>6208</td>\n",
       "      <td>236.29</td>\n",
       "      <td>2,066,803.28</td>\n",
       "      <td>8,673.65</td>\n",
       "      <td>...</td>\n",
       "      <td>3,331.30</td>\n",
       "      <td>3,331.30</td>\n",
       "      <td>3,331.30</td>\n",
       "      <td>0.05</td>\n",
       "      <td>0.05</td>\n",
       "      <td>0.05</td>\n",
       "      <td>0.01</td>\n",
       "      <td>0</td>\n",
       "      <td>0</td>\n",
       "      <td>2</td>\n",
       "    </tr>\n",
       "    <tr>\n",
       "      <th>...</th>\n",
       "      <td>...</td>\n",
       "      <td>...</td>\n",
       "      <td>...</td>\n",
       "      <td>...</td>\n",
       "      <td>...</td>\n",
       "      <td>...</td>\n",
       "      <td>...</td>\n",
       "      <td>...</td>\n",
       "      <td>...</td>\n",
       "      <td>...</td>\n",
       "      <td>...</td>\n",
       "      <td>...</td>\n",
       "      <td>...</td>\n",
       "      <td>...</td>\n",
       "      <td>...</td>\n",
       "      <td>...</td>\n",
       "      <td>...</td>\n",
       "      <td>...</td>\n",
       "      <td>...</td>\n",
       "      <td>...</td>\n",
       "      <td>...</td>\n",
       "    </tr>\n",
       "    <tr>\n",
       "      <th>2025-06-24 23:00:00</th>\n",
       "      <td>105,955.85</td>\n",
       "      <td>105,994.48</td>\n",
       "      <td>105,831.36</td>\n",
       "      <td>105,910.14</td>\n",
       "      <td>58.22</td>\n",
       "      <td>6,587,454.33</td>\n",
       "      <td>17053</td>\n",
       "      <td>30.29</td>\n",
       "      <td>3,208,619.82</td>\n",
       "      <td>105,910.14</td>\n",
       "      <td>...</td>\n",
       "      <td>195.66</td>\n",
       "      <td>333.04</td>\n",
       "      <td>345.70</td>\n",
       "      <td>0.03</td>\n",
       "      <td>0.02</td>\n",
       "      <td>0.04</td>\n",
       "      <td>0.00</td>\n",
       "      <td>0</td>\n",
       "      <td>4</td>\n",
       "      <td>1</td>\n",
       "    </tr>\n",
       "    <tr>\n",
       "      <th>2025-06-24 23:15:00</th>\n",
       "      <td>105,904.51</td>\n",
       "      <td>105,954.72</td>\n",
       "      <td>105,813.55</td>\n",
       "      <td>105,907.77</td>\n",
       "      <td>61.17</td>\n",
       "      <td>5,749,910.45</td>\n",
       "      <td>12214</td>\n",
       "      <td>14.93</td>\n",
       "      <td>1,579,963.57</td>\n",
       "      <td>105,907.77</td>\n",
       "      <td>...</td>\n",
       "      <td>42.42</td>\n",
       "      <td>195.66</td>\n",
       "      <td>333.04</td>\n",
       "      <td>0.05</td>\n",
       "      <td>0.03</td>\n",
       "      <td>0.02</td>\n",
       "      <td>0.00</td>\n",
       "      <td>0</td>\n",
       "      <td>4</td>\n",
       "      <td>1</td>\n",
       "    </tr>\n",
       "    <tr>\n",
       "      <th>2025-06-24 23:30:00</th>\n",
       "      <td>105,893.03</td>\n",
       "      <td>106,005.01</td>\n",
       "      <td>105,834.40</td>\n",
       "      <td>105,975.29</td>\n",
       "      <td>70.97</td>\n",
       "      <td>5,674,537.82</td>\n",
       "      <td>12562</td>\n",
       "      <td>19.19</td>\n",
       "      <td>2,030,985.60</td>\n",
       "      <td>105,975.29</td>\n",
       "      <td>...</td>\n",
       "      <td>-47.46</td>\n",
       "      <td>42.42</td>\n",
       "      <td>195.66</td>\n",
       "      <td>0.07</td>\n",
       "      <td>0.05</td>\n",
       "      <td>0.03</td>\n",
       "      <td>0.00</td>\n",
       "      <td>0</td>\n",
       "      <td>4</td>\n",
       "      <td>2</td>\n",
       "    </tr>\n",
       "    <tr>\n",
       "      <th>2025-06-24 23:45:00</th>\n",
       "      <td>105,936.67</td>\n",
       "      <td>106,125.20</td>\n",
       "      <td>105,885.58</td>\n",
       "      <td>106,110.96</td>\n",
       "      <td>98.13</td>\n",
       "      <td>8,650,085.70</td>\n",
       "      <td>15164</td>\n",
       "      <td>49.90</td>\n",
       "      <td>5,287,993.78</td>\n",
       "      <td>106,110.96</td>\n",
       "      <td>...</td>\n",
       "      <td>64.60</td>\n",
       "      <td>-47.46</td>\n",
       "      <td>42.42</td>\n",
       "      <td>0.12</td>\n",
       "      <td>0.07</td>\n",
       "      <td>0.05</td>\n",
       "      <td>0.00</td>\n",
       "      <td>0</td>\n",
       "      <td>1</td>\n",
       "      <td>4</td>\n",
       "    </tr>\n",
       "    <tr>\n",
       "      <th>2025-06-25 00:00:00</th>\n",
       "      <td>106,009.83</td>\n",
       "      <td>106,287.60</td>\n",
       "      <td>105,953.73</td>\n",
       "      <td>106,274.58</td>\n",
       "      <td>141.80</td>\n",
       "      <td>19,701,544.25</td>\n",
       "      <td>38924</td>\n",
       "      <td>119.56</td>\n",
       "      <td>12,701,495.95</td>\n",
       "      <td>106,274.58</td>\n",
       "      <td>...</td>\n",
       "      <td>168.72</td>\n",
       "      <td>64.60</td>\n",
       "      <td>-47.46</td>\n",
       "      <td>0.22</td>\n",
       "      <td>0.12</td>\n",
       "      <td>0.07</td>\n",
       "      <td>0.00</td>\n",
       "      <td>0</td>\n",
       "      <td>1</td>\n",
       "      <td>4</td>\n",
       "    </tr>\n",
       "  </tbody>\n",
       "</table>\n",
       "<p>179509 rows × 84 columns</p>\n",
       "</div>"
      ],
      "text/plain": [
       "                          Open       High        Low      Close  Volume  \\\n",
       "Timestamp                                                                 \n",
       "2020-05-11 00:00:00   5,398.69   5,437.34   5,394.51   5,410.82  645.73   \n",
       "2020-05-11 00:15:00   7,473.29   7,512.02   7,462.54   7,487.28  735.77   \n",
       "2020-05-11 00:30:00   8,275.25   8,302.48   8,247.17   8,272.67  779.39   \n",
       "2020-05-11 00:45:00   8,573.62   8,590.27   8,529.02   8,572.16  856.87   \n",
       "2020-05-11 01:00:00   8,687.17   8,698.02   8,643.90   8,673.65  707.50   \n",
       "...                        ...        ...        ...        ...     ...   \n",
       "2025-06-24 23:00:00 105,955.85 105,994.48 105,831.36 105,910.14   58.22   \n",
       "2025-06-24 23:15:00 105,904.51 105,954.72 105,813.55 105,907.77   61.17   \n",
       "2025-06-24 23:30:00 105,893.03 106,005.01 105,834.40 105,975.29   70.97   \n",
       "2025-06-24 23:45:00 105,936.67 106,125.20 105,885.58 106,110.96   98.13   \n",
       "2025-06-25 00:00:00 106,009.83 106,287.60 105,953.73 106,274.58  141.80   \n",
       "\n",
       "                     Quote asset volume  Number of trades  \\\n",
       "Timestamp                                                   \n",
       "2020-05-11 00:00:00       10,528,954.94              8989   \n",
       "2020-05-11 00:15:00        6,864,492.57              8713   \n",
       "2020-05-11 00:30:00        6,544,348.12              9044   \n",
       "2020-05-11 00:45:00        9,463,730.78              8832   \n",
       "2020-05-11 01:00:00        5,199,193.57              6208   \n",
       "...                                 ...               ...   \n",
       "2025-06-24 23:00:00        6,587,454.33             17053   \n",
       "2025-06-24 23:15:00        5,749,910.45             12214   \n",
       "2025-06-24 23:30:00        5,674,537.82             12562   \n",
       "2025-06-24 23:45:00        8,650,085.70             15164   \n",
       "2025-06-25 00:00:00       19,701,544.25             38924   \n",
       "\n",
       "                     Taker buy base asset volume  \\\n",
       "Timestamp                                          \n",
       "2020-05-11 00:00:00                       636.99   \n",
       "2020-05-11 00:15:00                       357.29   \n",
       "2020-05-11 00:30:00                       329.34   \n",
       "2020-05-11 00:45:00                       503.38   \n",
       "2020-05-11 01:00:00                       236.29   \n",
       "...                                          ...   \n",
       "2025-06-24 23:00:00                        30.29   \n",
       "2025-06-24 23:15:00                        14.93   \n",
       "2025-06-24 23:30:00                        19.19   \n",
       "2025-06-24 23:45:00                        49.90   \n",
       "2025-06-25 00:00:00                       119.56   \n",
       "\n",
       "                     Taker buy quote asset volume     sma_1d  ...  \\\n",
       "Timestamp                                                     ...   \n",
       "2020-05-11 00:00:00                  5,583,818.86   5,410.82  ...   \n",
       "2020-05-11 00:15:00                  3,135,830.40   7,487.28  ...   \n",
       "2020-05-11 00:30:00                  2,891,749.14   8,272.67  ...   \n",
       "2020-05-11 00:45:00                  4,396,292.27   8,572.16  ...   \n",
       "2020-05-11 01:00:00                  2,066,803.28   8,673.65  ...   \n",
       "...                                           ...        ...  ...   \n",
       "2025-06-24 23:00:00                  3,208,619.82 105,910.14  ...   \n",
       "2025-06-24 23:15:00                  1,579,963.57 105,907.77  ...   \n",
       "2025-06-24 23:30:00                  2,030,985.60 105,975.29  ...   \n",
       "2025-06-24 23:45:00                  5,287,993.78 106,110.96  ...   \n",
       "2025-06-25 00:00:00                 12,701,495.95 106,274.58  ...   \n",
       "\n",
       "                     momentum_lag1  momentum_lag2  momentum_lag3  cmf_lag1  \\\n",
       "Timestamp                                                                    \n",
       "2020-05-11 00:00:00       3,331.30       3,331.30       3,331.30      0.05   \n",
       "2020-05-11 00:15:00       3,331.30       3,331.30       3,331.30      0.05   \n",
       "2020-05-11 00:30:00       3,331.30       3,331.30       3,331.30      0.05   \n",
       "2020-05-11 00:45:00       3,331.30       3,331.30       3,331.30      0.05   \n",
       "2020-05-11 01:00:00       3,331.30       3,331.30       3,331.30      0.05   \n",
       "...                            ...            ...            ...       ...   \n",
       "2025-06-24 23:00:00         195.66         333.04         345.70      0.03   \n",
       "2025-06-24 23:15:00          42.42         195.66         333.04      0.05   \n",
       "2025-06-24 23:30:00         -47.46          42.42         195.66      0.07   \n",
       "2025-06-24 23:45:00          64.60         -47.46          42.42      0.12   \n",
       "2025-06-25 00:00:00         168.72          64.60         -47.46      0.22   \n",
       "\n",
       "                     cmf_lag2  cmf_lag3  future_return  target  \\\n",
       "Timestamp                                                        \n",
       "2020-05-11 00:00:00      0.05      0.05           0.61       1   \n",
       "2020-05-11 00:15:00      0.05      0.05           0.16       1   \n",
       "2020-05-11 00:30:00      0.05      0.05           0.05       1   \n",
       "2020-05-11 00:45:00      0.05      0.05           0.02       0   \n",
       "2020-05-11 01:00:00      0.05      0.05           0.01       0   \n",
       "...                       ...       ...            ...     ...   \n",
       "2025-06-24 23:00:00      0.02      0.04           0.00       0   \n",
       "2025-06-24 23:15:00      0.03      0.02           0.00       0   \n",
       "2025-06-24 23:30:00      0.05      0.03           0.00       0   \n",
       "2025-06-24 23:45:00      0.07      0.05           0.00       0   \n",
       "2025-06-25 00:00:00      0.12      0.07           0.00       0   \n",
       "\n",
       "                     candle_cluster  combined_signal  \n",
       "Timestamp                                             \n",
       "2020-05-11 00:00:00               0                0  \n",
       "2020-05-11 00:15:00               0                2  \n",
       "2020-05-11 00:30:00               0                2  \n",
       "2020-05-11 00:45:00               0                2  \n",
       "2020-05-11 01:00:00               0                2  \n",
       "...                             ...              ...  \n",
       "2025-06-24 23:00:00               4                1  \n",
       "2025-06-24 23:15:00               4                1  \n",
       "2025-06-24 23:30:00               4                2  \n",
       "2025-06-24 23:45:00               1                4  \n",
       "2025-06-25 00:00:00               1                4  \n",
       "\n",
       "[179509 rows x 84 columns]"
      ]
     },
     "execution_count": 34,
     "metadata": {},
     "output_type": "execute_result"
    }
   ],
   "source": [
    "btc_with_ta"
   ]
  },
  {
   "cell_type": "code",
   "execution_count": null,
   "id": "b144d6e1-7c9d-4dd7-9599-1b69b893ae70",
   "metadata": {},
   "outputs": [],
   "source": []
  },
  {
   "cell_type": "code",
   "execution_count": 35,
   "id": "eff831e4-7904-4084-9625-3699d8ac7082",
   "metadata": {},
   "outputs": [],
   "source": [
    "# Сохраняем\n",
    "# btc_with_ta.to_csv('btc_with_ta.csv')\n",
    "# btc_df_after_halving.to_csv('btc_df_after_halving.csv')\n"
   ]
  },
  {
   "cell_type": "code",
   "execution_count": 16,
   "id": "23ccb141-97dc-415d-9f28-e0cc87f9da84",
   "metadata": {},
   "outputs": [],
   "source": [
    "btc_with_ta = pd.read_csv('btc_with_ta.csv',  index_col='Timestamp')\n",
    "btc_df_after_halving = pd.read_csv('btc_df_after_halving.csv',  index_col='Timestamp')"
   ]
  },
  {
   "cell_type": "markdown",
   "id": "db5f0a64-dd1e-41ab-8927-c8abd1427072",
   "metadata": {},
   "source": [
    "# 2. Присоединение криптоиндексов BITW, CCI30"
   ]
  },
  {
   "cell_type": "code",
   "execution_count": null,
   "id": "cb9183e5-81aa-4094-9801-c2c7b36d37ec",
   "metadata": {},
   "outputs": [],
   "source": []
  },
  {
   "cell_type": "markdown",
   "id": "459b94a0-0ae2-47a5-aa3b-c83e3f4a60c3",
   "metadata": {},
   "source": [
    "# 3. Присоединение биржевого индекса QQQ (nasdaq) -нужна интерполяция на выходных"
   ]
  },
  {
   "cell_type": "code",
   "execution_count": null,
   "id": "89627fad-bbd3-4334-9518-72fc9145e14a",
   "metadata": {},
   "outputs": [],
   "source": []
  },
  {
   "cell_type": "markdown",
   "id": "85ebaa3d-df7c-486c-83a1-627fd6ae0f7b",
   "metadata": {},
   "source": [
    "# 4. Присоединение индекса голода/жадности (факультативно)"
   ]
  },
  {
   "cell_type": "code",
   "execution_count": null,
   "id": "da840ad0-c12b-4dd2-854e-58172be714fa",
   "metadata": {},
   "outputs": [],
   "source": []
  },
  {
   "cell_type": "markdown",
   "id": "5e30871e-e700-4c92-8f10-d5ddec4abcff",
   "metadata": {},
   "source": [
    "# 5.Обучение модели (грузим один из набьоров данных)"
   ]
  },
  {
   "cell_type": "markdown",
   "id": "0b480398-046b-4066-b785-e9bf438e7b7c",
   "metadata": {},
   "source": [
    "## 5.1 На данных после чистки отшумов"
   ]
  },
  {
   "cell_type": "code",
   "execution_count": 36,
   "id": "70970e78-9c4a-457c-96f6-71b13532824e",
   "metadata": {},
   "outputs": [
    {
     "data": {
      "text/html": [
       "<div>\n",
       "<style scoped>\n",
       "    .dataframe tbody tr th:only-of-type {\n",
       "        vertical-align: middle;\n",
       "    }\n",
       "\n",
       "    .dataframe tbody tr th {\n",
       "        vertical-align: top;\n",
       "    }\n",
       "\n",
       "    .dataframe thead th {\n",
       "        text-align: right;\n",
       "    }\n",
       "</style>\n",
       "<table border=\"1\" class=\"dataframe\">\n",
       "  <thead>\n",
       "    <tr style=\"text-align: right;\">\n",
       "      <th></th>\n",
       "      <th>Open</th>\n",
       "      <th>High</th>\n",
       "      <th>Low</th>\n",
       "      <th>Close</th>\n",
       "      <th>Volume</th>\n",
       "      <th>Quote asset volume</th>\n",
       "      <th>Number of trades</th>\n",
       "      <th>Taker buy base asset volume</th>\n",
       "      <th>Taker buy quote asset volume</th>\n",
       "      <th>sma_1d</th>\n",
       "      <th>...</th>\n",
       "      <th>momentum_lag1</th>\n",
       "      <th>momentum_lag2</th>\n",
       "      <th>momentum_lag3</th>\n",
       "      <th>cmf_lag1</th>\n",
       "      <th>cmf_lag2</th>\n",
       "      <th>cmf_lag3</th>\n",
       "      <th>future_return</th>\n",
       "      <th>target</th>\n",
       "      <th>candle_cluster</th>\n",
       "      <th>combined_signal</th>\n",
       "    </tr>\n",
       "    <tr>\n",
       "      <th>Timestamp</th>\n",
       "      <th></th>\n",
       "      <th></th>\n",
       "      <th></th>\n",
       "      <th></th>\n",
       "      <th></th>\n",
       "      <th></th>\n",
       "      <th></th>\n",
       "      <th></th>\n",
       "      <th></th>\n",
       "      <th></th>\n",
       "      <th></th>\n",
       "      <th></th>\n",
       "      <th></th>\n",
       "      <th></th>\n",
       "      <th></th>\n",
       "      <th></th>\n",
       "      <th></th>\n",
       "      <th></th>\n",
       "      <th></th>\n",
       "      <th></th>\n",
       "      <th></th>\n",
       "    </tr>\n",
       "  </thead>\n",
       "  <tbody>\n",
       "    <tr>\n",
       "      <th>2020-05-11 00:00:00</th>\n",
       "      <td>5,398.69</td>\n",
       "      <td>5,437.34</td>\n",
       "      <td>5,394.51</td>\n",
       "      <td>5,410.82</td>\n",
       "      <td>645.73</td>\n",
       "      <td>10,528,954.94</td>\n",
       "      <td>8989</td>\n",
       "      <td>636.99</td>\n",
       "      <td>5,583,818.86</td>\n",
       "      <td>5,410.82</td>\n",
       "      <td>...</td>\n",
       "      <td>3,331.30</td>\n",
       "      <td>3,331.30</td>\n",
       "      <td>3,331.30</td>\n",
       "      <td>0.05</td>\n",
       "      <td>0.05</td>\n",
       "      <td>0.05</td>\n",
       "      <td>0.61</td>\n",
       "      <td>1</td>\n",
       "      <td>0</td>\n",
       "      <td>0</td>\n",
       "    </tr>\n",
       "    <tr>\n",
       "      <th>2020-05-11 00:15:00</th>\n",
       "      <td>7,473.29</td>\n",
       "      <td>7,512.02</td>\n",
       "      <td>7,462.54</td>\n",
       "      <td>7,487.28</td>\n",
       "      <td>735.77</td>\n",
       "      <td>6,864,492.57</td>\n",
       "      <td>8713</td>\n",
       "      <td>357.29</td>\n",
       "      <td>3,135,830.40</td>\n",
       "      <td>7,487.28</td>\n",
       "      <td>...</td>\n",
       "      <td>3,331.30</td>\n",
       "      <td>3,331.30</td>\n",
       "      <td>3,331.30</td>\n",
       "      <td>0.05</td>\n",
       "      <td>0.05</td>\n",
       "      <td>0.05</td>\n",
       "      <td>0.16</td>\n",
       "      <td>1</td>\n",
       "      <td>0</td>\n",
       "      <td>2</td>\n",
       "    </tr>\n",
       "    <tr>\n",
       "      <th>2020-05-11 00:30:00</th>\n",
       "      <td>8,275.25</td>\n",
       "      <td>8,302.48</td>\n",
       "      <td>8,247.17</td>\n",
       "      <td>8,272.67</td>\n",
       "      <td>779.39</td>\n",
       "      <td>6,544,348.12</td>\n",
       "      <td>9044</td>\n",
       "      <td>329.34</td>\n",
       "      <td>2,891,749.14</td>\n",
       "      <td>8,272.67</td>\n",
       "      <td>...</td>\n",
       "      <td>3,331.30</td>\n",
       "      <td>3,331.30</td>\n",
       "      <td>3,331.30</td>\n",
       "      <td>0.05</td>\n",
       "      <td>0.05</td>\n",
       "      <td>0.05</td>\n",
       "      <td>0.05</td>\n",
       "      <td>1</td>\n",
       "      <td>0</td>\n",
       "      <td>2</td>\n",
       "    </tr>\n",
       "    <tr>\n",
       "      <th>2020-05-11 00:45:00</th>\n",
       "      <td>8,573.62</td>\n",
       "      <td>8,590.27</td>\n",
       "      <td>8,529.02</td>\n",
       "      <td>8,572.16</td>\n",
       "      <td>856.87</td>\n",
       "      <td>9,463,730.78</td>\n",
       "      <td>8832</td>\n",
       "      <td>503.38</td>\n",
       "      <td>4,396,292.27</td>\n",
       "      <td>8,572.16</td>\n",
       "      <td>...</td>\n",
       "      <td>3,331.30</td>\n",
       "      <td>3,331.30</td>\n",
       "      <td>3,331.30</td>\n",
       "      <td>0.05</td>\n",
       "      <td>0.05</td>\n",
       "      <td>0.05</td>\n",
       "      <td>0.02</td>\n",
       "      <td>0</td>\n",
       "      <td>0</td>\n",
       "      <td>2</td>\n",
       "    </tr>\n",
       "    <tr>\n",
       "      <th>2020-05-11 01:00:00</th>\n",
       "      <td>8,687.17</td>\n",
       "      <td>8,698.02</td>\n",
       "      <td>8,643.90</td>\n",
       "      <td>8,673.65</td>\n",
       "      <td>707.50</td>\n",
       "      <td>5,199,193.57</td>\n",
       "      <td>6208</td>\n",
       "      <td>236.29</td>\n",
       "      <td>2,066,803.28</td>\n",
       "      <td>8,673.65</td>\n",
       "      <td>...</td>\n",
       "      <td>3,331.30</td>\n",
       "      <td>3,331.30</td>\n",
       "      <td>3,331.30</td>\n",
       "      <td>0.05</td>\n",
       "      <td>0.05</td>\n",
       "      <td>0.05</td>\n",
       "      <td>0.01</td>\n",
       "      <td>0</td>\n",
       "      <td>0</td>\n",
       "      <td>2</td>\n",
       "    </tr>\n",
       "    <tr>\n",
       "      <th>...</th>\n",
       "      <td>...</td>\n",
       "      <td>...</td>\n",
       "      <td>...</td>\n",
       "      <td>...</td>\n",
       "      <td>...</td>\n",
       "      <td>...</td>\n",
       "      <td>...</td>\n",
       "      <td>...</td>\n",
       "      <td>...</td>\n",
       "      <td>...</td>\n",
       "      <td>...</td>\n",
       "      <td>...</td>\n",
       "      <td>...</td>\n",
       "      <td>...</td>\n",
       "      <td>...</td>\n",
       "      <td>...</td>\n",
       "      <td>...</td>\n",
       "      <td>...</td>\n",
       "      <td>...</td>\n",
       "      <td>...</td>\n",
       "      <td>...</td>\n",
       "    </tr>\n",
       "    <tr>\n",
       "      <th>2025-06-24 23:00:00</th>\n",
       "      <td>105,955.85</td>\n",
       "      <td>105,994.48</td>\n",
       "      <td>105,831.36</td>\n",
       "      <td>105,910.14</td>\n",
       "      <td>58.22</td>\n",
       "      <td>6,587,454.33</td>\n",
       "      <td>17053</td>\n",
       "      <td>30.29</td>\n",
       "      <td>3,208,619.82</td>\n",
       "      <td>105,910.14</td>\n",
       "      <td>...</td>\n",
       "      <td>195.66</td>\n",
       "      <td>333.04</td>\n",
       "      <td>345.70</td>\n",
       "      <td>0.03</td>\n",
       "      <td>0.02</td>\n",
       "      <td>0.04</td>\n",
       "      <td>0.00</td>\n",
       "      <td>0</td>\n",
       "      <td>4</td>\n",
       "      <td>1</td>\n",
       "    </tr>\n",
       "    <tr>\n",
       "      <th>2025-06-24 23:15:00</th>\n",
       "      <td>105,904.51</td>\n",
       "      <td>105,954.72</td>\n",
       "      <td>105,813.55</td>\n",
       "      <td>105,907.77</td>\n",
       "      <td>61.17</td>\n",
       "      <td>5,749,910.45</td>\n",
       "      <td>12214</td>\n",
       "      <td>14.93</td>\n",
       "      <td>1,579,963.57</td>\n",
       "      <td>105,907.77</td>\n",
       "      <td>...</td>\n",
       "      <td>42.42</td>\n",
       "      <td>195.66</td>\n",
       "      <td>333.04</td>\n",
       "      <td>0.05</td>\n",
       "      <td>0.03</td>\n",
       "      <td>0.02</td>\n",
       "      <td>0.00</td>\n",
       "      <td>0</td>\n",
       "      <td>4</td>\n",
       "      <td>1</td>\n",
       "    </tr>\n",
       "    <tr>\n",
       "      <th>2025-06-24 23:30:00</th>\n",
       "      <td>105,893.03</td>\n",
       "      <td>106,005.01</td>\n",
       "      <td>105,834.40</td>\n",
       "      <td>105,975.29</td>\n",
       "      <td>70.97</td>\n",
       "      <td>5,674,537.82</td>\n",
       "      <td>12562</td>\n",
       "      <td>19.19</td>\n",
       "      <td>2,030,985.60</td>\n",
       "      <td>105,975.29</td>\n",
       "      <td>...</td>\n",
       "      <td>-47.46</td>\n",
       "      <td>42.42</td>\n",
       "      <td>195.66</td>\n",
       "      <td>0.07</td>\n",
       "      <td>0.05</td>\n",
       "      <td>0.03</td>\n",
       "      <td>0.00</td>\n",
       "      <td>0</td>\n",
       "      <td>4</td>\n",
       "      <td>2</td>\n",
       "    </tr>\n",
       "    <tr>\n",
       "      <th>2025-06-24 23:45:00</th>\n",
       "      <td>105,936.67</td>\n",
       "      <td>106,125.20</td>\n",
       "      <td>105,885.58</td>\n",
       "      <td>106,110.96</td>\n",
       "      <td>98.13</td>\n",
       "      <td>8,650,085.70</td>\n",
       "      <td>15164</td>\n",
       "      <td>49.90</td>\n",
       "      <td>5,287,993.78</td>\n",
       "      <td>106,110.96</td>\n",
       "      <td>...</td>\n",
       "      <td>64.60</td>\n",
       "      <td>-47.46</td>\n",
       "      <td>42.42</td>\n",
       "      <td>0.12</td>\n",
       "      <td>0.07</td>\n",
       "      <td>0.05</td>\n",
       "      <td>0.00</td>\n",
       "      <td>0</td>\n",
       "      <td>1</td>\n",
       "      <td>4</td>\n",
       "    </tr>\n",
       "    <tr>\n",
       "      <th>2025-06-25 00:00:00</th>\n",
       "      <td>106,009.83</td>\n",
       "      <td>106,287.60</td>\n",
       "      <td>105,953.73</td>\n",
       "      <td>106,274.58</td>\n",
       "      <td>141.80</td>\n",
       "      <td>19,701,544.25</td>\n",
       "      <td>38924</td>\n",
       "      <td>119.56</td>\n",
       "      <td>12,701,495.95</td>\n",
       "      <td>106,274.58</td>\n",
       "      <td>...</td>\n",
       "      <td>168.72</td>\n",
       "      <td>64.60</td>\n",
       "      <td>-47.46</td>\n",
       "      <td>0.22</td>\n",
       "      <td>0.12</td>\n",
       "      <td>0.07</td>\n",
       "      <td>0.00</td>\n",
       "      <td>0</td>\n",
       "      <td>1</td>\n",
       "      <td>4</td>\n",
       "    </tr>\n",
       "  </tbody>\n",
       "</table>\n",
       "<p>179509 rows × 84 columns</p>\n",
       "</div>"
      ],
      "text/plain": [
       "                          Open       High        Low      Close  Volume  \\\n",
       "Timestamp                                                                 \n",
       "2020-05-11 00:00:00   5,398.69   5,437.34   5,394.51   5,410.82  645.73   \n",
       "2020-05-11 00:15:00   7,473.29   7,512.02   7,462.54   7,487.28  735.77   \n",
       "2020-05-11 00:30:00   8,275.25   8,302.48   8,247.17   8,272.67  779.39   \n",
       "2020-05-11 00:45:00   8,573.62   8,590.27   8,529.02   8,572.16  856.87   \n",
       "2020-05-11 01:00:00   8,687.17   8,698.02   8,643.90   8,673.65  707.50   \n",
       "...                        ...        ...        ...        ...     ...   \n",
       "2025-06-24 23:00:00 105,955.85 105,994.48 105,831.36 105,910.14   58.22   \n",
       "2025-06-24 23:15:00 105,904.51 105,954.72 105,813.55 105,907.77   61.17   \n",
       "2025-06-24 23:30:00 105,893.03 106,005.01 105,834.40 105,975.29   70.97   \n",
       "2025-06-24 23:45:00 105,936.67 106,125.20 105,885.58 106,110.96   98.13   \n",
       "2025-06-25 00:00:00 106,009.83 106,287.60 105,953.73 106,274.58  141.80   \n",
       "\n",
       "                     Quote asset volume  Number of trades  \\\n",
       "Timestamp                                                   \n",
       "2020-05-11 00:00:00       10,528,954.94              8989   \n",
       "2020-05-11 00:15:00        6,864,492.57              8713   \n",
       "2020-05-11 00:30:00        6,544,348.12              9044   \n",
       "2020-05-11 00:45:00        9,463,730.78              8832   \n",
       "2020-05-11 01:00:00        5,199,193.57              6208   \n",
       "...                                 ...               ...   \n",
       "2025-06-24 23:00:00        6,587,454.33             17053   \n",
       "2025-06-24 23:15:00        5,749,910.45             12214   \n",
       "2025-06-24 23:30:00        5,674,537.82             12562   \n",
       "2025-06-24 23:45:00        8,650,085.70             15164   \n",
       "2025-06-25 00:00:00       19,701,544.25             38924   \n",
       "\n",
       "                     Taker buy base asset volume  \\\n",
       "Timestamp                                          \n",
       "2020-05-11 00:00:00                       636.99   \n",
       "2020-05-11 00:15:00                       357.29   \n",
       "2020-05-11 00:30:00                       329.34   \n",
       "2020-05-11 00:45:00                       503.38   \n",
       "2020-05-11 01:00:00                       236.29   \n",
       "...                                          ...   \n",
       "2025-06-24 23:00:00                        30.29   \n",
       "2025-06-24 23:15:00                        14.93   \n",
       "2025-06-24 23:30:00                        19.19   \n",
       "2025-06-24 23:45:00                        49.90   \n",
       "2025-06-25 00:00:00                       119.56   \n",
       "\n",
       "                     Taker buy quote asset volume     sma_1d  ...  \\\n",
       "Timestamp                                                     ...   \n",
       "2020-05-11 00:00:00                  5,583,818.86   5,410.82  ...   \n",
       "2020-05-11 00:15:00                  3,135,830.40   7,487.28  ...   \n",
       "2020-05-11 00:30:00                  2,891,749.14   8,272.67  ...   \n",
       "2020-05-11 00:45:00                  4,396,292.27   8,572.16  ...   \n",
       "2020-05-11 01:00:00                  2,066,803.28   8,673.65  ...   \n",
       "...                                           ...        ...  ...   \n",
       "2025-06-24 23:00:00                  3,208,619.82 105,910.14  ...   \n",
       "2025-06-24 23:15:00                  1,579,963.57 105,907.77  ...   \n",
       "2025-06-24 23:30:00                  2,030,985.60 105,975.29  ...   \n",
       "2025-06-24 23:45:00                  5,287,993.78 106,110.96  ...   \n",
       "2025-06-25 00:00:00                 12,701,495.95 106,274.58  ...   \n",
       "\n",
       "                     momentum_lag1  momentum_lag2  momentum_lag3  cmf_lag1  \\\n",
       "Timestamp                                                                    \n",
       "2020-05-11 00:00:00       3,331.30       3,331.30       3,331.30      0.05   \n",
       "2020-05-11 00:15:00       3,331.30       3,331.30       3,331.30      0.05   \n",
       "2020-05-11 00:30:00       3,331.30       3,331.30       3,331.30      0.05   \n",
       "2020-05-11 00:45:00       3,331.30       3,331.30       3,331.30      0.05   \n",
       "2020-05-11 01:00:00       3,331.30       3,331.30       3,331.30      0.05   \n",
       "...                            ...            ...            ...       ...   \n",
       "2025-06-24 23:00:00         195.66         333.04         345.70      0.03   \n",
       "2025-06-24 23:15:00          42.42         195.66         333.04      0.05   \n",
       "2025-06-24 23:30:00         -47.46          42.42         195.66      0.07   \n",
       "2025-06-24 23:45:00          64.60         -47.46          42.42      0.12   \n",
       "2025-06-25 00:00:00         168.72          64.60         -47.46      0.22   \n",
       "\n",
       "                     cmf_lag2  cmf_lag3  future_return  target  \\\n",
       "Timestamp                                                        \n",
       "2020-05-11 00:00:00      0.05      0.05           0.61       1   \n",
       "2020-05-11 00:15:00      0.05      0.05           0.16       1   \n",
       "2020-05-11 00:30:00      0.05      0.05           0.05       1   \n",
       "2020-05-11 00:45:00      0.05      0.05           0.02       0   \n",
       "2020-05-11 01:00:00      0.05      0.05           0.01       0   \n",
       "...                       ...       ...            ...     ...   \n",
       "2025-06-24 23:00:00      0.02      0.04           0.00       0   \n",
       "2025-06-24 23:15:00      0.03      0.02           0.00       0   \n",
       "2025-06-24 23:30:00      0.05      0.03           0.00       0   \n",
       "2025-06-24 23:45:00      0.07      0.05           0.00       0   \n",
       "2025-06-25 00:00:00      0.12      0.07           0.00       0   \n",
       "\n",
       "                     candle_cluster  combined_signal  \n",
       "Timestamp                                             \n",
       "2020-05-11 00:00:00               0                0  \n",
       "2020-05-11 00:15:00               0                2  \n",
       "2020-05-11 00:30:00               0                2  \n",
       "2020-05-11 00:45:00               0                2  \n",
       "2020-05-11 01:00:00               0                2  \n",
       "...                             ...              ...  \n",
       "2025-06-24 23:00:00               4                1  \n",
       "2025-06-24 23:15:00               4                1  \n",
       "2025-06-24 23:30:00               4                2  \n",
       "2025-06-24 23:45:00               1                4  \n",
       "2025-06-25 00:00:00               1                4  \n",
       "\n",
       "[179509 rows x 84 columns]"
      ]
     },
     "execution_count": 36,
     "metadata": {},
     "output_type": "execute_result"
    }
   ],
   "source": [
    "btc_with_ta"
   ]
  },
  {
   "cell_type": "code",
   "execution_count": 4,
   "id": "19eb7461-b9ef-43f1-bfb8-67e1046c3fb4",
   "metadata": {},
   "outputs": [],
   "source": [
    "# Удаляем строки с NaN или бесконечностями\n",
    "df_clean_with_kal = btc_with_ta.drop(columns=['future_return','High', 'Close', 'Low', 'Open']).copy()\n",
    "df_clean_with_kal = df_clean_with_kal.replace([np.inf, -np.inf], np.nan).dropna()\n",
    "\n",
    "# Преобразуем целевую переменную\n",
    "y = df_clean_with_kal['target'].values.astype(np.float32)\n",
    "X = df_clean_with_kal.drop(columns=['target']).values\n",
    "\n",
    "# Масштабируем\n",
    "scaler = StandardScaler()\n",
    "X_scaled = scaler.fit_transform(X)"
   ]
  },
  {
   "cell_type": "code",
   "execution_count": 49,
   "id": "ad9aeb5a-719b-4889-8559-dd9d18dc2d2e",
   "metadata": {},
   "outputs": [
    {
     "data": {
      "text/plain": [
       "['scaler.save']"
      ]
     },
     "execution_count": 49,
     "metadata": {},
     "output_type": "execute_result"
    }
   ],
   "source": [
    "joblib.dump(scaler, 'scaler.save')"
   ]
  },
  {
   "cell_type": "code",
   "execution_count": 5,
   "id": "cc0ffb4c-f092-4084-a0f4-eb8e311cd6cf",
   "metadata": {},
   "outputs": [],
   "source": [
    "# Создаем последовательности\n",
    "TIMESTEPS = 10\n",
    "X_seq, y_seq, ts_seq = create_sequences(X_scaled, y, TIMESTEPS, horizon=1008, timestamps=df_clean_with_kal.index)"
   ]
  },
  {
   "cell_type": "code",
   "execution_count": 6,
   "id": "08e8a2f0-8eb9-442b-a3bf-c34045d6317b",
   "metadata": {},
   "outputs": [],
   "source": [
    "# --- Разделение на train/val/test ---\n",
    "dataset = SequenceDataset(X_seq, y_seq.astype(np.float32), ts_seq)\n",
    "train_size = int(len(dataset)*0.6)\n",
    "val_size = int(len(dataset)*0.2)\n",
    "test_size = len(dataset) - train_size - val_size\n",
    "\n",
    "train_ds, val_ds, test_ds = random_split(dataset, [train_size, val_size, test_size], generator=torch.Generator().manual_seed(42))\n",
    "\n",
    "train_loader = DataLoader(train_ds, batch_size=32, shuffle=True)\n",
    "val_loader = DataLoader(val_ds, batch_size=32)\n",
    "test_loader = DataLoader(test_ds, batch_size=32)"
   ]
  },
  {
   "cell_type": "code",
   "execution_count": 7,
   "id": "65c2ec76-e31f-4e04-85c0-6b59ff077929",
   "metadata": {},
   "outputs": [],
   "source": [
    "# === Обучение ===\n",
    "device = torch.device('cuda' if torch.cuda.is_available() else 'cpu')\n",
    "# device = torch.device('cpu')\n",
    "model10min_with_kal = LSTMClassifier(input_dim=X_seq.shape[2], hidden_dim=64, num_layers=2, dropout=0.3).to(device)\n",
    "\n",
    "criterion = nn.BCEWithLogitsLoss()\n",
    "optimizer = torch.optim.AdamW(model10min_with_kal.parameters(), lr=1e-3)"
   ]
  },
  {
   "cell_type": "code",
   "execution_count": 8,
   "id": "6913e063-165f-499e-8fed-c3094d6a7caf",
   "metadata": {
    "scrolled": true
   },
   "outputs": [
    {
     "name": "stdout",
     "output_type": "stream",
     "text": [
      "Epoch 1: Train Loss=0.0303, Val Loss=0.0276\n",
      "Epoch 2: Train Loss=0.0269, Val Loss=0.0274\n",
      "Epoch 3: Train Loss=0.0259, Val Loss=0.0265\n",
      "Epoch 4: Train Loss=0.0250, Val Loss=0.0260\n",
      "Epoch 5: Train Loss=0.0240, Val Loss=0.0249\n",
      "Epoch 6: Train Loss=0.0231, Val Loss=0.0243\n",
      "Epoch 7: Train Loss=0.0217, Val Loss=0.0252\n",
      "Epoch 8: Train Loss=0.0206, Val Loss=0.0240\n",
      "Epoch 9: Train Loss=0.0197, Val Loss=0.0226\n",
      "Epoch 10: Train Loss=0.0180, Val Loss=0.0218\n",
      "Epoch 11: Train Loss=0.0173, Val Loss=0.0241\n",
      "Epoch 12: Train Loss=0.0165, Val Loss=0.0217\n",
      "Epoch 13: Train Loss=0.0155, Val Loss=0.0232\n",
      "Epoch 14: Train Loss=0.0152, Val Loss=0.0209\n",
      "Epoch 15: Train Loss=0.0143, Val Loss=0.0223\n",
      "Epoch 16: Train Loss=0.0139, Val Loss=0.0212\n",
      "Epoch 17: Train Loss=0.0131, Val Loss=0.0198\n",
      "Epoch 18: Train Loss=0.0128, Val Loss=0.0202\n",
      "Epoch 19: Train Loss=0.0122, Val Loss=0.0200\n",
      "Epoch 20: Train Loss=0.0119, Val Loss=0.0197\n",
      "Epoch 21: Train Loss=0.0112, Val Loss=0.0213\n",
      "Epoch 22: Train Loss=0.0107, Val Loss=0.0227\n",
      "Epoch 23: Train Loss=0.0103, Val Loss=0.0202\n",
      "Epoch 24: Train Loss=0.0101, Val Loss=0.0213\n",
      "Epoch 25: Train Loss=0.0096, Val Loss=0.0205\n",
      "Epoch 26: Train Loss=0.0094, Val Loss=0.0220\n",
      "Epoch 27: Train Loss=0.0090, Val Loss=0.0210\n",
      "Epoch 28: Train Loss=0.0090, Val Loss=0.0204\n",
      "Epoch 29: Train Loss=0.0083, Val Loss=0.0211\n",
      "Epoch 30: Train Loss=0.0084, Val Loss=0.0227\n",
      "Epoch 31: Train Loss=0.0085, Val Loss=0.0199\n",
      "Epoch 32: Train Loss=0.0082, Val Loss=0.0203\n",
      "Epoch 33: Train Loss=0.0080, Val Loss=0.0202\n",
      "Epoch 34: Train Loss=0.0080, Val Loss=0.0204\n",
      "Epoch 35: Train Loss=0.0079, Val Loss=0.0189\n",
      "Epoch 36: Train Loss=0.0077, Val Loss=0.0202\n",
      "Epoch 37: Train Loss=0.0076, Val Loss=0.0202\n",
      "Epoch 38: Train Loss=0.0068, Val Loss=0.0195\n",
      "Epoch 39: Train Loss=0.0074, Val Loss=0.0188\n",
      "Epoch 40: Train Loss=0.0071, Val Loss=0.0205\n",
      "Epoch 41: Train Loss=0.0070, Val Loss=0.0199\n",
      "Epoch 42: Train Loss=0.0070, Val Loss=0.0189\n",
      "Epoch 43: Train Loss=0.0069, Val Loss=0.0200\n",
      "Epoch 44: Train Loss=0.0069, Val Loss=0.0199\n",
      "Epoch 45: Train Loss=0.0066, Val Loss=0.0187\n",
      "Epoch 46: Train Loss=0.0068, Val Loss=0.0202\n",
      "Epoch 47: Train Loss=0.0068, Val Loss=0.0210\n",
      "Epoch 48: Train Loss=0.0067, Val Loss=0.0192\n",
      "Epoch 49: Train Loss=0.0071, Val Loss=0.0188\n",
      "Epoch 50: Train Loss=0.0067, Val Loss=0.0208\n",
      "Epoch 51: Train Loss=0.0062, Val Loss=0.0196\n",
      "Epoch 52: Train Loss=0.0066, Val Loss=0.0191\n",
      "Epoch 53: Train Loss=0.0065, Val Loss=0.0204\n",
      "Epoch 54: Train Loss=0.0061, Val Loss=0.0209\n",
      "Epoch 55: Train Loss=0.0064, Val Loss=0.0198\n",
      "Epoch 56: Train Loss=0.0062, Val Loss=0.0186\n",
      "Epoch 57: Train Loss=0.0060, Val Loss=0.0193\n",
      "Epoch 58: Train Loss=0.0063, Val Loss=0.0222\n",
      "Epoch 59: Train Loss=0.0060, Val Loss=0.0197\n",
      "Epoch 60: Train Loss=0.0066, Val Loss=0.0191\n",
      "Epoch 61: Train Loss=0.0061, Val Loss=0.0197\n",
      "Epoch 62: Train Loss=0.0063, Val Loss=0.0190\n",
      "Epoch 63: Train Loss=0.0059, Val Loss=0.0204\n",
      "Epoch 64: Train Loss=0.0060, Val Loss=0.0217\n",
      "Epoch 65: Train Loss=0.0058, Val Loss=0.0207\n",
      "Epoch 66: Train Loss=0.0059, Val Loss=0.0179\n",
      "Epoch 67: Train Loss=0.0056, Val Loss=0.0197\n",
      "Epoch 68: Train Loss=0.0060, Val Loss=0.0203\n",
      "Epoch 69: Train Loss=0.0057, Val Loss=0.0222\n",
      "Epoch 70: Train Loss=0.0061, Val Loss=0.0211\n",
      "Epoch 71: Train Loss=0.0063, Val Loss=0.0192\n",
      "Epoch 72: Train Loss=0.0058, Val Loss=0.0209\n",
      "Epoch 73: Train Loss=0.0056, Val Loss=0.0184\n",
      "Epoch 74: Train Loss=0.0057, Val Loss=0.0196\n",
      "Epoch 75: Train Loss=0.0056, Val Loss=0.0201\n",
      "Epoch 76: Train Loss=0.0060, Val Loss=0.0209\n",
      "Epoch 77: Train Loss=0.0059, Val Loss=0.0180\n",
      "Epoch 78: Train Loss=0.0057, Val Loss=0.0186\n",
      "Epoch 79: Train Loss=0.0057, Val Loss=0.0182\n",
      "Epoch 80: Train Loss=0.0056, Val Loss=0.0203\n",
      "Epoch 81: Train Loss=0.0049, Val Loss=0.0210\n",
      "Early stopping triggered.\n"
     ]
    }
   ],
   "source": [
    "# --- Тренировка с early stopping ---\n",
    "EPOCHS = 100\n",
    "best_val_loss = np.inf\n",
    "patience = 15\n",
    "counter = 0\n",
    "\n",
    "for epoch in range(1, EPOCHS + 1):\n",
    "    train_loss = train_epoch(model10min_with_kal, train_loader, criterion, optimizer, device)\n",
    "    val_loss, test_preds, test_targets, timestamps = eval_epoch(model10min_with_kal, val_loader, criterion, device)\n",
    "\n",
    "    print(f\"Epoch {epoch}: Train Loss={train_loss:.4f}, Val Loss={val_loss:.4f}\")\n",
    "\n",
    "    if val_loss < best_val_loss:\n",
    "        best_val_loss = val_loss\n",
    "        torch.save(model10min_with_kal.state_dict(), \"model10min_with_kal.pth\")\n",
    "        counter = 0\n",
    "    else:\n",
    "        counter += 1\n",
    "        if counter >= patience:\n",
    "            print(\"Early stopping triggered.\")\n",
    "            break"
   ]
  },
  {
   "cell_type": "code",
   "execution_count": 9,
   "id": "b9a69c2a-5e84-4f13-a7ce-b592bc89b55c",
   "metadata": {},
   "outputs": [],
   "source": [
    "# Загрузка лучшей модели\n",
    "model10min_with_kal.load_state_dict(torch.load(\"model10min_with_kal.pth\"))\n",
    "model10min_with_kal.eval()\n",
    "\n",
    "# Предсказания на тесте\n",
    "test_loss, test_preds, test_targets, timestamps = eval_epoch(model10min_with_kal, test_loader, criterion, device)\n",
    "\n",
    "# Получение вероятностей (sigmoid)\n",
    "probas = torch.sigmoid(torch.tensor(test_preds)).numpy()\n",
    "\n",
    "# Бинарные метки по порогу 0.5\n",
    "pred_labels = (probas > 0.5).astype(int)"
   ]
  },
  {
   "cell_type": "code",
   "execution_count": 10,
   "id": "1fbd9bb4-693b-41cb-b175-e84ace38bbf6",
   "metadata": {},
   "outputs": [
    {
     "name": "stdout",
     "output_type": "stream",
     "text": [
      "Accuracy: 0.9966\n",
      "F1-score: 0.5536\n",
      "ROC AUC: 0.9263\n"
     ]
    },
    {
     "data": {
      "image/png": "[encoded data removed]",
      "text/plain": [
       "<Figure size 600x500 with 2 Axes>"
      ]
     },
     "metadata": {},
     "output_type": "display_data"
    }
   ],
   "source": [
    "accuracy = accuracy_score(test_targets, pred_labels)\n",
    "f1 = f1_score(test_targets, pred_labels)\n",
    "roc_auc = roc_auc_score(test_targets, probas)\n",
    "cm = confusion_matrix(test_targets, pred_labels)\n",
    "\n",
    "print(f\"Accuracy: {accuracy:.4f}\")\n",
    "print(f\"F1-score: {f1:.4f}\")\n",
    "print(f\"ROC AUC: {roc_auc:.4f}\")\n",
    "\n",
    "# Визуализация матрицы ошибок\n",
    "plt.figure(figsize=(6,5))\n",
    "sns.heatmap(cm, annot=True, fmt='d', cmap='Blues')\n",
    "plt.xlabel('Predicted')\n",
    "plt.ylabel('Actual')\n",
    "plt.title('Confusion Matrix')\n",
    "plt.show()"
   ]
  },
  {
   "cell_type": "code",
   "execution_count": 17,
   "id": "3c178fac-044f-4624-9f12-e5ae32c7e38c",
   "metadata": {
    "scrolled": true
   },
   "outputs": [
    {
     "name": "stdout",
     "output_type": "stream",
     "text": [
      "📊 Кол-во сделок: 149\n",
      "📈 Средний доход на сделку: 0.0241\n",
      "✅ Доля прибыльных сделок: 97.32%\n"
     ]
    }
   ],
   "source": [
    "# --- Настройка ---\n",
    "threshold = 0.6  # Порог вероятности для входа в сделку\n",
    "\n",
    "# Проверяем длины\n",
    "assert len(probas) == len(timestamps)\n",
    "\n",
    "# Приводим индекс btc_with_ta к datetime с таймзоной UTC\n",
    "btc_with_ta.index = pd.to_datetime(btc_with_ta.index, utc=True)\n",
    "\n",
    "# Привязываем вероятности к DataFrame с временными метками\n",
    "df_signals = pd.DataFrame({\n",
    "    'proba': probas\n",
    "}, index=pd.to_datetime(timestamps, utc=True))  # явно приводим timestamps к datetime с UTC\n",
    "\n",
    "# Оставляем только общие временные метки, чтобы не было несоответствий\n",
    "common_index = df_signals.index.intersection(btc_with_ta.index)\n",
    "df_signals = df_signals.loc[common_index]\n",
    "\n",
    "# Добавляем будущую доходность\n",
    "df_signals['future_return'] = btc_with_ta.loc[common_index, 'future_return']\n",
    "\n",
    "# Формируем торговый сигнал\n",
    "df_signals['signal'] = (df_signals['proba'] > threshold).astype(int)\n",
    "\n",
    "# Рассчитываем доходности стратегии и накопленную доходность\n",
    "df_signals['strategy_return'] = df_signals['signal'] * df_signals['future_return']\n",
    "df_signals['cumulative_return'] = (1 + df_signals['strategy_return']).cumprod()\n",
    "df_signals['buy_and_hold'] = (1 + df_signals['future_return']).cumprod()\n",
    "\n",
    "# Метрики\n",
    "total_trades = df_signals['signal'].sum()\n",
    "avg_return = df_signals.loc[df_signals['signal'] == 1, 'strategy_return'].mean()\n",
    "hit_rate = (df_signals.loc[df_signals['signal'] == 1, 'future_return'] > 0).mean()\n",
    "\n",
    "print(f\"📊 Кол-во сделок: {total_trades}\")\n",
    "print(f\"📈 Средний доход на сделку: {avg_return:.4f}\")\n",
    "print(f\"✅ Доля прибыльных сделок: {hit_rate:.2%}\")"
   ]
  },
  {
   "cell_type": "code",
   "execution_count": 18,
   "id": "933eb568-2f3d-4ff2-bd67-bffd40794503",
   "metadata": {},
   "outputs": [
    {
     "data": {
      "image/png": "[encoded data removed]",
      "text/plain": [
       "<Figure size 1200x600 with 1 Axes>"
      ]
     },
     "metadata": {},
     "output_type": "display_data"
    }
   ],
   "source": [
    "plot_strategy_vs_buy_hold(df_signals, threshold=0.6, resample='1D', show_signals=False)"
   ]
  },
  {
   "cell_type": "markdown",
   "id": "a50a79d1-4abf-4714-92c9-e87566961f6e",
   "metadata": {},
   "source": [
    "## Получаем нвоые данные и предиктим наних"
   ]
  },
  {
   "cell_type": "code",
   "execution_count": 30,
   "id": "61752580-2e37-4bab-b812-82ae5f2de081",
   "metadata": {},
   "outputs": [],
   "source": [
    "def get_btc():\n",
    "    exchange = ccxt.binance()\n",
    "    symbol = 'BTC/USDT'\n",
    "    timeframe = '15m'  # сменили на 15 минут\n",
    "    limit = 1000\n",
    "\n",
    "    now = exchange.milliseconds()\n",
    "    since = now - 7 * 24 * 60 * 60 * 1000  # 7 дней назад\n",
    "\n",
    "    ohlcv = exchange.fetch_ohlcv(symbol, timeframe=timeframe, since=since, limit=limit)\n",
    "    df = pd.DataFrame(ohlcv, columns=['Timestamp', 'Open', 'High', 'Low', 'Close', 'Volume'])\n",
    "    df['Timestamp'] = pd.to_datetime(df['Timestamp'], unit='ms')\n",
    "\n",
    "    # Сделать timestamp индексом\n",
    "    df = df.set_index('Timestamp')\n",
    "\n",
    "    return df\n"
   ]
  },
  {
   "cell_type": "code",
   "execution_count": 31,
   "id": "cb3c0bcb-a70f-455b-a547-f22ad87727b5",
   "metadata": {},
   "outputs": [
    {
     "data": {
      "text/html": [
       "<div>\n",
       "<style scoped>\n",
       "    .dataframe tbody tr th:only-of-type {\n",
       "        vertical-align: middle;\n",
       "    }\n",
       "\n",
       "    .dataframe tbody tr th {\n",
       "        vertical-align: top;\n",
       "    }\n",
       "\n",
       "    .dataframe thead th {\n",
       "        text-align: right;\n",
       "    }\n",
       "</style>\n",
       "<table border=\"1\" class=\"dataframe\">\n",
       "  <thead>\n",
       "    <tr style=\"text-align: right;\">\n",
       "      <th></th>\n",
       "      <th>Open</th>\n",
       "      <th>High</th>\n",
       "      <th>Low</th>\n",
       "      <th>Close</th>\n",
       "      <th>Volume</th>\n",
       "    </tr>\n",
       "    <tr>\n",
       "      <th>Timestamp</th>\n",
       "      <th></th>\n",
       "      <th></th>\n",
       "      <th></th>\n",
       "      <th></th>\n",
       "      <th></th>\n",
       "    </tr>\n",
       "  </thead>\n",
       "  <tbody>\n",
       "    <tr>\n",
       "      <th>2025-06-17 09:45:00</th>\n",
       "      <td>106,264.94</td>\n",
       "      <td>106,284.49</td>\n",
       "      <td>106,069.55</td>\n",
       "      <td>106,160.57</td>\n",
       "      <td>281.62</td>\n",
       "    </tr>\n",
       "    <tr>\n",
       "      <th>2025-06-17 10:00:00</th>\n",
       "      <td>106,160.58</td>\n",
       "      <td>106,248.43</td>\n",
       "      <td>106,040.00</td>\n",
       "      <td>106,088.17</td>\n",
       "      <td>169.11</td>\n",
       "    </tr>\n",
       "    <tr>\n",
       "      <th>2025-06-17 10:15:00</th>\n",
       "      <td>106,088.17</td>\n",
       "      <td>106,168.28</td>\n",
       "      <td>106,028.00</td>\n",
       "      <td>106,099.18</td>\n",
       "      <td>126.93</td>\n",
       "    </tr>\n",
       "    <tr>\n",
       "      <th>2025-06-17 10:30:00</th>\n",
       "      <td>106,099.17</td>\n",
       "      <td>106,100.00</td>\n",
       "      <td>105,721.29</td>\n",
       "      <td>105,790.40</td>\n",
       "      <td>344.48</td>\n",
       "    </tr>\n",
       "    <tr>\n",
       "      <th>2025-06-17 10:45:00</th>\n",
       "      <td>105,790.40</td>\n",
       "      <td>105,964.10</td>\n",
       "      <td>105,756.32</td>\n",
       "      <td>105,956.01</td>\n",
       "      <td>157.84</td>\n",
       "    </tr>\n",
       "    <tr>\n",
       "      <th>...</th>\n",
       "      <td>...</td>\n",
       "      <td>...</td>\n",
       "      <td>...</td>\n",
       "      <td>...</td>\n",
       "      <td>...</td>\n",
       "    </tr>\n",
       "    <tr>\n",
       "      <th>2025-06-24 08:30:00</th>\n",
       "      <td>105,066.81</td>\n",
       "      <td>105,167.24</td>\n",
       "      <td>104,876.47</td>\n",
       "      <td>105,044.21</td>\n",
       "      <td>193.68</td>\n",
       "    </tr>\n",
       "    <tr>\n",
       "      <th>2025-06-24 08:45:00</th>\n",
       "      <td>105,044.22</td>\n",
       "      <td>105,109.71</td>\n",
       "      <td>104,915.06</td>\n",
       "      <td>104,996.77</td>\n",
       "      <td>91.03</td>\n",
       "    </tr>\n",
       "    <tr>\n",
       "      <th>2025-06-24 09:00:00</th>\n",
       "      <td>104,996.78</td>\n",
       "      <td>105,288.88</td>\n",
       "      <td>104,968.25</td>\n",
       "      <td>105,105.60</td>\n",
       "      <td>158.97</td>\n",
       "    </tr>\n",
       "    <tr>\n",
       "      <th>2025-06-24 09:15:00</th>\n",
       "      <td>105,105.42</td>\n",
       "      <td>105,571.40</td>\n",
       "      <td>105,060.00</td>\n",
       "      <td>105,396.31</td>\n",
       "      <td>161.94</td>\n",
       "    </tr>\n",
       "    <tr>\n",
       "      <th>2025-06-24 09:30:00</th>\n",
       "      <td>105,396.31</td>\n",
       "      <td>105,472.54</td>\n",
       "      <td>105,212.58</td>\n",
       "      <td>105,264.71</td>\n",
       "      <td>148.48</td>\n",
       "    </tr>\n",
       "  </tbody>\n",
       "</table>\n",
       "<p>672 rows × 5 columns</p>\n",
       "</div>"
      ],
      "text/plain": [
       "                          Open       High        Low      Close  Volume\n",
       "Timestamp                                                              \n",
       "2025-06-17 09:45:00 106,264.94 106,284.49 106,069.55 106,160.57  281.62\n",
       "2025-06-17 10:00:00 106,160.58 106,248.43 106,040.00 106,088.17  169.11\n",
       "2025-06-17 10:15:00 106,088.17 106,168.28 106,028.00 106,099.18  126.93\n",
       "2025-06-17 10:30:00 106,099.17 106,100.00 105,721.29 105,790.40  344.48\n",
       "2025-06-17 10:45:00 105,790.40 105,964.10 105,756.32 105,956.01  157.84\n",
       "...                        ...        ...        ...        ...     ...\n",
       "2025-06-24 08:30:00 105,066.81 105,167.24 104,876.47 105,044.21  193.68\n",
       "2025-06-24 08:45:00 105,044.22 105,109.71 104,915.06 104,996.77   91.03\n",
       "2025-06-24 09:00:00 104,996.78 105,288.88 104,968.25 105,105.60  158.97\n",
       "2025-06-24 09:15:00 105,105.42 105,571.40 105,060.00 105,396.31  161.94\n",
       "2025-06-24 09:30:00 105,396.31 105,472.54 105,212.58 105,264.71  148.48\n",
       "\n",
       "[672 rows x 5 columns]"
      ]
     },
     "execution_count": 31,
     "metadata": {},
     "output_type": "execute_result"
    }
   ],
   "source": [
    "df=get_btc()\n",
    "df"
   ]
  },
  {
   "cell_type": "code",
   "execution_count": 32,
   "id": "b4681d5a-f5b5-4b32-91df-dc3080fcad4f",
   "metadata": {},
   "outputs": [],
   "source": [
    "df_new= compute_indicators_v6(df, kalman_smooth=True)"
   ]
  },
  {
   "cell_type": "code",
   "execution_count": 33,
   "id": "9cf00fc6-d2c9-4d3d-96cf-c8223cfcdf4b",
   "metadata": {},
   "outputs": [
    {
     "data": {
      "text/html": [
       "<div>\n",
       "<style scoped>\n",
       "    .dataframe tbody tr th:only-of-type {\n",
       "        vertical-align: middle;\n",
       "    }\n",
       "\n",
       "    .dataframe tbody tr th {\n",
       "        vertical-align: top;\n",
       "    }\n",
       "\n",
       "    .dataframe thead th {\n",
       "        text-align: right;\n",
       "    }\n",
       "</style>\n",
       "<table border=\"1\" class=\"dataframe\">\n",
       "  <thead>\n",
       "    <tr style=\"text-align: right;\">\n",
       "      <th></th>\n",
       "      <th>Open</th>\n",
       "      <th>High</th>\n",
       "      <th>Low</th>\n",
       "      <th>Close</th>\n",
       "      <th>Volume</th>\n",
       "      <th>sma_1d</th>\n",
       "      <th>sma_1w</th>\n",
       "      <th>sma_signal</th>\n",
       "      <th>ema_crossover</th>\n",
       "      <th>rsi</th>\n",
       "      <th>...</th>\n",
       "      <th>momentum_lag1</th>\n",
       "      <th>momentum_lag2</th>\n",
       "      <th>momentum_lag3</th>\n",
       "      <th>cmf_lag1</th>\n",
       "      <th>cmf_lag2</th>\n",
       "      <th>cmf_lag3</th>\n",
       "      <th>future_return</th>\n",
       "      <th>target</th>\n",
       "      <th>candle_cluster</th>\n",
       "      <th>combined_signal</th>\n",
       "    </tr>\n",
       "    <tr>\n",
       "      <th>Timestamp</th>\n",
       "      <th></th>\n",
       "      <th></th>\n",
       "      <th></th>\n",
       "      <th></th>\n",
       "      <th></th>\n",
       "      <th></th>\n",
       "      <th></th>\n",
       "      <th></th>\n",
       "      <th></th>\n",
       "      <th></th>\n",
       "      <th></th>\n",
       "      <th></th>\n",
       "      <th></th>\n",
       "      <th></th>\n",
       "      <th></th>\n",
       "      <th></th>\n",
       "      <th></th>\n",
       "      <th></th>\n",
       "      <th></th>\n",
       "      <th></th>\n",
       "      <th></th>\n",
       "    </tr>\n",
       "  </thead>\n",
       "  <tbody>\n",
       "    <tr>\n",
       "      <th>2025-06-17 09:45:00</th>\n",
       "      <td>65,640.77</td>\n",
       "      <td>65,667.09</td>\n",
       "      <td>65,535.83</td>\n",
       "      <td>65,584.81</td>\n",
       "      <td>148.66</td>\n",
       "      <td>65,584.81</td>\n",
       "      <td>96,547.91</td>\n",
       "      <td>0</td>\n",
       "      <td>0</td>\n",
       "      <td>99.60</td>\n",
       "      <td>...</td>\n",
       "      <td>40,102.95</td>\n",
       "      <td>40,102.95</td>\n",
       "      <td>40,102.95</td>\n",
       "      <td>-0.13</td>\n",
       "      <td>-0.13</td>\n",
       "      <td>-0.13</td>\n",
       "      <td>0.61</td>\n",
       "      <td>1</td>\n",
       "      <td>0</td>\n",
       "      <td>0</td>\n",
       "    </tr>\n",
       "    <tr>\n",
       "      <th>2025-06-17 10:00:00</th>\n",
       "      <td>90,657.36</td>\n",
       "      <td>90,716.78</td>\n",
       "      <td>90,537.93</td>\n",
       "      <td>90,593.87</td>\n",
       "      <td>164.36</td>\n",
       "      <td>90,593.87</td>\n",
       "      <td>96,547.91</td>\n",
       "      <td>0</td>\n",
       "      <td>1</td>\n",
       "      <td>99.60</td>\n",
       "      <td>...</td>\n",
       "      <td>40,102.95</td>\n",
       "      <td>40,102.95</td>\n",
       "      <td>40,102.95</td>\n",
       "      <td>-0.13</td>\n",
       "      <td>-0.13</td>\n",
       "      <td>-0.13</td>\n",
       "      <td>0.16</td>\n",
       "      <td>1</td>\n",
       "      <td>0</td>\n",
       "      <td>2</td>\n",
       "    </tr>\n",
       "    <tr>\n",
       "      <th>2025-06-17 10:15:00</th>\n",
       "      <td>100,170.73</td>\n",
       "      <td>100,234.83</td>\n",
       "      <td>100,037.97</td>\n",
       "      <td>100,108.62</td>\n",
       "      <td>175.30</td>\n",
       "      <td>100,108.62</td>\n",
       "      <td>96,547.91</td>\n",
       "      <td>0</td>\n",
       "      <td>1</td>\n",
       "      <td>99.60</td>\n",
       "      <td>...</td>\n",
       "      <td>40,102.95</td>\n",
       "      <td>40,102.95</td>\n",
       "      <td>40,102.95</td>\n",
       "      <td>-0.13</td>\n",
       "      <td>-0.13</td>\n",
       "      <td>-0.13</td>\n",
       "      <td>0.05</td>\n",
       "      <td>1</td>\n",
       "      <td>0</td>\n",
       "      <td>2</td>\n",
       "    </tr>\n",
       "    <tr>\n",
       "      <th>2025-06-17 10:30:00</th>\n",
       "      <td>103,766.65</td>\n",
       "      <td>103,819.43</td>\n",
       "      <td>103,547.99</td>\n",
       "      <td>103,632.82</td>\n",
       "      <td>234.62</td>\n",
       "      <td>103,632.82</td>\n",
       "      <td>96,547.91</td>\n",
       "      <td>0</td>\n",
       "      <td>1</td>\n",
       "      <td>99.60</td>\n",
       "      <td>...</td>\n",
       "      <td>40,102.95</td>\n",
       "      <td>40,102.95</td>\n",
       "      <td>40,102.95</td>\n",
       "      <td>-0.13</td>\n",
       "      <td>-0.13</td>\n",
       "      <td>-0.13</td>\n",
       "      <td>0.02</td>\n",
       "      <td>0</td>\n",
       "      <td>0</td>\n",
       "      <td>2</td>\n",
       "    </tr>\n",
       "    <tr>\n",
       "      <th>2025-06-17 10:45:00</th>\n",
       "      <td>105,030.07</td>\n",
       "      <td>105,123.45</td>\n",
       "      <td>104,884.69</td>\n",
       "      <td>104,999.45</td>\n",
       "      <td>184.07</td>\n",
       "      <td>104,999.45</td>\n",
       "      <td>96,547.91</td>\n",
       "      <td>0</td>\n",
       "      <td>1</td>\n",
       "      <td>99.60</td>\n",
       "      <td>...</td>\n",
       "      <td>40,102.95</td>\n",
       "      <td>40,102.95</td>\n",
       "      <td>40,102.95</td>\n",
       "      <td>-0.13</td>\n",
       "      <td>-0.13</td>\n",
       "      <td>-0.13</td>\n",
       "      <td>0.01</td>\n",
       "      <td>0</td>\n",
       "      <td>5</td>\n",
       "      <td>2</td>\n",
       "    </tr>\n",
       "    <tr>\n",
       "      <th>...</th>\n",
       "      <td>...</td>\n",
       "      <td>...</td>\n",
       "      <td>...</td>\n",
       "      <td>...</td>\n",
       "      <td>...</td>\n",
       "      <td>...</td>\n",
       "      <td>...</td>\n",
       "      <td>...</td>\n",
       "      <td>...</td>\n",
       "      <td>...</td>\n",
       "      <td>...</td>\n",
       "      <td>...</td>\n",
       "      <td>...</td>\n",
       "      <td>...</td>\n",
       "      <td>...</td>\n",
       "      <td>...</td>\n",
       "      <td>...</td>\n",
       "      <td>...</td>\n",
       "      <td>...</td>\n",
       "      <td>...</td>\n",
       "      <td>...</td>\n",
       "    </tr>\n",
       "    <tr>\n",
       "      <th>2025-06-24 08:30:00</th>\n",
       "      <td>105,027.76</td>\n",
       "      <td>105,166.48</td>\n",
       "      <td>104,848.63</td>\n",
       "      <td>105,044.82</td>\n",
       "      <td>196.23</td>\n",
       "      <td>105,044.82</td>\n",
       "      <td>105,189.92</td>\n",
       "      <td>0</td>\n",
       "      <td>1</td>\n",
       "      <td>49.86</td>\n",
       "      <td>...</td>\n",
       "      <td>-343.41</td>\n",
       "      <td>-313.90</td>\n",
       "      <td>-100.23</td>\n",
       "      <td>0.04</td>\n",
       "      <td>0.01</td>\n",
       "      <td>0.01</td>\n",
       "      <td>0.00</td>\n",
       "      <td>0</td>\n",
       "      <td>2</td>\n",
       "      <td>2</td>\n",
       "    </tr>\n",
       "    <tr>\n",
       "      <th>2025-06-24 08:45:00</th>\n",
       "      <td>105,044.91</td>\n",
       "      <td>105,195.60</td>\n",
       "      <td>104,914.76</td>\n",
       "      <td>105,062.53</td>\n",
       "      <td>147.11</td>\n",
       "      <td>105,062.53</td>\n",
       "      <td>105,125.83</td>\n",
       "      <td>0</td>\n",
       "      <td>1</td>\n",
       "      <td>45.99</td>\n",
       "      <td>...</td>\n",
       "      <td>-386.60</td>\n",
       "      <td>-343.41</td>\n",
       "      <td>-313.90</td>\n",
       "      <td>0.06</td>\n",
       "      <td>0.04</td>\n",
       "      <td>0.01</td>\n",
       "      <td>0.00</td>\n",
       "      <td>0</td>\n",
       "      <td>5</td>\n",
       "      <td>2</td>\n",
       "    </tr>\n",
       "    <tr>\n",
       "      <th>2025-06-24 09:00:00</th>\n",
       "      <td>105,062.74</td>\n",
       "      <td>105,310.59</td>\n",
       "      <td>104,980.59</td>\n",
       "      <td>105,146.00</td>\n",
       "      <td>154.06</td>\n",
       "      <td>105,146.00</td>\n",
       "      <td>105,081.01</td>\n",
       "      <td>1</td>\n",
       "      <td>1</td>\n",
       "      <td>43.72</td>\n",
       "      <td>...</td>\n",
       "      <td>-444.28</td>\n",
       "      <td>-386.60</td>\n",
       "      <td>-343.41</td>\n",
       "      <td>0.07</td>\n",
       "      <td>0.06</td>\n",
       "      <td>0.04</td>\n",
       "      <td>0.00</td>\n",
       "      <td>0</td>\n",
       "      <td>5</td>\n",
       "      <td>2</td>\n",
       "    </tr>\n",
       "    <tr>\n",
       "      <th>2025-06-24 09:15:00</th>\n",
       "      <td>105,146.52</td>\n",
       "      <td>105,447.31</td>\n",
       "      <td>105,058.75</td>\n",
       "      <td>105,269.87</td>\n",
       "      <td>156.10</td>\n",
       "      <td>105,269.87</td>\n",
       "      <td>105,082.49</td>\n",
       "      <td>1</td>\n",
       "      <td>1</td>\n",
       "      <td>45.59</td>\n",
       "      <td>...</td>\n",
       "      <td>-449.99</td>\n",
       "      <td>-444.28</td>\n",
       "      <td>-386.60</td>\n",
       "      <td>0.08</td>\n",
       "      <td>0.07</td>\n",
       "      <td>0.06</td>\n",
       "      <td>0.00</td>\n",
       "      <td>0</td>\n",
       "      <td>2</td>\n",
       "      <td>2</td>\n",
       "    </tr>\n",
       "    <tr>\n",
       "      <th>2025-06-24 09:30:00</th>\n",
       "      <td>105,271.42</td>\n",
       "      <td>105,459.92</td>\n",
       "      <td>105,135.67</td>\n",
       "      <td>105,267.29</td>\n",
       "      <td>152.29</td>\n",
       "      <td>105,267.29</td>\n",
       "      <td>105,112.83</td>\n",
       "      <td>1</td>\n",
       "      <td>1</td>\n",
       "      <td>42.47</td>\n",
       "      <td>...</td>\n",
       "      <td>-317.59</td>\n",
       "      <td>-449.99</td>\n",
       "      <td>-444.28</td>\n",
       "      <td>0.08</td>\n",
       "      <td>0.08</td>\n",
       "      <td>0.07</td>\n",
       "      <td>0.00</td>\n",
       "      <td>0</td>\n",
       "      <td>2</td>\n",
       "      <td>3</td>\n",
       "    </tr>\n",
       "  </tbody>\n",
       "</table>\n",
       "<p>672 rows × 80 columns</p>\n",
       "</div>"
      ],
      "text/plain": [
       "                          Open       High        Low      Close  Volume  \\\n",
       "Timestamp                                                                 \n",
       "2025-06-17 09:45:00  65,640.77  65,667.09  65,535.83  65,584.81  148.66   \n",
       "2025-06-17 10:00:00  90,657.36  90,716.78  90,537.93  90,593.87  164.36   \n",
       "2025-06-17 10:15:00 100,170.73 100,234.83 100,037.97 100,108.62  175.30   \n",
       "2025-06-17 10:30:00 103,766.65 103,819.43 103,547.99 103,632.82  234.62   \n",
       "2025-06-17 10:45:00 105,030.07 105,123.45 104,884.69 104,999.45  184.07   \n",
       "...                        ...        ...        ...        ...     ...   \n",
       "2025-06-24 08:30:00 105,027.76 105,166.48 104,848.63 105,044.82  196.23   \n",
       "2025-06-24 08:45:00 105,044.91 105,195.60 104,914.76 105,062.53  147.11   \n",
       "2025-06-24 09:00:00 105,062.74 105,310.59 104,980.59 105,146.00  154.06   \n",
       "2025-06-24 09:15:00 105,146.52 105,447.31 105,058.75 105,269.87  156.10   \n",
       "2025-06-24 09:30:00 105,271.42 105,459.92 105,135.67 105,267.29  152.29   \n",
       "\n",
       "                        sma_1d     sma_1w  sma_signal  ema_crossover   rsi  \\\n",
       "Timestamp                                                                    \n",
       "2025-06-17 09:45:00  65,584.81  96,547.91           0              0 99.60   \n",
       "2025-06-17 10:00:00  90,593.87  96,547.91           0              1 99.60   \n",
       "2025-06-17 10:15:00 100,108.62  96,547.91           0              1 99.60   \n",
       "2025-06-17 10:30:00 103,632.82  96,547.91           0              1 99.60   \n",
       "2025-06-17 10:45:00 104,999.45  96,547.91           0              1 99.60   \n",
       "...                        ...        ...         ...            ...   ...   \n",
       "2025-06-24 08:30:00 105,044.82 105,189.92           0              1 49.86   \n",
       "2025-06-24 08:45:00 105,062.53 105,125.83           0              1 45.99   \n",
       "2025-06-24 09:00:00 105,146.00 105,081.01           1              1 43.72   \n",
       "2025-06-24 09:15:00 105,269.87 105,082.49           1              1 45.59   \n",
       "2025-06-24 09:30:00 105,267.29 105,112.83           1              1 42.47   \n",
       "\n",
       "                     ...  momentum_lag1  momentum_lag2  momentum_lag3  \\\n",
       "Timestamp            ...                                                \n",
       "2025-06-17 09:45:00  ...      40,102.95      40,102.95      40,102.95   \n",
       "2025-06-17 10:00:00  ...      40,102.95      40,102.95      40,102.95   \n",
       "2025-06-17 10:15:00  ...      40,102.95      40,102.95      40,102.95   \n",
       "2025-06-17 10:30:00  ...      40,102.95      40,102.95      40,102.95   \n",
       "2025-06-17 10:45:00  ...      40,102.95      40,102.95      40,102.95   \n",
       "...                  ...            ...            ...            ...   \n",
       "2025-06-24 08:30:00  ...        -343.41        -313.90        -100.23   \n",
       "2025-06-24 08:45:00  ...        -386.60        -343.41        -313.90   \n",
       "2025-06-24 09:00:00  ...        -444.28        -386.60        -343.41   \n",
       "2025-06-24 09:15:00  ...        -449.99        -444.28        -386.60   \n",
       "2025-06-24 09:30:00  ...        -317.59        -449.99        -444.28   \n",
       "\n",
       "                     cmf_lag1  cmf_lag2  cmf_lag3  future_return  target  \\\n",
       "Timestamp                                                                  \n",
       "2025-06-17 09:45:00     -0.13     -0.13     -0.13           0.61       1   \n",
       "2025-06-17 10:00:00     -0.13     -0.13     -0.13           0.16       1   \n",
       "2025-06-17 10:15:00     -0.13     -0.13     -0.13           0.05       1   \n",
       "2025-06-17 10:30:00     -0.13     -0.13     -0.13           0.02       0   \n",
       "2025-06-17 10:45:00     -0.13     -0.13     -0.13           0.01       0   \n",
       "...                       ...       ...       ...            ...     ...   \n",
       "2025-06-24 08:30:00      0.04      0.01      0.01           0.00       0   \n",
       "2025-06-24 08:45:00      0.06      0.04      0.01           0.00       0   \n",
       "2025-06-24 09:00:00      0.07      0.06      0.04           0.00       0   \n",
       "2025-06-24 09:15:00      0.08      0.07      0.06           0.00       0   \n",
       "2025-06-24 09:30:00      0.08      0.08      0.07           0.00       0   \n",
       "\n",
       "                     candle_cluster  combined_signal  \n",
       "Timestamp                                             \n",
       "2025-06-17 09:45:00               0                0  \n",
       "2025-06-17 10:00:00               0                2  \n",
       "2025-06-17 10:15:00               0                2  \n",
       "2025-06-17 10:30:00               0                2  \n",
       "2025-06-17 10:45:00               5                2  \n",
       "...                             ...              ...  \n",
       "2025-06-24 08:30:00               2                2  \n",
       "2025-06-24 08:45:00               5                2  \n",
       "2025-06-24 09:00:00               5                2  \n",
       "2025-06-24 09:15:00               2                2  \n",
       "2025-06-24 09:30:00               2                3  \n",
       "\n",
       "[672 rows x 80 columns]"
      ]
     },
     "execution_count": 33,
     "metadata": {},
     "output_type": "execute_result"
    }
   ],
   "source": [
    "df_new"
   ]
  },
  {
   "cell_type": "code",
   "execution_count": null,
   "id": "542c1b21-19e3-428d-9da4-626623634e9f",
   "metadata": {},
   "outputs": [],
   "source": []
  },
  {
   "cell_type": "code",
   "execution_count": null,
   "id": "2ce7557f-e98b-45bc-9c63-da005ebe9d62",
   "metadata": {},
   "outputs": [],
   "source": []
  },
  {
   "cell_type": "code",
   "execution_count": 7,
   "id": "3530609c-5a35-42b2-bb39-54b45ac889a3",
   "metadata": {
    "collapsed": true,
    "jupyter": {
     "outputs_hidden": true
    },
    "scrolled": true
   },
   "outputs": [
    {
     "ename": "NameError",
     "evalue": "name 'df_new' is not defined",
     "output_type": "error",
     "traceback": [
      "\u001b[0;31m---------------------------------------------------------------------------\u001b[0m",
      "\u001b[0;31mNameError\u001b[0m                                 Traceback (most recent call last)",
      "Cell \u001b[0;32mIn[7], line 1\u001b[0m\n\u001b[0;32m----> 1\u001b[0m df_new_with_kal \u001b[38;5;241m=\u001b[39m \u001b[43mdf_new\u001b[49m\u001b[38;5;241m.\u001b[39mdrop(columns\u001b[38;5;241m=\u001b[39m[\u001b[38;5;124m'\u001b[39m\u001b[38;5;124mfuture_return\u001b[39m\u001b[38;5;124m'\u001b[39m,\u001b[38;5;124m'\u001b[39m\u001b[38;5;124mHigh\u001b[39m\u001b[38;5;124m'\u001b[39m, \u001b[38;5;124m'\u001b[39m\u001b[38;5;124mClose\u001b[39m\u001b[38;5;124m'\u001b[39m, \u001b[38;5;124m'\u001b[39m\u001b[38;5;124mLow\u001b[39m\u001b[38;5;124m'\u001b[39m, \u001b[38;5;124m'\u001b[39m\u001b[38;5;124mOpen\u001b[39m\u001b[38;5;124m'\u001b[39m])\u001b[38;5;241m.\u001b[39mcopy()\n\u001b[1;32m      2\u001b[0m scaler \u001b[38;5;241m=\u001b[39m joblib\u001b[38;5;241m.\u001b[39mload(\u001b[38;5;124m'\u001b[39m\u001b[38;5;124mscaler.save\u001b[39m\u001b[38;5;124m'\u001b[39m)\n\u001b[1;32m      3\u001b[0m df_new_with_kal \u001b[38;5;241m=\u001b[39m df_new_with_kal\u001b[38;5;241m.\u001b[39mreplace([np\u001b[38;5;241m.\u001b[39minf, \u001b[38;5;241m-\u001b[39mnp\u001b[38;5;241m.\u001b[39minf], np\u001b[38;5;241m.\u001b[39mnan)\u001b[38;5;241m.\u001b[39mdropna()\n",
      "\u001b[0;31mNameError\u001b[0m: name 'df_new' is not defined"
     ]
    }
   ],
   "source": [
    "df_new_with_kal = df_new.drop(columns=['future_return','High', 'Close', 'Low', 'Open']).copy()\n",
    "scaler = joblib.load('scaler.save')\n",
    "df_new_with_kal = df_new_with_kal.replace([np.inf, -np.inf], np.nan).dropna()"
   ]
  },
  {
   "cell_type": "code",
   "execution_count": 40,
   "id": "dbeb1d44-48d8-4330-84a7-2384d4fa29f0",
   "metadata": {},
   "outputs": [],
   "source": [
    "TIMESTEPS = 10\n",
    "HORIZON = 96  # 1 день при 15-мин интервале\n",
    "\n",
    "# Допустим, df_new_with_kal — твой очищенный DataFrame, индекс — Timestamp\n",
    "# Отделяем признаки и таргет\n",
    "X_new = df_new_with_kal.drop(columns=['target'])  # все колонки кроме таргета\n",
    "y_new = df_new_with_kal['target']\n",
    "\n",
    "# Если надо — масштабируем X_new (используя тот же scaler, что и на обучении)\n",
    "# Например:\n",
    "X_new_scaled = scaler.transform(X_new)\n",
    "\n",
    "# Создаем последовательности (предполагается, что create_sequences принимает np.array)\n",
    "X_seq, y_seq, ts_seq = create_sequences(\n",
    "    X_new_scaled, \n",
    "    y_new.values, \n",
    "    TIMESTEPS, \n",
    "    horizon=HORIZON, \n",
    "    timestamps=df_new_with_kal.index\n",
    ")"
   ]
  },
  {
   "cell_type": "code",
   "execution_count": 43,
   "id": "5cd89b40-3e50-4949-ba5b-28a12362097d",
   "metadata": {},
   "outputs": [],
   "source": [
    "# Предполагаем, что X_seq и y_seq уже есть (numpy-массивы)\n",
    "X_tensor = torch.tensor(X_seq, dtype=torch.float32)\n",
    "y_tensor = torch.tensor(y_seq, dtype=torch.float32)\n",
    "\n",
    "# Создаем датасет и DataLoader\n",
    "dataset = TensorDataset(X_tensor, y_tensor)\n",
    "batch_size = 32\n",
    "dataloader = DataLoader(dataset, batch_size=batch_size, shuffle=False)\n",
    "\n"
   ]
  },
  {
   "cell_type": "code",
   "execution_count": 48,
   "id": "952273a7-d1b5-41ea-a9f1-3449281f55c2",
   "metadata": {},
   "outputs": [
    {
     "name": "stdout",
     "output_type": "stream",
     "text": [
      "Средняя вероятность роста на последний день: 0.0108\n",
      "Предсказанный класс на последний день: 0\n",
      "Свечные паттерны указывают на рост, корректируем вероятность\n",
      "С учётом свечных паттернов вероятность: 0.1108\n",
      "Итоговый прогноз на последний день: Падение\n"
     ]
    }
   ],
   "source": [
    "# Отправляем тензоры на устройство\n",
    "X_tensor = X_tensor.to(device)\n",
    "y_tensor = y_tensor.to(device)\n",
    "\n",
    "model10min_with_kal.to(device)\n",
    "model10min_with_kal.eval()\n",
    "with torch.no_grad():\n",
    "    outputs = model10min_with_kal(X_tensor)  # X_seq_tensor — весь датасет батчей\n",
    "    probs = torch.sigmoid(outputs).squeeze()\n",
    "    preds = (probs >= 0.5).long()\n",
    "\n",
    "# 2. Отбираем батчи для последнего дня\n",
    "last_day = df_new_with_kal.index.date.max()\n",
    "# ts_seq — список временных меток для каждого батча (например, первая метка батча)\n",
    "indices_last_day = [i for i, ts in enumerate(ts_seq) if ts.date() == last_day]\n",
    "\n",
    "# 3. Вычисляем среднюю вероятность и класс по последнему дню\n",
    "probs_last_day = probs[indices_last_day]\n",
    "preds_last_day = preds[indices_last_day]\n",
    "avg_prob_last_day = probs_last_day.mean().item()\n",
    "final_class_last_day = 1 if avg_prob_last_day >= 0.5 else 0\n",
    "\n",
    "print(f\"Средняя вероятность роста на последний день: {avg_prob_last_day:.4f}\")\n",
    "print(f\"Предсказанный класс на последний день: {final_class_last_day}\")\n",
    "\n",
    "# 4. Анализ свечных паттернов из df_new_with_kal для последнего дня\n",
    "df_last_day = df_new_with_kal[df_new_with_kal.index.date == last_day]\n",
    "bullish_signals = df_last_day['combined_signal'].sum()  # пример подсчёта\n",
    "\n",
    "# 5. Корректируем итог по паттернам\n",
    "if bullish_signals > len(df_last_day) * 0.6:  # например, если более 60% свечей — бычьи\n",
    "    print(\"Свечные паттерны указывают на рост, корректируем вероятность\")\n",
    "    avg_prob_last_day = min(1.0, avg_prob_last_day + 0.1)\n",
    "    final_class_last_day = 1 if avg_prob_last_day >= 0.5 else 0\n",
    "\n",
    "print(f\"С учётом свечных паттернов вероятность: {avg_prob_last_day:.4f}\")\n",
    "print(f\"Итоговый прогноз на последний день: {'Рост' if final_class_last_day == 1 else 'Падение'}\")"
   ]
  },
  {
   "cell_type": "code",
   "execution_count": 52,
   "id": "95c0f0a7-a804-446f-8152-097c3432c7d1",
   "metadata": {},
   "outputs": [
    {
     "data": {
      "text/html": [
       "<div>\n",
       "<style scoped>\n",
       "    .dataframe tbody tr th:only-of-type {\n",
       "        vertical-align: middle;\n",
       "    }\n",
       "\n",
       "    .dataframe tbody tr th {\n",
       "        vertical-align: top;\n",
       "    }\n",
       "\n",
       "    .dataframe thead th {\n",
       "        text-align: right;\n",
       "    }\n",
       "</style>\n",
       "<table border=\"1\" class=\"dataframe\">\n",
       "  <thead>\n",
       "    <tr style=\"text-align: right;\">\n",
       "      <th></th>\n",
       "      <th>Open</th>\n",
       "      <th>High</th>\n",
       "      <th>Low</th>\n",
       "      <th>Close</th>\n",
       "      <th>Volume</th>\n",
       "      <th>Quote asset volume</th>\n",
       "      <th>Number of trades</th>\n",
       "      <th>Taker buy base asset volume</th>\n",
       "      <th>Taker buy quote asset volume</th>\n",
       "      <th>sma_1d</th>\n",
       "      <th>...</th>\n",
       "      <th>momentum_lag1</th>\n",
       "      <th>momentum_lag2</th>\n",
       "      <th>momentum_lag3</th>\n",
       "      <th>cmf_lag1</th>\n",
       "      <th>cmf_lag2</th>\n",
       "      <th>cmf_lag3</th>\n",
       "      <th>future_return</th>\n",
       "      <th>target</th>\n",
       "      <th>candle_cluster</th>\n",
       "      <th>combined_signal</th>\n",
       "    </tr>\n",
       "    <tr>\n",
       "      <th>Timestamp</th>\n",
       "      <th></th>\n",
       "      <th></th>\n",
       "      <th></th>\n",
       "      <th></th>\n",
       "      <th></th>\n",
       "      <th></th>\n",
       "      <th></th>\n",
       "      <th></th>\n",
       "      <th></th>\n",
       "      <th></th>\n",
       "      <th></th>\n",
       "      <th></th>\n",
       "      <th></th>\n",
       "      <th></th>\n",
       "      <th></th>\n",
       "      <th></th>\n",
       "      <th></th>\n",
       "      <th></th>\n",
       "      <th></th>\n",
       "      <th></th>\n",
       "      <th></th>\n",
       "    </tr>\n",
       "  </thead>\n",
       "  <tbody>\n",
       "    <tr>\n",
       "      <th>2020-05-11 00:00:00</th>\n",
       "      <td>5,398.69</td>\n",
       "      <td>5,437.34</td>\n",
       "      <td>5,394.51</td>\n",
       "      <td>5,410.82</td>\n",
       "      <td>645.73</td>\n",
       "      <td>10,528,954.94</td>\n",
       "      <td>8989</td>\n",
       "      <td>636.99</td>\n",
       "      <td>5,583,818.86</td>\n",
       "      <td>5,410.82</td>\n",
       "      <td>...</td>\n",
       "      <td>3,331.30</td>\n",
       "      <td>3,331.30</td>\n",
       "      <td>3,331.30</td>\n",
       "      <td>0.05</td>\n",
       "      <td>0.05</td>\n",
       "      <td>0.05</td>\n",
       "      <td>0.61</td>\n",
       "      <td>1</td>\n",
       "      <td>0</td>\n",
       "      <td>0</td>\n",
       "    </tr>\n",
       "    <tr>\n",
       "      <th>2020-05-11 00:15:00</th>\n",
       "      <td>7,473.29</td>\n",
       "      <td>7,512.02</td>\n",
       "      <td>7,462.54</td>\n",
       "      <td>7,487.28</td>\n",
       "      <td>735.77</td>\n",
       "      <td>6,864,492.57</td>\n",
       "      <td>8713</td>\n",
       "      <td>357.29</td>\n",
       "      <td>3,135,830.40</td>\n",
       "      <td>7,487.28</td>\n",
       "      <td>...</td>\n",
       "      <td>3,331.30</td>\n",
       "      <td>3,331.30</td>\n",
       "      <td>3,331.30</td>\n",
       "      <td>0.05</td>\n",
       "      <td>0.05</td>\n",
       "      <td>0.05</td>\n",
       "      <td>0.16</td>\n",
       "      <td>1</td>\n",
       "      <td>0</td>\n",
       "      <td>2</td>\n",
       "    </tr>\n",
       "    <tr>\n",
       "      <th>2020-05-11 00:30:00</th>\n",
       "      <td>8,275.25</td>\n",
       "      <td>8,302.48</td>\n",
       "      <td>8,247.17</td>\n",
       "      <td>8,272.67</td>\n",
       "      <td>779.39</td>\n",
       "      <td>6,544,348.12</td>\n",
       "      <td>9044</td>\n",
       "      <td>329.34</td>\n",
       "      <td>2,891,749.14</td>\n",
       "      <td>8,272.67</td>\n",
       "      <td>...</td>\n",
       "      <td>3,331.30</td>\n",
       "      <td>3,331.30</td>\n",
       "      <td>3,331.30</td>\n",
       "      <td>0.05</td>\n",
       "      <td>0.05</td>\n",
       "      <td>0.05</td>\n",
       "      <td>0.05</td>\n",
       "      <td>1</td>\n",
       "      <td>0</td>\n",
       "      <td>2</td>\n",
       "    </tr>\n",
       "    <tr>\n",
       "      <th>2020-05-11 00:45:00</th>\n",
       "      <td>8,573.62</td>\n",
       "      <td>8,590.27</td>\n",
       "      <td>8,529.02</td>\n",
       "      <td>8,572.16</td>\n",
       "      <td>856.87</td>\n",
       "      <td>9,463,730.78</td>\n",
       "      <td>8832</td>\n",
       "      <td>503.38</td>\n",
       "      <td>4,396,292.27</td>\n",
       "      <td>8,572.16</td>\n",
       "      <td>...</td>\n",
       "      <td>3,331.30</td>\n",
       "      <td>3,331.30</td>\n",
       "      <td>3,331.30</td>\n",
       "      <td>0.05</td>\n",
       "      <td>0.05</td>\n",
       "      <td>0.05</td>\n",
       "      <td>0.02</td>\n",
       "      <td>0</td>\n",
       "      <td>0</td>\n",
       "      <td>2</td>\n",
       "    </tr>\n",
       "    <tr>\n",
       "      <th>2020-05-11 01:00:00</th>\n",
       "      <td>8,687.17</td>\n",
       "      <td>8,698.02</td>\n",
       "      <td>8,643.90</td>\n",
       "      <td>8,673.65</td>\n",
       "      <td>707.50</td>\n",
       "      <td>5,199,193.57</td>\n",
       "      <td>6208</td>\n",
       "      <td>236.29</td>\n",
       "      <td>2,066,803.28</td>\n",
       "      <td>8,673.65</td>\n",
       "      <td>...</td>\n",
       "      <td>3,331.30</td>\n",
       "      <td>3,331.30</td>\n",
       "      <td>3,331.30</td>\n",
       "      <td>0.05</td>\n",
       "      <td>0.05</td>\n",
       "      <td>0.05</td>\n",
       "      <td>0.01</td>\n",
       "      <td>0</td>\n",
       "      <td>0</td>\n",
       "      <td>2</td>\n",
       "    </tr>\n",
       "    <tr>\n",
       "      <th>...</th>\n",
       "      <td>...</td>\n",
       "      <td>...</td>\n",
       "      <td>...</td>\n",
       "      <td>...</td>\n",
       "      <td>...</td>\n",
       "      <td>...</td>\n",
       "      <td>...</td>\n",
       "      <td>...</td>\n",
       "      <td>...</td>\n",
       "      <td>...</td>\n",
       "      <td>...</td>\n",
       "      <td>...</td>\n",
       "      <td>...</td>\n",
       "      <td>...</td>\n",
       "      <td>...</td>\n",
       "      <td>...</td>\n",
       "      <td>...</td>\n",
       "      <td>...</td>\n",
       "      <td>...</td>\n",
       "      <td>...</td>\n",
       "      <td>...</td>\n",
       "    </tr>\n",
       "    <tr>\n",
       "      <th>2025-06-24 23:00:00</th>\n",
       "      <td>105,955.85</td>\n",
       "      <td>105,994.48</td>\n",
       "      <td>105,831.36</td>\n",
       "      <td>105,910.14</td>\n",
       "      <td>58.22</td>\n",
       "      <td>6,587,454.33</td>\n",
       "      <td>17053</td>\n",
       "      <td>30.29</td>\n",
       "      <td>3,208,619.82</td>\n",
       "      <td>105,910.14</td>\n",
       "      <td>...</td>\n",
       "      <td>195.66</td>\n",
       "      <td>333.04</td>\n",
       "      <td>345.70</td>\n",
       "      <td>0.03</td>\n",
       "      <td>0.02</td>\n",
       "      <td>0.04</td>\n",
       "      <td>0.00</td>\n",
       "      <td>0</td>\n",
       "      <td>4</td>\n",
       "      <td>1</td>\n",
       "    </tr>\n",
       "    <tr>\n",
       "      <th>2025-06-24 23:15:00</th>\n",
       "      <td>105,904.51</td>\n",
       "      <td>105,954.72</td>\n",
       "      <td>105,813.55</td>\n",
       "      <td>105,907.77</td>\n",
       "      <td>61.17</td>\n",
       "      <td>5,749,910.45</td>\n",
       "      <td>12214</td>\n",
       "      <td>14.93</td>\n",
       "      <td>1,579,963.57</td>\n",
       "      <td>105,907.77</td>\n",
       "      <td>...</td>\n",
       "      <td>42.42</td>\n",
       "      <td>195.66</td>\n",
       "      <td>333.04</td>\n",
       "      <td>0.05</td>\n",
       "      <td>0.03</td>\n",
       "      <td>0.02</td>\n",
       "      <td>0.00</td>\n",
       "      <td>0</td>\n",
       "      <td>4</td>\n",
       "      <td>1</td>\n",
       "    </tr>\n",
       "    <tr>\n",
       "      <th>2025-06-24 23:30:00</th>\n",
       "      <td>105,893.03</td>\n",
       "      <td>106,005.01</td>\n",
       "      <td>105,834.40</td>\n",
       "      <td>105,975.29</td>\n",
       "      <td>70.97</td>\n",
       "      <td>5,674,537.82</td>\n",
       "      <td>12562</td>\n",
       "      <td>19.19</td>\n",
       "      <td>2,030,985.60</td>\n",
       "      <td>105,975.29</td>\n",
       "      <td>...</td>\n",
       "      <td>-47.46</td>\n",
       "      <td>42.42</td>\n",
       "      <td>195.66</td>\n",
       "      <td>0.07</td>\n",
       "      <td>0.05</td>\n",
       "      <td>0.03</td>\n",
       "      <td>0.00</td>\n",
       "      <td>0</td>\n",
       "      <td>4</td>\n",
       "      <td>2</td>\n",
       "    </tr>\n",
       "    <tr>\n",
       "      <th>2025-06-24 23:45:00</th>\n",
       "      <td>105,936.67</td>\n",
       "      <td>106,125.20</td>\n",
       "      <td>105,885.58</td>\n",
       "      <td>106,110.96</td>\n",
       "      <td>98.13</td>\n",
       "      <td>8,650,085.70</td>\n",
       "      <td>15164</td>\n",
       "      <td>49.90</td>\n",
       "      <td>5,287,993.78</td>\n",
       "      <td>106,110.96</td>\n",
       "      <td>...</td>\n",
       "      <td>64.60</td>\n",
       "      <td>-47.46</td>\n",
       "      <td>42.42</td>\n",
       "      <td>0.12</td>\n",
       "      <td>0.07</td>\n",
       "      <td>0.05</td>\n",
       "      <td>0.00</td>\n",
       "      <td>0</td>\n",
       "      <td>1</td>\n",
       "      <td>4</td>\n",
       "    </tr>\n",
       "    <tr>\n",
       "      <th>2025-06-25 00:00:00</th>\n",
       "      <td>106,009.83</td>\n",
       "      <td>106,287.60</td>\n",
       "      <td>105,953.73</td>\n",
       "      <td>106,274.58</td>\n",
       "      <td>141.80</td>\n",
       "      <td>19,701,544.25</td>\n",
       "      <td>38924</td>\n",
       "      <td>119.56</td>\n",
       "      <td>12,701,495.95</td>\n",
       "      <td>106,274.58</td>\n",
       "      <td>...</td>\n",
       "      <td>168.72</td>\n",
       "      <td>64.60</td>\n",
       "      <td>-47.46</td>\n",
       "      <td>0.22</td>\n",
       "      <td>0.12</td>\n",
       "      <td>0.07</td>\n",
       "      <td>0.00</td>\n",
       "      <td>0</td>\n",
       "      <td>1</td>\n",
       "      <td>4</td>\n",
       "    </tr>\n",
       "  </tbody>\n",
       "</table>\n",
       "<p>179509 rows × 84 columns</p>\n",
       "</div>"
      ],
      "text/plain": [
       "                          Open       High        Low      Close  Volume  \\\n",
       "Timestamp                                                                 \n",
       "2020-05-11 00:00:00   5,398.69   5,437.34   5,394.51   5,410.82  645.73   \n",
       "2020-05-11 00:15:00   7,473.29   7,512.02   7,462.54   7,487.28  735.77   \n",
       "2020-05-11 00:30:00   8,275.25   8,302.48   8,247.17   8,272.67  779.39   \n",
       "2020-05-11 00:45:00   8,573.62   8,590.27   8,529.02   8,572.16  856.87   \n",
       "2020-05-11 01:00:00   8,687.17   8,698.02   8,643.90   8,673.65  707.50   \n",
       "...                        ...        ...        ...        ...     ...   \n",
       "2025-06-24 23:00:00 105,955.85 105,994.48 105,831.36 105,910.14   58.22   \n",
       "2025-06-24 23:15:00 105,904.51 105,954.72 105,813.55 105,907.77   61.17   \n",
       "2025-06-24 23:30:00 105,893.03 106,005.01 105,834.40 105,975.29   70.97   \n",
       "2025-06-24 23:45:00 105,936.67 106,125.20 105,885.58 106,110.96   98.13   \n",
       "2025-06-25 00:00:00 106,009.83 106,287.60 105,953.73 106,274.58  141.80   \n",
       "\n",
       "                     Quote asset volume  Number of trades  \\\n",
       "Timestamp                                                   \n",
       "2020-05-11 00:00:00       10,528,954.94              8989   \n",
       "2020-05-11 00:15:00        6,864,492.57              8713   \n",
       "2020-05-11 00:30:00        6,544,348.12              9044   \n",
       "2020-05-11 00:45:00        9,463,730.78              8832   \n",
       "2020-05-11 01:00:00        5,199,193.57              6208   \n",
       "...                                 ...               ...   \n",
       "2025-06-24 23:00:00        6,587,454.33             17053   \n",
       "2025-06-24 23:15:00        5,749,910.45             12214   \n",
       "2025-06-24 23:30:00        5,674,537.82             12562   \n",
       "2025-06-24 23:45:00        8,650,085.70             15164   \n",
       "2025-06-25 00:00:00       19,701,544.25             38924   \n",
       "\n",
       "                     Taker buy base asset volume  \\\n",
       "Timestamp                                          \n",
       "2020-05-11 00:00:00                       636.99   \n",
       "2020-05-11 00:15:00                       357.29   \n",
       "2020-05-11 00:30:00                       329.34   \n",
       "2020-05-11 00:45:00                       503.38   \n",
       "2020-05-11 01:00:00                       236.29   \n",
       "...                                          ...   \n",
       "2025-06-24 23:00:00                        30.29   \n",
       "2025-06-24 23:15:00                        14.93   \n",
       "2025-06-24 23:30:00                        19.19   \n",
       "2025-06-24 23:45:00                        49.90   \n",
       "2025-06-25 00:00:00                       119.56   \n",
       "\n",
       "                     Taker buy quote asset volume     sma_1d  ...  \\\n",
       "Timestamp                                                     ...   \n",
       "2020-05-11 00:00:00                  5,583,818.86   5,410.82  ...   \n",
       "2020-05-11 00:15:00                  3,135,830.40   7,487.28  ...   \n",
       "2020-05-11 00:30:00                  2,891,749.14   8,272.67  ...   \n",
       "2020-05-11 00:45:00                  4,396,292.27   8,572.16  ...   \n",
       "2020-05-11 01:00:00                  2,066,803.28   8,673.65  ...   \n",
       "...                                           ...        ...  ...   \n",
       "2025-06-24 23:00:00                  3,208,619.82 105,910.14  ...   \n",
       "2025-06-24 23:15:00                  1,579,963.57 105,907.77  ...   \n",
       "2025-06-24 23:30:00                  2,030,985.60 105,975.29  ...   \n",
       "2025-06-24 23:45:00                  5,287,993.78 106,110.96  ...   \n",
       "2025-06-25 00:00:00                 12,701,495.95 106,274.58  ...   \n",
       "\n",
       "                     momentum_lag1  momentum_lag2  momentum_lag3  cmf_lag1  \\\n",
       "Timestamp                                                                    \n",
       "2020-05-11 00:00:00       3,331.30       3,331.30       3,331.30      0.05   \n",
       "2020-05-11 00:15:00       3,331.30       3,331.30       3,331.30      0.05   \n",
       "2020-05-11 00:30:00       3,331.30       3,331.30       3,331.30      0.05   \n",
       "2020-05-11 00:45:00       3,331.30       3,331.30       3,331.30      0.05   \n",
       "2020-05-11 01:00:00       3,331.30       3,331.30       3,331.30      0.05   \n",
       "...                            ...            ...            ...       ...   \n",
       "2025-06-24 23:00:00         195.66         333.04         345.70      0.03   \n",
       "2025-06-24 23:15:00          42.42         195.66         333.04      0.05   \n",
       "2025-06-24 23:30:00         -47.46          42.42         195.66      0.07   \n",
       "2025-06-24 23:45:00          64.60         -47.46          42.42      0.12   \n",
       "2025-06-25 00:00:00         168.72          64.60         -47.46      0.22   \n",
       "\n",
       "                     cmf_lag2  cmf_lag3  future_return  target  \\\n",
       "Timestamp                                                        \n",
       "2020-05-11 00:00:00      0.05      0.05           0.61       1   \n",
       "2020-05-11 00:15:00      0.05      0.05           0.16       1   \n",
       "2020-05-11 00:30:00      0.05      0.05           0.05       1   \n",
       "2020-05-11 00:45:00      0.05      0.05           0.02       0   \n",
       "2020-05-11 01:00:00      0.05      0.05           0.01       0   \n",
       "...                       ...       ...            ...     ...   \n",
       "2025-06-24 23:00:00      0.02      0.04           0.00       0   \n",
       "2025-06-24 23:15:00      0.03      0.02           0.00       0   \n",
       "2025-06-24 23:30:00      0.05      0.03           0.00       0   \n",
       "2025-06-24 23:45:00      0.07      0.05           0.00       0   \n",
       "2025-06-25 00:00:00      0.12      0.07           0.00       0   \n",
       "\n",
       "                     candle_cluster  combined_signal  \n",
       "Timestamp                                             \n",
       "2020-05-11 00:00:00               0                0  \n",
       "2020-05-11 00:15:00               0                2  \n",
       "2020-05-11 00:30:00               0                2  \n",
       "2020-05-11 00:45:00               0                2  \n",
       "2020-05-11 01:00:00               0                2  \n",
       "...                             ...              ...  \n",
       "2025-06-24 23:00:00               4                1  \n",
       "2025-06-24 23:15:00               4                1  \n",
       "2025-06-24 23:30:00               4                2  \n",
       "2025-06-24 23:45:00               1                4  \n",
       "2025-06-25 00:00:00               1                4  \n",
       "\n",
       "[179509 rows x 84 columns]"
      ]
     },
     "execution_count": 52,
     "metadata": {},
     "output_type": "execute_result"
    }
   ],
   "source": [
    "btc_with_ta"
   ]
  },
  {
   "cell_type": "code",
   "execution_count": null,
   "id": "1896bf0c-a130-4b55-bc27-2d73fef72e47",
   "metadata": {},
   "outputs": [],
   "source": []
  },
  {
   "cell_type": "code",
   "execution_count": 4,
   "id": "561c782d-9e94-496a-a300-1728526ef524",
   "metadata": {},
   "outputs": [
    {
     "name": "stdout",
     "output_type": "stream",
     "text": [
      "Shape after cleaning: (179509, 75)\n"
     ]
    }
   ],
   "source": [
    "# Удаляем ненужные колонки\n",
    "df_clean = btc_with_ta.drop(columns=['future_return', 'High', 'Close', 'Low', 'Open', 'Quote asset volume', 'Number of trades', 'Taker buy base asset volume', 'Taker buy quote asset volume']).copy()\n",
    "\n",
    "# Удаляем inf и NaN\n",
    "df_clean = df_clean.replace([np.inf, -np.inf], np.nan).dropna()\n",
    "\n",
    "# Проверим размерность\n",
    "print(\"Shape after cleaning:\", df_clean.shape)"
   ]
  },
  {
   "cell_type": "code",
   "execution_count": 5,
   "id": "75da5ad6-8dae-4f9a-9cd9-bc13e4314555",
   "metadata": {},
   "outputs": [
    {
     "data": {
      "text/plain": [
       "['scaler_ttf.save']"
      ]
     },
     "execution_count": 5,
     "metadata": {},
     "output_type": "execute_result"
    }
   ],
   "source": [
    "# Целевая переменная\n",
    "y = df_clean['target'].values.astype(np.float32)\n",
    "\n",
    "# Признаки\n",
    "X = df_clean.drop(columns=['target']).values\n",
    "\n",
    "# Масштабируем\n",
    "scaler_ttf = StandardScaler()\n",
    "X_scaled_ttf = scaler_ttf.fit_transform(X)\n",
    "joblib.dump(scaler_ttf, 'scaler_ttf.save')\n"
   ]
  },
  {
   "cell_type": "code",
   "execution_count": 6,
   "id": "870f844b-6bca-42a4-a307-bf3dcd30f652",
   "metadata": {},
   "outputs": [],
   "source": [
    "class SequenceDataset(Dataset):\n",
    "    def __init__(self, X, y, timesteps, horizon=1, timestamps=None):\n",
    "        self.X = X\n",
    "        self.y = y\n",
    "        self.timesteps = timesteps\n",
    "        self.horizon = horizon\n",
    "        self.timestamps = timestamps if timestamps is not None else range(len(X))\n",
    "\n",
    "    def __len__(self):\n",
    "        return len(self.X) - self.timesteps - self.horizon + 1\n",
    "\n",
    "    def __getitem__(self, idx):\n",
    "        x_seq = self.X[idx:idx + self.timesteps]\n",
    "        y_val = self.y[idx + self.timesteps + self.horizon - 1]\n",
    "        timestamp = self.timestamps[idx + self.timesteps + self.horizon - 1]\n",
    "        return torch.tensor(x_seq, dtype=torch.float32), torch.tensor(y_val, dtype=torch.float32), timestamp"
   ]
  },
  {
   "cell_type": "code",
   "execution_count": 7,
   "id": "8675a0ff-a8c0-4fc7-bffe-292458c3986b",
   "metadata": {},
   "outputs": [],
   "source": [
    "# --- Данные ---\n",
    "TIMESTEPS = 672\n",
    "HORIZON = 1\n",
    "BATCH_SIZE = 128\n",
    "\n",
    "dataset = SequenceDataset(X_scaled_ttf, y, TIMESTEPS, HORIZON, timestamps=df_clean.index)"
   ]
  },
  {
   "cell_type": "code",
   "execution_count": 8,
   "id": "9e5ca21d-d3d4-4555-ae61-5ac6e29c58e8",
   "metadata": {},
   "outputs": [],
   "source": [
    "# --- Разделение на train/val/test ---\n",
    "\n",
    "# --- Разбиение ---\n",
    "total_len = len(dataset)\n",
    "train_len = int(0.6 * total_len)\n",
    "val_len = int(0.2 * total_len)\n",
    "test_len = total_len - train_len - val_len\n",
    "\n",
    "train_ds, val_ds, test_ds = random_split(dataset, [train_len, val_len, test_len], generator=torch.Generator().manual_seed(42))\n"
   ]
  },
  {
   "cell_type": "code",
   "execution_count": 9,
   "id": "bb345ac0-5e4c-4606-9830-98536866090e",
   "metadata": {},
   "outputs": [],
   "source": [
    "class BTCWindowDataset(Dataset):\n",
    "    def __init__(self, df, encoder_length, prediction_length):\n",
    "        self.encoder_length = encoder_length\n",
    "        self.prediction_length = prediction_length\n",
    "        self.df = df.reset_index(drop=True)\n",
    "\n",
    "    def __len__(self):\n",
    "        return len(self.df) - self.encoder_length - self.prediction_length\n",
    "\n",
    "    def __getitem__(self, idx):\n",
    "        x = self.df.iloc[idx : idx + self.encoder_length]\n",
    "        y = self.df.iloc[idx + self.encoder_length : idx + self.encoder_length + self.prediction_length]\n",
    "    \n",
    "        # Оставляем только числовые колонки, исключая 'target'\n",
    "        x = x.select_dtypes(include=[np.number]).drop(columns=['target'], errors='ignore').fillna(0)\n",
    "    \n",
    "        x_tensor = torch.tensor(x.values, dtype=torch.float)\n",
    "        y_tensor = torch.tensor(y['target'].values, dtype=torch.float)\n",
    "    \n",
    "        return x_tensor, y_tensor\n"
   ]
  },
  {
   "cell_type": "code",
   "execution_count": 10,
   "id": "a1d4d4cf-05a7-4bc3-890a-f31f9aa55d85",
   "metadata": {},
   "outputs": [],
   "source": [
    "train_dl = DataLoader(train_ds, batch_size=BATCH_SIZE, shuffle=True, num_workers=4)\n",
    "val_dl = DataLoader(val_ds, batch_size=BATCH_SIZE, num_workers=4)\n",
    "test_dl = DataLoader(test_ds, batch_size=BATCH_SIZE, num_workers=4)"
   ]
  },
  {
   "cell_type": "code",
   "execution_count": 11,
   "id": "e9ff4822-d82d-4ce6-ac77-79fd760802fd",
   "metadata": {},
   "outputs": [
    {
     "name": "stdout",
     "output_type": "stream",
     "text": [
      "Batch X shape: torch.Size([128, 672, 74])\n",
      "Input size for model: 74\n"
     ]
    }
   ],
   "source": [
    "for x_batch, y_batch, ts_seq in train_dl:\n",
    "    print(\"Batch X shape:\", x_batch.shape)  # (batch_size, timesteps, features)\n",
    "    break\n",
    "\n",
    "input_size = x_batch.shape[2]\n",
    "print(\"Input size for model:\", input_size)"
   ]
  },
  {
   "cell_type": "code",
   "execution_count": 12,
   "id": "ffd6ec28-851c-42a1-996b-4bfd91ffa894",
   "metadata": {},
   "outputs": [],
   "source": [
    "class TransformerBinaryClassifier(LightningModule):\n",
    "    def __init__(self, input_size, d_model=64, nhead=4, num_layers=2, lr=1e-3):\n",
    "        super().__init__()\n",
    "        self.save_hyperparameters()\n",
    "\n",
    "        self.embedding = nn.Linear(input_size, d_model)\n",
    "        encoder_layer = nn.TransformerEncoderLayer(d_model=d_model, nhead=nhead)\n",
    "        self.transformer = nn.TransformerEncoder(encoder_layer, num_layers=num_layers)\n",
    "        self.fc_out = nn.Linear(d_model, 1)\n",
    "        self.lr = lr\n",
    "\n",
    "    def forward(self, x):\n",
    "        # x: (batch, seq_len, features)\n",
    "        x = self.embedding(x)\n",
    "        x = x.permute(1, 0, 2)  # (seq_len, batch, d_model)\n",
    "        x = self.transformer(x)\n",
    "        out = self.fc_out(x[-1])  # берем выход последнего шага последовательности\n",
    "        return out.squeeze(-1)\n",
    "\n",
    "    def training_step(self, batch, batch_idx):\n",
    "        x, y, _ = batch\n",
    "        x = x.float()  # принудительно\n",
    "        y_hat = self(x)\n",
    "        loss = F.binary_cross_entropy_with_logits(y_hat, y)\n",
    "        self.log('train_loss', loss, on_step=True, on_epoch=True, prog_bar=True, logger=True)\n",
    "\n",
    "        return loss\n",
    "    \n",
    "    def validation_step(self, batch, batch_idx):\n",
    "        x, y, _ = batch\n",
    "        x = x.float()\n",
    "        y_hat = self(x)\n",
    "        loss = F.binary_cross_entropy_with_logits(y_hat, y)\n",
    "        self.log('val_loss', loss, on_step=True, on_epoch=True, prog_bar=True, logger=True)\n",
    "        return loss\n",
    "\n",
    "    def test_step(self, batch, batch_idx):\n",
    "        x, y, _ = batch\n",
    "        x = x.float()\n",
    "        y_hat = self(x)\n",
    "        loss = F.binary_cross_entropy_with_logits(y_hat, y)\n",
    "        self.log(\"test_loss\", loss)\n",
    "        # можно вернуть предсказания, если нужно\n",
    "        return loss\n",
    "\n",
    "    def configure_optimizers(self):\n",
    "        return torch.optim.Adam(self.parameters(), lr=self.lr)"
   ]
  },
  {
   "cell_type": "code",
   "execution_count": 13,
   "id": "2066ba1c-c986-4b10-9d9e-b7d1b1ff651f",
   "metadata": {},
   "outputs": [
    {
     "name": "stderr",
     "output_type": "stream",
     "text": [
      "💡 Tip: For seamless cloud uploads and versioning, try installing [litmodels](https://pypi.org/project/litmodels/) to enable LitModelCheckpoint, which syncs automatically with the Lightning model registry.\n",
      "GPU available: True (cuda), used: True\n",
      "TPU available: False, using: 0 TPU cores\n",
      "HPU available: False, using: 0 HPUs\n",
      "LOCAL_RANK: 0 - CUDA_VISIBLE_DEVICES: [0]\n",
      "\n",
      "  | Name        | Type               | Params | Mode \n",
      "-----------------------------------------------------------\n",
      "0 | embedding   | Linear             | 4.8 K  | train\n",
      "1 | transformer | TransformerEncoder | 562 K  | train\n",
      "2 | fc_out      | Linear             | 65     | train\n",
      "-----------------------------------------------------------\n",
      "567 K     Trainable params\n",
      "0         Non-trainable params\n",
      "567 K     Total params\n",
      "2.269     Total estimated model params size (MB)\n",
      "24        Modules in train mode\n",
      "0         Modules in eval mode\n"
     ]
    },
    {
     "data": {
      "application/vnd.jupyter.widget-view+json": {
       "model_id": "07c4a2f03d524ba894843dc3d89800b2",
       "version_major": 2,
       "version_minor": 0
      },
      "text/plain": [
       "Sanity Checking: |                                                                                            …"
      ]
     },
     "metadata": {},
     "output_type": "display_data"
    },
    {
     "data": {
      "application/vnd.jupyter.widget-view+json": {
       "model_id": "3f94ac548fc74d32a38e838d86bd35a5",
       "version_major": 2,
       "version_minor": 0
      },
      "text/plain": [
       "Training: |                                                                                                   …"
      ]
     },
     "metadata": {},
     "output_type": "display_data"
    },
    {
     "data": {
      "application/vnd.jupyter.widget-view+json": {
       "model_id": "74adb90f35ea4ef298efaaba645853ca",
       "version_major": 2,
       "version_minor": 0
      },
      "text/plain": [
       "Validation: |                                                                                                 …"
      ]
     },
     "metadata": {},
     "output_type": "display_data"
    },
    {
     "data": {
      "application/vnd.jupyter.widget-view+json": {
       "model_id": "24c63ad817ec4921aa92fcf37f3deeb8",
       "version_major": 2,
       "version_minor": 0
      },
      "text/plain": [
       "Validation: |                                                                                                 …"
      ]
     },
     "metadata": {},
     "output_type": "display_data"
    },
    {
     "data": {
      "application/vnd.jupyter.widget-view+json": {
       "model_id": "30867af4384b4c4cbbd407f662eef64e",
       "version_major": 2,
       "version_minor": 0
      },
      "text/plain": [
       "Validation: |                                                                                                 …"
      ]
     },
     "metadata": {},
     "output_type": "display_data"
    },
    {
     "data": {
      "application/vnd.jupyter.widget-view+json": {
       "model_id": "3e97f2424b2e498cb45580c768c5c66c",
       "version_major": 2,
       "version_minor": 0
      },
      "text/plain": [
       "Validation: |                                                                                                 …"
      ]
     },
     "metadata": {},
     "output_type": "display_data"
    },
    {
     "data": {
      "application/vnd.jupyter.widget-view+json": {
       "model_id": "538f458dd09e4d85a423bb84be5e55d6",
       "version_major": 2,
       "version_minor": 0
      },
      "text/plain": [
       "Validation: |                                                                                                 …"
      ]
     },
     "metadata": {},
     "output_type": "display_data"
    },
    {
     "data": {
      "application/vnd.jupyter.widget-view+json": {
       "model_id": "58c5df0b3a4c4989aed66729b208b6c6",
       "version_major": 2,
       "version_minor": 0
      },
      "text/plain": [
       "Validation: |                                                                                                 …"
      ]
     },
     "metadata": {},
     "output_type": "display_data"
    },
    {
     "data": {
      "application/vnd.jupyter.widget-view+json": {
       "model_id": "d142ee446c234c9c8dfd3fc770940ddb",
       "version_major": 2,
       "version_minor": 0
      },
      "text/plain": [
       "Validation: |                                                                                                 …"
      ]
     },
     "metadata": {},
     "output_type": "display_data"
    },
    {
     "data": {
      "application/vnd.jupyter.widget-view+json": {
       "model_id": "04c27f3602c54a6ea89d1a9274efa5e9",
       "version_major": 2,
       "version_minor": 0
      },
      "text/plain": [
       "Validation: |                                                                                                 …"
      ]
     },
     "metadata": {},
     "output_type": "display_data"
    },
    {
     "data": {
      "application/vnd.jupyter.widget-view+json": {
       "model_id": "53a200af8e3a40469f275b8b9d5f62d7",
       "version_major": 2,
       "version_minor": 0
      },
      "text/plain": [
       "Validation: |                                                                                                 …"
      ]
     },
     "metadata": {},
     "output_type": "display_data"
    },
    {
     "data": {
      "application/vnd.jupyter.widget-view+json": {
       "model_id": "e3408c2f3338452da33c2d86d5f1df7b",
       "version_major": 2,
       "version_minor": 0
      },
      "text/plain": [
       "Validation: |                                                                                                 …"
      ]
     },
     "metadata": {},
     "output_type": "display_data"
    },
    {
     "data": {
      "application/vnd.jupyter.widget-view+json": {
       "model_id": "912299ff5d504be281c8fa766c40c20b",
       "version_major": 2,
       "version_minor": 0
      },
      "text/plain": [
       "Validation: |                                                                                                 …"
      ]
     },
     "metadata": {},
     "output_type": "display_data"
    },
    {
     "data": {
      "application/vnd.jupyter.widget-view+json": {
       "model_id": "bd498b69ae5844b98e8ea8fd7b42c8f0",
       "version_major": 2,
       "version_minor": 0
      },
      "text/plain": [
       "Validation: |                                                                                                 …"
      ]
     },
     "metadata": {},
     "output_type": "display_data"
    },
    {
     "data": {
      "application/vnd.jupyter.widget-view+json": {
       "model_id": "1aa8caf70d7440e3b09e95808f512b58",
       "version_major": 2,
       "version_minor": 0
      },
      "text/plain": [
       "Validation: |                                                                                                 …"
      ]
     },
     "metadata": {},
     "output_type": "display_data"
    },
    {
     "data": {
      "application/vnd.jupyter.widget-view+json": {
       "model_id": "3c4979f83bd94a1ba40050d3e79316cf",
       "version_major": 2,
       "version_minor": 0
      },
      "text/plain": [
       "Validation: |                                                                                                 …"
      ]
     },
     "metadata": {},
     "output_type": "display_data"
    },
    {
     "data": {
      "application/vnd.jupyter.widget-view+json": {
       "model_id": "217a0af676624a7dbcbeddb57b33be12",
       "version_major": 2,
       "version_minor": 0
      },
      "text/plain": [
       "Validation: |                                                                                                 …"
      ]
     },
     "metadata": {},
     "output_type": "display_data"
    },
    {
     "data": {
      "application/vnd.jupyter.widget-view+json": {
       "model_id": "4a35af01f01441afaea11c268e184f8b",
       "version_major": 2,
       "version_minor": 0
      },
      "text/plain": [
       "Validation: |                                                                                                 …"
      ]
     },
     "metadata": {},
     "output_type": "display_data"
    },
    {
     "data": {
      "application/vnd.jupyter.widget-view+json": {
       "model_id": "626c3d0c48eb4a22af0dabdb3b14921c",
       "version_major": 2,
       "version_minor": 0
      },
      "text/plain": [
       "Validation: |                                                                                                 …"
      ]
     },
     "metadata": {},
     "output_type": "display_data"
    },
    {
     "data": {
      "application/vnd.jupyter.widget-view+json": {
       "model_id": "54dc70a4071e4cccac2c21154ba80520",
       "version_major": 2,
       "version_minor": 0
      },
      "text/plain": [
       "Validation: |                                                                                                 …"
      ]
     },
     "metadata": {},
     "output_type": "display_data"
    },
    {
     "data": {
      "application/vnd.jupyter.widget-view+json": {
       "model_id": "62cc836e78ad48d2810c1ea7c49088be",
       "version_major": 2,
       "version_minor": 0
      },
      "text/plain": [
       "Validation: |                                                                                                 …"
      ]
     },
     "metadata": {},
     "output_type": "display_data"
    },
    {
     "data": {
      "application/vnd.jupyter.widget-view+json": {
       "model_id": "fe9852db16854e6abc109e775deaddf8",
       "version_major": 2,
       "version_minor": 0
      },
      "text/plain": [
       "Validation: |                                                                                                 …"
      ]
     },
     "metadata": {},
     "output_type": "display_data"
    },
    {
     "data": {
      "application/vnd.jupyter.widget-view+json": {
       "model_id": "b84cef9136514e3fb1e459648a9decc0",
       "version_major": 2,
       "version_minor": 0
      },
      "text/plain": [
       "Validation: |                                                                                                 …"
      ]
     },
     "metadata": {},
     "output_type": "display_data"
    },
    {
     "data": {
      "application/vnd.jupyter.widget-view+json": {
       "model_id": "0bb9135e70a642c38b16f95de79fcd3d",
       "version_major": 2,
       "version_minor": 0
      },
      "text/plain": [
       "Validation: |                                                                                                 …"
      ]
     },
     "metadata": {},
     "output_type": "display_data"
    },
    {
     "data": {
      "application/vnd.jupyter.widget-view+json": {
       "model_id": "926ba01fc4004b65b2f86f4573b5c354",
       "version_major": 2,
       "version_minor": 0
      },
      "text/plain": [
       "Validation: |                                                                                                 …"
      ]
     },
     "metadata": {},
     "output_type": "display_data"
    },
    {
     "data": {
      "application/vnd.jupyter.widget-view+json": {
       "model_id": "dfb7bfbcf6064aa59a9924ef0bcbf160",
       "version_major": 2,
       "version_minor": 0
      },
      "text/plain": [
       "Validation: |                                                                                                 …"
      ]
     },
     "metadata": {},
     "output_type": "display_data"
    },
    {
     "data": {
      "application/vnd.jupyter.widget-view+json": {
       "model_id": "1a8964469b8943daa69d1091c4cd7488",
       "version_major": 2,
       "version_minor": 0
      },
      "text/plain": [
       "Validation: |                                                                                                 …"
      ]
     },
     "metadata": {},
     "output_type": "display_data"
    },
    {
     "data": {
      "application/vnd.jupyter.widget-view+json": {
       "model_id": "4d3f6baff4a04877a7ee3a67b2e08882",
       "version_major": 2,
       "version_minor": 0
      },
      "text/plain": [
       "Validation: |                                                                                                 …"
      ]
     },
     "metadata": {},
     "output_type": "display_data"
    },
    {
     "data": {
      "application/vnd.jupyter.widget-view+json": {
       "model_id": "a475901f17484f8286059828aee9190e",
       "version_major": 2,
       "version_minor": 0
      },
      "text/plain": [
       "Validation: |                                                                                                 …"
      ]
     },
     "metadata": {},
     "output_type": "display_data"
    },
    {
     "data": {
      "application/vnd.jupyter.widget-view+json": {
       "model_id": "0ac30f10467d4578b3f91479254a5ade",
       "version_major": 2,
       "version_minor": 0
      },
      "text/plain": [
       "Validation: |                                                                                                 …"
      ]
     },
     "metadata": {},
     "output_type": "display_data"
    },
    {
     "data": {
      "application/vnd.jupyter.widget-view+json": {
       "model_id": "99bd2e801ccd4318bb83f330fb8de735",
       "version_major": 2,
       "version_minor": 0
      },
      "text/plain": [
       "Validation: |                                                                                                 …"
      ]
     },
     "metadata": {},
     "output_type": "display_data"
    },
    {
     "data": {
      "application/vnd.jupyter.widget-view+json": {
       "model_id": "b49af3880a2a44cfa37fbd1d484b3254",
       "version_major": 2,
       "version_minor": 0
      },
      "text/plain": [
       "Validation: |                                                                                                 …"
      ]
     },
     "metadata": {},
     "output_type": "display_data"
    },
    {
     "data": {
      "application/vnd.jupyter.widget-view+json": {
       "model_id": "6ff5d19ac418477c8b20a00b4963f4f4",
       "version_major": 2,
       "version_minor": 0
      },
      "text/plain": [
       "Validation: |                                                                                                 …"
      ]
     },
     "metadata": {},
     "output_type": "display_data"
    },
    {
     "data": {
      "application/vnd.jupyter.widget-view+json": {
       "model_id": "b9ca945dc79a4c1db25c63e41dc157e7",
       "version_major": 2,
       "version_minor": 0
      },
      "text/plain": [
       "Validation: |                                                                                                 …"
      ]
     },
     "metadata": {},
     "output_type": "display_data"
    },
    {
     "data": {
      "application/vnd.jupyter.widget-view+json": {
       "model_id": "6f67ed89e05b4aeb9ba249fc2b06399f",
       "version_major": 2,
       "version_minor": 0
      },
      "text/plain": [
       "Validation: |                                                                                                 …"
      ]
     },
     "metadata": {},
     "output_type": "display_data"
    },
    {
     "data": {
      "application/vnd.jupyter.widget-view+json": {
       "model_id": "0de15630cbb64c859383c37602f5950f",
       "version_major": 2,
       "version_minor": 0
      },
      "text/plain": [
       "Validation: |                                                                                                 …"
      ]
     },
     "metadata": {},
     "output_type": "display_data"
    },
    {
     "data": {
      "application/vnd.jupyter.widget-view+json": {
       "model_id": "7ee5645f526c469581ab6ad29242c822",
       "version_major": 2,
       "version_minor": 0
      },
      "text/plain": [
       "Validation: |                                                                                                 …"
      ]
     },
     "metadata": {},
     "output_type": "display_data"
    },
    {
     "data": {
      "application/vnd.jupyter.widget-view+json": {
       "model_id": "9d4c53011d004028b14fdffba9401521",
       "version_major": 2,
       "version_minor": 0
      },
      "text/plain": [
       "Validation: |                                                                                                 …"
      ]
     },
     "metadata": {},
     "output_type": "display_data"
    },
    {
     "data": {
      "application/vnd.jupyter.widget-view+json": {
       "model_id": "a643d7b93c0f49eabeafe42e91aa4333",
       "version_major": 2,
       "version_minor": 0
      },
      "text/plain": [
       "Validation: |                                                                                                 …"
      ]
     },
     "metadata": {},
     "output_type": "display_data"
    },
    {
     "data": {
      "application/vnd.jupyter.widget-view+json": {
       "model_id": "0b74195029004737a6c4b0ceadf92ad1",
       "version_major": 2,
       "version_minor": 0
      },
      "text/plain": [
       "Validation: |                                                                                                 …"
      ]
     },
     "metadata": {},
     "output_type": "display_data"
    },
    {
     "data": {
      "application/vnd.jupyter.widget-view+json": {
       "model_id": "433b05243f764cc388cacce57334a9cf",
       "version_major": 2,
       "version_minor": 0
      },
      "text/plain": [
       "Validation: |                                                                                                 …"
      ]
     },
     "metadata": {},
     "output_type": "display_data"
    },
    {
     "data": {
      "application/vnd.jupyter.widget-view+json": {
       "model_id": "52849929c8fc4562a314da7d4d69e91c",
       "version_major": 2,
       "version_minor": 0
      },
      "text/plain": [
       "Validation: |                                                                                                 …"
      ]
     },
     "metadata": {},
     "output_type": "display_data"
    },
    {
     "data": {
      "application/vnd.jupyter.widget-view+json": {
       "model_id": "48476d62a99f45b2a59cc3b613da1b18",
       "version_major": 2,
       "version_minor": 0
      },
      "text/plain": [
       "Validation: |                                                                                                 …"
      ]
     },
     "metadata": {},
     "output_type": "display_data"
    },
    {
     "data": {
      "application/vnd.jupyter.widget-view+json": {
       "model_id": "4f3d1cc080d44e8d8c7424db5a09bd0e",
       "version_major": 2,
       "version_minor": 0
      },
      "text/plain": [
       "Validation: |                                                                                                 …"
      ]
     },
     "metadata": {},
     "output_type": "display_data"
    },
    {
     "data": {
      "application/vnd.jupyter.widget-view+json": {
       "model_id": "a653e1e875d24a3f9f4c311d63ca1a18",
       "version_major": 2,
       "version_minor": 0
      },
      "text/plain": [
       "Validation: |                                                                                                 …"
      ]
     },
     "metadata": {},
     "output_type": "display_data"
    },
    {
     "data": {
      "application/vnd.jupyter.widget-view+json": {
       "model_id": "2fc0d4f4a50d4cd39dbda5f2cbbec6c5",
       "version_major": 2,
       "version_minor": 0
      },
      "text/plain": [
       "Validation: |                                                                                                 …"
      ]
     },
     "metadata": {},
     "output_type": "display_data"
    },
    {
     "data": {
      "application/vnd.jupyter.widget-view+json": {
       "model_id": "d642e97be4c94ef5ad62ed32e70d1e3d",
       "version_major": 2,
       "version_minor": 0
      },
      "text/plain": [
       "Validation: |                                                                                                 …"
      ]
     },
     "metadata": {},
     "output_type": "display_data"
    },
    {
     "data": {
      "application/vnd.jupyter.widget-view+json": {
       "model_id": "47afff44c79d47b59bc2d1ca02563270",
       "version_major": 2,
       "version_minor": 0
      },
      "text/plain": [
       "Validation: |                                                                                                 …"
      ]
     },
     "metadata": {},
     "output_type": "display_data"
    },
    {
     "data": {
      "application/vnd.jupyter.widget-view+json": {
       "model_id": "b3f1a575aec048539b6256c9bd2720bc",
       "version_major": 2,
       "version_minor": 0
      },
      "text/plain": [
       "Validation: |                                                                                                 …"
      ]
     },
     "metadata": {},
     "output_type": "display_data"
    },
    {
     "data": {
      "application/vnd.jupyter.widget-view+json": {
       "model_id": "fec048cd477c4d3f864825e2e5883b7a",
       "version_major": 2,
       "version_minor": 0
      },
      "text/plain": [
       "Validation: |                                                                                                 …"
      ]
     },
     "metadata": {},
     "output_type": "display_data"
    },
    {
     "data": {
      "application/vnd.jupyter.widget-view+json": {
       "model_id": "48e1b46f28744fbcab2e85b10beb50b1",
       "version_major": 2,
       "version_minor": 0
      },
      "text/plain": [
       "Validation: |                                                                                                 …"
      ]
     },
     "metadata": {},
     "output_type": "display_data"
    },
    {
     "data": {
      "application/vnd.jupyter.widget-view+json": {
       "model_id": "1788308346274042af01eb84e7a51760",
       "version_major": 2,
       "version_minor": 0
      },
      "text/plain": [
       "Validation: |                                                                                                 …"
      ]
     },
     "metadata": {},
     "output_type": "display_data"
    },
    {
     "data": {
      "application/vnd.jupyter.widget-view+json": {
       "model_id": "2aa56c5427bd42249aca0f0b76bbcadd",
       "version_major": 2,
       "version_minor": 0
      },
      "text/plain": [
       "Validation: |                                                                                                 …"
      ]
     },
     "metadata": {},
     "output_type": "display_data"
    },
    {
     "data": {
      "application/vnd.jupyter.widget-view+json": {
       "model_id": "909a9de745984347ae4a02b7a522cf4f",
       "version_major": 2,
       "version_minor": 0
      },
      "text/plain": [
       "Validation: |                                                                                                 …"
      ]
     },
     "metadata": {},
     "output_type": "display_data"
    },
    {
     "data": {
      "application/vnd.jupyter.widget-view+json": {
       "model_id": "ea121e0914da488da8b518551b31c410",
       "version_major": 2,
       "version_minor": 0
      },
      "text/plain": [
       "Validation: |                                                                                                 …"
      ]
     },
     "metadata": {},
     "output_type": "display_data"
    },
    {
     "data": {
      "application/vnd.jupyter.widget-view+json": {
       "model_id": "a2821a04754e4e6ea7a3351fb856e151",
       "version_major": 2,
       "version_minor": 0
      },
      "text/plain": [
       "Validation: |                                                                                                 …"
      ]
     },
     "metadata": {},
     "output_type": "display_data"
    },
    {
     "data": {
      "application/vnd.jupyter.widget-view+json": {
       "model_id": "8ee9e215f7724acbbcd6af30bbb5c70a",
       "version_major": 2,
       "version_minor": 0
      },
      "text/plain": [
       "Validation: |                                                                                                 …"
      ]
     },
     "metadata": {},
     "output_type": "display_data"
    },
    {
     "data": {
      "application/vnd.jupyter.widget-view+json": {
       "model_id": "2704df200b74475c9c6a83f10a0b8e97",
       "version_major": 2,
       "version_minor": 0
      },
      "text/plain": [
       "Validation: |                                                                                                 …"
      ]
     },
     "metadata": {},
     "output_type": "display_data"
    },
    {
     "data": {
      "application/vnd.jupyter.widget-view+json": {
       "model_id": "6e0f6e9dea424f42918cac79c2c458a9",
       "version_major": 2,
       "version_minor": 0
      },
      "text/plain": [
       "Validation: |                                                                                                 …"
      ]
     },
     "metadata": {},
     "output_type": "display_data"
    },
    {
     "data": {
      "application/vnd.jupyter.widget-view+json": {
       "model_id": "2c2e151e23fd4d67b987c265a420f679",
       "version_major": 2,
       "version_minor": 0
      },
      "text/plain": [
       "Validation: |                                                                                                 …"
      ]
     },
     "metadata": {},
     "output_type": "display_data"
    },
    {
     "data": {
      "application/vnd.jupyter.widget-view+json": {
       "model_id": "ce2d6ded42ab4434a0811e8f796d0fe1",
       "version_major": 2,
       "version_minor": 0
      },
      "text/plain": [
       "Validation: |                                                                                                 …"
      ]
     },
     "metadata": {},
     "output_type": "display_data"
    },
    {
     "data": {
      "application/vnd.jupyter.widget-view+json": {
       "model_id": "e300930f9a924ad889ef4a69c0504400",
       "version_major": 2,
       "version_minor": 0
      },
      "text/plain": [
       "Validation: |                                                                                                 …"
      ]
     },
     "metadata": {},
     "output_type": "display_data"
    },
    {
     "data": {
      "application/vnd.jupyter.widget-view+json": {
       "model_id": "ab2422c709ba40abb7a0131136c851c5",
       "version_major": 2,
       "version_minor": 0
      },
      "text/plain": [
       "Validation: |                                                                                                 …"
      ]
     },
     "metadata": {},
     "output_type": "display_data"
    },
    {
     "data": {
      "application/vnd.jupyter.widget-view+json": {
       "model_id": "1bca0f1e0fe14d139747ccdce9b5eed5",
       "version_major": 2,
       "version_minor": 0
      },
      "text/plain": [
       "Validation: |                                                                                                 …"
      ]
     },
     "metadata": {},
     "output_type": "display_data"
    },
    {
     "data": {
      "application/vnd.jupyter.widget-view+json": {
       "model_id": "dfa0dc305cd2438784ec49207655f388",
       "version_major": 2,
       "version_minor": 0
      },
      "text/plain": [
       "Validation: |                                                                                                 …"
      ]
     },
     "metadata": {},
     "output_type": "display_data"
    },
    {
     "data": {
      "application/vnd.jupyter.widget-view+json": {
       "model_id": "6d3ff4e925c94a7d9d61ad30b2ca9cdf",
       "version_major": 2,
       "version_minor": 0
      },
      "text/plain": [
       "Validation: |                                                                                                 …"
      ]
     },
     "metadata": {},
     "output_type": "display_data"
    },
    {
     "data": {
      "application/vnd.jupyter.widget-view+json": {
       "model_id": "1a678fb35fb443409c75f92c84d48ef8",
       "version_major": 2,
       "version_minor": 0
      },
      "text/plain": [
       "Validation: |                                                                                                 …"
      ]
     },
     "metadata": {},
     "output_type": "display_data"
    },
    {
     "data": {
      "application/vnd.jupyter.widget-view+json": {
       "model_id": "19cc8a68b9ce4a9d88518ee2fb4cf026",
       "version_major": 2,
       "version_minor": 0
      },
      "text/plain": [
       "Validation: |                                                                                                 …"
      ]
     },
     "metadata": {},
     "output_type": "display_data"
    },
    {
     "data": {
      "application/vnd.jupyter.widget-view+json": {
       "model_id": "72c0cc3a04914711be292c85f525682e",
       "version_major": 2,
       "version_minor": 0
      },
      "text/plain": [
       "Validation: |                                                                                                 …"
      ]
     },
     "metadata": {},
     "output_type": "display_data"
    },
    {
     "data": {
      "application/vnd.jupyter.widget-view+json": {
       "model_id": "f52fa1a620a8437aa8bec19cce818066",
       "version_major": 2,
       "version_minor": 0
      },
      "text/plain": [
       "Validation: |                                                                                                 …"
      ]
     },
     "metadata": {},
     "output_type": "display_data"
    },
    {
     "data": {
      "application/vnd.jupyter.widget-view+json": {
       "model_id": "c3a27f17aad044e28978044b3b74c38f",
       "version_major": 2,
       "version_minor": 0
      },
      "text/plain": [
       "Validation: |                                                                                                 …"
      ]
     },
     "metadata": {},
     "output_type": "display_data"
    },
    {
     "data": {
      "application/vnd.jupyter.widget-view+json": {
       "model_id": "af70dbae0a4f47d0bfa1426cb072f0e1",
       "version_major": 2,
       "version_minor": 0
      },
      "text/plain": [
       "Validation: |                                                                                                 …"
      ]
     },
     "metadata": {},
     "output_type": "display_data"
    },
    {
     "name": "stderr",
     "output_type": "stream",
     "text": [
      "`Trainer.fit` stopped: `max_epochs=70` reached.\n",
      "LOCAL_RANK: 0 - CUDA_VISIBLE_DEVICES: [0]\n"
     ]
    },
    {
     "data": {
      "application/vnd.jupyter.widget-view+json": {
       "model_id": "2a50d029cc74463abda39c8db4366b2f",
       "version_major": 2,
       "version_minor": 0
      },
      "text/plain": [
       "Testing: |                                                                                                    …"
      ]
     },
     "metadata": {},
     "output_type": "display_data"
    },
    {
     "data": {
      "text/html": [
       "<pre style=\"white-space:pre;overflow-x:auto;line-height:normal;font-family:Menlo,'DejaVu Sans Mono',consolas,'Courier New',monospace\">┏━━━━━━━━━━━━━━━━━━━━━━━━━━━┳━━━━━━━━━━━━━━━━━━━━━━━━━━━┓\n",
       "┃<span style=\"font-weight: bold\">        Test metric        </span>┃<span style=\"font-weight: bold\">       DataLoader 0        </span>┃\n",
       "┡━━━━━━━━━━━━━━━━━━━━━━━━━━━╇━━━━━━━━━━━━━━━━━━━━━━━━━━━┩\n",
       "│<span style=\"color: #008080; text-decoration-color: #008080\">         test_loss         </span>│<span style=\"color: #800080; text-decoration-color: #800080\">    0.03617823123931885    </span>│\n",
       "└───────────────────────────┴───────────────────────────┘\n",
       "</pre>\n"
      ],
      "text/plain": [
       "┏━━━━━━━━━━━━━━━━━━━━━━━━━━━┳━━━━━━━━━━━━━━━━━━━━━━━━━━━┓\n",
       "┃\u001b[1m \u001b[0m\u001b[1m       Test metric       \u001b[0m\u001b[1m \u001b[0m┃\u001b[1m \u001b[0m\u001b[1m      DataLoader 0       \u001b[0m\u001b[1m \u001b[0m┃\n",
       "┡━━━━━━━━━━━━━━━━━━━━━━━━━━━╇━━━━━━━━━━━━━━━━━━━━━━━━━━━┩\n",
       "│\u001b[36m \u001b[0m\u001b[36m        test_loss        \u001b[0m\u001b[36m \u001b[0m│\u001b[35m \u001b[0m\u001b[35m   0.03617823123931885   \u001b[0m\u001b[35m \u001b[0m│\n",
       "└───────────────────────────┴───────────────────────────┘\n"
      ]
     },
     "metadata": {},
     "output_type": "display_data"
    },
    {
     "data": {
      "text/plain": [
       "[{'test_loss': 0.03617823123931885}]"
      ]
     },
     "execution_count": 13,
     "metadata": {},
     "output_type": "execute_result"
    }
   ],
   "source": [
    "model = TransformerBinaryClassifier(input_size=X_scaled_ttf.shape[1])\n",
    "\n",
    "# --- Тренировка ---\n",
    "trainer = Trainer(\n",
    "    max_epochs=70,\n",
    "    accelerator=\"gpu\" if torch.cuda.is_available() else \"cpu\",\n",
    "    devices=1,\n",
    ")\n",
    "\n",
    "trainer.fit(model, train_dataloaders=train_dl, val_dataloaders=val_dl)\n",
    "\n",
    "# --- Тест ---\n",
    "trainer.test(model, dataloaders=test_dl)"
   ]
  },
  {
   "cell_type": "code",
   "execution_count": 14,
   "id": "114e6cd4-c44f-41a5-8c0b-b12d62da83ce",
   "metadata": {},
   "outputs": [],
   "source": [
    "torch.save(model.state_dict(), \"transformer_binary_15min.pt\")"
   ]
  },
  {
   "cell_type": "code",
   "execution_count": 15,
   "id": "771d9294-1fab-4688-a2ac-520365eec4e8",
   "metadata": {},
   "outputs": [
    {
     "name": "stdout",
     "output_type": "stream",
     "text": [
      "Accuracy: 0.9921\n",
      "F1-score: 0.0839\n",
      "ROC AUC: 0.9037\n"
     ]
    },
    {
     "data": {
      "image/png": "[encoded data removed]",
      "text/plain": [
       "<Figure size 600x500 with 2 Axes>"
      ]
     },
     "metadata": {},
     "output_type": "display_data"
    }
   ],
   "source": [
    "\n",
    "model.eval()  \n",
    "all_preds = []\n",
    "all_probas = []\n",
    "all_targets = []\n",
    "\n",
    "with torch.no_grad():\n",
    "    for batch in test_dl:\n",
    "       \n",
    "        if len(batch) == 3:\n",
    "            x, y, _ = batch\n",
    "        else:\n",
    "            x, y = batch\n",
    "        \n",
    "        x = x.float().to(model.device)\n",
    "        y = y.to(model.device)\n",
    "        \n",
    "        logits = model(x)  # выход модели — логиты\n",
    "        probas = torch.sigmoid(logits).squeeze()  # вероятности (для бинарной классификации)\n",
    "        \n",
    "        preds = (probas > 0.5).long()  # бинарные метки (0 или 1)\n",
    "        \n",
    "        all_preds.append(preds.cpu())\n",
    "        all_probas.append(probas.cpu())\n",
    "        all_targets.append(y.cpu())\n",
    "\n",
    "# Склеиваем батчи\n",
    "all_preds = torch.cat(all_preds).numpy()\n",
    "all_probas = torch.cat(all_probas).numpy()\n",
    "all_targets = torch.cat(all_targets).numpy()\n",
    "\n",
    "# Считаем метрики\n",
    "accuracy = accuracy_score(all_targets, all_preds)\n",
    "f1 = f1_score(all_targets, all_preds)\n",
    "roc_auc = roc_auc_score(all_targets, all_probas)\n",
    "cm = confusion_matrix(all_targets, all_preds)\n",
    "\n",
    "print(f\"Accuracy: {accuracy:.4f}\")\n",
    "print(f\"F1-score: {f1:.4f}\")\n",
    "print(f\"ROC AUC: {roc_auc:.4f}\")\n",
    "\n",
    "# Визуализация матрицы ошибок\n",
    "plt.figure(figsize=(6,5))\n",
    "sns.heatmap(cm, annot=True, fmt='d', cmap='Blues')\n",
    "plt.xlabel('Predicted')\n",
    "plt.ylabel('Actual')\n",
    "plt.title('Confusion Matrix')\n",
    "plt.show()"
   ]
  },
  {
   "cell_type": "code",
   "execution_count": 18,
   "id": "52167468-823c-42ce-85e8-04ed7e14eede",
   "metadata": {},
   "outputs": [],
   "source": []
  },
  {
   "cell_type": "code",
   "execution_count": 17,
   "id": "de585352-caa8-437a-b8e4-f504ecd487de",
   "metadata": {
    "scrolled": true
   },
   "outputs": [],
   "source": [
    "btc_with_ta = btc_with_ta.drop(columns=['Quote asset volume', 'Number of trades', 'Taker buy base asset volume', 'Taker buy quote asset volume'])"
   ]
  },
  {
   "cell_type": "code",
   "execution_count": 99,
   "id": "3578a5e1-f677-4837-9b3d-4dd9d0828cbd",
   "metadata": {},
   "outputs": [
    {
     "data": {
      "text/html": [
       "<div>\n",
       "<style scoped>\n",
       "    .dataframe tbody tr th:only-of-type {\n",
       "        vertical-align: middle;\n",
       "    }\n",
       "\n",
       "    .dataframe tbody tr th {\n",
       "        vertical-align: top;\n",
       "    }\n",
       "\n",
       "    .dataframe thead th {\n",
       "        text-align: right;\n",
       "    }\n",
       "</style>\n",
       "<table border=\"1\" class=\"dataframe\">\n",
       "  <thead>\n",
       "    <tr style=\"text-align: right;\">\n",
       "      <th></th>\n",
       "      <th>Open</th>\n",
       "      <th>High</th>\n",
       "      <th>Low</th>\n",
       "      <th>Close</th>\n",
       "      <th>Volume</th>\n",
       "      <th>sma_1d</th>\n",
       "      <th>sma_1w</th>\n",
       "      <th>sma_signal</th>\n",
       "      <th>ema_crossover</th>\n",
       "      <th>rsi</th>\n",
       "      <th>...</th>\n",
       "      <th>momentum_lag1</th>\n",
       "      <th>momentum_lag2</th>\n",
       "      <th>momentum_lag3</th>\n",
       "      <th>cmf_lag1</th>\n",
       "      <th>cmf_lag2</th>\n",
       "      <th>cmf_lag3</th>\n",
       "      <th>future_return</th>\n",
       "      <th>target</th>\n",
       "      <th>candle_cluster</th>\n",
       "      <th>combined_signal</th>\n",
       "    </tr>\n",
       "    <tr>\n",
       "      <th>Timestamp</th>\n",
       "      <th></th>\n",
       "      <th></th>\n",
       "      <th></th>\n",
       "      <th></th>\n",
       "      <th></th>\n",
       "      <th></th>\n",
       "      <th></th>\n",
       "      <th></th>\n",
       "      <th></th>\n",
       "      <th></th>\n",
       "      <th></th>\n",
       "      <th></th>\n",
       "      <th></th>\n",
       "      <th></th>\n",
       "      <th></th>\n",
       "      <th></th>\n",
       "      <th></th>\n",
       "      <th></th>\n",
       "      <th></th>\n",
       "      <th></th>\n",
       "      <th></th>\n",
       "    </tr>\n",
       "  </thead>\n",
       "  <tbody>\n",
       "    <tr>\n",
       "      <th>2020-05-11 00:00:00</th>\n",
       "      <td>5,398.69</td>\n",
       "      <td>5,437.34</td>\n",
       "      <td>5,394.51</td>\n",
       "      <td>5,410.82</td>\n",
       "      <td>645.73</td>\n",
       "      <td>5,410.82</td>\n",
       "      <td>7,977.35</td>\n",
       "      <td>0</td>\n",
       "      <td>0</td>\n",
       "      <td>98.73</td>\n",
       "      <td>...</td>\n",
       "      <td>3,331.30</td>\n",
       "      <td>3,331.30</td>\n",
       "      <td>3,331.30</td>\n",
       "      <td>0.05</td>\n",
       "      <td>0.05</td>\n",
       "      <td>0.05</td>\n",
       "      <td>0.61</td>\n",
       "      <td>1</td>\n",
       "      <td>0</td>\n",
       "      <td>0</td>\n",
       "    </tr>\n",
       "    <tr>\n",
       "      <th>2020-05-11 00:15:00</th>\n",
       "      <td>7,473.29</td>\n",
       "      <td>7,512.02</td>\n",
       "      <td>7,462.54</td>\n",
       "      <td>7,487.28</td>\n",
       "      <td>735.77</td>\n",
       "      <td>7,487.28</td>\n",
       "      <td>7,977.35</td>\n",
       "      <td>0</td>\n",
       "      <td>1</td>\n",
       "      <td>98.73</td>\n",
       "      <td>...</td>\n",
       "      <td>3,331.30</td>\n",
       "      <td>3,331.30</td>\n",
       "      <td>3,331.30</td>\n",
       "      <td>0.05</td>\n",
       "      <td>0.05</td>\n",
       "      <td>0.05</td>\n",
       "      <td>0.16</td>\n",
       "      <td>1</td>\n",
       "      <td>0</td>\n",
       "      <td>2</td>\n",
       "    </tr>\n",
       "    <tr>\n",
       "      <th>2020-05-11 00:30:00</th>\n",
       "      <td>8,275.25</td>\n",
       "      <td>8,302.48</td>\n",
       "      <td>8,247.17</td>\n",
       "      <td>8,272.67</td>\n",
       "      <td>779.39</td>\n",
       "      <td>8,272.67</td>\n",
       "      <td>7,977.35</td>\n",
       "      <td>0</td>\n",
       "      <td>1</td>\n",
       "      <td>98.73</td>\n",
       "      <td>...</td>\n",
       "      <td>3,331.30</td>\n",
       "      <td>3,331.30</td>\n",
       "      <td>3,331.30</td>\n",
       "      <td>0.05</td>\n",
       "      <td>0.05</td>\n",
       "      <td>0.05</td>\n",
       "      <td>0.05</td>\n",
       "      <td>1</td>\n",
       "      <td>0</td>\n",
       "      <td>2</td>\n",
       "    </tr>\n",
       "    <tr>\n",
       "      <th>2020-05-11 00:45:00</th>\n",
       "      <td>8,573.62</td>\n",
       "      <td>8,590.27</td>\n",
       "      <td>8,529.02</td>\n",
       "      <td>8,572.16</td>\n",
       "      <td>856.87</td>\n",
       "      <td>8,572.16</td>\n",
       "      <td>7,977.35</td>\n",
       "      <td>0</td>\n",
       "      <td>1</td>\n",
       "      <td>98.73</td>\n",
       "      <td>...</td>\n",
       "      <td>3,331.30</td>\n",
       "      <td>3,331.30</td>\n",
       "      <td>3,331.30</td>\n",
       "      <td>0.05</td>\n",
       "      <td>0.05</td>\n",
       "      <td>0.05</td>\n",
       "      <td>0.02</td>\n",
       "      <td>0</td>\n",
       "      <td>0</td>\n",
       "      <td>2</td>\n",
       "    </tr>\n",
       "    <tr>\n",
       "      <th>2020-05-11 01:00:00</th>\n",
       "      <td>8,687.17</td>\n",
       "      <td>8,698.02</td>\n",
       "      <td>8,643.90</td>\n",
       "      <td>8,673.65</td>\n",
       "      <td>707.50</td>\n",
       "      <td>8,673.65</td>\n",
       "      <td>7,977.35</td>\n",
       "      <td>0</td>\n",
       "      <td>1</td>\n",
       "      <td>98.73</td>\n",
       "      <td>...</td>\n",
       "      <td>3,331.30</td>\n",
       "      <td>3,331.30</td>\n",
       "      <td>3,331.30</td>\n",
       "      <td>0.05</td>\n",
       "      <td>0.05</td>\n",
       "      <td>0.05</td>\n",
       "      <td>0.01</td>\n",
       "      <td>0</td>\n",
       "      <td>0</td>\n",
       "      <td>2</td>\n",
       "    </tr>\n",
       "    <tr>\n",
       "      <th>...</th>\n",
       "      <td>...</td>\n",
       "      <td>...</td>\n",
       "      <td>...</td>\n",
       "      <td>...</td>\n",
       "      <td>...</td>\n",
       "      <td>...</td>\n",
       "      <td>...</td>\n",
       "      <td>...</td>\n",
       "      <td>...</td>\n",
       "      <td>...</td>\n",
       "      <td>...</td>\n",
       "      <td>...</td>\n",
       "      <td>...</td>\n",
       "      <td>...</td>\n",
       "      <td>...</td>\n",
       "      <td>...</td>\n",
       "      <td>...</td>\n",
       "      <td>...</td>\n",
       "      <td>...</td>\n",
       "      <td>...</td>\n",
       "      <td>...</td>\n",
       "    </tr>\n",
       "    <tr>\n",
       "      <th>2025-06-24 23:00:00</th>\n",
       "      <td>105,955.85</td>\n",
       "      <td>105,994.48</td>\n",
       "      <td>105,831.36</td>\n",
       "      <td>105,910.14</td>\n",
       "      <td>58.22</td>\n",
       "      <td>105,910.14</td>\n",
       "      <td>105,934.89</td>\n",
       "      <td>0</td>\n",
       "      <td>1</td>\n",
       "      <td>80.84</td>\n",
       "      <td>...</td>\n",
       "      <td>195.66</td>\n",
       "      <td>333.04</td>\n",
       "      <td>345.70</td>\n",
       "      <td>0.03</td>\n",
       "      <td>0.02</td>\n",
       "      <td>0.04</td>\n",
       "      <td>0.00</td>\n",
       "      <td>0</td>\n",
       "      <td>4</td>\n",
       "      <td>1</td>\n",
       "    </tr>\n",
       "    <tr>\n",
       "      <th>2025-06-24 23:15:00</th>\n",
       "      <td>105,904.51</td>\n",
       "      <td>105,954.72</td>\n",
       "      <td>105,813.55</td>\n",
       "      <td>105,907.77</td>\n",
       "      <td>61.17</td>\n",
       "      <td>105,907.77</td>\n",
       "      <td>105,930.60</td>\n",
       "      <td>0</td>\n",
       "      <td>1</td>\n",
       "      <td>77.90</td>\n",
       "      <td>...</td>\n",
       "      <td>42.42</td>\n",
       "      <td>195.66</td>\n",
       "      <td>333.04</td>\n",
       "      <td>0.05</td>\n",
       "      <td>0.03</td>\n",
       "      <td>0.02</td>\n",
       "      <td>0.00</td>\n",
       "      <td>0</td>\n",
       "      <td>4</td>\n",
       "      <td>1</td>\n",
       "    </tr>\n",
       "    <tr>\n",
       "      <th>2025-06-24 23:30:00</th>\n",
       "      <td>105,893.03</td>\n",
       "      <td>106,005.01</td>\n",
       "      <td>105,834.40</td>\n",
       "      <td>105,975.29</td>\n",
       "      <td>70.97</td>\n",
       "      <td>105,975.29</td>\n",
       "      <td>105,934.34</td>\n",
       "      <td>1</td>\n",
       "      <td>1</td>\n",
       "      <td>79.55</td>\n",
       "      <td>...</td>\n",
       "      <td>-47.46</td>\n",
       "      <td>42.42</td>\n",
       "      <td>195.66</td>\n",
       "      <td>0.07</td>\n",
       "      <td>0.05</td>\n",
       "      <td>0.03</td>\n",
       "      <td>0.00</td>\n",
       "      <td>0</td>\n",
       "      <td>4</td>\n",
       "      <td>2</td>\n",
       "    </tr>\n",
       "    <tr>\n",
       "      <th>2025-06-24 23:45:00</th>\n",
       "      <td>105,936.67</td>\n",
       "      <td>106,125.20</td>\n",
       "      <td>105,885.58</td>\n",
       "      <td>106,110.96</td>\n",
       "      <td>98.13</td>\n",
       "      <td>106,110.96</td>\n",
       "      <td>105,961.58</td>\n",
       "      <td>1</td>\n",
       "      <td>1</td>\n",
       "      <td>78.83</td>\n",
       "      <td>...</td>\n",
       "      <td>64.60</td>\n",
       "      <td>-47.46</td>\n",
       "      <td>42.42</td>\n",
       "      <td>0.12</td>\n",
       "      <td>0.07</td>\n",
       "      <td>0.05</td>\n",
       "      <td>0.00</td>\n",
       "      <td>0</td>\n",
       "      <td>1</td>\n",
       "      <td>4</td>\n",
       "    </tr>\n",
       "    <tr>\n",
       "      <th>2025-06-25 00:00:00</th>\n",
       "      <td>106,009.83</td>\n",
       "      <td>106,287.60</td>\n",
       "      <td>105,953.73</td>\n",
       "      <td>106,274.58</td>\n",
       "      <td>141.80</td>\n",
       "      <td>106,274.58</td>\n",
       "      <td>106,010.74</td>\n",
       "      <td>1</td>\n",
       "      <td>1</td>\n",
       "      <td>80.69</td>\n",
       "      <td>...</td>\n",
       "      <td>168.72</td>\n",
       "      <td>64.60</td>\n",
       "      <td>-47.46</td>\n",
       "      <td>0.22</td>\n",
       "      <td>0.12</td>\n",
       "      <td>0.07</td>\n",
       "      <td>0.00</td>\n",
       "      <td>0</td>\n",
       "      <td>1</td>\n",
       "      <td>4</td>\n",
       "    </tr>\n",
       "  </tbody>\n",
       "</table>\n",
       "<p>179509 rows × 80 columns</p>\n",
       "</div>"
      ],
      "text/plain": [
       "                          Open       High        Low      Close  Volume  \\\n",
       "Timestamp                                                                 \n",
       "2020-05-11 00:00:00   5,398.69   5,437.34   5,394.51   5,410.82  645.73   \n",
       "2020-05-11 00:15:00   7,473.29   7,512.02   7,462.54   7,487.28  735.77   \n",
       "2020-05-11 00:30:00   8,275.25   8,302.48   8,247.17   8,272.67  779.39   \n",
       "2020-05-11 00:45:00   8,573.62   8,590.27   8,529.02   8,572.16  856.87   \n",
       "2020-05-11 01:00:00   8,687.17   8,698.02   8,643.90   8,673.65  707.50   \n",
       "...                        ...        ...        ...        ...     ...   \n",
       "2025-06-24 23:00:00 105,955.85 105,994.48 105,831.36 105,910.14   58.22   \n",
       "2025-06-24 23:15:00 105,904.51 105,954.72 105,813.55 105,907.77   61.17   \n",
       "2025-06-24 23:30:00 105,893.03 106,005.01 105,834.40 105,975.29   70.97   \n",
       "2025-06-24 23:45:00 105,936.67 106,125.20 105,885.58 106,110.96   98.13   \n",
       "2025-06-25 00:00:00 106,009.83 106,287.60 105,953.73 106,274.58  141.80   \n",
       "\n",
       "                        sma_1d     sma_1w  sma_signal  ema_crossover   rsi  \\\n",
       "Timestamp                                                                    \n",
       "2020-05-11 00:00:00   5,410.82   7,977.35           0              0 98.73   \n",
       "2020-05-11 00:15:00   7,487.28   7,977.35           0              1 98.73   \n",
       "2020-05-11 00:30:00   8,272.67   7,977.35           0              1 98.73   \n",
       "2020-05-11 00:45:00   8,572.16   7,977.35           0              1 98.73   \n",
       "2020-05-11 01:00:00   8,673.65   7,977.35           0              1 98.73   \n",
       "...                        ...        ...         ...            ...   ...   \n",
       "2025-06-24 23:00:00 105,910.14 105,934.89           0              1 80.84   \n",
       "2025-06-24 23:15:00 105,907.77 105,930.60           0              1 77.90   \n",
       "2025-06-24 23:30:00 105,975.29 105,934.34           1              1 79.55   \n",
       "2025-06-24 23:45:00 106,110.96 105,961.58           1              1 78.83   \n",
       "2025-06-25 00:00:00 106,274.58 106,010.74           1              1 80.69   \n",
       "\n",
       "                     ...  momentum_lag1  momentum_lag2  momentum_lag3  \\\n",
       "Timestamp            ...                                                \n",
       "2020-05-11 00:00:00  ...       3,331.30       3,331.30       3,331.30   \n",
       "2020-05-11 00:15:00  ...       3,331.30       3,331.30       3,331.30   \n",
       "2020-05-11 00:30:00  ...       3,331.30       3,331.30       3,331.30   \n",
       "2020-05-11 00:45:00  ...       3,331.30       3,331.30       3,331.30   \n",
       "2020-05-11 01:00:00  ...       3,331.30       3,331.30       3,331.30   \n",
       "...                  ...            ...            ...            ...   \n",
       "2025-06-24 23:00:00  ...         195.66         333.04         345.70   \n",
       "2025-06-24 23:15:00  ...          42.42         195.66         333.04   \n",
       "2025-06-24 23:30:00  ...         -47.46          42.42         195.66   \n",
       "2025-06-24 23:45:00  ...          64.60         -47.46          42.42   \n",
       "2025-06-25 00:00:00  ...         168.72          64.60         -47.46   \n",
       "\n",
       "                     cmf_lag1  cmf_lag2  cmf_lag3  future_return  target  \\\n",
       "Timestamp                                                                  \n",
       "2020-05-11 00:00:00      0.05      0.05      0.05           0.61       1   \n",
       "2020-05-11 00:15:00      0.05      0.05      0.05           0.16       1   \n",
       "2020-05-11 00:30:00      0.05      0.05      0.05           0.05       1   \n",
       "2020-05-11 00:45:00      0.05      0.05      0.05           0.02       0   \n",
       "2020-05-11 01:00:00      0.05      0.05      0.05           0.01       0   \n",
       "...                       ...       ...       ...            ...     ...   \n",
       "2025-06-24 23:00:00      0.03      0.02      0.04           0.00       0   \n",
       "2025-06-24 23:15:00      0.05      0.03      0.02           0.00       0   \n",
       "2025-06-24 23:30:00      0.07      0.05      0.03           0.00       0   \n",
       "2025-06-24 23:45:00      0.12      0.07      0.05           0.00       0   \n",
       "2025-06-25 00:00:00      0.22      0.12      0.07           0.00       0   \n",
       "\n",
       "                     candle_cluster  combined_signal  \n",
       "Timestamp                                             \n",
       "2020-05-11 00:00:00               0                0  \n",
       "2020-05-11 00:15:00               0                2  \n",
       "2020-05-11 00:30:00               0                2  \n",
       "2020-05-11 00:45:00               0                2  \n",
       "2020-05-11 01:00:00               0                2  \n",
       "...                             ...              ...  \n",
       "2025-06-24 23:00:00               4                1  \n",
       "2025-06-24 23:15:00               4                1  \n",
       "2025-06-24 23:30:00               4                2  \n",
       "2025-06-24 23:45:00               1                4  \n",
       "2025-06-25 00:00:00               1                4  \n",
       "\n",
       "[179509 rows x 80 columns]"
      ]
     },
     "execution_count": 99,
     "metadata": {},
     "output_type": "execute_result"
    }
   ],
   "source": [
    "btc_with_ta"
   ]
  },
  {
   "cell_type": "code",
   "execution_count": 19,
   "id": "d3be065e-7400-4f19-9dc8-8c7a916e7a1b",
   "metadata": {},
   "outputs": [
    {
     "name": "stdout",
     "output_type": "stream",
     "text": [
      "Shape after cleaning: (179509, 80)\n"
     ]
    }
   ],
   "source": [
    "# Удаляем inf и NaN\n",
    "btc_with_ta = btc_with_ta.replace([np.inf, -np.inf], np.nan).dropna()\n",
    "\n",
    "# Проверим размерность\n",
    "print(\"Shape after cleaning:\", btc_with_ta.shape)"
   ]
  },
  {
   "cell_type": "markdown",
   "id": "43288d5d-7e53-425f-8eb0-2371ead74581",
   "metadata": {},
   "source": [
    "🧭 Шаг 1: Постановка задачи RL\n",
    "Сформулируем основную идею:\n",
    "\n",
    "Агент смотрит на текущие признаки рынка и решает: покупать, продавать или держать. Его цель — максимизировать прибыль на всём отрезке.\n",
    "🔁 RL как среда\n",
    "В RL ты должен:\n",
    "- Определить state — что агент видит.\n",
    "- Определить action — что он может делать.\n",
    "- Определить reward — что он получает за действие.\n",
    "- Создать environment (среду) — как агент взаимодействует с историей."
   ]
  },
  {
   "cell_type": "markdown",
   "id": "ca853e42-281e-49cc-a6b1-b312f163505b",
   "metadata": {},
   "source": [
    "✅ Шаг 2: Определим state"
   ]
  },
  {
   "cell_type": "code",
   "execution_count": 20,
   "id": "fe335e0f-74ea-48a5-bc31-ca88d3992755",
   "metadata": {},
   "outputs": [],
   "source": [
    "excluded = ['future_return', 'target']\n",
    "state_columns = [col for col in btc_with_ta.columns if col not in excluded]\n",
    "state_df = btc_with_ta[state_columns].copy()"
   ]
  },
  {
   "cell_type": "markdown",
   "id": "9e56a983-1b71-43f5-9551-1c6887e87ba0",
   "metadata": {},
   "source": [
    "✅ Шаг 3: Определим action\n",
    "- 0 = Hold\n",
    "- 1 = Buy (войти в long-позицию) только 1 раз\n",
    "- 2 = Sell (выйти из позиции)\n"
   ]
  },
  {
   "cell_type": "code",
   "execution_count": 21,
   "id": "c67c0799-46bc-4cde-9b0a-4339bd89ff3b",
   "metadata": {},
   "outputs": [],
   "source": [
    "action_space = gym.spaces.Discrete(3)"
   ]
  },
  {
   "cell_type": "markdown",
   "id": "25a74cbb-547f-492a-a780-4a05e9aece5c",
   "metadata": {},
   "source": [
    "✅ Шаг 4: Определим reward\n",
    "| Подход                        | Reward                        |\n",
    "| ----------------------------- | ----------------------------- |\n",
    "| 📈 Доходность сделки          | `log(price_now / price_prev)` |\n",
    "| 💰 Изменение капитала         | `equity[t+1] - equity[t]`     |\n",
    "| 🔄 Reward за закрытие позиции | Только при `Sell`: `PnL`      |\n",
    "| 🧠 Более сложно               | `Sharpe`, `Sortino`, drawdown |\n",
    "\n",
    "- Если нет позиции — reward = 0\n",
    "- Если держим позицию — reward = доход за шаг\n",
    "- Можно ввести penalty за чрезмерные сделки (комиссии)\n"
   ]
  },
  {
   "cell_type": "code",
   "execution_count": 85,
   "id": "67ef5445-f90d-464b-ab16-c908aeafc16f",
   "metadata": {},
   "outputs": [],
   "source": [
    "class BTCTradingEnv(gym.Env):\n",
    "    def __init__(self, df: pd.DataFrame, state_columns: list,\n",
    "                 initial_balance=10_000, trade_penalty=0.0, max_steps=None,\n",
    "                 reward_scaling=100.0, use_log_return=True, use_sharpe_bonus=True,\n",
    "                 holding_penalty=0.001, sharpe_bonus_weight=0.1):\n",
    "        super().__init__()\n",
    "        self.df = df.reset_index(drop=True)\n",
    "        self.state_columns = state_columns\n",
    "        self.action_space = gym.spaces.Discrete(3)\n",
    "        self.observation_space = gym.spaces.Box(\n",
    "            low=-np.inf, high=np.inf, shape=(len(state_columns),), dtype=np.float32\n",
    "        )\n",
    "\n",
    "        self.initial_balance = initial_balance\n",
    "        self.trade_penalty = trade_penalty\n",
    "        self.reward_scaling = reward_scaling\n",
    "        self.max_steps = max_steps if max_steps is not None else len(df) - 1\n",
    "\n",
    "        self.use_log_return = use_log_return\n",
    "        self.use_sharpe_bonus = use_sharpe_bonus\n",
    "        self.holding_penalty = holding_penalty\n",
    "        self.sharpe_bonus_weight = sharpe_bonus_weight\n",
    "\n",
    "        self.reset()\n",
    "\n",
    "    def _next_observation(self):\n",
    "        return self.df.iloc[self.current_step][self.state_columns].astype(np.float32).values\n",
    "\n",
    "    def reset(self, *, seed=None, options=None):\n",
    "        self.current_step = 0\n",
    "        self.balance = self.initial_balance\n",
    "        self.position = 0\n",
    "        self.entry_price = 0.0\n",
    "        self.total_profit = 0.0\n",
    "        self.trades = []\n",
    "        self.trades_info = []\n",
    "        self.entry_step = None\n",
    "        self.total_reward = 0.0\n",
    "        self.equity_curve = [self.balance]\n",
    "        self.all_trades_info = []\n",
    "        return self._next_observation(), {}\n",
    "\n",
    "    def _calculate_equity(self, current_price):\n",
    "        if self.position == 1:\n",
    "            return self.balance + (current_price - self.entry_price)\n",
    "        return self.balance\n",
    "\n",
    "    def _calculate_max_drawdown(self):\n",
    "        equity = np.array(self.equity_curve)\n",
    "        if len(equity) < 2:\n",
    "            return 0\n",
    "        cumulative_max = np.maximum.accumulate(equity)\n",
    "        drawdowns = (equity - cumulative_max) / cumulative_max\n",
    "        return drawdowns.min()\n",
    "\n",
    "    def step(self, action):\n",
    "        done = False\n",
    "        reward = 0.0\n",
    "        current_price = self.df.loc[self.current_step, 'Close']\n",
    "    \n",
    "        # === Покупка ===\n",
    "        if action == 1 and self.position == 0:\n",
    "            self.position = 1\n",
    "            self.entry_price = current_price\n",
    "            self.entry_step = self.current_step\n",
    "    \n",
    "        # === Продажа ===\n",
    "        elif action == 2 and self.position == 1:\n",
    "            if self.use_log_return:\n",
    "                price_change = np.log(current_price / self.entry_price)\n",
    "            else:\n",
    "                price_change = current_price - self.entry_price\n",
    "    \n",
    "            holding_duration = self.current_step - self.entry_step\n",
    "            holding_penalty = self.holding_penalty * holding_duration\n",
    "    \n",
    "            reward = price_change - holding_penalty\n",
    "            self.balance += reward\n",
    "    \n",
    "            self.trades.append(price_change)\n",
    "            self.trades_info.append({\n",
    "                \"entry_step\": self.entry_step,\n",
    "                \"exit_step\": self.current_step,\n",
    "                \"profit\": price_change,\n",
    "                \"holding\": holding_duration\n",
    "            })\n",
    "    \n",
    "            self.position = 0\n",
    "            self.entry_price = 0.0\n",
    "            self.entry_step = None\n",
    "    \n",
    "        # === Штраф за невалидное действие (например, продажа без позиции) ===\n",
    "        elif action != 0:\n",
    "            reward -= self.trade_penalty\n",
    "    \n",
    "        # === Масштабируем награду и обновляем total_reward ===\n",
    "        reward *= self.reward_scaling\n",
    "        self.total_reward += reward\n",
    "    \n",
    "        # === Equity ===\n",
    "        equity = self._calculate_equity(current_price)\n",
    "        self.equity_curve.append(equity)\n",
    "    \n",
    "        # === Шаг вперёд ===\n",
    "        self.current_step += 1\n",
    "        done = self.current_step >= self.max_steps\n",
    "    \n",
    "        # === Принудительно закрываем позицию, если эпизод завершился ===\n",
    "        if done and self.position == 1:\n",
    "            if self.use_log_return:\n",
    "                price_change = np.log(current_price / self.entry_price)\n",
    "            else:\n",
    "                price_change = current_price - self.entry_price\n",
    "    \n",
    "            holding_duration = self.current_step - self.entry_step\n",
    "            holding_penalty = self.holding_penalty * holding_duration\n",
    "    \n",
    "            final_reward = price_change - holding_penalty\n",
    "            self.balance += final_reward\n",
    "    \n",
    "            self.trades.append(price_change)\n",
    "            self.trades_info.append({\n",
    "                \"entry_step\": self.entry_step,\n",
    "                \"exit_step\": self.current_step,\n",
    "                \"profit\": price_change,\n",
    "                \"holding\": holding_duration\n",
    "            })\n",
    "    \n",
    "            self.position = 0\n",
    "            self.entry_price = 0.0\n",
    "            self.entry_step = None\n",
    "    \n",
    "            self.total_reward += final_reward * self.reward_scaling\n",
    "    \n",
    "        # === Sharpe бонус ===\n",
    "        if done and self.use_sharpe_bonus and len(self.trades) > 1:\n",
    "            sharpe = np.mean(self.trades) / (np.std(self.trades) + 1e-8)\n",
    "            reward += self.sharpe_bonus_weight * sharpe\n",
    "    \n",
    "        # === Обновляем список всех сделок (на каждом шаге) ===\n",
    "        self.all_trades_info = self.trades_info.copy()\n",
    "    \n",
    "        # === Выдаём наблюдение и информацию ===\n",
    "        obs = self._next_observation()\n",
    "        info = {\n",
    "            'balance': self.balance,\n",
    "            'equity': equity,\n",
    "            'position': self.position,\n",
    "            'step': self.current_step,\n",
    "            'reward': reward,\n",
    "            'drawdown': self._calculate_max_drawdown(),\n",
    "            'total_profit': np.sum(self.trades)\n",
    "        }\n",
    "    \n",
    "        return obs, reward, done, False, info\n",
    "\n",
    "    def render(self, mode='human', trades=False):\n",
    "        print(f\"Step: {self.current_step}, Position: {self.position}, Balance: {self.balance:.2f}, \"\n",
    "              f\"Total reward: {self.total_reward:.2f}, Max DD: {self._calculate_max_drawdown():.4f}\")\n",
    "        if trades and self.trades_info:\n",
    "            print(\"Trades:\")\n",
    "            for trade in self.trades_info:\n",
    "                print(f\"  Entry: {trade['entry_step']}, Exit: {trade['exit_step']}, \"\n",
    "                      f\"Profit: {trade['profit']:.4f}, Holding: {trade['holding']} steps\")"
   ]
  },
  {
   "cell_type": "code",
   "execution_count": 86,
   "id": "548342d9-7459-470d-8e68-49aeb267db06",
   "metadata": {},
   "outputs": [],
   "source": [
    "def make_env():\n",
    "    return BTCTradingEnv(\n",
    "        df=btc_with_ta, \n",
    "        state_columns=state_columns, \n",
    "        initial_balance=5000, \n",
    "        trade_penalty=0, \n",
    "        max_steps=2000, \n",
    "        reward_scaling=100\n",
    "    )\n",
    "\n",
    "vec_env = DummyVecEnv([make_env])"
   ]
  },
  {
   "cell_type": "code",
   "execution_count": 87,
   "id": "a904e569-40cf-4470-8694-e23ed76e9a33",
   "metadata": {
    "scrolled": true
   },
   "outputs": [
    {
     "data": {
      "application/vnd.jupyter.widget-view+json": {
       "model_id": "05b4271181864a01a8b87fad5dcd05dd",
       "version_major": 2,
       "version_minor": 0
      },
      "text/plain": [
       "Output()"
      ]
     },
     "metadata": {},
     "output_type": "display_data"
    },
    {
     "name": "stdout",
     "output_type": "stream",
     "text": [
      "Using cuda device\n",
      "-----------------------------\n",
      "| time/              |      |\n",
      "|    fps             | 434  |\n",
      "|    iterations      | 1    |\n",
      "|    time_elapsed    | 4    |\n",
      "|    total_timesteps | 2048 |\n",
      "-----------------------------\n",
      "----------------------------------------\n",
      "| time/                   |            |\n",
      "|    fps                  | 254        |\n",
      "|    iterations           | 2          |\n",
      "|    time_elapsed         | 16         |\n",
      "|    total_timesteps      | 4096       |\n",
      "| train/                  |            |\n",
      "|    approx_kl            | 0.00822647 |\n",
      "|    clip_fraction        | 0.0481     |\n",
      "|    clip_range           | 0.2        |\n",
      "|    entropy_loss         | -1.09      |\n",
      "|    explained_variance   | 0.00859    |\n",
      "|    learning_rate        | 0.0003     |\n",
      "|    loss                 | 10.5       |\n",
      "|    n_updates            | 10         |\n",
      "|    policy_gradient_loss | -0.00329   |\n",
      "|    value_loss           | 6.19       |\n",
      "----------------------------------------\n",
      "-----------------------------------------\n",
      "| time/                   |             |\n",
      "|    fps                  | 226         |\n",
      "|    iterations           | 3           |\n",
      "|    time_elapsed         | 27          |\n",
      "|    total_timesteps      | 6144        |\n",
      "| train/                  |             |\n",
      "|    approx_kl            | 0.008520051 |\n",
      "|    clip_fraction        | 0.0615      |\n",
      "|    clip_range           | 0.2         |\n",
      "|    entropy_loss         | -1.08       |\n",
      "|    explained_variance   | 0.346       |\n",
      "|    learning_rate        | 0.0003      |\n",
      "|    loss                 | 0.109       |\n",
      "|    n_updates            | 20          |\n",
      "|    policy_gradient_loss | -0.00427    |\n",
      "|    value_loss           | 0.429       |\n",
      "-----------------------------------------\n",
      "-----------------------------------------\n",
      "| time/                   |             |\n",
      "|    fps                  | 214         |\n",
      "|    iterations           | 4           |\n",
      "|    time_elapsed         | 38          |\n",
      "|    total_timesteps      | 8192        |\n",
      "| train/                  |             |\n",
      "|    approx_kl            | 0.008418488 |\n",
      "|    clip_fraction        | 0.0623      |\n",
      "|    clip_range           | 0.2         |\n",
      "|    entropy_loss         | -1.06       |\n",
      "|    explained_variance   | 0.368       |\n",
      "|    learning_rate        | 0.0003      |\n",
      "|    loss                 | 0.125       |\n",
      "|    n_updates            | 30          |\n",
      "|    policy_gradient_loss | -0.00566    |\n",
      "|    value_loss           | 0.396       |\n",
      "-----------------------------------------\n",
      "------------------------------------------\n",
      "| time/                   |              |\n",
      "|    fps                  | 210          |\n",
      "|    iterations           | 5            |\n",
      "|    time_elapsed         | 48           |\n",
      "|    total_timesteps      | 10240        |\n",
      "| train/                  |              |\n",
      "|    approx_kl            | 0.0135070365 |\n",
      "|    clip_fraction        | 0.183        |\n",
      "|    clip_range           | 0.2          |\n",
      "|    entropy_loss         | -1.01        |\n",
      "|    explained_variance   | 0.238        |\n",
      "|    learning_rate        | 0.0003       |\n",
      "|    loss                 | 0.151        |\n",
      "|    n_updates            | 40           |\n",
      "|    policy_gradient_loss | -0.0133      |\n",
      "|    value_loss           | 0.265        |\n",
      "------------------------------------------\n",
      "-----------------------------------------\n",
      "| time/                   |             |\n",
      "|    fps                  | 207         |\n",
      "|    iterations           | 6           |\n",
      "|    time_elapsed         | 59          |\n",
      "|    total_timesteps      | 12288       |\n",
      "| train/                  |             |\n",
      "|    approx_kl            | 0.014979677 |\n",
      "|    clip_fraction        | 0.116       |\n",
      "|    clip_range           | 0.2         |\n",
      "|    entropy_loss         | -0.959      |\n",
      "|    explained_variance   | 0.0806      |\n",
      "|    learning_rate        | 0.0003      |\n",
      "|    loss                 | 0.0812      |\n",
      "|    n_updates            | 50          |\n",
      "|    policy_gradient_loss | -0.0117     |\n",
      "|    value_loss           | 4.97        |\n",
      "-----------------------------------------\n",
      "-----------------------------------------\n",
      "| time/                   |             |\n",
      "|    fps                  | 208         |\n",
      "|    iterations           | 7           |\n",
      "|    time_elapsed         | 68          |\n",
      "|    total_timesteps      | 14336       |\n",
      "| train/                  |             |\n",
      "|    approx_kl            | 0.014674614 |\n",
      "|    clip_fraction        | 0.125       |\n",
      "|    clip_range           | 0.2         |\n",
      "|    entropy_loss         | -0.884      |\n",
      "|    explained_variance   | -0.0917     |\n",
      "|    learning_rate        | 0.0003      |\n",
      "|    loss                 | 0.0126      |\n",
      "|    n_updates            | 60          |\n",
      "|    policy_gradient_loss | -0.0142     |\n",
      "|    value_loss           | 0.138       |\n",
      "-----------------------------------------\n",
      "-----------------------------------------\n",
      "| time/                   |             |\n",
      "|    fps                  | 203         |\n",
      "|    iterations           | 8           |\n",
      "|    time_elapsed         | 80          |\n",
      "|    total_timesteps      | 16384       |\n",
      "| train/                  |             |\n",
      "|    approx_kl            | 0.016501145 |\n",
      "|    clip_fraction        | 0.15        |\n",
      "|    clip_range           | 0.2         |\n",
      "|    entropy_loss         | -0.784      |\n",
      "|    explained_variance   | 0.153       |\n",
      "|    learning_rate        | 0.0003      |\n",
      "|    loss                 | 0.0271      |\n",
      "|    n_updates            | 70          |\n",
      "|    policy_gradient_loss | -0.0125     |\n",
      "|    value_loss           | 1.06        |\n",
      "-----------------------------------------\n",
      "-----------------------------------------\n",
      "| time/                   |             |\n",
      "|    fps                  | 203         |\n",
      "|    iterations           | 9           |\n",
      "|    time_elapsed         | 90          |\n",
      "|    total_timesteps      | 18432       |\n",
      "| train/                  |             |\n",
      "|    approx_kl            | 0.008308766 |\n",
      "|    clip_fraction        | 0.0746      |\n",
      "|    clip_range           | 0.2         |\n",
      "|    entropy_loss         | -0.724      |\n",
      "|    explained_variance   | 0.315       |\n",
      "|    learning_rate        | 0.0003      |\n",
      "|    loss                 | 0.0423      |\n",
      "|    n_updates            | 80          |\n",
      "|    policy_gradient_loss | -0.00693    |\n",
      "|    value_loss           | 0.0696      |\n",
      "-----------------------------------------\n",
      "-----------------------------------------\n",
      "| time/                   |             |\n",
      "|    fps                  | 203         |\n",
      "|    iterations           | 10          |\n",
      "|    time_elapsed         | 100         |\n",
      "|    total_timesteps      | 20480       |\n",
      "| train/                  |             |\n",
      "|    approx_kl            | 0.008594234 |\n",
      "|    clip_fraction        | 0.0604      |\n",
      "|    clip_range           | 0.2         |\n",
      "|    entropy_loss         | -0.66       |\n",
      "|    explained_variance   | 0.409       |\n",
      "|    learning_rate        | 0.0003      |\n",
      "|    loss                 | 0.0132      |\n",
      "|    n_updates            | 90          |\n",
      "|    policy_gradient_loss | -0.00698    |\n",
      "|    value_loss           | 0.0646      |\n",
      "-----------------------------------------\n",
      "------------------------------------------\n",
      "| time/                   |              |\n",
      "|    fps                  | 201          |\n",
      "|    iterations           | 11           |\n",
      "|    time_elapsed         | 111          |\n",
      "|    total_timesteps      | 22528        |\n",
      "| train/                  |              |\n",
      "|    approx_kl            | 0.0053687748 |\n",
      "|    clip_fraction        | 0.0595       |\n",
      "|    clip_range           | 0.2          |\n",
      "|    entropy_loss         | -0.607       |\n",
      "|    explained_variance   | 0.292        |\n",
      "|    learning_rate        | 0.0003       |\n",
      "|    loss                 | 1.29         |\n",
      "|    n_updates            | 100          |\n",
      "|    policy_gradient_loss | -0.00886     |\n",
      "|    value_loss           | 0.382        |\n",
      "------------------------------------------\n",
      "-----------------------------------------\n",
      "| time/                   |             |\n",
      "|    fps                  | 202         |\n",
      "|    iterations           | 12          |\n",
      "|    time_elapsed         | 121         |\n",
      "|    total_timesteps      | 24576       |\n",
      "| train/                  |             |\n",
      "|    approx_kl            | 0.004531456 |\n",
      "|    clip_fraction        | 0.0568      |\n",
      "|    clip_range           | 0.2         |\n",
      "|    entropy_loss         | -0.548      |\n",
      "|    explained_variance   | 0.516       |\n",
      "|    learning_rate        | 0.0003      |\n",
      "|    loss                 | 0.00893     |\n",
      "|    n_updates            | 110         |\n",
      "|    policy_gradient_loss | -0.00466    |\n",
      "|    value_loss           | 0.163       |\n",
      "-----------------------------------------\n",
      "------------------------------------------\n",
      "| time/                   |              |\n",
      "|    fps                  | 201          |\n",
      "|    iterations           | 13           |\n",
      "|    time_elapsed         | 132          |\n",
      "|    total_timesteps      | 26624        |\n",
      "| train/                  |              |\n",
      "|    approx_kl            | 0.0050848485 |\n",
      "|    clip_fraction        | 0.0789       |\n",
      "|    clip_range           | 0.2          |\n",
      "|    entropy_loss         | -0.504       |\n",
      "|    explained_variance   | 0.616        |\n",
      "|    learning_rate        | 0.0003       |\n",
      "|    loss                 | 0.0124       |\n",
      "|    n_updates            | 120          |\n",
      "|    policy_gradient_loss | -0.00668     |\n",
      "|    value_loss           | 0.133        |\n",
      "------------------------------------------\n",
      "------------------------------------------\n",
      "| time/                   |              |\n",
      "|    fps                  | 200          |\n",
      "|    iterations           | 15           |\n",
      "|    time_elapsed         | 153          |\n",
      "|    total_timesteps      | 30720        |\n",
      "| train/                  |              |\n",
      "|    approx_kl            | 0.0064877984 |\n",
      "|    clip_fraction        | 0.056        |\n",
      "|    clip_range           | 0.2          |\n",
      "|    entropy_loss         | -0.478       |\n",
      "|    explained_variance   | -1.55        |\n",
      "|    learning_rate        | 0.0003       |\n",
      "|    loss                 | -0.0123      |\n",
      "|    n_updates            | 140          |\n",
      "|    policy_gradient_loss | -0.00669     |\n",
      "|    value_loss           | 0.0726       |\n",
      "------------------------------------------\n",
      "------------------------------------------\n",
      "| time/                   |              |\n",
      "|    fps                  | 202          |\n",
      "|    iterations           | 16           |\n",
      "|    time_elapsed         | 162          |\n",
      "|    total_timesteps      | 32768        |\n",
      "| train/                  |              |\n",
      "|    approx_kl            | 0.0023224356 |\n",
      "|    clip_fraction        | 0.0237       |\n",
      "|    clip_range           | 0.2          |\n",
      "|    entropy_loss         | -0.501       |\n",
      "|    explained_variance   | 0.621        |\n",
      "|    learning_rate        | 0.0003       |\n",
      "|    loss                 | -0.0067      |\n",
      "|    n_updates            | 150          |\n",
      "|    policy_gradient_loss | -0.00476     |\n",
      "|    value_loss           | 0.0104       |\n",
      "------------------------------------------\n",
      "------------------------------------------\n",
      "| time/                   |              |\n",
      "|    fps                  | 200          |\n",
      "|    iterations           | 17           |\n",
      "|    time_elapsed         | 173          |\n",
      "|    total_timesteps      | 34816        |\n",
      "| train/                  |              |\n",
      "|    approx_kl            | 0.0051211873 |\n",
      "|    clip_fraction        | 0.0536       |\n",
      "|    clip_range           | 0.2          |\n",
      "|    entropy_loss         | -0.474       |\n",
      "|    explained_variance   | 0.159        |\n",
      "|    learning_rate        | 0.0003       |\n",
      "|    loss                 | -0.0136      |\n",
      "|    n_updates            | 160          |\n",
      "|    policy_gradient_loss | -0.00461     |\n",
      "|    value_loss           | 1.82         |\n",
      "------------------------------------------\n",
      "-----------------------------------------\n",
      "| time/                   |             |\n",
      "|    fps                  | 201         |\n",
      "|    iterations           | 18          |\n",
      "|    time_elapsed         | 182         |\n",
      "|    total_timesteps      | 36864       |\n",
      "| train/                  |             |\n",
      "|    approx_kl            | 0.005319303 |\n",
      "|    clip_fraction        | 0.0672      |\n",
      "|    clip_range           | 0.2         |\n",
      "|    entropy_loss         | -0.408      |\n",
      "|    explained_variance   | 0.235       |\n",
      "|    learning_rate        | 0.0003      |\n",
      "|    loss                 | -0.0128     |\n",
      "|    n_updates            | 170         |\n",
      "|    policy_gradient_loss | -0.00441    |\n",
      "|    value_loss           | 3.11        |\n",
      "-----------------------------------------\n",
      "------------------------------------------\n",
      "| time/                   |              |\n",
      "|    fps                  | 201          |\n",
      "|    iterations           | 19           |\n",
      "|    time_elapsed         | 193          |\n",
      "|    total_timesteps      | 38912        |\n",
      "| train/                  |              |\n",
      "|    approx_kl            | 0.0023647766 |\n",
      "|    clip_fraction        | 0.0359       |\n",
      "|    clip_range           | 0.2          |\n",
      "|    entropy_loss         | -0.387       |\n",
      "|    explained_variance   | 0.373        |\n",
      "|    learning_rate        | 0.0003       |\n",
      "|    loss                 | -0.00224     |\n",
      "|    n_updates            | 180          |\n",
      "|    policy_gradient_loss | -0.00293     |\n",
      "|    value_loss           | 2.15         |\n",
      "------------------------------------------\n",
      "------------------------------------------\n",
      "| time/                   |              |\n",
      "|    fps                  | 200          |\n",
      "|    iterations           | 20           |\n",
      "|    time_elapsed         | 204          |\n",
      "|    total_timesteps      | 40960        |\n",
      "| train/                  |              |\n",
      "|    approx_kl            | 0.0014292947 |\n",
      "|    clip_fraction        | 0.0139       |\n",
      "|    clip_range           | 0.2          |\n",
      "|    entropy_loss         | -0.348       |\n",
      "|    explained_variance   | -0.329       |\n",
      "|    learning_rate        | 0.0003       |\n",
      "|    loss                 | 0.00478      |\n",
      "|    n_updates            | 190          |\n",
      "|    policy_gradient_loss | -0.00567     |\n",
      "|    value_loss           | 0.0542       |\n",
      "------------------------------------------\n",
      "------------------------------------------\n",
      "| time/                   |              |\n",
      "|    fps                  | 200          |\n",
      "|    iterations           | 21           |\n",
      "|    time_elapsed         | 214          |\n",
      "|    total_timesteps      | 43008        |\n",
      "| train/                  |              |\n",
      "|    approx_kl            | 0.0023556838 |\n",
      "|    clip_fraction        | 0.0283       |\n",
      "|    clip_range           | 0.2          |\n",
      "|    entropy_loss         | -0.335       |\n",
      "|    explained_variance   | 0.468        |\n",
      "|    learning_rate        | 0.0003       |\n",
      "|    loss                 | -0.0206      |\n",
      "|    n_updates            | 200          |\n",
      "|    policy_gradient_loss | -0.00561     |\n",
      "|    value_loss           | 0.0205       |\n",
      "------------------------------------------\n",
      "-----------------------------------------\n",
      "| time/                   |             |\n",
      "|    fps                  | 201         |\n",
      "|    iterations           | 22          |\n",
      "|    time_elapsed         | 223         |\n",
      "|    total_timesteps      | 45056       |\n",
      "| train/                  |             |\n",
      "|    approx_kl            | 0.003833436 |\n",
      "|    clip_fraction        | 0.0308      |\n",
      "|    clip_range           | 0.2         |\n",
      "|    entropy_loss         | -0.332      |\n",
      "|    explained_variance   | 0.17        |\n",
      "|    learning_rate        | 0.0003      |\n",
      "|    loss                 | 0.0682      |\n",
      "|    n_updates            | 210         |\n",
      "|    policy_gradient_loss | -0.00263    |\n",
      "|    value_loss           | 3.07        |\n",
      "-----------------------------------------\n",
      "------------------------------------------\n",
      "| time/                   |              |\n",
      "|    fps                  | 200          |\n",
      "|    iterations           | 23           |\n",
      "|    time_elapsed         | 235          |\n",
      "|    total_timesteps      | 47104        |\n",
      "| train/                  |              |\n",
      "|    approx_kl            | 0.0022897343 |\n",
      "|    clip_fraction        | 0.0191       |\n",
      "|    clip_range           | 0.2          |\n",
      "|    entropy_loss         | -0.325       |\n",
      "|    explained_variance   | 0.425        |\n",
      "|    learning_rate        | 0.0003       |\n",
      "|    loss                 | 0.00256      |\n",
      "|    n_updates            | 220          |\n",
      "|    policy_gradient_loss | -0.00141     |\n",
      "|    value_loss           | 1.99         |\n",
      "------------------------------------------\n",
      "------------------------------------------\n",
      "| time/                   |              |\n",
      "|    fps                  | 201          |\n",
      "|    iterations           | 24           |\n",
      "|    time_elapsed         | 243          |\n",
      "|    total_timesteps      | 49152        |\n",
      "| train/                  |              |\n",
      "|    approx_kl            | 0.0043776054 |\n",
      "|    clip_fraction        | 0.0438       |\n",
      "|    clip_range           | 0.2          |\n",
      "|    entropy_loss         | -0.332       |\n",
      "|    explained_variance   | 0.286        |\n",
      "|    learning_rate        | 0.0003       |\n",
      "|    loss                 | -0.0194      |\n",
      "|    n_updates            | 230          |\n",
      "|    policy_gradient_loss | -0.00285     |\n",
      "|    value_loss           | 3.69         |\n",
      "------------------------------------------\n",
      "------------------------------------------\n",
      "| time/                   |              |\n",
      "|    fps                  | 201          |\n",
      "|    iterations           | 25           |\n",
      "|    time_elapsed         | 254          |\n",
      "|    total_timesteps      | 51200        |\n",
      "| train/                  |              |\n",
      "|    approx_kl            | 0.0015662527 |\n",
      "|    clip_fraction        | 0.0227       |\n",
      "|    clip_range           | 0.2          |\n",
      "|    entropy_loss         | -0.304       |\n",
      "|    explained_variance   | 0.417        |\n",
      "|    learning_rate        | 0.0003       |\n",
      "|    loss                 | 0.00164      |\n",
      "|    n_updates            | 240          |\n",
      "|    policy_gradient_loss | -0.00351     |\n",
      "|    value_loss           | 2.96         |\n",
      "------------------------------------------\n",
      "-----------------------------------------\n",
      "| time/                   |             |\n",
      "|    fps                  | 200         |\n",
      "|    iterations           | 26          |\n",
      "|    time_elapsed         | 265         |\n",
      "|    total_timesteps      | 53248       |\n",
      "| train/                  |             |\n",
      "|    approx_kl            | 0.002534822 |\n",
      "|    clip_fraction        | 0.0289      |\n",
      "|    clip_range           | 0.2         |\n",
      "|    entropy_loss         | -0.289      |\n",
      "|    explained_variance   | 0.511       |\n",
      "|    learning_rate        | 0.0003      |\n",
      "|    loss                 | -0.00579    |\n",
      "|    n_updates            | 250         |\n",
      "|    policy_gradient_loss | -0.00391    |\n",
      "|    value_loss           | 2.15        |\n",
      "-----------------------------------------\n",
      "------------------------------------------\n",
      "| time/                   |              |\n",
      "|    fps                  | 200          |\n",
      "|    iterations           | 27           |\n",
      "|    time_elapsed         | 276          |\n",
      "|    total_timesteps      | 55296        |\n",
      "| train/                  |              |\n",
      "|    approx_kl            | 0.0022410513 |\n",
      "|    clip_fraction        | 0.0246       |\n",
      "|    clip_range           | 0.2          |\n",
      "|    entropy_loss         | -0.293       |\n",
      "|    explained_variance   | 0.592        |\n",
      "|    learning_rate        | 0.0003       |\n",
      "|    loss                 | -0.00291     |\n",
      "|    n_updates            | 260          |\n",
      "|    policy_gradient_loss | -0.00455     |\n",
      "|    value_loss           | 1.07         |\n",
      "------------------------------------------\n",
      "-----------------------------------------\n",
      "| time/                   |             |\n",
      "|    fps                  | 200         |\n",
      "|    iterations           | 28          |\n",
      "|    time_elapsed         | 285         |\n",
      "|    total_timesteps      | 57344       |\n",
      "| train/                  |             |\n",
      "|    approx_kl            | 0.006271118 |\n",
      "|    clip_fraction        | 0.031       |\n",
      "|    clip_range           | 0.2         |\n",
      "|    entropy_loss         | -0.306      |\n",
      "|    explained_variance   | 0.453       |\n",
      "|    learning_rate        | 0.0003      |\n",
      "|    loss                 | 0.0017      |\n",
      "|    n_updates            | 270         |\n",
      "|    policy_gradient_loss | -0.000181   |\n",
      "|    value_loss           | 2.56        |\n",
      "-----------------------------------------\n",
      "-----------------------------------------\n",
      "| time/                   |             |\n",
      "|    fps                  | 200         |\n",
      "|    iterations           | 29          |\n",
      "|    time_elapsed         | 296         |\n",
      "|    total_timesteps      | 59392       |\n",
      "| train/                  |             |\n",
      "|    approx_kl            | 0.001076385 |\n",
      "|    clip_fraction        | 0.015       |\n",
      "|    clip_range           | 0.2         |\n",
      "|    entropy_loss         | -0.326      |\n",
      "|    explained_variance   | -57.7       |\n",
      "|    learning_rate        | 0.0003      |\n",
      "|    loss                 | -0.0154     |\n",
      "|    n_updates            | 280         |\n",
      "|    policy_gradient_loss | -0.00283    |\n",
      "|    value_loss           | 0.512       |\n",
      "-----------------------------------------\n",
      "------------------------------------------\n",
      "| time/                   |              |\n",
      "|    fps                  | 199          |\n",
      "|    iterations           | 30           |\n",
      "|    time_elapsed         | 308          |\n",
      "|    total_timesteps      | 61440        |\n",
      "| train/                  |              |\n",
      "|    approx_kl            | 0.0023368811 |\n",
      "|    clip_fraction        | 0.0227       |\n",
      "|    clip_range           | 0.2          |\n",
      "|    entropy_loss         | -0.33        |\n",
      "|    explained_variance   | -21.2        |\n",
      "|    learning_rate        | 0.0003       |\n",
      "|    loss                 | -0.00141     |\n",
      "|    n_updates            | 290          |\n",
      "|    policy_gradient_loss | -0.00356     |\n",
      "|    value_loss           | 0.174        |\n",
      "------------------------------------------\n",
      "-----------------------------------------\n",
      "| time/                   |             |\n",
      "|    fps                  | 198         |\n",
      "|    iterations           | 31          |\n",
      "|    time_elapsed         | 319         |\n",
      "|    total_timesteps      | 63488       |\n",
      "| train/                  |             |\n",
      "|    approx_kl            | 0.002657292 |\n",
      "|    clip_fraction        | 0.0346      |\n",
      "|    clip_range           | 0.2         |\n",
      "|    entropy_loss         | -0.3        |\n",
      "|    explained_variance   | 0.217       |\n",
      "|    learning_rate        | 0.0003      |\n",
      "|    loss                 | 5.26        |\n",
      "|    n_updates            | 300         |\n",
      "|    policy_gradient_loss | -0.00265    |\n",
      "|    value_loss           | 2.17        |\n",
      "-----------------------------------------\n",
      "------------------------------------------\n",
      "| time/                   |              |\n",
      "|    fps                  | 198          |\n",
      "|    iterations           | 32           |\n",
      "|    time_elapsed         | 330          |\n",
      "|    total_timesteps      | 65536        |\n",
      "| train/                  |              |\n",
      "|    approx_kl            | 0.0013175149 |\n",
      "|    clip_fraction        | 0.0182       |\n",
      "|    clip_range           | 0.2          |\n",
      "|    entropy_loss         | -0.301       |\n",
      "|    explained_variance   | 0.972        |\n",
      "|    learning_rate        | 0.0003       |\n",
      "|    loss                 | -0.00249     |\n",
      "|    n_updates            | 310          |\n",
      "|    policy_gradient_loss | -0.00158     |\n",
      "|    value_loss           | 0.00728      |\n",
      "------------------------------------------\n",
      "------------------------------------------\n",
      "| time/                   |              |\n",
      "|    fps                  | 198          |\n",
      "|    iterations           | 33           |\n",
      "|    time_elapsed         | 340          |\n",
      "|    total_timesteps      | 67584        |\n",
      "| train/                  |              |\n",
      "|    approx_kl            | 0.0013367858 |\n",
      "|    clip_fraction        | 0.0182       |\n",
      "|    clip_range           | 0.2          |\n",
      "|    entropy_loss         | -0.285       |\n",
      "|    explained_variance   | 0.473        |\n",
      "|    learning_rate        | 0.0003       |\n",
      "|    loss                 | -0.00217     |\n",
      "|    n_updates            | 320          |\n",
      "|    policy_gradient_loss | -0.00187     |\n",
      "|    value_loss           | 0.0428       |\n",
      "------------------------------------------\n",
      "-----------------------------------------\n",
      "| time/                   |             |\n",
      "|    fps                  | 197         |\n",
      "|    iterations           | 34          |\n",
      "|    time_elapsed         | 351         |\n",
      "|    total_timesteps      | 69632       |\n",
      "| train/                  |             |\n",
      "|    approx_kl            | 0.011378707 |\n",
      "|    clip_fraction        | 0.0427      |\n",
      "|    clip_range           | 0.2         |\n",
      "|    entropy_loss         | -0.301      |\n",
      "|    explained_variance   | 0.467       |\n",
      "|    learning_rate        | 0.0003      |\n",
      "|    loss                 | -0.00478    |\n",
      "|    n_updates            | 330         |\n",
      "|    policy_gradient_loss | -0.00423    |\n",
      "|    value_loss           | 0.525       |\n",
      "-----------------------------------------\n",
      "------------------------------------------\n",
      "| time/                   |              |\n",
      "|    fps                  | 198          |\n",
      "|    iterations           | 35           |\n",
      "|    time_elapsed         | 361          |\n",
      "|    total_timesteps      | 71680        |\n",
      "| train/                  |              |\n",
      "|    approx_kl            | 0.0042916825 |\n",
      "|    clip_fraction        | 0.0272       |\n",
      "|    clip_range           | 0.2          |\n",
      "|    entropy_loss         | -0.325       |\n",
      "|    explained_variance   | 0.446        |\n",
      "|    learning_rate        | 0.0003       |\n",
      "|    loss                 | 3.63         |\n",
      "|    n_updates            | 340          |\n",
      "|    policy_gradient_loss | -0.00316     |\n",
      "|    value_loss           | 1.13         |\n",
      "------------------------------------------\n",
      "-----------------------------------------\n",
      "| time/                   |             |\n",
      "|    fps                  | 198         |\n",
      "|    iterations           | 36          |\n",
      "|    time_elapsed         | 371         |\n",
      "|    total_timesteps      | 73728       |\n",
      "| train/                  |             |\n",
      "|    approx_kl            | 0.005383782 |\n",
      "|    clip_fraction        | 0.0554      |\n",
      "|    clip_range           | 0.2         |\n",
      "|    entropy_loss         | -0.371      |\n",
      "|    explained_variance   | 0.613       |\n",
      "|    learning_rate        | 0.0003      |\n",
      "|    loss                 | -0.00822    |\n",
      "|    n_updates            | 350         |\n",
      "|    policy_gradient_loss | -0.00285    |\n",
      "|    value_loss           | 1.19        |\n",
      "-----------------------------------------\n",
      "-----------------------------------------\n",
      "| time/                   |             |\n",
      "|    fps                  | 197         |\n",
      "|    iterations           | 37          |\n",
      "|    time_elapsed         | 383         |\n",
      "|    total_timesteps      | 75776       |\n",
      "| train/                  |             |\n",
      "|    approx_kl            | 0.005247106 |\n",
      "|    clip_fraction        | 0.0605      |\n",
      "|    clip_range           | 0.2         |\n",
      "|    entropy_loss         | -0.435      |\n",
      "|    explained_variance   | 0.671       |\n",
      "|    learning_rate        | 0.0003      |\n",
      "|    loss                 | -0.0072     |\n",
      "|    n_updates            | 360         |\n",
      "|    policy_gradient_loss | -0.00362    |\n",
      "|    value_loss           | 0.809       |\n",
      "-----------------------------------------\n",
      "------------------------------------------\n",
      "| time/                   |              |\n",
      "|    fps                  | 197          |\n",
      "|    iterations           | 38           |\n",
      "|    time_elapsed         | 393          |\n",
      "|    total_timesteps      | 77824        |\n",
      "| train/                  |              |\n",
      "|    approx_kl            | 0.0017258056 |\n",
      "|    clip_fraction        | 0.0307       |\n",
      "|    clip_range           | 0.2          |\n",
      "|    entropy_loss         | -0.399       |\n",
      "|    explained_variance   | 0.581        |\n",
      "|    learning_rate        | 0.0003       |\n",
      "|    loss                 | -0.0159      |\n",
      "|    n_updates            | 370          |\n",
      "|    policy_gradient_loss | -0.0023      |\n",
      "|    value_loss           | 1.61         |\n",
      "------------------------------------------\n",
      "------------------------------------------\n",
      "| time/                   |              |\n",
      "|    fps                  | 198          |\n",
      "|    iterations           | 39           |\n",
      "|    time_elapsed         | 403          |\n",
      "|    total_timesteps      | 79872        |\n",
      "| train/                  |              |\n",
      "|    approx_kl            | 0.0024056018 |\n",
      "|    clip_fraction        | 0.0179       |\n",
      "|    clip_range           | 0.2          |\n",
      "|    entropy_loss         | -0.399       |\n",
      "|    explained_variance   | 0.713        |\n",
      "|    learning_rate        | 0.0003       |\n",
      "|    loss                 | -0.000955    |\n",
      "|    n_updates            | 380          |\n",
      "|    policy_gradient_loss | -0.00194     |\n",
      "|    value_loss           | 0.717        |\n",
      "------------------------------------------\n",
      "------------------------------------------\n",
      "| time/                   |              |\n",
      "|    fps                  | 198          |\n",
      "|    iterations           | 40           |\n",
      "|    time_elapsed         | 412          |\n",
      "|    total_timesteps      | 81920        |\n",
      "| train/                  |              |\n",
      "|    approx_kl            | 0.0075932993 |\n",
      "|    clip_fraction        | 0.0926       |\n",
      "|    clip_range           | 0.2          |\n",
      "|    entropy_loss         | -0.437       |\n",
      "|    explained_variance   | 0.444        |\n",
      "|    learning_rate        | 0.0003       |\n",
      "|    loss                 | 0.0174       |\n",
      "|    n_updates            | 390          |\n",
      "|    policy_gradient_loss | -0.00387     |\n",
      "|    value_loss           | 2.83         |\n",
      "------------------------------------------\n",
      "-----------------------------------------\n",
      "| time/                   |             |\n",
      "|    fps                  | 198         |\n",
      "|    iterations           | 41          |\n",
      "|    time_elapsed         | 422         |\n",
      "|    total_timesteps      | 83968       |\n",
      "| train/                  |             |\n",
      "|    approx_kl            | 0.005371419 |\n",
      "|    clip_fraction        | 0.0288      |\n",
      "|    clip_range           | 0.2         |\n",
      "|    entropy_loss         | -0.437      |\n",
      "|    explained_variance   | 0.537       |\n",
      "|    learning_rate        | 0.0003      |\n",
      "|    loss                 | -0.00711    |\n",
      "|    n_updates            | 400         |\n",
      "|    policy_gradient_loss | -0.00319    |\n",
      "|    value_loss           | 2.6         |\n",
      "-----------------------------------------\n",
      "-----------------------------------------\n",
      "| time/                   |             |\n",
      "|    fps                  | 199         |\n",
      "|    iterations           | 42          |\n",
      "|    time_elapsed         | 432         |\n",
      "|    total_timesteps      | 86016       |\n",
      "| train/                  |             |\n",
      "|    approx_kl            | 0.005653847 |\n",
      "|    clip_fraction        | 0.0442      |\n",
      "|    clip_range           | 0.2         |\n",
      "|    entropy_loss         | -0.43       |\n",
      "|    explained_variance   | 0.773       |\n",
      "|    learning_rate        | 0.0003      |\n",
      "|    loss                 | -0.00327    |\n",
      "|    n_updates            | 410         |\n",
      "|    policy_gradient_loss | -0.0016     |\n",
      "|    value_loss           | 1.08        |\n",
      "-----------------------------------------\n",
      "------------------------------------------\n",
      "| time/                   |              |\n",
      "|    fps                  | 198          |\n",
      "|    iterations           | 43           |\n",
      "|    time_elapsed         | 442          |\n",
      "|    total_timesteps      | 88064        |\n",
      "| train/                  |              |\n",
      "|    approx_kl            | 0.0051313783 |\n",
      "|    clip_fraction        | 0.0485       |\n",
      "|    clip_range           | 0.2          |\n",
      "|    entropy_loss         | -0.446       |\n",
      "|    explained_variance   | 0.777        |\n",
      "|    learning_rate        | 0.0003       |\n",
      "|    loss                 | -0.01        |\n",
      "|    n_updates            | 420          |\n",
      "|    policy_gradient_loss | -0.00158     |\n",
      "|    value_loss           | 1.66         |\n",
      "------------------------------------------\n",
      "------------------------------------------\n",
      "| time/                   |              |\n",
      "|    fps                  | 199          |\n",
      "|    iterations           | 45           |\n",
      "|    time_elapsed         | 462          |\n",
      "|    total_timesteps      | 92160        |\n",
      "| train/                  |              |\n",
      "|    approx_kl            | 0.0012748421 |\n",
      "|    clip_fraction        | 0.0229       |\n",
      "|    clip_range           | 0.2          |\n",
      "|    entropy_loss         | -0.43        |\n",
      "|    explained_variance   | 0.758        |\n",
      "|    learning_rate        | 0.0003       |\n",
      "|    loss                 | -0.000792    |\n",
      "|    n_updates            | 440          |\n",
      "|    policy_gradient_loss | -0.00534     |\n",
      "|    value_loss           | 0.675        |\n",
      "------------------------------------------\n",
      "------------------------------------------\n",
      "| time/                   |              |\n",
      "|    fps                  | 198          |\n",
      "|    iterations           | 46           |\n",
      "|    time_elapsed         | 473          |\n",
      "|    total_timesteps      | 94208        |\n",
      "| train/                  |              |\n",
      "|    approx_kl            | 0.0030064872 |\n",
      "|    clip_fraction        | 0.027        |\n",
      "|    clip_range           | 0.2          |\n",
      "|    entropy_loss         | -0.425       |\n",
      "|    explained_variance   | 0.81         |\n",
      "|    learning_rate        | 0.0003       |\n",
      "|    loss                 | 0.00159      |\n",
      "|    n_updates            | 450          |\n",
      "|    policy_gradient_loss | -0.00207     |\n",
      "|    value_loss           | 0.807        |\n",
      "------------------------------------------\n",
      "------------------------------------------\n",
      "| time/                   |              |\n",
      "|    fps                  | 199          |\n",
      "|    iterations           | 47           |\n",
      "|    time_elapsed         | 482          |\n",
      "|    total_timesteps      | 96256        |\n",
      "| train/                  |              |\n",
      "|    approx_kl            | 0.0022127787 |\n",
      "|    clip_fraction        | 0.00986      |\n",
      "|    clip_range           | 0.2          |\n",
      "|    entropy_loss         | -0.415       |\n",
      "|    explained_variance   | 0.845        |\n",
      "|    learning_rate        | 0.0003       |\n",
      "|    loss                 | -0.00624     |\n",
      "|    n_updates            | 460          |\n",
      "|    policy_gradient_loss | -0.00129     |\n",
      "|    value_loss           | 0.7          |\n",
      "------------------------------------------\n",
      "------------------------------------------\n",
      "| time/                   |              |\n",
      "|    fps                  | 199          |\n",
      "|    iterations           | 48           |\n",
      "|    time_elapsed         | 493          |\n",
      "|    total_timesteps      | 98304        |\n",
      "| train/                  |              |\n",
      "|    approx_kl            | 0.0043024737 |\n",
      "|    clip_fraction        | 0.0311       |\n",
      "|    clip_range           | 0.2          |\n",
      "|    entropy_loss         | -0.402       |\n",
      "|    explained_variance   | 0.864        |\n",
      "|    learning_rate        | 0.0003       |\n",
      "|    loss                 | -0.00183     |\n",
      "|    n_updates            | 470          |\n",
      "|    policy_gradient_loss | -0.00147     |\n",
      "|    value_loss           | 0.623        |\n",
      "------------------------------------------\n",
      "------------------------------------------\n",
      "| time/                   |              |\n",
      "|    fps                  | 199          |\n",
      "|    iterations           | 49           |\n",
      "|    time_elapsed         | 503          |\n",
      "|    total_timesteps      | 100352       |\n",
      "| train/                  |              |\n",
      "|    approx_kl            | 0.0011642057 |\n",
      "|    clip_fraction        | 0.0282       |\n",
      "|    clip_range           | 0.2          |\n",
      "|    entropy_loss         | -0.409       |\n",
      "|    explained_variance   | 0.964        |\n",
      "|    learning_rate        | 0.0003       |\n",
      "|    loss                 | -0.00449     |\n",
      "|    n_updates            | 480          |\n",
      "|    policy_gradient_loss | -0.00211     |\n",
      "|    value_loss           | 0.0965       |\n",
      "------------------------------------------\n"
     ]
    },
    {
     "data": {
      "text/html": [
       "<pre style=\"white-space:pre;overflow-x:auto;line-height:normal;font-family:Menlo,'DejaVu Sans Mono',consolas,'Courier New',monospace\"></pre>\n"
      ],
      "text/plain": []
     },
     "metadata": {},
     "output_type": "display_data"
    },
    {
     "data": {
      "text/plain": [
       "<stable_baselines3.ppo.ppo.PPO at 0x75749cf1f1c0>"
      ]
     },
     "execution_count": 87,
     "metadata": {},
     "output_type": "execute_result"
    }
   ],
   "source": [
    "# 3. Обучи агента\n",
    "model = PPO(\"MlpPolicy\", vec_env, verbose=1)\n",
    "model.learn(total_timesteps=100_000, progress_bar=True)"
   ]
  },
  {
   "cell_type": "code",
   "execution_count": 88,
   "id": "a6d0c80e-1e62-4637-89f1-91c2ca91fb6a",
   "metadata": {},
   "outputs": [],
   "source": [
    "model.save(\"ppo_btc_trading\")"
   ]
  },
  {
   "cell_type": "code",
   "execution_count": null,
   "id": "97b5a771-e5ee-42b7-a1d3-8808f916d818",
   "metadata": {},
   "outputs": [],
   "source": [
    "model = PPO.load(\"ppo_btc_trading\", env=vec_env)"
   ]
  },
  {
   "cell_type": "code",
   "execution_count": 89,
   "id": "db5a9dd1-551f-4f9e-b64b-7c815c4aec0d",
   "metadata": {},
   "outputs": [
    {
     "name": "stdout",
     "output_type": "stream",
     "text": [
      "✅ Total reward for episode: 46.79\n",
      "🔁 Total trades executed: 2\n",
      "📉 Max drawdown: 3160.87\n",
      "📈 Sharpe Ratio: 0.02\n",
      "Логи эпизода сохранены в episode_run_log.csv\n"
     ]
    }
   ],
   "source": [
    "obs = vec_env.reset()\n",
    "done = False\n",
    "\n",
    "balances = []\n",
    "positions = []\n",
    "rewards = []\n",
    "steps = []\n",
    "equities = []\n",
    "\n",
    "total_reward = 0\n",
    "step_idx = 0\n",
    "num_trades = 0\n",
    "last_position = 0\n",
    "\n",
    "while not done:\n",
    "    action, _states = model.predict(obs, deterministic=True)\n",
    "    obs, reward, done, info = vec_env.step(action)\n",
    "\n",
    "    balance = info[0]['balance']\n",
    "    position = info[0]['position']\n",
    "    equity = info[0].get('equity', balance)  # fallback на balance\n",
    "\n",
    "    balances.append(balance)\n",
    "    positions.append(position)\n",
    "    rewards.append(reward[0])\n",
    "    equities.append(equity)\n",
    "    steps.append(step_idx)\n",
    "\n",
    "    # Считаем сделки — смена позиции\n",
    "    if position != last_position:\n",
    "        num_trades += 1\n",
    "        last_position = position\n",
    "\n",
    "    total_reward += reward[0]\n",
    "    step_idx += 1\n",
    "\n",
    "print(f\"✅ Total reward for episode: {total_reward:.2f}\")\n",
    "print(f\"🔁 Total trades executed: {num_trades}\")\n",
    "\n",
    "# --- Метрики ---\n",
    "if len(equities) > 1:\n",
    "    equity_array = np.array(equities)\n",
    "    max_dd = np.max(np.maximum.accumulate(equity_array) - equity_array)\n",
    "    sharpe = np.mean(rewards) / (np.std(rewards) + 1e-8)\n",
    "\n",
    "    print(f\"📉 Max drawdown: {max_dd:.2f}\")\n",
    "    if len(rewards) > 1:\n",
    "        print(f\"📈 Sharpe Ratio: {sharpe:.2f}\")\n",
    "\n",
    "# Сохраняем в CSV\n",
    "df_log = pd.DataFrame({\n",
    "    'step': steps,\n",
    "    'balance': balances,\n",
    "    'equity': equities,\n",
    "    'position': positions,\n",
    "    'reward': rewards\n",
    "})\n",
    "df_log.to_csv('episode_run_log.csv', index=False)\n",
    "print(\"Логи эпизода сохранены в episode_run_log.csv\")"
   ]
  },
  {
   "cell_type": "code",
   "execution_count": 90,
   "id": "90319d32-6391-423e-bbd3-5671fd051568",
   "metadata": {
    "scrolled": true
   },
   "outputs": [
    {
     "name": "stdout",
     "output_type": "stream",
     "text": [
      "Шаги с отрицательной наградой (ошибки):\n"
     ]
    }
   ],
   "source": [
    "print(\"Шаги с отрицательной наградой (ошибки):\")\n",
    "for i, r in enumerate(rewards):\n",
    "    if r < 0:\n",
    "        print(f\"Step {i}: reward {r:.4f}, position={positions[i]}, balance={balances[i]:.2f}\")\n"
   ]
  },
  {
   "cell_type": "code",
   "execution_count": 91,
   "id": "f0767f03-a39a-4f71-9dd8-f3c264b91545",
   "metadata": {},
   "outputs": [],
   "source": [
    "episode_summary = {\n",
    "    'total_reward': total_reward,\n",
    "    'total_trades': num_trades,\n",
    "    'avg_reward': np.mean(rewards),\n",
    "    'sharpe': sharpe if len(rewards) > 1 else None,\n",
    "    'max_drawdown': max_dd,\n",
    "    'final_balance': balances[-1],\n",
    "    'final_equity': equities[-1],\n",
    "}\n",
    "pd.DataFrame([episode_summary]).to_csv(\"episode_summary.csv\", index=False)"
   ]
  },
  {
   "cell_type": "code",
   "execution_count": 92,
   "id": "f9605750-6129-4e27-8d33-d2470b69903b",
   "metadata": {},
   "outputs": [
    {
     "data": {
      "image/png": "[encoded data removed]",
      "text/plain": [
       "<Figure size 640x480 with 1 Axes>"
      ]
     },
     "metadata": {},
     "output_type": "display_data"
    }
   ],
   "source": [
    "hold_lengths = []\n",
    "current_hold = 0\n",
    "\n",
    "for pos in positions:\n",
    "    if pos == 1:\n",
    "        current_hold += 1\n",
    "    else:\n",
    "        if current_hold > 0:\n",
    "            hold_lengths.append(current_hold)\n",
    "            current_hold = 0\n",
    "\n",
    "plt.hist(hold_lengths, bins=30)\n",
    "plt.title(\"Длительность удержания позиции (в шагах)\")\n",
    "plt.xlabel(\"Шаги\")\n",
    "plt.ylabel(\"Частота\")\n",
    "plt.show()"
   ]
  },
  {
   "cell_type": "code",
   "execution_count": 93,
   "id": "e93a4166-b060-45e2-a7c3-a7ec4c08b435",
   "metadata": {},
   "outputs": [],
   "source": [
    "\n",
    "def analyze_episode(log_path=\"episode_run_log.csv\", trades_info=None, df_full=None, initial_balance=10_000):\n",
    "    # --- Загружаем лог эпизода ---\n",
    "    df_log = pd.read_csv(log_path)\n",
    "\n",
    "    steps = df_log['step']\n",
    "    balances = df_log['balance']\n",
    "    equities = df_log['equity']\n",
    "    rewards = df_log['reward']\n",
    "    positions = df_log['position']\n",
    "    cumulative_rewards = np.cumsum(rewards)\n",
    "\n",
    "    # --- Метрики ---\n",
    "    total_reward = rewards.sum()\n",
    "    num_trades = int(np.sum(np.abs(np.diff(positions)) > 0))\n",
    "    sharpe = np.mean(rewards) / (np.std(rewards) + 1e-8) if len(rewards) > 1 else 0\n",
    "    max_dd = np.max(np.maximum.accumulate(equities) - equities)\n",
    "\n",
    "    print(f\"✅ Total reward: {total_reward:.2f}\")\n",
    "    print(f\"🔁 Total trades executed: {num_trades}\")\n",
    "    print(f\"📉 Max drawdown: {max_dd:.2f}\")\n",
    "    print(f\"📈 Sharpe Ratio: {sharpe:.2f}\")\n",
    "\n",
    "    # --- Сохраняем метрики ---\n",
    "    summary = pd.DataFrame([{\n",
    "        'total_reward': total_reward,\n",
    "        'total_trades': num_trades,\n",
    "        'avg_reward': np.mean(rewards),\n",
    "        'sharpe': sharpe,\n",
    "        'max_drawdown': max_dd,\n",
    "        'final_balance': balances.iloc[-1],\n",
    "        'final_equity': equities.iloc[-1],\n",
    "    }])\n",
    "    summary.to_csv(\"episode_summary.csv\", index=False)\n",
    "\n",
    "    # --- Графики ---\n",
    "    plt.figure(figsize=(14, 12))\n",
    "\n",
    "    plt.subplot(5, 1, 1)\n",
    "    plt.plot(steps, balances, label='Balance')\n",
    "    plt.title('Баланс на каждом шаге')\n",
    "    plt.xlabel('Step')\n",
    "    plt.ylabel('Balance')\n",
    "    plt.legend()\n",
    "\n",
    "    plt.subplot(5, 1, 2)\n",
    "    plt.plot(steps, positions, label='Position')\n",
    "    plt.title('Позиция агента (0=Hold, 1=Long)')\n",
    "    plt.xlabel('Step')\n",
    "    plt.ylabel('Position')\n",
    "    plt.yticks([0, 1])\n",
    "    plt.legend()\n",
    "\n",
    "    plt.subplot(5, 1, 3)\n",
    "    plt.plot(steps, rewards, label='Reward')\n",
    "    plt.title('Награда агента по шагам')\n",
    "    plt.xlabel('Step')\n",
    "    plt.ylabel('Reward')\n",
    "    plt.legend()\n",
    "\n",
    "    plt.subplot(5, 1, 4)\n",
    "    plt.plot(steps, balances, label='Balance')\n",
    "    plt.plot(steps, equities, label='Equity')\n",
    "    plt.title('📉 Equity и баланс за эпизод')\n",
    "    plt.xlabel('Step')\n",
    "    plt.ylabel('USD')\n",
    "    plt.legend()\n",
    "    plt.grid(True)\n",
    "\n",
    "    plt.subplot(5, 1, 5)\n",
    "    plt.plot(steps, cumulative_rewards, label='Кумулятивная прибыль')\n",
    "    plt.title('Кумулятивная прибыль')\n",
    "    plt.xlabel('Step')\n",
    "    plt.ylabel('Profit')\n",
    "    plt.grid(True)\n",
    "    plt.legend()\n",
    "\n",
    "    plt.tight_layout()\n",
    "    plt.savefig(\"episode_plots.png\")\n",
    "    plt.show()\n",
    "\n",
    "    # --- Сравнение с Buy & Hold ---\n",
    "    if df_full is not None:\n",
    "        plt.figure(figsize=(12, 6))\n",
    "        bh_equity = df_full['Close'].iloc[:len(steps)] / df_full['Close'].iloc[0] * initial_balance\n",
    "        plt.plot(steps, equities, label='RL Strategy')\n",
    "        plt.plot(steps, bh_equity, label='Buy & Hold', linestyle='--')\n",
    "        plt.title(\"📊 RL стратегия vs Buy & Hold\")\n",
    "        plt.xlabel(\"Шаг\")\n",
    "        plt.ylabel(\"USD\")\n",
    "        plt.grid(True)\n",
    "        plt.legend()\n",
    "        plt.tight_layout()\n",
    "        plt.savefig(\"rl_vs_hold.png\")\n",
    "        plt.show()\n",
    "\n",
    "    # --- Анализ сделок ---\n",
    "    if trades_info:\n",
    "        trades_df = pd.DataFrame(trades_info)\n",
    "        trades_df['duration'] = trades_df['exit_step'] - trades_df['entry_step']\n",
    "        trades_df.to_csv(\"trades.csv\", index=False)\n",
    "\n",
    "        print(f\"\\nОбщее число сделок: {len(trades_df)}\")\n",
    "        print(f\"Средняя длительность сделки (в шагах): {trades_df['duration'].mean():.2f}\")\n",
    "        print(f\"Средняя прибыль на сделку: {trades_df['profit'].mean():.2f}\")\n",
    "        print(f\"Суммарная прибыль: {trades_df['profit'].sum():.2f}\")\n",
    "\n",
    "        # Гистограмма прибыли\n",
    "        plt.figure(figsize=(12, 4))\n",
    "        plt.hist(trades_df['profit'], bins=30, color='blue', alpha=0.7)\n",
    "        plt.title(\"Распределение прибыли по сделкам\")\n",
    "        plt.xlabel(\"Прибыль\")\n",
    "        plt.ylabel(\"Частота\")\n",
    "        plt.grid(True)\n",
    "        plt.tight_layout()\n",
    "        plt.savefig(\"trade_profit_hist.png\")\n",
    "        plt.show()\n",
    "\n",
    "        # Цена BTC с входами/выходами\n",
    "        if df_full is not None:\n",
    "            plt.figure(figsize=(14, 6))\n",
    "            plt.plot(df_full.index, df_full['Close'], label='Цена BTC', color='black', alpha=0.6)\n",
    "\n",
    "            for trade in trades_info:\n",
    "                entry = trade['entry_step']\n",
    "                exit_ = trade['exit_step']\n",
    "                profit = trade['profit']\n",
    "                color = 'green' if profit >= 0 else 'red'\n",
    "                plt.axvline(df_full.index[entry], color=color, linestyle='--', alpha=0.5)\n",
    "                plt.axvline(df_full.index[exit_], color=color, linestyle=':', alpha=0.5)\n",
    "\n",
    "            plt.title(\"📈 Цена BTC с точками входа/выхода\")\n",
    "            plt.xlabel(\"Время\")\n",
    "            plt.ylabel(\"Цена\")\n",
    "            plt.grid(True)\n",
    "            plt.legend()\n",
    "            plt.tight_layout()\n",
    "            plt.savefig(\"btc_price_with_trades.png\")\n",
    "            plt.show()"
   ]
  },
  {
   "cell_type": "code",
   "execution_count": 94,
   "id": "fad32f8a-2f55-41ea-8880-428c76d2e2da",
   "metadata": {},
   "outputs": [
    {
     "name": "stdout",
     "output_type": "stream",
     "text": [
      "✅ Total reward: 46.79\n",
      "🔁 Total trades executed: 1\n",
      "📉 Max drawdown: 3160.87\n",
      "📈 Sharpe Ratio: 0.02\n"
     ]
    },
    {
     "data": {
      "image/png": "[encoded data removed]",
      "text/plain": [
       "<Figure size 1400x1200 with 5 Axes>"
      ]
     },
     "metadata": {},
     "output_type": "display_data"
    },
    {
     "data": {
      "image/png": "[encoded data removed]",
      "text/plain": [
       "<Figure size 1200x600 with 1 Axes>"
      ]
     },
     "metadata": {},
     "output_type": "display_data"
    }
   ],
   "source": [
    "all_trades = vec_env.envs[0].trades_info\n",
    "analyze_episode(\n",
    "    log_path=\"episode_run_log.csv\",\n",
    "    trades_info=all_trades,\n",
    "    df_full=btc_with_ta  # или df, где есть .index и 'Close'\n",
    ")"
   ]
  },
  {
   "cell_type": "code",
   "execution_count": null,
   "id": "b6c62342-ea77-4220-9357-0b44e5e771b7",
   "metadata": {},
   "outputs": [],
   "source": []
  },
  {
   "cell_type": "code",
   "execution_count": 95,
   "id": "049e27cd-f783-4f3e-989a-8654301af812",
   "metadata": {},
   "outputs": [],
   "source": [
    "def analyze_summary_metrics(run_logs: list[pd.DataFrame], trades_infos: list[list[dict]]):\n",
    "    rewards_all = []\n",
    "    sharpe_all = []\n",
    "    drawdowns_all = []\n",
    "    num_trades_all = []\n",
    "    avg_pnl_all = []\n",
    "    avg_duration_all = []\n",
    "\n",
    "    for log_df, trades in zip(run_logs, trades_infos):\n",
    "        # === Награды и Sharpe ===\n",
    "        rewards = log_df['reward'].values\n",
    "        total_reward = np.sum(rewards)\n",
    "        sharpe = np.mean(rewards) / (np.std(rewards) + 1e-8)\n",
    "        equity = log_df['equity'].values\n",
    "        max_dd = np.max(np.maximum.accumulate(equity) - equity)\n",
    "\n",
    "        rewards_all.append(total_reward)\n",
    "        sharpe_all.append(sharpe)\n",
    "        drawdowns_all.append(max_dd)\n",
    "\n",
    "        # === Trades ===\n",
    "        trades_df = pd.DataFrame(trades)\n",
    "        num_trades_all.append(len(trades_df))\n",
    "        avg_pnl_all.append(trades_df['profit'].mean() if not trades_df.empty else 0)\n",
    "        avg_duration_all.append(trades_df['exit_step'].sub(trades_df['entry_step']).mean() if not trades_df.empty else 0)\n",
    "\n",
    "    print(\"📊 Метрики по всем эпизодам:\")\n",
    "    print(f\"▶ Средняя Total Reward: {np.mean(rewards_all):.2f}\")\n",
    "    print(f\"▶ Средний Sharpe Ratio: {np.mean(sharpe_all):.2f}\")\n",
    "    print(f\"▶ Средний Max Drawdown: {np.mean(drawdowns_all):.2f}\")\n",
    "    print(f\"▶ Среднее число сделок: {np.mean(num_trades_all):.2f}\")\n",
    "    print(f\"▶ Средняя прибыль на сделку: {np.mean(avg_pnl_all):.2f}\")\n",
    "    print(f\"▶ Средняя длительность сделки: {np.mean(avg_duration_all):.2f} шагов\")\n",
    "\n",
    "    # --- Визуализация ---\n",
    "    fig, axs = plt.subplots(2, 3, figsize=(16, 8))\n",
    "\n",
    "    axs[0,0].boxplot(rewards_all)\n",
    "    axs[0,0].set_title('🎯 Total Reward')\n",
    "    \n",
    "    axs[0,1].boxplot(sharpe_all)\n",
    "    axs[0,1].set_title('📈 Sharpe Ratio')\n",
    "    \n",
    "    axs[0,2].boxplot(drawdowns_all)\n",
    "    axs[0,2].set_title('📉 Max Drawdown')\n",
    "    \n",
    "    axs[1,0].boxplot(num_trades_all)\n",
    "    axs[1,0].set_title('💼 Num Trades')\n",
    "    \n",
    "    axs[1,1].boxplot(avg_pnl_all)\n",
    "    axs[1,1].set_title('💰 Avg PnL per Trade')\n",
    "    \n",
    "    axs[1,2].boxplot(avg_duration_all)\n",
    "    axs[1,2].set_title('⏱️ Avg Trade Duration')\n",
    "\n",
    "    plt.tight_layout()\n",
    "    plt.show()"
   ]
  },
  {
   "cell_type": "code",
   "execution_count": 96,
   "id": "1621b8e0-b709-483a-ba07-720b69bfb97f",
   "metadata": {},
   "outputs": [
    {
     "name": "stdout",
     "output_type": "stream",
     "text": [
      "📊 Метрики по всем эпизодам:\n",
      "▶ Средняя Total Reward: 46.79\n",
      "▶ Средний Sharpe Ratio: 0.02\n",
      "▶ Средний Max Drawdown: 3160.87\n",
      "▶ Среднее число сделок: 0.00\n",
      "▶ Средняя прибыль на сделку: 0.00\n",
      "▶ Средняя длительность сделки: 0.00 шагов\n"
     ]
    },
    {
     "data": {
      "image/png": "[encoded data removed]",
      "text/plain": [
       "<Figure size 1600x800 with 6 Axes>"
      ]
     },
     "metadata": {},
     "output_type": "display_data"
    }
   ],
   "source": [
    "run_logs = []        # список из df_log по каждому эпизоду\n",
    "trades_infos = []    # список из env.trades_info по каждому эпизоду\n",
    "\n",
    "for i in range(10):  # 10 запусков\n",
    "    obs = vec_env.reset()\n",
    "    done = False\n",
    "\n",
    "    log = {\n",
    "        \"balance\": [], \"equity\": [], \"reward\": [], \"position\": [], \"step\": []\n",
    "    }\n",
    "    trades = []\n",
    "    step = 0\n",
    "    last_position = 0\n",
    "    while not done:\n",
    "        action, _ = model.predict(obs, deterministic=True)\n",
    "        obs, reward, done, info = vec_env.step(action)\n",
    "        info = info[0]\n",
    "\n",
    "        for key in log:\n",
    "            if key == \"reward\":\n",
    "                log[key].append(reward[0])\n",
    "            else:\n",
    "                log[key].append(info[key])\n",
    "        step += 1\n",
    "\n",
    "    run_logs.append(pd.DataFrame(log))\n",
    "    trades_infos.append(vec_env.envs[0].trades_info)\n",
    "\n",
    "# --- Анализ всех эпизодов ---\n",
    "analyze_summary_metrics(run_logs, trades_infos)"
   ]
  },
  {
   "cell_type": "code",
   "execution_count": 97,
   "id": "eea4e5e9-5a47-45be-9a49-55bca2bfb1c6",
   "metadata": {},
   "outputs": [
    {
     "ename": "KeyError",
     "evalue": "'exit_step'",
     "output_type": "error",
     "traceback": [
      "\u001b[0;31m---------------------------------------------------------------------------\u001b[0m",
      "\u001b[0;31mKeyError\u001b[0m                                  Traceback (most recent call last)",
      "Cell \u001b[0;32mIn[97], line 1\u001b[0m\n\u001b[0;32m----> 1\u001b[0m \u001b[43manalyze_trades\u001b[49m\u001b[43m(\u001b[49m\u001b[43mvec_env\u001b[49m\u001b[38;5;241;43m.\u001b[39;49m\u001b[43menvs\u001b[49m\u001b[43m[\u001b[49m\u001b[38;5;241;43m0\u001b[39;49m\u001b[43m]\u001b[49m\u001b[38;5;241;43m.\u001b[39;49m\u001b[43mall_trades_info\u001b[49m\u001b[43m,\u001b[49m\u001b[43m \u001b[49m\u001b[43mvec_env\u001b[49m\u001b[38;5;241;43m.\u001b[39;49m\u001b[43menvs\u001b[49m\u001b[43m[\u001b[49m\u001b[38;5;241;43m0\u001b[39;49m\u001b[43m]\u001b[49m\u001b[38;5;241;43m.\u001b[39;49m\u001b[43mdf\u001b[49m\u001b[43m)\u001b[49m\n",
      "Cell \u001b[0;32mIn[33], line 3\u001b[0m, in \u001b[0;36manalyze_trades\u001b[0;34m(trades_info, df)\u001b[0m\n\u001b[1;32m      1\u001b[0m \u001b[38;5;28;01mdef\u001b[39;00m\u001b[38;5;250m \u001b[39m\u001b[38;5;21manalyze_trades\u001b[39m(trades_info, df):\n\u001b[1;32m      2\u001b[0m     trades_df \u001b[38;5;241m=\u001b[39m pd\u001b[38;5;241m.\u001b[39mDataFrame(trades_info)\n\u001b[0;32m----> 3\u001b[0m     trades_df[\u001b[38;5;124m'\u001b[39m\u001b[38;5;124mduration\u001b[39m\u001b[38;5;124m'\u001b[39m] \u001b[38;5;241m=\u001b[39m \u001b[43mtrades_df\u001b[49m\u001b[43m[\u001b[49m\u001b[38;5;124;43m'\u001b[39;49m\u001b[38;5;124;43mexit_step\u001b[39;49m\u001b[38;5;124;43m'\u001b[39;49m\u001b[43m]\u001b[49m \u001b[38;5;241m-\u001b[39m trades_df[\u001b[38;5;124m'\u001b[39m\u001b[38;5;124mentry_step\u001b[39m\u001b[38;5;124m'\u001b[39m]\n\u001b[1;32m      5\u001b[0m     \u001b[38;5;28mprint\u001b[39m(\u001b[38;5;124mf\u001b[39m\u001b[38;5;124m\"\u001b[39m\u001b[38;5;124mОбщее число сделок: \u001b[39m\u001b[38;5;132;01m{\u001b[39;00m\u001b[38;5;28mlen\u001b[39m(trades_df)\u001b[38;5;132;01m}\u001b[39;00m\u001b[38;5;124m\"\u001b[39m)\n\u001b[1;32m      6\u001b[0m     \u001b[38;5;28mprint\u001b[39m(\u001b[38;5;124mf\u001b[39m\u001b[38;5;124m\"\u001b[39m\u001b[38;5;124mСредняя длительность сделки (в шагах): \u001b[39m\u001b[38;5;132;01m{\u001b[39;00mtrades_df[\u001b[38;5;124m'\u001b[39m\u001b[38;5;124mduration\u001b[39m\u001b[38;5;124m'\u001b[39m]\u001b[38;5;241m.\u001b[39mmean()\u001b[38;5;132;01m:\u001b[39;00m\u001b[38;5;124m.2f\u001b[39m\u001b[38;5;132;01m}\u001b[39;00m\u001b[38;5;124m\"\u001b[39m)\n",
      "File \u001b[0;32m~/anaconda3/envs/myenv/lib/python3.10/site-packages/pandas/core/frame.py:4102\u001b[0m, in \u001b[0;36mDataFrame.__getitem__\u001b[0;34m(self, key)\u001b[0m\n\u001b[1;32m   4100\u001b[0m \u001b[38;5;28;01mif\u001b[39;00m \u001b[38;5;28mself\u001b[39m\u001b[38;5;241m.\u001b[39mcolumns\u001b[38;5;241m.\u001b[39mnlevels \u001b[38;5;241m>\u001b[39m \u001b[38;5;241m1\u001b[39m:\n\u001b[1;32m   4101\u001b[0m     \u001b[38;5;28;01mreturn\u001b[39;00m \u001b[38;5;28mself\u001b[39m\u001b[38;5;241m.\u001b[39m_getitem_multilevel(key)\n\u001b[0;32m-> 4102\u001b[0m indexer \u001b[38;5;241m=\u001b[39m \u001b[38;5;28;43mself\u001b[39;49m\u001b[38;5;241;43m.\u001b[39;49m\u001b[43mcolumns\u001b[49m\u001b[38;5;241;43m.\u001b[39;49m\u001b[43mget_loc\u001b[49m\u001b[43m(\u001b[49m\u001b[43mkey\u001b[49m\u001b[43m)\u001b[49m\n\u001b[1;32m   4103\u001b[0m \u001b[38;5;28;01mif\u001b[39;00m is_integer(indexer):\n\u001b[1;32m   4104\u001b[0m     indexer \u001b[38;5;241m=\u001b[39m [indexer]\n",
      "File \u001b[0;32m~/anaconda3/envs/myenv/lib/python3.10/site-packages/pandas/core/indexes/range.py:417\u001b[0m, in \u001b[0;36mRangeIndex.get_loc\u001b[0;34m(self, key)\u001b[0m\n\u001b[1;32m    415\u001b[0m         \u001b[38;5;28;01mraise\u001b[39;00m \u001b[38;5;167;01mKeyError\u001b[39;00m(key) \u001b[38;5;28;01mfrom\u001b[39;00m\u001b[38;5;250m \u001b[39m\u001b[38;5;21;01merr\u001b[39;00m\n\u001b[1;32m    416\u001b[0m \u001b[38;5;28;01mif\u001b[39;00m \u001b[38;5;28misinstance\u001b[39m(key, Hashable):\n\u001b[0;32m--> 417\u001b[0m     \u001b[38;5;28;01mraise\u001b[39;00m \u001b[38;5;167;01mKeyError\u001b[39;00m(key)\n\u001b[1;32m    418\u001b[0m \u001b[38;5;28mself\u001b[39m\u001b[38;5;241m.\u001b[39m_check_indexing_error(key)\n\u001b[1;32m    419\u001b[0m \u001b[38;5;28;01mraise\u001b[39;00m \u001b[38;5;167;01mKeyError\u001b[39;00m(key)\n",
      "\u001b[0;31mKeyError\u001b[0m: 'exit_step'"
     ]
    }
   ],
   "source": [
    "analyze_trades(vec_env.envs[0].all_trades_info, vec_env.envs[0].df)"
   ]
  },
  {
   "cell_type": "code",
   "execution_count": 98,
   "id": "023b39a0-c55a-4149-ae11-7b6cc774bdea",
   "metadata": {},
   "outputs": [
    {
     "data": {
      "text/plain": [
       "[]"
      ]
     },
     "execution_count": 98,
     "metadata": {},
     "output_type": "execute_result"
    }
   ],
   "source": [
    "vec_env.envs[0].all_trades_info[:1]\n"
   ]
  },
  {
   "cell_type": "code",
   "execution_count": null,
   "id": "f036f3d0-f3f8-46e1-8b90-951559d125d7",
   "metadata": {},
   "outputs": [],
   "source": []
  }
 ],
 "metadata": {
  "kernelspec": {
   "display_name": "Python 3 (ipykernel)",
   "language": "python",
   "name": "python3"
  },
  "language_info": {
   "codemirror_mode": {
    "name": "ipython",
    "version": 3
   },
   "file_extension": ".py",
   "mimetype": "text/x-python",
   "name": "python",
   "nbconvert_exporter": "python",
   "pygments_lexer": "ipython3",
   "version": "3.10.18"
  },
  "widgets": {
   "application/vnd.jupyter.widget-state+json": {
    "state": {
     "009d32efd0a840a7afd34311299ff832": {
      "model_module": "@jupyter-widgets/base",
      "model_module_version": "2.0.0",
      "model_name": "LayoutModel",
      "state": {}
     },
     "009efb2d14eb41f9bbbcb85b9788d063": {
      "model_module": "@jupyter-widgets/controls",
      "model_module_version": "2.0.0",
      "model_name": "HTMLModel",
      "state": {
       "layout": "IPY_MODEL_be6f911b987f42af832f228b1a1c91cd",
       "style": "IPY_MODEL_5e51b2d85939486493feb7647333aa9b",
       "value": " 280/280 [00:26&lt;00:00, 10.62it/s]"
      }
     },
     "00c517d2f2684c7cb7f71af0c5386fd6": {
      "model_module": "@jupyter-widgets/base",
      "model_module_version": "2.0.0",
      "model_name": "LayoutModel",
      "state": {
       "display": "inline-flex",
       "flex_flow": "row wrap",
       "visibility": "hidden",
       "width": "100%"
      }
     },
     "01de59df24fb457390b2bd8d0f5fc9f4": {
      "model_module": "@jupyter-widgets/base",
      "model_module_version": "2.0.0",
      "model_name": "LayoutModel",
      "state": {
       "flex": "2"
      }
     },
     "01ec707fe05444fc80bc8180536b7a82": {
      "model_module": "@jupyter-widgets/base",
      "model_module_version": "2.0.0",
      "model_name": "LayoutModel",
      "state": {}
     },
     "0280d9d67e4940e2bad5ba23a4eee775": {
      "model_module": "@jupyter-widgets/base",
      "model_module_version": "2.0.0",
      "model_name": "LayoutModel",
      "state": {}
     },
     "02858f808a1944b6b234ea5f00da068f": {
      "model_module": "@jupyter-widgets/controls",
      "model_module_version": "2.0.0",
      "model_name": "HTMLModel",
      "state": {
       "layout": "IPY_MODEL_34b9d02e67bf4dc995853423bdd98846",
       "style": "IPY_MODEL_78484aa6cbfc4242a1cf35156bb642f9",
       "value": " 280/280 [00:26&lt;00:00, 10.54it/s]"
      }
     },
     "02d41193b28844ce8ce045919025c386": {
      "model_module": "@jupyter-widgets/controls",
      "model_module_version": "2.0.0",
      "model_name": "HTMLStyleModel",
      "state": {
       "description_width": "",
       "font_size": null,
       "text_color": null
      }
     },
     "02e0418d2a774cdd83e987841546cbdb": {
      "model_module": "@jupyter-widgets/base",
      "model_module_version": "2.0.0",
      "model_name": "LayoutModel",
      "state": {}
     },
     "0390022fcc4e4430ba243f4f1c9abafd": {
      "model_module": "@jupyter-widgets/controls",
      "model_module_version": "2.0.0",
      "model_name": "HTMLStyleModel",
      "state": {
       "description_width": "",
       "font_size": null,
       "text_color": null
      }
     },
     "03d6faaed03d4b7bb19aafa6b8538690": {
      "model_module": "@jupyter-widgets/controls",
      "model_module_version": "2.0.0",
      "model_name": "FloatProgressModel",
      "state": {
       "layout": "IPY_MODEL_80c30a7f6c8f4710a16a807548795a27",
       "max": 280,
       "style": "IPY_MODEL_d38432fe21b34ec086702d06de9e9ff4",
       "value": 280
      }
     },
     "043ebab977b54106809e2919ea102354": {
      "model_module": "@jupyter-widgets/controls",
      "model_module_version": "2.0.0",
      "model_name": "HTMLStyleModel",
      "state": {
       "description_width": "",
       "font_size": null,
       "text_color": null
      }
     },
     "047dcd03c117448aa0b9015dbad63f57": {
      "model_module": "@jupyter-widgets/base",
      "model_module_version": "2.0.0",
      "model_name": "LayoutModel",
      "state": {}
     },
     "0559156f99f646a5b955c3b9cf808242": {
      "model_module": "@jupyter-widgets/base",
      "model_module_version": "2.0.0",
      "model_name": "LayoutModel",
      "state": {
       "flex": "2"
      }
     },
     "057917ae26934432b462f91b29cb2388": {
      "model_module": "@jupyter-widgets/controls",
      "model_module_version": "2.0.0",
      "model_name": "HTMLStyleModel",
      "state": {
       "description_width": "",
       "font_size": null,
       "text_color": null
      }
     },
     "058273c1ab9c4606bccada87d6348e97": {
      "model_module": "@jupyter-widgets/controls",
      "model_module_version": "2.0.0",
      "model_name": "FloatProgressModel",
      "state": {
       "layout": "IPY_MODEL_e37dc1f2867349da9e9ddd0ee637cfa8",
       "max": 280,
       "style": "IPY_MODEL_2f683af41b67401eaed81fc15345853d",
       "value": 280
      }
     },
     "05b4271181864a01a8b87fad5dcd05dd": {
      "model_module": "@jupyter-widgets/output",
      "model_module_version": "1.0.0",
      "model_name": "OutputModel",
      "state": {
       "layout": "IPY_MODEL_e192ddb4a0384e399a04b600ca193568",
       "outputs": [
        {
         "data": {
          "text/html": "<pre style=\"white-space:pre;overflow-x:auto;line-height:normal;font-family:Menlo,'DejaVu Sans Mono',consolas,'Courier New',monospace\"><span style=\"color: #800080; text-decoration-color: #800080\"> 100%</span> <span style=\"color: #729c1f; text-decoration-color: #729c1f\">━━━━━━━━━━━━━━━━━━━━━━━━━━━━━━━━━━━━━━━━━━━━━━━━━━━━━━━━━━━</span> <span style=\"color: #008000; text-decoration-color: #008000\">100,346/100,000 </span> [ <span style=\"color: #808000; text-decoration-color: #808000\">0:08:22</span> &lt; <span style=\"color: #008080; text-decoration-color: #008080\">0:00:00</span> , <span style=\"color: #800000; text-decoration-color: #800000\">225 it/s</span> ]\n</pre>\n",
          "text/plain": "\u001b[35m 100%\u001b[0m \u001b[38;2;114;156;31m━━━━━━━━━━━━━━━━━━━━━━━━━━━━━━━━━━━━━━━━━━━━━━━━━━━━━━━━━━━\u001b[0m \u001b[32m100,346/100,000 \u001b[0m [ \u001b[33m0:08:22\u001b[0m < \u001b[36m0:00:00\u001b[0m , \u001b[31m225 it/s\u001b[0m ]\n"
         },
         "metadata": {},
         "output_type": "display_data"
        }
       ]
      }
     },
     "05bcd2570a5447b0a60510cf4374c9f6": {
      "model_module": "@jupyter-widgets/base",
      "model_module_version": "2.0.0",
      "model_name": "LayoutModel",
      "state": {
       "display": "inline-flex",
       "flex_flow": "row wrap",
       "visibility": "hidden",
       "width": "100%"
      }
     },
     "061862e85ada422c88f7fc36e3351aa6": {
      "model_module": "@jupyter-widgets/controls",
      "model_module_version": "2.0.0",
      "model_name": "HTMLStyleModel",
      "state": {
       "description_width": "",
       "font_size": null,
       "text_color": null
      }
     },
     "067d0de2c968428fbe190e8ca06f53a3": {
      "model_module": "@jupyter-widgets/base",
      "model_module_version": "2.0.0",
      "model_name": "LayoutModel",
      "state": {
       "display": "inline-flex",
       "flex_flow": "row wrap",
       "visibility": "hidden",
       "width": "100%"
      }
     },
     "06cdbcfb7cfe4adf84b2f5d236c14385": {
      "model_module": "@jupyter-widgets/controls",
      "model_module_version": "2.0.0",
      "model_name": "FloatProgressModel",
      "state": {
       "layout": "IPY_MODEL_427daaaeebbf4b49bab582558f5d17b8",
       "max": 280,
       "style": "IPY_MODEL_3c12166600174456ad31dcf53784b656",
       "value": 280
      }
     },
     "07d4333337a44ad990db0796fa6457cd": {
      "model_module": "@jupyter-widgets/base",
      "model_module_version": "2.0.0",
      "model_name": "LayoutModel",
      "state": {}
     },
     "0839779cdc664d8aa72dac953a21c64a": {
      "model_module": "@jupyter-widgets/base",
      "model_module_version": "2.0.0",
      "model_name": "LayoutModel",
      "state": {
       "display": "inline-flex",
       "flex_flow": "row wrap",
       "visibility": "hidden",
       "width": "100%"
      }
     },
     "083e84f4eeb64fa79d7e70f2288e1de1": {
      "model_module": "@jupyter-widgets/controls",
      "model_module_version": "2.0.0",
      "model_name": "ProgressStyleModel",
      "state": {
       "description_width": ""
      }
     },
     "08ef2794019343abb0330fe39933e297": {
      "model_module": "@jupyter-widgets/base",
      "model_module_version": "2.0.0",
      "model_name": "LayoutModel",
      "state": {
       "display": "inline-flex",
       "flex_flow": "row wrap",
       "width": "100%"
      }
     },
     "09189b4ce613458680cbc8d3d7edf8f9": {
      "model_module": "@jupyter-widgets/base",
      "model_module_version": "2.0.0",
      "model_name": "LayoutModel",
      "state": {
       "display": "inline-flex",
       "flex_flow": "row wrap",
       "visibility": "hidden",
       "width": "100%"
      }
     },
     "092586e6a1ec446a8fe1d8edcb041345": {
      "model_module": "@jupyter-widgets/controls",
      "model_module_version": "2.0.0",
      "model_name": "HTMLStyleModel",
      "state": {
       "description_width": "",
       "font_size": null,
       "text_color": null
      }
     },
     "096c639c6aaf4450b3a9df4c5b15606a": {
      "model_module": "@jupyter-widgets/controls",
      "model_module_version": "2.0.0",
      "model_name": "HTMLModel",
      "state": {
       "layout": "IPY_MODEL_b4731755699c4e27844a50a42f1f07e8",
       "style": "IPY_MODEL_b7c23d5b114d4189a6f73329d2d4ffab",
       "value": "Validation DataLoader 0: 100%"
      }
     },
     "09c9c724c2b44281969340916714118c": {
      "model_module": "@jupyter-widgets/controls",
      "model_module_version": "2.0.0",
      "model_name": "HTMLModel",
      "state": {
       "layout": "IPY_MODEL_90a61a0faffb458ab2edfcaf06e45c92",
       "style": "IPY_MODEL_24e35e433c144eb1896d0c684b3ab990",
       "value": "Validation DataLoader 0: 100%"
      }
     },
     "0ab91e64321b45af84b10702d3d24dad": {
      "model_module": "@jupyter-widgets/base",
      "model_module_version": "2.0.0",
      "model_name": "LayoutModel",
      "state": {
       "flex": "2"
      }
     },
     "0afb21209cb8473a933c9e21e55b5878": {
      "model_module": "@jupyter-widgets/base",
      "model_module_version": "2.0.0",
      "model_name": "LayoutModel",
      "state": {}
     },
     "0ba8791b7b944cc7933ecfc6583aed01": {
      "model_module": "@jupyter-widgets/controls",
      "model_module_version": "2.0.0",
      "model_name": "ProgressStyleModel",
      "state": {
       "description_width": ""
      }
     },
     "0c50a94b5eae4cef92fc250156024ba2": {
      "model_module": "@jupyter-widgets/base",
      "model_module_version": "2.0.0",
      "model_name": "LayoutModel",
      "state": {}
     },
     "0c6b2157bb4448dca6cccd518f90ecf7": {
      "model_module": "@jupyter-widgets/controls",
      "model_module_version": "2.0.0",
      "model_name": "FloatProgressModel",
      "state": {
       "layout": "IPY_MODEL_1e121bd9da6b4e089719d883a5cdd1dd",
       "max": 280,
       "style": "IPY_MODEL_ec5c80f33ef24d0787136f46614f51a0",
       "value": 280
      }
     },
     "0d3014cddcbd426e8fa69d09f40398ae": {
      "model_module": "@jupyter-widgets/controls",
      "model_module_version": "2.0.0",
      "model_name": "HTMLModel",
      "state": {
       "layout": "IPY_MODEL_628860d19b194b16be4827ac985fb129",
       "style": "IPY_MODEL_4751a918ee74495f9b3f21528d80d30d",
       "value": " 280/280 [00:27&lt;00:00, 10.18it/s]"
      }
     },
     "0d98c85f88254044b499999f9ab933e5": {
      "model_module": "@jupyter-widgets/controls",
      "model_module_version": "2.0.0",
      "model_name": "ProgressStyleModel",
      "state": {
       "description_width": ""
      }
     },
     "0dd87c45ad0c4bfab7e04bbd550a6109": {
      "model_module": "@jupyter-widgets/base",
      "model_module_version": "2.0.0",
      "model_name": "LayoutModel",
      "state": {
       "flex": "2"
      }
     },
     "0e25a2ffe012469ea944492ba6cb7275": {
      "model_module": "@jupyter-widgets/controls",
      "model_module_version": "2.0.0",
      "model_name": "HTMLModel",
      "state": {
       "layout": "IPY_MODEL_795dd114569b4d23ac25d6c0eb3946db",
       "style": "IPY_MODEL_53e4984b88ad417ca6e4d507983b9f7c",
       "value": "Validation DataLoader 0: 100%"
      }
     },
     "0f2ae6da1a0c4fc2b890ec39f34a5c09": {
      "model_module": "@jupyter-widgets/base",
      "model_module_version": "2.0.0",
      "model_name": "LayoutModel",
      "state": {
       "display": "inline-flex",
       "flex_flow": "row wrap",
       "visibility": "hidden",
       "width": "100%"
      }
     },
     "0f6b45cef0884a8ba52b9946a048d137": {
      "model_module": "@jupyter-widgets/controls",
      "model_module_version": "2.0.0",
      "model_name": "HTMLModel",
      "state": {
       "layout": "IPY_MODEL_8f5eb9da188141f98b0726620ad1d980",
       "style": "IPY_MODEL_5d25a9de024a40d2b152d37a665eb018",
       "value": " 280/280 [00:26&lt;00:00, 10.62it/s]"
      }
     },
     "0f8f26e29f0d4c95aa4e261f02da7b21": {
      "model_module": "@jupyter-widgets/base",
      "model_module_version": "2.0.0",
      "model_name": "LayoutModel",
      "state": {}
     },
     "0f9a33e3a24340f59750b38360de4487": {
      "model_module": "@jupyter-widgets/base",
      "model_module_version": "2.0.0",
      "model_name": "LayoutModel",
      "state": {}
     },
     "1016fe2904424f278b9c682981df32de": {
      "model_module": "@jupyter-widgets/controls",
      "model_module_version": "2.0.0",
      "model_name": "HTMLModel",
      "state": {
       "layout": "IPY_MODEL_521ff3034d614384b86c7d05762b6470",
       "style": "IPY_MODEL_26faf7fc6b5c486c84886d8867c32e57",
       "value": "Validation DataLoader 0: 100%"
      }
     },
     "104902631ade42e69325e3c99d8cf2b6": {
      "model_module": "@jupyter-widgets/base",
      "model_module_version": "2.0.0",
      "model_name": "LayoutModel",
      "state": {
       "flex": "2"
      }
     },
     "10df370e2bd74ef4a9e6fea9392fac99": {
      "model_module": "@jupyter-widgets/controls",
      "model_module_version": "2.0.0",
      "model_name": "HTMLStyleModel",
      "state": {
       "description_width": "",
       "font_size": null,
       "text_color": null
      }
     },
     "10f9006b57e844aab4c45d74c7246eb7": {
      "model_module": "@jupyter-widgets/controls",
      "model_module_version": "2.0.0",
      "model_name": "HTMLModel",
      "state": {
       "layout": "IPY_MODEL_deefa164ab0b42f08c0fbd6ae2c7053b",
       "style": "IPY_MODEL_4136419b29624887ac47d3d4a79de4a1",
       "value": " 280/280 [00:27&lt;00:00, 10.20it/s]"
      }
     },
     "1150ee343ab246f18584aed485117362": {
      "model_module": "@jupyter-widgets/controls",
      "model_module_version": "2.0.0",
      "model_name": "HTMLModel",
      "state": {
       "layout": "IPY_MODEL_1873871aff96415da687c79ba548e12e",
       "style": "IPY_MODEL_10df370e2bd74ef4a9e6fea9392fac99",
       "value": "Validation DataLoader 0: 100%"
      }
     },
     "11962d6272494cd2b098ae401e574650": {
      "model_module": "@jupyter-widgets/controls",
      "model_module_version": "2.0.0",
      "model_name": "HTMLModel",
      "state": {
       "layout": "IPY_MODEL_4c04ce4780d246e0bbee7559c216b58a",
       "style": "IPY_MODEL_5f5e0b4c442e4944a8bed016af2cbbc7",
       "value": "Validation DataLoader 0: 100%"
      }
     },
     "11a1de01628b4920a1032c3d824dd621": {
      "model_module": "@jupyter-widgets/controls",
      "model_module_version": "2.0.0",
      "model_name": "HTMLStyleModel",
      "state": {
       "description_width": "",
       "font_size": null,
       "text_color": null
      }
     },
     "11ac656cbd2f42baaf800424bda73e75": {
      "model_module": "@jupyter-widgets/base",
      "model_module_version": "2.0.0",
      "model_name": "LayoutModel",
      "state": {
       "flex": "2"
      }
     },
     "11d97a378a5e4fe48456ad7b928684f9": {
      "model_module": "@jupyter-widgets/controls",
      "model_module_version": "2.0.0",
      "model_name": "FloatProgressModel",
      "state": {
       "layout": "IPY_MODEL_6191df079cf74e28a3c278a1df3aaa3d",
       "max": 280,
       "style": "IPY_MODEL_59e3435cf7c74c4b92f44c930869a7f5",
       "value": 280
      }
     },
     "1212a8d06d6a45e8a0ebc6680a348130": {
      "model_module": "@jupyter-widgets/controls",
      "model_module_version": "2.0.0",
      "model_name": "ProgressStyleModel",
      "state": {
       "description_width": ""
      }
     },
     "127fe8a0508948e489a2f9ac547c0f93": {
      "model_module": "@jupyter-widgets/base",
      "model_module_version": "2.0.0",
      "model_name": "LayoutModel",
      "state": {
       "flex": "2"
      }
     },
     "12da693eae1b4d1190bcb847577d87d6": {
      "model_module": "@jupyter-widgets/controls",
      "model_module_version": "2.0.0",
      "model_name": "FloatProgressModel",
      "state": {
       "layout": "IPY_MODEL_6bb0a473d07f4df79bc67fbc4a592b0a",
       "max": 280,
       "style": "IPY_MODEL_6bc9965a707341519db20f1231071e0c",
       "value": 280
      }
     },
     "12f8f14e153e4b6cac926bc0cf5ab73a": {
      "model_module": "@jupyter-widgets/base",
      "model_module_version": "2.0.0",
      "model_name": "LayoutModel",
      "state": {
       "flex": "2"
      }
     },
     "131ff76d46384428a0955e10add677b7": {
      "model_module": "@jupyter-widgets/base",
      "model_module_version": "2.0.0",
      "model_name": "LayoutModel",
      "state": {}
     },
     "1437bdc9c7404eb0955772405fabd089": {
      "model_module": "@jupyter-widgets/controls",
      "model_module_version": "2.0.0",
      "model_name": "HTMLModel",
      "state": {
       "layout": "IPY_MODEL_b829f7915ba14ce19ae2cebbc5e1d6a2",
       "style": "IPY_MODEL_da9fae14777344d4ac538f3fb157ea86",
       "value": "Validation DataLoader 0: 100%"
      }
     },
     "147af517ee334f74b73263aab1df3ecc": {
      "model_module": "@jupyter-widgets/controls",
      "model_module_version": "2.0.0",
      "model_name": "FloatProgressModel",
      "state": {
       "layout": "IPY_MODEL_c991b5c8caaa42b8905db9263d1995ef",
       "max": 280,
       "style": "IPY_MODEL_6de54cdaae7142e68791140e82782fea",
       "value": 280
      }
     },
     "152d2378b49544d088a3d1168a2482c6": {
      "model_module": "@jupyter-widgets/controls",
      "model_module_version": "2.0.0",
      "model_name": "HTMLModel",
      "state": {
       "layout": "IPY_MODEL_a8cd59f45e4347098adbdc8ec98aabbe",
       "style": "IPY_MODEL_47141fee529a4c1193816dda0c4814e1",
       "value": "Validation DataLoader 0: 100%"
      }
     },
     "15b3118a6d0a405395c6f618cfed4291": {
      "model_module": "@jupyter-widgets/controls",
      "model_module_version": "2.0.0",
      "model_name": "ProgressStyleModel",
      "state": {
       "description_width": ""
      }
     },
     "160c48637dcc49448b6b0e36ac8a03b3": {
      "model_module": "@jupyter-widgets/controls",
      "model_module_version": "2.0.0",
      "model_name": "HTMLModel",
      "state": {
       "layout": "IPY_MODEL_2117d3f67df9488dabc236ed225da54d",
       "style": "IPY_MODEL_d4ca5894e0a84732a05559f1ba3f53db",
       "value": " 839/839 [05:15&lt;00:00,  2.66it/s, v_num=38, train_loss_step=0.0112, val_loss_step=0.119, val_loss_epoch=0.037, train_loss_epoch=0.0263]"
      }
     },
     "16777cd983144f78ac2ada2fbc2f2735": {
      "model_module": "@jupyter-widgets/base",
      "model_module_version": "2.0.0",
      "model_name": "LayoutModel",
      "state": {
       "flex": "2"
      }
     },
     "1688ce217b954782a36d9765dd0bd44f": {
      "model_module": "@jupyter-widgets/base",
      "model_module_version": "2.0.0",
      "model_name": "LayoutModel",
      "state": {
       "flex": "2"
      }
     },
     "16f715b1297f4e938a6c36e69f9fb440": {
      "model_module": "@jupyter-widgets/base",
      "model_module_version": "2.0.0",
      "model_name": "LayoutModel",
      "state": {
       "flex": "2"
      }
     },
     "173c288d594e41019f460779dbe2797e": {
      "model_module": "@jupyter-widgets/base",
      "model_module_version": "2.0.0",
      "model_name": "LayoutModel",
      "state": {}
     },
     "17d59d21fd4e4736b70718e91cacfd5f": {
      "model_module": "@jupyter-widgets/base",
      "model_module_version": "2.0.0",
      "model_name": "LayoutModel",
      "state": {
       "flex": "2"
      }
     },
     "17ede03f3bca49a88d6f85dd90ef36f0": {
      "model_module": "@jupyter-widgets/controls",
      "model_module_version": "2.0.0",
      "model_name": "HTMLModel",
      "state": {
       "layout": "IPY_MODEL_e89fc715e9984ffcad9e2b3f4d269f6a",
       "style": "IPY_MODEL_239b33bb12af47d2ab39232a05b3954d",
       "value": " 280/280 [00:27&lt;00:00, 10.19it/s]"
      }
     },
     "1812f9fadf2d40f4a159321f117b1401": {
      "model_module": "@jupyter-widgets/controls",
      "model_module_version": "2.0.0",
      "model_name": "HTMLStyleModel",
      "state": {
       "description_width": "",
       "font_size": null,
       "text_color": null
      }
     },
     "1873871aff96415da687c79ba548e12e": {
      "model_module": "@jupyter-widgets/base",
      "model_module_version": "2.0.0",
      "model_name": "LayoutModel",
      "state": {}
     },
     "18a87b61d8b1489da0e4a26500a17b1c": {
      "model_module": "@jupyter-widgets/controls",
      "model_module_version": "2.0.0",
      "model_name": "HTMLModel",
      "state": {
       "layout": "IPY_MODEL_864a37adf85f460e8901b0355e72937c",
       "style": "IPY_MODEL_72c3c6a52ce5451e92e2591696b1ee67",
       "value": "Validation DataLoader 0: 100%"
      }
     },
     "18e98fcdd525496e90c334a521973a24": {
      "model_module": "@jupyter-widgets/base",
      "model_module_version": "2.0.0",
      "model_name": "LayoutModel",
      "state": {}
     },
     "190232ade3b94cccb21d34e80d6b2f3f": {
      "model_module": "@jupyter-widgets/controls",
      "model_module_version": "2.0.0",
      "model_name": "HTMLStyleModel",
      "state": {
       "description_width": "",
       "font_size": null,
       "text_color": null
      }
     },
     "1953c93ddf984d188f4d0251ee4a8f85": {
      "model_module": "@jupyter-widgets/controls",
      "model_module_version": "2.0.0",
      "model_name": "FloatProgressModel",
      "state": {
       "layout": "IPY_MODEL_f8f53f6ca0ad42958615dbc8ebbe703d",
       "max": 280,
       "style": "IPY_MODEL_76597d39bb9e4056918c465bc5447261",
       "value": 280
      }
     },
     "197dcfd42d06451bac5737a744f68387": {
      "model_module": "@jupyter-widgets/controls",
      "model_module_version": "2.0.0",
      "model_name": "HTMLStyleModel",
      "state": {
       "description_width": "",
       "font_size": null,
       "text_color": null
      }
     },
     "1995378d312b4a6aa5c7bad708f2c7ad": {
      "model_module": "@jupyter-widgets/base",
      "model_module_version": "2.0.0",
      "model_name": "LayoutModel",
      "state": {}
     },
     "19a55af279fd4723ab33a4d9d7f1d7bc": {
      "model_module": "@jupyter-widgets/base",
      "model_module_version": "2.0.0",
      "model_name": "LayoutModel",
      "state": {}
     },
     "19c436f7a0384c8b949f681376b09520": {
      "model_module": "@jupyter-widgets/base",
      "model_module_version": "2.0.0",
      "model_name": "LayoutModel",
      "state": {
       "display": "inline-flex",
       "flex_flow": "row wrap",
       "visibility": "hidden",
       "width": "100%"
      }
     },
     "19dee6858e07433bb55e45113261d4da": {
      "model_module": "@jupyter-widgets/controls",
      "model_module_version": "2.0.0",
      "model_name": "HTMLStyleModel",
      "state": {
       "description_width": "",
       "font_size": null,
       "text_color": null
      }
     },
     "19eb9b87da5b4c74b3c5662a78c25593": {
      "model_module": "@jupyter-widgets/controls",
      "model_module_version": "2.0.0",
      "model_name": "HTMLModel",
      "state": {
       "layout": "IPY_MODEL_530a5e7ab1bc4b1e87b9bd486e7aedc9",
       "style": "IPY_MODEL_d37db69b0f924329a0b4fefd145dc456",
       "value": "Validation DataLoader 0: 100%"
      }
     },
     "1aa19844b9ae4254b0bd9599ad57a5c0": {
      "model_module": "@jupyter-widgets/base",
      "model_module_version": "2.0.0",
      "model_name": "LayoutModel",
      "state": {
       "flex": "2"
      }
     },
     "1b2ac799ce554eb79b3b55b0b30328ee": {
      "model_module": "@jupyter-widgets/controls",
      "model_module_version": "2.0.0",
      "model_name": "ProgressStyleModel",
      "state": {
       "description_width": ""
      }
     },
     "1b653b7c830d4666b628464ccc623ac6": {
      "model_module": "@jupyter-widgets/controls",
      "model_module_version": "2.0.0",
      "model_name": "HTMLStyleModel",
      "state": {
       "description_width": "",
       "font_size": null,
       "text_color": null
      }
     },
     "1c51af7e72d5483cad841f329ba48bd8": {
      "model_module": "@jupyter-widgets/base",
      "model_module_version": "2.0.0",
      "model_name": "LayoutModel",
      "state": {
       "flex": "2"
      }
     },
     "1dbe7b94285d4d1abbeb18c7e16444c0": {
      "model_module": "@jupyter-widgets/controls",
      "model_module_version": "2.0.0",
      "model_name": "HTMLStyleModel",
      "state": {
       "description_width": "",
       "font_size": null,
       "text_color": null
      }
     },
     "1e121bd9da6b4e089719d883a5cdd1dd": {
      "model_module": "@jupyter-widgets/base",
      "model_module_version": "2.0.0",
      "model_name": "LayoutModel",
      "state": {
       "flex": "2"
      }
     },
     "1e6eb1f7f1b542af8e5a95d6e1daeef1": {
      "model_module": "@jupyter-widgets/controls",
      "model_module_version": "2.0.0",
      "model_name": "HTMLModel",
      "state": {
       "layout": "IPY_MODEL_705b09e71bd54646a87ed3594fac458d",
       "style": "IPY_MODEL_836607236ea44af8bb220ba457b3867f",
       "value": " 280/280 [00:27&lt;00:00, 10.16it/s]"
      }
     },
     "1eb50461cd694437a49c4981c310bb9e": {
      "model_module": "@jupyter-widgets/base",
      "model_module_version": "2.0.0",
      "model_name": "LayoutModel",
      "state": {}
     },
     "1ebb7aa00cfc4bafbce12028e7a4bc12": {
      "model_module": "@jupyter-widgets/controls",
      "model_module_version": "2.0.0",
      "model_name": "HTMLModel",
      "state": {
       "layout": "IPY_MODEL_3951c55fe14c4e96bc7a5c5c5a4f6637",
       "style": "IPY_MODEL_29ca42468c78472283734f185f5e1973",
       "value": "Validation DataLoader 0: 100%"
      }
     },
     "1ec8e37b93b442bdaa6a6151915d7006": {
      "model_module": "@jupyter-widgets/controls",
      "model_module_version": "2.0.0",
      "model_name": "HTMLStyleModel",
      "state": {
       "description_width": "",
       "font_size": null,
       "text_color": null
      }
     },
     "1f1c06d44c804ef9a19cc56209b0b041": {
      "model_module": "@jupyter-widgets/controls",
      "model_module_version": "2.0.0",
      "model_name": "ProgressStyleModel",
      "state": {
       "description_width": ""
      }
     },
     "1f1c34f374db40e6844efe5c8cb80e45": {
      "model_module": "@jupyter-widgets/controls",
      "model_module_version": "2.0.0",
      "model_name": "FloatProgressModel",
      "state": {
       "layout": "IPY_MODEL_354142c913e54bf49a462e873babf92a",
       "max": 280,
       "style": "IPY_MODEL_a9db1c3c6b024349b6ccb73aebc17a87",
       "value": 280
      }
     },
     "1f2252faa6594afa863c8acaa4a263d7": {
      "model_module": "@jupyter-widgets/base",
      "model_module_version": "2.0.0",
      "model_name": "LayoutModel",
      "state": {
       "flex": "2"
      }
     },
     "1f2b7283af8441d48b9b5586f7ae6211": {
      "model_module": "@jupyter-widgets/base",
      "model_module_version": "2.0.0",
      "model_name": "LayoutModel",
      "state": {
       "flex": "2"
      }
     },
     "1f35ee212c0b4b048cf70022cbcc3a89": {
      "model_module": "@jupyter-widgets/controls",
      "model_module_version": "2.0.0",
      "model_name": "HTMLModel",
      "state": {
       "layout": "IPY_MODEL_8b72b545c31d4cd18506810889662752",
       "style": "IPY_MODEL_5bfcdd79643644b6b987a6106c8052d3",
       "value": "Validation DataLoader 0: 100%"
      }
     },
     "1f5775dffbb844b5be5d12a88f8667c5": {
      "model_module": "@jupyter-widgets/controls",
      "model_module_version": "2.0.0",
      "model_name": "HTMLStyleModel",
      "state": {
       "description_width": "",
       "font_size": null,
       "text_color": null
      }
     },
     "1fe04f545eff46f7a733559d51a4c12e": {
      "model_module": "@jupyter-widgets/controls",
      "model_module_version": "2.0.0",
      "model_name": "HTMLStyleModel",
      "state": {
       "description_width": "",
       "font_size": null,
       "text_color": null
      }
     },
     "20040db35736459fae782d517c662f5f": {
      "model_module": "@jupyter-widgets/controls",
      "model_module_version": "2.0.0",
      "model_name": "FloatProgressModel",
      "state": {
       "bar_style": "success",
       "layout": "IPY_MODEL_59afbc0e25d445fba0112355f0cccee3",
       "max": 280,
       "style": "IPY_MODEL_55359a54678a4bd59ab867f49191c356",
       "value": 280
      }
     },
     "207b390f86524840ae932c4c9fd55dbe": {
      "model_module": "@jupyter-widgets/base",
      "model_module_version": "2.0.0",
      "model_name": "LayoutModel",
      "state": {
       "flex": "2"
      }
     },
     "208217ab72ae48039fb3348ebb15e28b": {
      "model_module": "@jupyter-widgets/controls",
      "model_module_version": "2.0.0",
      "model_name": "ProgressStyleModel",
      "state": {
       "description_width": ""
      }
     },
     "2117d3f67df9488dabc236ed225da54d": {
      "model_module": "@jupyter-widgets/base",
      "model_module_version": "2.0.0",
      "model_name": "LayoutModel",
      "state": {}
     },
     "214d7a2489094a268de5d41b1c6bd868": {
      "model_module": "@jupyter-widgets/controls",
      "model_module_version": "2.0.0",
      "model_name": "HTMLModel",
      "state": {
       "layout": "IPY_MODEL_96c7477077864b79b5cd2f80d340768c",
       "style": "IPY_MODEL_9de03656a5124cd68ab35e22029adbb9",
       "value": " 280/280 [00:27&lt;00:00, 10.15it/s]"
      }
     },
     "2156088cd5b8440e87a1df6795e470e2": {
      "model_module": "@jupyter-widgets/controls",
      "model_module_version": "2.0.0",
      "model_name": "ProgressStyleModel",
      "state": {
       "description_width": ""
      }
     },
     "226bebdc2b614f238f598aa5c9294e83": {
      "model_module": "@jupyter-widgets/base",
      "model_module_version": "2.0.0",
      "model_name": "LayoutModel",
      "state": {
       "flex": "2"
      }
     },
     "227bc0ccb0b94bf3b4c0fbead78d4a48": {
      "model_module": "@jupyter-widgets/controls",
      "model_module_version": "2.0.0",
      "model_name": "ProgressStyleModel",
      "state": {
       "description_width": ""
      }
     },
     "229b44fb9bae426394fd8652b9aa339a": {
      "model_module": "@jupyter-widgets/controls",
      "model_module_version": "2.0.0",
      "model_name": "HTMLModel",
      "state": {
       "layout": "IPY_MODEL_dc184fecc5cc4ae6907f5fcf2a01d2cc",
       "style": "IPY_MODEL_7e3453c64560405b936e00f7c9509cd5",
       "value": "Validation DataLoader 0: 100%"
      }
     },
     "22a0ef1dafb2463b959f4dbf9477e5b3": {
      "model_module": "@jupyter-widgets/base",
      "model_module_version": "2.0.0",
      "model_name": "LayoutModel",
      "state": {
       "display": "inline-flex",
       "flex_flow": "row wrap",
       "visibility": "hidden",
       "width": "100%"
      }
     },
     "22dc4c5cff0241b28ee0491cc52db164": {
      "model_module": "@jupyter-widgets/base",
      "model_module_version": "2.0.0",
      "model_name": "LayoutModel",
      "state": {
       "display": "inline-flex",
       "flex_flow": "row wrap",
       "visibility": "hidden",
       "width": "100%"
      }
     },
     "2311c1d240e84648afcc5ee82adf73aa": {
      "model_module": "@jupyter-widgets/controls",
      "model_module_version": "2.0.0",
      "model_name": "HTMLStyleModel",
      "state": {
       "description_width": "",
       "font_size": null,
       "text_color": null
      }
     },
     "2336f23b48c4440b9fd436c65f7e99b3": {
      "model_module": "@jupyter-widgets/base",
      "model_module_version": "2.0.0",
      "model_name": "LayoutModel",
      "state": {
       "display": "inline-flex",
       "flex_flow": "row wrap",
       "visibility": "hidden",
       "width": "100%"
      }
     },
     "233f77eb03514ffc9a16b5b052e8406a": {
      "model_module": "@jupyter-widgets/controls",
      "model_module_version": "2.0.0",
      "model_name": "HTMLStyleModel",
      "state": {
       "description_width": "",
       "font_size": null,
       "text_color": null
      }
     },
     "239b33bb12af47d2ab39232a05b3954d": {
      "model_module": "@jupyter-widgets/controls",
      "model_module_version": "2.0.0",
      "model_name": "HTMLStyleModel",
      "state": {
       "description_width": "",
       "font_size": null,
       "text_color": null
      }
     },
     "243adaf5ed3a4ab68f9afc1aa4f74c9f": {
      "model_module": "@jupyter-widgets/base",
      "model_module_version": "2.0.0",
      "model_name": "LayoutModel",
      "state": {
       "display": "inline-flex",
       "flex_flow": "row wrap",
       "visibility": "hidden",
       "width": "100%"
      }
     },
     "24e35e433c144eb1896d0c684b3ab990": {
      "model_module": "@jupyter-widgets/controls",
      "model_module_version": "2.0.0",
      "model_name": "HTMLStyleModel",
      "state": {
       "description_width": "",
       "font_size": null,
       "text_color": null
      }
     },
     "25076092c1734fd4b7ac3ec3d9a6caf3": {
      "model_module": "@jupyter-widgets/controls",
      "model_module_version": "2.0.0",
      "model_name": "HTMLStyleModel",
      "state": {
       "description_width": "",
       "font_size": null,
       "text_color": null
      }
     },
     "25a41a907a7a4548a7d123377ec0fc93": {
      "model_module": "@jupyter-widgets/base",
      "model_module_version": "2.0.0",
      "model_name": "LayoutModel",
      "state": {
       "flex": "2"
      }
     },
     "261e3010af5f4491b4e73b8d84a4b9a0": {
      "model_module": "@jupyter-widgets/base",
      "model_module_version": "2.0.0",
      "model_name": "LayoutModel",
      "state": {}
     },
     "2640f232adbc4c33a938211c00a9f31d": {
      "model_module": "@jupyter-widgets/base",
      "model_module_version": "2.0.0",
      "model_name": "LayoutModel",
      "state": {
       "display": "inline-flex",
       "flex_flow": "row wrap",
       "visibility": "hidden",
       "width": "100%"
      }
     },
     "26faf7fc6b5c486c84886d8867c32e57": {
      "model_module": "@jupyter-widgets/controls",
      "model_module_version": "2.0.0",
      "model_name": "HTMLStyleModel",
      "state": {
       "description_width": "",
       "font_size": null,
       "text_color": null
      }
     },
     "2719c5b1a7fa4e4e9b54ec2f3fab65ed": {
      "model_module": "@jupyter-widgets/base",
      "model_module_version": "2.0.0",
      "model_name": "LayoutModel",
      "state": {
       "display": "inline-flex",
       "flex_flow": "row wrap",
       "visibility": "hidden",
       "width": "100%"
      }
     },
     "27848130a64e4180925ca755362b7dec": {
      "model_module": "@jupyter-widgets/base",
      "model_module_version": "2.0.0",
      "model_name": "LayoutModel",
      "state": {}
     },
     "282c6e9983854b258ff2ffc757dbcaf2": {
      "model_module": "@jupyter-widgets/base",
      "model_module_version": "2.0.0",
      "model_name": "LayoutModel",
      "state": {
       "flex": "2"
      }
     },
     "29ca42468c78472283734f185f5e1973": {
      "model_module": "@jupyter-widgets/controls",
      "model_module_version": "2.0.0",
      "model_name": "HTMLStyleModel",
      "state": {
       "description_width": "",
       "font_size": null,
       "text_color": null
      }
     },
     "29d44ef1023a4d06a7f40210df23d104": {
      "model_module": "@jupyter-widgets/controls",
      "model_module_version": "2.0.0",
      "model_name": "HTMLStyleModel",
      "state": {
       "description_width": "",
       "font_size": null,
       "text_color": null
      }
     },
     "2a105f7c334d42ccb0fb715a32040581": {
      "model_module": "@jupyter-widgets/base",
      "model_module_version": "2.0.0",
      "model_name": "LayoutModel",
      "state": {}
     },
     "2a40f772ab214e6aace1ca453448547b": {
      "model_module": "@jupyter-widgets/controls",
      "model_module_version": "2.0.0",
      "model_name": "HTMLStyleModel",
      "state": {
       "description_width": "",
       "font_size": null,
       "text_color": null
      }
     },
     "2a50d029cc74463abda39c8db4366b2f": {
      "model_module": "@jupyter-widgets/controls",
      "model_module_version": "2.0.0",
      "model_name": "HBoxModel",
      "state": {
       "children": [
        "IPY_MODEL_d3f4f55d6b8441a4abb224d40b6f8c6c",
        "IPY_MODEL_20040db35736459fae782d517c662f5f",
        "IPY_MODEL_faab13c209064f3785ccf819418f1188"
       ],
       "layout": "IPY_MODEL_880c34fc62ed4a06b0c88d7c0645e8b9"
      }
     },
     "2a62c920f58f4342ab9d1e8e0ebcdd21": {
      "model_module": "@jupyter-widgets/base",
      "model_module_version": "2.0.0",
      "model_name": "LayoutModel",
      "state": {
       "flex": "2"
      }
     },
     "2acf8c7bb2954a909ad69a21840988d0": {
      "model_module": "@jupyter-widgets/controls",
      "model_module_version": "2.0.0",
      "model_name": "ProgressStyleModel",
      "state": {
       "description_width": ""
      }
     },
     "2aea3df237f24961b41f03ea4309630f": {
      "model_module": "@jupyter-widgets/controls",
      "model_module_version": "2.0.0",
      "model_name": "FloatProgressModel",
      "state": {
       "layout": "IPY_MODEL_01de59df24fb457390b2bd8d0f5fc9f4",
       "max": 280,
       "style": "IPY_MODEL_8a8e864398324337afe43b2c19770429",
       "value": 280
      }
     },
     "2b1052bdd102494893a6e69481218537": {
      "model_module": "@jupyter-widgets/controls",
      "model_module_version": "2.0.0",
      "model_name": "FloatProgressModel",
      "state": {
       "layout": "IPY_MODEL_16f715b1297f4e938a6c36e69f9fb440",
       "max": 280,
       "style": "IPY_MODEL_3054f4eeca114fcd9661681d9c0d45b2",
       "value": 280
      }
     },
     "2b4b04a08ae64669bed5fbc2e0f8249c": {
      "model_module": "@jupyter-widgets/base",
      "model_module_version": "2.0.0",
      "model_name": "LayoutModel",
      "state": {
       "flex": "2"
      }
     },
     "2b4b176e782d46499bef2784651ad683": {
      "model_module": "@jupyter-widgets/controls",
      "model_module_version": "2.0.0",
      "model_name": "FloatProgressModel",
      "state": {
       "layout": "IPY_MODEL_44c5fecb917f4067bd9d1eb986f19360",
       "max": 280,
       "style": "IPY_MODEL_a80a4af6ad594f0baddfba442e2f7261",
       "value": 280
      }
     },
     "2b98d1476f2b4529b1266ba08c5521a0": {
      "model_module": "@jupyter-widgets/controls",
      "model_module_version": "2.0.0",
      "model_name": "HTMLModel",
      "state": {
       "layout": "IPY_MODEL_02e0418d2a774cdd83e987841546cbdb",
       "style": "IPY_MODEL_cbc439b289f04bf6a683041a3ed64b07",
       "value": "Validation DataLoader 0: 100%"
      }
     },
     "2baf9179c9614c828ed82def8da7cdc2": {
      "model_module": "@jupyter-widgets/base",
      "model_module_version": "2.0.0",
      "model_name": "LayoutModel",
      "state": {
       "display": "inline-flex",
       "flex_flow": "row wrap",
       "visibility": "hidden",
       "width": "100%"
      }
     },
     "2bc63b79db074d4697ae39e36cce8607": {
      "model_module": "@jupyter-widgets/base",
      "model_module_version": "2.0.0",
      "model_name": "LayoutModel",
      "state": {}
     },
     "2bd28c35dc0243d88b4d98cc5239ea25": {
      "model_module": "@jupyter-widgets/controls",
      "model_module_version": "2.0.0",
      "model_name": "ProgressStyleModel",
      "state": {
       "description_width": ""
      }
     },
     "2bd9423c07f2430dac46afa0bd8d828b": {
      "model_module": "@jupyter-widgets/base",
      "model_module_version": "2.0.0",
      "model_name": "LayoutModel",
      "state": {
       "display": "inline-flex",
       "flex_flow": "row wrap",
       "visibility": "hidden",
       "width": "100%"
      }
     },
     "2c3073346d464ab59dab89f2abd1aa37": {
      "model_module": "@jupyter-widgets/controls",
      "model_module_version": "2.0.0",
      "model_name": "HTMLModel",
      "state": {
       "layout": "IPY_MODEL_9ecaf559fdc54835954afee731fc5c19",
       "style": "IPY_MODEL_9bdffb035ed74bf38f0cbb6032ce1ddf",
       "value": " 280/280 [00:27&lt;00:00, 10.28it/s]"
      }
     },
     "2c34b2511ad84021ba22e17ccd7a5443": {
      "model_module": "@jupyter-widgets/base",
      "model_module_version": "2.0.0",
      "model_name": "LayoutModel",
      "state": {
       "flex": "2"
      }
     },
     "2c4efdf257b643ac889692a2fa21e0e8": {
      "model_module": "@jupyter-widgets/controls",
      "model_module_version": "2.0.0",
      "model_name": "HTMLModel",
      "state": {
       "layout": "IPY_MODEL_0c50a94b5eae4cef92fc250156024ba2",
       "style": "IPY_MODEL_d3d00d02acc641f290ebb33dddbe2fee",
       "value": "Validation DataLoader 0: 100%"
      }
     },
     "2d469f12bb53491a860c441b2eeb00cd": {
      "model_module": "@jupyter-widgets/base",
      "model_module_version": "2.0.0",
      "model_name": "LayoutModel",
      "state": {}
     },
     "2d9f3069ac4a41519cb9fdb4325dcc43": {
      "model_module": "@jupyter-widgets/controls",
      "model_module_version": "2.0.0",
      "model_name": "ProgressStyleModel",
      "state": {
       "description_width": ""
      }
     },
     "2f5e7d2441984196bdd8b0357fd97b79": {
      "model_module": "@jupyter-widgets/base",
      "model_module_version": "2.0.0",
      "model_name": "LayoutModel",
      "state": {
       "flex": "2"
      }
     },
     "2f683af41b67401eaed81fc15345853d": {
      "model_module": "@jupyter-widgets/controls",
      "model_module_version": "2.0.0",
      "model_name": "ProgressStyleModel",
      "state": {
       "description_width": ""
      }
     },
     "2f80d837602949f5bce572bfa97e82b7": {
      "model_module": "@jupyter-widgets/controls",
      "model_module_version": "2.0.0",
      "model_name": "HTMLModel",
      "state": {
       "layout": "IPY_MODEL_8e4428cd3983425ca48014c96eab48f9",
       "style": "IPY_MODEL_535279a2118a4a3e93c48a03292a927e",
       "value": "Validation DataLoader 0: 100%"
      }
     },
     "2fdcd49c94ca48a6aea2cd3d214b1bf5": {
      "model_module": "@jupyter-widgets/controls",
      "model_module_version": "2.0.0",
      "model_name": "FloatProgressModel",
      "state": {
       "layout": "IPY_MODEL_f0124c0644dd42588fd8eda69d4a1488",
       "max": 280,
       "style": "IPY_MODEL_2156088cd5b8440e87a1df6795e470e2",
       "value": 280
      }
     },
     "2ff20007f36949df975b2c33ba45f1f9": {
      "model_module": "@jupyter-widgets/controls",
      "model_module_version": "2.0.0",
      "model_name": "HTMLModel",
      "state": {
       "layout": "IPY_MODEL_01ec707fe05444fc80bc8180536b7a82",
       "style": "IPY_MODEL_dcf85e615b004f869483a5e7955a1716",
       "value": "Validation DataLoader 0: 100%"
      }
     },
     "3054f4eeca114fcd9661681d9c0d45b2": {
      "model_module": "@jupyter-widgets/controls",
      "model_module_version": "2.0.0",
      "model_name": "ProgressStyleModel",
      "state": {
       "description_width": ""
      }
     },
     "306e1b2ab56141d2b0a3bda02b113f8a": {
      "model_module": "@jupyter-widgets/controls",
      "model_module_version": "2.0.0",
      "model_name": "FloatProgressModel",
      "state": {
       "layout": "IPY_MODEL_16777cd983144f78ac2ada2fbc2f2735",
       "max": 280,
       "style": "IPY_MODEL_bc1a176241024c4d9036d63b83d17b1a",
       "value": 280
      }
     },
     "30c224f399cc400f91cd82f52f6fe995": {
      "model_module": "@jupyter-widgets/controls",
      "model_module_version": "2.0.0",
      "model_name": "HTMLModel",
      "state": {
       "layout": "IPY_MODEL_85a655a63ae2487b9bbef711f283e690",
       "style": "IPY_MODEL_34bba731b8f24597b2d92f6b5747be12",
       "value": "Validation DataLoader 0: 100%"
      }
     },
     "331c9a5b4ab34dc69910d09f2d047fd6": {
      "model_module": "@jupyter-widgets/controls",
      "model_module_version": "2.0.0",
      "model_name": "HTMLStyleModel",
      "state": {
       "description_width": "",
       "font_size": null,
       "text_color": null
      }
     },
     "332dcf4998034794a90633347853fd45": {
      "model_module": "@jupyter-widgets/controls",
      "model_module_version": "2.0.0",
      "model_name": "HTMLStyleModel",
      "state": {
       "description_width": "",
       "font_size": null,
       "text_color": null
      }
     },
     "3354e736b8124b02ad07661c4c52c729": {
      "model_module": "@jupyter-widgets/controls",
      "model_module_version": "2.0.0",
      "model_name": "HTMLModel",
      "state": {
       "layout": "IPY_MODEL_fdba219c48334a1eadb7a851ab5bfb94",
       "style": "IPY_MODEL_bd11fee27a774130a8921753f4cd630d",
       "value": "Validation DataLoader 0: 100%"
      }
     },
     "34b9d02e67bf4dc995853423bdd98846": {
      "model_module": "@jupyter-widgets/base",
      "model_module_version": "2.0.0",
      "model_name": "LayoutModel",
      "state": {}
     },
     "34bba731b8f24597b2d92f6b5747be12": {
      "model_module": "@jupyter-widgets/controls",
      "model_module_version": "2.0.0",
      "model_name": "HTMLStyleModel",
      "state": {
       "description_width": "",
       "font_size": null,
       "text_color": null
      }
     },
     "350ea3b000034f259efcb8f701a5e4b6": {
      "model_module": "@jupyter-widgets/base",
      "model_module_version": "2.0.0",
      "model_name": "LayoutModel",
      "state": {}
     },
     "354142c913e54bf49a462e873babf92a": {
      "model_module": "@jupyter-widgets/base",
      "model_module_version": "2.0.0",
      "model_name": "LayoutModel",
      "state": {
       "flex": "2"
      }
     },
     "35e5a67a921f45bbbae9d4f53daf5788": {
      "model_module": "@jupyter-widgets/controls",
      "model_module_version": "2.0.0",
      "model_name": "HTMLStyleModel",
      "state": {
       "description_width": "",
       "font_size": null,
       "text_color": null
      }
     },
     "35eb1593d09e463ebab26e6d963c98d2": {
      "model_module": "@jupyter-widgets/controls",
      "model_module_version": "2.0.0",
      "model_name": "HTMLModel",
      "state": {
       "layout": "IPY_MODEL_368fdb38eb964b7b9b41093c0e3928fc",
       "style": "IPY_MODEL_65b243ddf5f54b26bf9c09d55a53116e",
       "value": " 280/280 [00:27&lt;00:00, 10.24it/s]"
      }
     },
     "3631b4c7db884a2f8264f4a70a03057a": {
      "model_module": "@jupyter-widgets/controls",
      "model_module_version": "2.0.0",
      "model_name": "HTMLModel",
      "state": {
       "layout": "IPY_MODEL_9bdacef1615a4e95a2651d6a87d1adc6",
       "style": "IPY_MODEL_ced15d3488294d6687fb1eb5219e7232",
       "value": " 280/280 [00:27&lt;00:00, 10.21it/s]"
      }
     },
     "3688b877822147fa8dc4155f4a4c22cf": {
      "model_module": "@jupyter-widgets/base",
      "model_module_version": "2.0.0",
      "model_name": "LayoutModel",
      "state": {}
     },
     "368fdb38eb964b7b9b41093c0e3928fc": {
      "model_module": "@jupyter-widgets/base",
      "model_module_version": "2.0.0",
      "model_name": "LayoutModel",
      "state": {}
     },
     "36991591552d4b8abe03f757f5ed2fe5": {
      "model_module": "@jupyter-widgets/base",
      "model_module_version": "2.0.0",
      "model_name": "LayoutModel",
      "state": {}
     },
     "36c4a115fb0d4a7c9efab89f38e535f3": {
      "model_module": "@jupyter-widgets/base",
      "model_module_version": "2.0.0",
      "model_name": "LayoutModel",
      "state": {}
     },
     "36e37efd733c47a49c0156b46c8ff103": {
      "model_module": "@jupyter-widgets/base",
      "model_module_version": "2.0.0",
      "model_name": "LayoutModel",
      "state": {}
     },
     "36f132934daf40bbb16c91fe0f99bf3d": {
      "model_module": "@jupyter-widgets/controls",
      "model_module_version": "2.0.0",
      "model_name": "HTMLModel",
      "state": {
       "layout": "IPY_MODEL_a619c5ed89184f818f2119e6c3f55f40",
       "style": "IPY_MODEL_02d41193b28844ce8ce045919025c386",
       "value": " 280/280 [00:27&lt;00:00, 10.25it/s]"
      }
     },
     "37ef58df11664189904d880fffb45b9b": {
      "model_module": "@jupyter-widgets/base",
      "model_module_version": "2.0.0",
      "model_name": "LayoutModel",
      "state": {
       "display": "inline-flex",
       "flex_flow": "row wrap",
       "visibility": "hidden",
       "width": "100%"
      }
     },
     "383b322fb82c40a9b85cd2a3eea73543": {
      "model_module": "@jupyter-widgets/base",
      "model_module_version": "2.0.0",
      "model_name": "LayoutModel",
      "state": {}
     },
     "3892f9605883400bba8a5a89bab48be2": {
      "model_module": "@jupyter-widgets/controls",
      "model_module_version": "2.0.0",
      "model_name": "HTMLModel",
      "state": {
       "layout": "IPY_MODEL_d765cada7c7546b1ba1e0a42b320e8fb",
       "style": "IPY_MODEL_b842f26476bc4596b6c3522013746006",
       "value": " 280/280 [00:27&lt;00:00, 10.17it/s]"
      }
     },
     "38949a5bccd94d0ab3c73802809a1499": {
      "model_module": "@jupyter-widgets/controls",
      "model_module_version": "2.0.0",
      "model_name": "ProgressStyleModel",
      "state": {
       "description_width": ""
      }
     },
     "38bcee62012d4c0c8616284cec47127c": {
      "model_module": "@jupyter-widgets/controls",
      "model_module_version": "2.0.0",
      "model_name": "HTMLModel",
      "state": {
       "layout": "IPY_MODEL_77d710d6a01344dc827fc74d20a40d0f",
       "style": "IPY_MODEL_41aac72f51a44caf8000949c3602cb56",
       "value": " 280/280 [00:27&lt;00:00, 10.21it/s]"
      }
     },
     "39416f86e4ea4a97b516bb7721817e4d": {
      "model_module": "@jupyter-widgets/controls",
      "model_module_version": "2.0.0",
      "model_name": "ProgressStyleModel",
      "state": {
       "description_width": ""
      }
     },
     "3951c55fe14c4e96bc7a5c5c5a4f6637": {
      "model_module": "@jupyter-widgets/base",
      "model_module_version": "2.0.0",
      "model_name": "LayoutModel",
      "state": {}
     },
     "3990d33a4f0e429bbffbe96956d92ad7": {
      "model_module": "@jupyter-widgets/controls",
      "model_module_version": "2.0.0",
      "model_name": "HTMLModel",
      "state": {
       "layout": "IPY_MODEL_9ea16b8e42d24e0ba93d8a851b528911",
       "style": "IPY_MODEL_4cceb172cad8421aaf6c4f51c5d33525",
       "value": " 280/280 [00:26&lt;00:00, 10.50it/s]"
      }
     },
     "39ef6c0da0f74bb99e895d76e2a1e968": {
      "model_module": "@jupyter-widgets/base",
      "model_module_version": "2.0.0",
      "model_name": "LayoutModel",
      "state": {}
     },
     "3a39ecf869ba4d8e88681551b18e5e7f": {
      "model_module": "@jupyter-widgets/base",
      "model_module_version": "2.0.0",
      "model_name": "LayoutModel",
      "state": {}
     },
     "3c0df550bcd346d7bc84c488afaf5713": {
      "model_module": "@jupyter-widgets/base",
      "model_module_version": "2.0.0",
      "model_name": "LayoutModel",
      "state": {}
     },
     "3c12166600174456ad31dcf53784b656": {
      "model_module": "@jupyter-widgets/controls",
      "model_module_version": "2.0.0",
      "model_name": "ProgressStyleModel",
      "state": {
       "description_width": ""
      }
     },
     "3cd640c97b9a47d39c41c9428f98bc2f": {
      "model_module": "@jupyter-widgets/controls",
      "model_module_version": "2.0.0",
      "model_name": "FloatProgressModel",
      "state": {
       "layout": "IPY_MODEL_bf0853ae13054b929c8cd78d7f971f9e",
       "max": 280,
       "style": "IPY_MODEL_df04af9939f341a3ac06b8ef4b7c3b34",
       "value": 280
      }
     },
     "3db3a269d0be406e8394b147342992a9": {
      "model_module": "@jupyter-widgets/base",
      "model_module_version": "2.0.0",
      "model_name": "LayoutModel",
      "state": {
       "flex": "2"
      }
     },
     "3dcd682611cc4213b64b2a80bb047b70": {
      "model_module": "@jupyter-widgets/base",
      "model_module_version": "2.0.0",
      "model_name": "LayoutModel",
      "state": {
       "flex": "2"
      }
     },
     "3e245ddafad34c3eab479ec403b3f010": {
      "model_module": "@jupyter-widgets/controls",
      "model_module_version": "2.0.0",
      "model_name": "ProgressStyleModel",
      "state": {
       "description_width": ""
      }
     },
     "3efc8b1970114f02af707f075e0e762f": {
      "model_module": "@jupyter-widgets/controls",
      "model_module_version": "2.0.0",
      "model_name": "HTMLStyleModel",
      "state": {
       "description_width": "",
       "font_size": null,
       "text_color": null
      }
     },
     "3f3b249913da42a4b56507c19fdb2e7b": {
      "model_module": "@jupyter-widgets/base",
      "model_module_version": "2.0.0",
      "model_name": "LayoutModel",
      "state": {}
     },
     "3f58bea23c17489c87a34b324c25b0d6": {
      "model_module": "@jupyter-widgets/controls",
      "model_module_version": "2.0.0",
      "model_name": "HTMLModel",
      "state": {
       "layout": "IPY_MODEL_89bdfa1521a64d53a32e461ea884d37e",
       "style": "IPY_MODEL_2a40f772ab214e6aace1ca453448547b",
       "value": " 280/280 [00:27&lt;00:00, 10.20it/s]"
      }
     },
     "3f5c9a5a07fd46b4ac6a04b186e7adc6": {
      "model_module": "@jupyter-widgets/controls",
      "model_module_version": "2.0.0",
      "model_name": "HTMLModel",
      "state": {
       "layout": "IPY_MODEL_173c288d594e41019f460779dbe2797e",
       "style": "IPY_MODEL_ccb61e75758540c2a51b28d1e9527549",
       "value": "Validation DataLoader 0: 100%"
      }
     },
     "3f94ac548fc74d32a38e838d86bd35a5": {
      "model_module": "@jupyter-widgets/controls",
      "model_module_version": "2.0.0",
      "model_name": "HBoxModel",
      "state": {
       "children": [
        "IPY_MODEL_bc29b791f06b481e8ce13d2d122d0bb2",
        "IPY_MODEL_caf2507594bb48ad85f15053d09a7853",
        "IPY_MODEL_160c48637dcc49448b6b0e36ac8a03b3"
       ],
       "layout": "IPY_MODEL_08ef2794019343abb0330fe39933e297"
      }
     },
     "3fa39d11715446da8da63965c111c955": {
      "model_module": "@jupyter-widgets/base",
      "model_module_version": "2.0.0",
      "model_name": "LayoutModel",
      "state": {
       "flex": "2"
      }
     },
     "410ba32cde794e2595e45e79be98fb24": {
      "model_module": "@jupyter-widgets/base",
      "model_module_version": "2.0.0",
      "model_name": "LayoutModel",
      "state": {}
     },
     "4126c3bceb874f11944b56b08e4950a0": {
      "model_module": "@jupyter-widgets/controls",
      "model_module_version": "2.0.0",
      "model_name": "ProgressStyleModel",
      "state": {
       "description_width": ""
      }
     },
     "4136419b29624887ac47d3d4a79de4a1": {
      "model_module": "@jupyter-widgets/controls",
      "model_module_version": "2.0.0",
      "model_name": "HTMLStyleModel",
      "state": {
       "description_width": "",
       "font_size": null,
       "text_color": null
      }
     },
     "41aac72f51a44caf8000949c3602cb56": {
      "model_module": "@jupyter-widgets/controls",
      "model_module_version": "2.0.0",
      "model_name": "HTMLStyleModel",
      "state": {
       "description_width": "",
       "font_size": null,
       "text_color": null
      }
     },
     "42321dfffcf44155b5a504b80189aef0": {
      "model_module": "@jupyter-widgets/base",
      "model_module_version": "2.0.0",
      "model_name": "LayoutModel",
      "state": {
       "display": "inline-flex",
       "flex_flow": "row wrap",
       "visibility": "hidden",
       "width": "100%"
      }
     },
     "427daaaeebbf4b49bab582558f5d17b8": {
      "model_module": "@jupyter-widgets/base",
      "model_module_version": "2.0.0",
      "model_name": "LayoutModel",
      "state": {
       "flex": "2"
      }
     },
     "42a62fe8db7e4674aee4e252cac3fa87": {
      "model_module": "@jupyter-widgets/base",
      "model_module_version": "2.0.0",
      "model_name": "LayoutModel",
      "state": {
       "flex": "2"
      }
     },
     "44c5fecb917f4067bd9d1eb986f19360": {
      "model_module": "@jupyter-widgets/base",
      "model_module_version": "2.0.0",
      "model_name": "LayoutModel",
      "state": {
       "flex": "2"
      }
     },
     "45a892bc25bf4ff99089a44aa2b9893b": {
      "model_module": "@jupyter-widgets/base",
      "model_module_version": "2.0.0",
      "model_name": "LayoutModel",
      "state": {
       "flex": "2"
      }
     },
     "463d43d394a5458b90855dbb7983eea9": {
      "model_module": "@jupyter-widgets/controls",
      "model_module_version": "2.0.0",
      "model_name": "ProgressStyleModel",
      "state": {
       "description_width": ""
      }
     },
     "467c4da498ae41a8a65ecda146ff4593": {
      "model_module": "@jupyter-widgets/controls",
      "model_module_version": "2.0.0",
      "model_name": "FloatProgressModel",
      "state": {
       "layout": "IPY_MODEL_4888024a618a4249b8551bed607d2999",
       "max": 280,
       "style": "IPY_MODEL_9483a3a6c21f4a23860af6562248b887",
       "value": 280
      }
     },
     "46af114e64a34eea891230581ea255df": {
      "model_module": "@jupyter-widgets/controls",
      "model_module_version": "2.0.0",
      "model_name": "ProgressStyleModel",
      "state": {
       "description_width": ""
      }
     },
     "46f391a9920f455393a88ee7d8161db6": {
      "model_module": "@jupyter-widgets/base",
      "model_module_version": "2.0.0",
      "model_name": "LayoutModel",
      "state": {
       "display": "inline-flex",
       "flex_flow": "row wrap",
       "visibility": "hidden",
       "width": "100%"
      }
     },
     "47141fee529a4c1193816dda0c4814e1": {
      "model_module": "@jupyter-widgets/controls",
      "model_module_version": "2.0.0",
      "model_name": "HTMLStyleModel",
      "state": {
       "description_width": "",
       "font_size": null,
       "text_color": null
      }
     },
     "4751a918ee74495f9b3f21528d80d30d": {
      "model_module": "@jupyter-widgets/controls",
      "model_module_version": "2.0.0",
      "model_name": "HTMLStyleModel",
      "state": {
       "description_width": "",
       "font_size": null,
       "text_color": null
      }
     },
     "4760c3349ef84fe9ab6d55c86dc0f86b": {
      "model_module": "@jupyter-widgets/controls",
      "model_module_version": "2.0.0",
      "model_name": "HTMLModel",
      "state": {
       "layout": "IPY_MODEL_9127cef9395f4c62863810d1966bb124",
       "style": "IPY_MODEL_a99e1b78f37d4d3db377fa46236e210e",
       "value": " 280/280 [00:27&lt;00:00, 10.21it/s]"
      }
     },
     "4888024a618a4249b8551bed607d2999": {
      "model_module": "@jupyter-widgets/base",
      "model_module_version": "2.0.0",
      "model_name": "LayoutModel",
      "state": {
       "flex": "2"
      }
     },
     "488a4a60cffb45fca53ebe23d9b1aa4b": {
      "model_module": "@jupyter-widgets/controls",
      "model_module_version": "2.0.0",
      "model_name": "FloatProgressModel",
      "state": {
       "layout": "IPY_MODEL_3dcd682611cc4213b64b2a80bb047b70",
       "max": 280,
       "style": "IPY_MODEL_f6a7acb0becb4daabcddea0d2a562376",
       "value": 280
      }
     },
     "4936408ad42c4313b932ec5e95f2763e": {
      "model_module": "@jupyter-widgets/controls",
      "model_module_version": "2.0.0",
      "model_name": "FloatProgressModel",
      "state": {
       "layout": "IPY_MODEL_7327bf816b494170b845889978364dce",
       "max": 2,
       "style": "IPY_MODEL_38949a5bccd94d0ab3c73802809a1499",
       "value": 2
      }
     },
     "495f2a9226d94a6cbfacc4fb277caea9": {
      "model_module": "@jupyter-widgets/base",
      "model_module_version": "2.0.0",
      "model_name": "LayoutModel",
      "state": {
       "flex": "2"
      }
     },
     "49efda5f2fef454fa36c37f10c2c8665": {
      "model_module": "@jupyter-widgets/controls",
      "model_module_version": "2.0.0",
      "model_name": "HTMLModel",
      "state": {
       "layout": "IPY_MODEL_b988ad2b166344029b2c4cb83132da9b",
       "style": "IPY_MODEL_a995bc2f6cda4ca1a97b8620cb16b658",
       "value": "Validation DataLoader 0: 100%"
      }
     },
     "4a1fd194c036489dbf8dd3463e73cb1a": {
      "model_module": "@jupyter-widgets/controls",
      "model_module_version": "2.0.0",
      "model_name": "HTMLModel",
      "state": {
       "layout": "IPY_MODEL_a3e3f1e66b6b4bd7ab0459fe0afc6468",
       "style": "IPY_MODEL_9c945d7f344446d9ae5502981b656843",
       "value": " 280/280 [00:27&lt;00:00, 10.26it/s]"
      }
     },
     "4a7d3ffadc1b46698aebf63d0f2ba51b": {
      "model_module": "@jupyter-widgets/controls",
      "model_module_version": "2.0.0",
      "model_name": "HTMLStyleModel",
      "state": {
       "description_width": "",
       "font_size": null,
       "text_color": null
      }
     },
     "4ac009ab811c4e09909b7413c7c1c254": {
      "model_module": "@jupyter-widgets/controls",
      "model_module_version": "2.0.0",
      "model_name": "FloatProgressModel",
      "state": {
       "layout": "IPY_MODEL_0559156f99f646a5b955c3b9cf808242",
       "max": 280,
       "style": "IPY_MODEL_208217ab72ae48039fb3348ebb15e28b",
       "value": 280
      }
     },
     "4ae66ddf169a4f6aad4222b39ee0df63": {
      "model_module": "@jupyter-widgets/controls",
      "model_module_version": "2.0.0",
      "model_name": "FloatProgressModel",
      "state": {
       "layout": "IPY_MODEL_79e1550456dd488d95522d8fb8dea7b4",
       "max": 280,
       "style": "IPY_MODEL_9b18fad25e4d4f3b832bc95ed03d2eba",
       "value": 280
      }
     },
     "4b58057e53084992ac8ffbfb95166688": {
      "model_module": "@jupyter-widgets/controls",
      "model_module_version": "2.0.0",
      "model_name": "HTMLModel",
      "state": {
       "layout": "IPY_MODEL_a8d562e464804f24ac9c61acee7310df",
       "style": "IPY_MODEL_580f9d2132594a64a6aab28c105efb67",
       "value": " 280/280 [00:27&lt;00:00, 10.24it/s]"
      }
     },
     "4c04ce4780d246e0bbee7559c216b58a": {
      "model_module": "@jupyter-widgets/base",
      "model_module_version": "2.0.0",
      "model_name": "LayoutModel",
      "state": {}
     },
     "4c78d15c83cd4e3a9844e0adc5c42e23": {
      "model_module": "@jupyter-widgets/base",
      "model_module_version": "2.0.0",
      "model_name": "LayoutModel",
      "state": {}
     },
     "4cceb172cad8421aaf6c4f51c5d33525": {
      "model_module": "@jupyter-widgets/controls",
      "model_module_version": "2.0.0",
      "model_name": "HTMLStyleModel",
      "state": {
       "description_width": "",
       "font_size": null,
       "text_color": null
      }
     },
     "4cd32d3c2cf5489e88e18c7308d2df32": {
      "model_module": "@jupyter-widgets/controls",
      "model_module_version": "2.0.0",
      "model_name": "HTMLModel",
      "state": {
       "layout": "IPY_MODEL_4c78d15c83cd4e3a9844e0adc5c42e23",
       "style": "IPY_MODEL_6936626e9dd542c5bb3650959f13f75b",
       "value": " 280/280 [00:26&lt;00:00, 10.51it/s]"
      }
     },
     "4d3feb68103540eeb5bae9a24f41ccc8": {
      "model_module": "@jupyter-widgets/controls",
      "model_module_version": "2.0.0",
      "model_name": "FloatProgressModel",
      "state": {
       "layout": "IPY_MODEL_2b4b04a08ae64669bed5fbc2e0f8249c",
       "max": 280,
       "style": "IPY_MODEL_89635f8e59ef48b2bb97ff0af59cd095",
       "value": 280
      }
     },
     "4d7f21202e1b46d9a9af59b14bc4b2f9": {
      "model_module": "@jupyter-widgets/controls",
      "model_module_version": "2.0.0",
      "model_name": "ProgressStyleModel",
      "state": {
       "description_width": ""
      }
     },
     "4db6a72020ad4e1eb28214559bb8785b": {
      "model_module": "@jupyter-widgets/controls",
      "model_module_version": "2.0.0",
      "model_name": "ProgressStyleModel",
      "state": {
       "description_width": ""
      }
     },
     "4e0b25e9c5ec49fe8b7a4b7124be0f93": {
      "model_module": "@jupyter-widgets/base",
      "model_module_version": "2.0.0",
      "model_name": "LayoutModel",
      "state": {
       "display": "inline-flex",
       "flex_flow": "row wrap",
       "visibility": "hidden",
       "width": "100%"
      }
     },
     "4e471eecb2774e9eaa60a71be8421c6c": {
      "model_module": "@jupyter-widgets/base",
      "model_module_version": "2.0.0",
      "model_name": "LayoutModel",
      "state": {
       "flex": "2"
      }
     },
     "4e93f232b5244baa9e8db0059e0e501b": {
      "model_module": "@jupyter-widgets/controls",
      "model_module_version": "2.0.0",
      "model_name": "ProgressStyleModel",
      "state": {
       "description_width": ""
      }
     },
     "4ea87caa66524a88b6d2914d9a66cd21": {
      "model_module": "@jupyter-widgets/base",
      "model_module_version": "2.0.0",
      "model_name": "LayoutModel",
      "state": {
       "display": "inline-flex",
       "flex_flow": "row wrap",
       "visibility": "hidden",
       "width": "100%"
      }
     },
     "4eeac34ccbe84eb3ba00429182f5c3ab": {
      "model_module": "@jupyter-widgets/controls",
      "model_module_version": "2.0.0",
      "model_name": "HTMLStyleModel",
      "state": {
       "description_width": "",
       "font_size": null,
       "text_color": null
      }
     },
     "50a432e0d13040f5b4ddb02581910b79": {
      "model_module": "@jupyter-widgets/base",
      "model_module_version": "2.0.0",
      "model_name": "LayoutModel",
      "state": {}
     },
     "50c862fc013c40deabeb2fdcb15e463d": {
      "model_module": "@jupyter-widgets/controls",
      "model_module_version": "2.0.0",
      "model_name": "HTMLModel",
      "state": {
       "layout": "IPY_MODEL_e719a78b0b074e5e8d1663f226f1b2eb",
       "style": "IPY_MODEL_f3891ce7a2724c558ca55e9d159e6d8e",
       "value": "Validation DataLoader 0: 100%"
      }
     },
     "5104b7abc4b64ea0a0c51df936fa7d33": {
      "model_module": "@jupyter-widgets/controls",
      "model_module_version": "2.0.0",
      "model_name": "HTMLModel",
      "state": {
       "layout": "IPY_MODEL_b512687d4192477ab4c9128c7e1e2989",
       "style": "IPY_MODEL_aaca1967fdbd4f10b2061232a0837879",
       "value": "Validation DataLoader 0: 100%"
      }
     },
     "515ae17b4256439aa95419e02072b479": {
      "model_module": "@jupyter-widgets/base",
      "model_module_version": "2.0.0",
      "model_name": "LayoutModel",
      "state": {}
     },
     "51bb2c7696884c3cb5d3380d05fa3b32": {
      "model_module": "@jupyter-widgets/base",
      "model_module_version": "2.0.0",
      "model_name": "LayoutModel",
      "state": {}
     },
     "520a0af4fd1b4d7f9364541985ef976a": {
      "model_module": "@jupyter-widgets/controls",
      "model_module_version": "2.0.0",
      "model_name": "FloatProgressModel",
      "state": {
       "layout": "IPY_MODEL_8d253d252e93480a8597cbdb4fc0ae5d",
       "max": 280,
       "style": "IPY_MODEL_2d9f3069ac4a41519cb9fdb4325dcc43",
       "value": 280
      }
     },
     "521ff3034d614384b86c7d05762b6470": {
      "model_module": "@jupyter-widgets/base",
      "model_module_version": "2.0.0",
      "model_name": "LayoutModel",
      "state": {}
     },
     "52404db8565340a49223d4f2a67a6d24": {
      "model_module": "@jupyter-widgets/base",
      "model_module_version": "2.0.0",
      "model_name": "LayoutModel",
      "state": {}
     },
     "5289a48d4f1143229b1bf205d56dd66c": {
      "model_module": "@jupyter-widgets/base",
      "model_module_version": "2.0.0",
      "model_name": "LayoutModel",
      "state": {
       "display": "inline-flex",
       "flex_flow": "row wrap",
       "visibility": "hidden",
       "width": "100%"
      }
     },
     "530a5e7ab1bc4b1e87b9bd486e7aedc9": {
      "model_module": "@jupyter-widgets/base",
      "model_module_version": "2.0.0",
      "model_name": "LayoutModel",
      "state": {}
     },
     "535279a2118a4a3e93c48a03292a927e": {
      "model_module": "@jupyter-widgets/controls",
      "model_module_version": "2.0.0",
      "model_name": "HTMLStyleModel",
      "state": {
       "description_width": "",
       "font_size": null,
       "text_color": null
      }
     },
     "535bbdbeec9345da90692e330dfca13b": {
      "model_module": "@jupyter-widgets/controls",
      "model_module_version": "2.0.0",
      "model_name": "HTMLModel",
      "state": {
       "layout": "IPY_MODEL_a6a142e1dadb4944ade3af4ad06e3c36",
       "style": "IPY_MODEL_e69f79b759304720a71d0b3ab1bfcbe3",
       "value": "Validation DataLoader 0: 100%"
      }
     },
     "5361cfeb1a02419383ef313628f6e5b8": {
      "model_module": "@jupyter-widgets/controls",
      "model_module_version": "2.0.0",
      "model_name": "HTMLModel",
      "state": {
       "layout": "IPY_MODEL_65891125dfdb4f28adf2fb55af477cf1",
       "style": "IPY_MODEL_c3a7b48b6ba9484bbd1387b20bef2cba",
       "value": "Validation DataLoader 0: 100%"
      }
     },
     "53766f332a384b30ad418f64cb3cd273": {
      "model_module": "@jupyter-widgets/base",
      "model_module_version": "2.0.0",
      "model_name": "LayoutModel",
      "state": {
       "display": "inline-flex",
       "flex_flow": "row wrap",
       "visibility": "hidden",
       "width": "100%"
      }
     },
     "53e4984b88ad417ca6e4d507983b9f7c": {
      "model_module": "@jupyter-widgets/controls",
      "model_module_version": "2.0.0",
      "model_name": "HTMLStyleModel",
      "state": {
       "description_width": "",
       "font_size": null,
       "text_color": null
      }
     },
     "53f1f0d69f124ff7905ccdb948648d31": {
      "model_module": "@jupyter-widgets/base",
      "model_module_version": "2.0.0",
      "model_name": "LayoutModel",
      "state": {}
     },
     "541622d6e68544f8bdfaf6b7e64d7ae3": {
      "model_module": "@jupyter-widgets/base",
      "model_module_version": "2.0.0",
      "model_name": "LayoutModel",
      "state": {}
     },
     "5459480cb550475da2da8952f62f83d8": {
      "model_module": "@jupyter-widgets/base",
      "model_module_version": "2.0.0",
      "model_name": "LayoutModel",
      "state": {}
     },
     "5492f801b4d84d2a827ee30e89201d64": {
      "model_module": "@jupyter-widgets/base",
      "model_module_version": "2.0.0",
      "model_name": "LayoutModel",
      "state": {}
     },
     "54fa35ceed204b29b168cf3cd3e45e76": {
      "model_module": "@jupyter-widgets/controls",
      "model_module_version": "2.0.0",
      "model_name": "HTMLStyleModel",
      "state": {
       "description_width": "",
       "font_size": null,
       "text_color": null
      }
     },
     "55359a54678a4bd59ab867f49191c356": {
      "model_module": "@jupyter-widgets/controls",
      "model_module_version": "2.0.0",
      "model_name": "ProgressStyleModel",
      "state": {
       "description_width": ""
      }
     },
     "558adc057f4247fc8363a4045bda9612": {
      "model_module": "@jupyter-widgets/controls",
      "model_module_version": "2.0.0",
      "model_name": "ProgressStyleModel",
      "state": {
       "description_width": ""
      }
     },
     "558b2a47480341a09ef8c8f08e036eaa": {
      "model_module": "@jupyter-widgets/controls",
      "model_module_version": "2.0.0",
      "model_name": "HTMLModel",
      "state": {
       "layout": "IPY_MODEL_0afb21209cb8473a933c9e21e55b5878",
       "style": "IPY_MODEL_2311c1d240e84648afcc5ee82adf73aa",
       "value": "Validation DataLoader 0: 100%"
      }
     },
     "55b21e91409941ea8aea488f964b83c6": {
      "model_module": "@jupyter-widgets/base",
      "model_module_version": "2.0.0",
      "model_name": "LayoutModel",
      "state": {}
     },
     "560ef7f032fc42d69c3f4b382b6735f8": {
      "model_module": "@jupyter-widgets/base",
      "model_module_version": "2.0.0",
      "model_name": "LayoutModel",
      "state": {
       "flex": "2"
      }
     },
     "56aed666811b497ea2554d5b9a25958b": {
      "model_module": "@jupyter-widgets/base",
      "model_module_version": "2.0.0",
      "model_name": "LayoutModel",
      "state": {}
     },
     "56b94f6814d94d8aad6d1f0f448698ac": {
      "model_module": "@jupyter-widgets/controls",
      "model_module_version": "2.0.0",
      "model_name": "HTMLStyleModel",
      "state": {
       "description_width": "",
       "font_size": null,
       "text_color": null
      }
     },
     "56e4739ab5b146f4a5ffd53c68f339d5": {
      "model_module": "@jupyter-widgets/base",
      "model_module_version": "2.0.0",
      "model_name": "LayoutModel",
      "state": {}
     },
     "576a37b86ccd400693e932b1e4d25127": {
      "model_module": "@jupyter-widgets/controls",
      "model_module_version": "2.0.0",
      "model_name": "HTMLModel",
      "state": {
       "layout": "IPY_MODEL_53f1f0d69f124ff7905ccdb948648d31",
       "style": "IPY_MODEL_d390a27abf8a43bebda49b8dacd0ec60",
       "value": " 280/280 [00:26&lt;00:00, 10.51it/s]"
      }
     },
     "5784b166d699468f85b28a5af5c27552": {
      "model_module": "@jupyter-widgets/base",
      "model_module_version": "2.0.0",
      "model_name": "LayoutModel",
      "state": {
       "display": "inline-flex",
       "flex_flow": "row wrap",
       "visibility": "hidden",
       "width": "100%"
      }
     },
     "578c40b646a747daa2850db426e5df6d": {
      "model_module": "@jupyter-widgets/controls",
      "model_module_version": "2.0.0",
      "model_name": "HTMLModel",
      "state": {
       "layout": "IPY_MODEL_8c92c1d2adf94cd28348256aa7f54f29",
       "style": "IPY_MODEL_1f5775dffbb844b5be5d12a88f8667c5",
       "value": " 280/280 [00:27&lt;00:00, 10.24it/s]"
      }
     },
     "5790e2cd4c904166b0466739698670e5": {
      "model_module": "@jupyter-widgets/controls",
      "model_module_version": "2.0.0",
      "model_name": "HTMLModel",
      "state": {
       "layout": "IPY_MODEL_36991591552d4b8abe03f757f5ed2fe5",
       "style": "IPY_MODEL_bc7b8c00e84943a498cb2c4ee30cf0ab",
       "value": "Validation DataLoader 0: 100%"
      }
     },
     "580f9d2132594a64a6aab28c105efb67": {
      "model_module": "@jupyter-widgets/controls",
      "model_module_version": "2.0.0",
      "model_name": "HTMLStyleModel",
      "state": {
       "description_width": "",
       "font_size": null,
       "text_color": null
      }
     },
     "586367c370d5496f8ab9b2b21df64de4": {
      "model_module": "@jupyter-widgets/controls",
      "model_module_version": "2.0.0",
      "model_name": "FloatProgressModel",
      "state": {
       "layout": "IPY_MODEL_a3b1eb909ad74e3bbd7cba2b729e60ff",
       "max": 280,
       "style": "IPY_MODEL_0d98c85f88254044b499999f9ab933e5",
       "value": 280
      }
     },
     "58d3072cca494f6da30a4c33142bec1f": {
      "model_module": "@jupyter-widgets/controls",
      "model_module_version": "2.0.0",
      "model_name": "ProgressStyleModel",
      "state": {
       "description_width": ""
      }
     },
     "5923baa789fc459b8b1cbec81075a742": {
      "model_module": "@jupyter-widgets/base",
      "model_module_version": "2.0.0",
      "model_name": "LayoutModel",
      "state": {
       "display": "inline-flex",
       "flex_flow": "row wrap",
       "visibility": "hidden",
       "width": "100%"
      }
     },
     "59afbc0e25d445fba0112355f0cccee3": {
      "model_module": "@jupyter-widgets/base",
      "model_module_version": "2.0.0",
      "model_name": "LayoutModel",
      "state": {
       "flex": "2"
      }
     },
     "59e3435cf7c74c4b92f44c930869a7f5": {
      "model_module": "@jupyter-widgets/controls",
      "model_module_version": "2.0.0",
      "model_name": "ProgressStyleModel",
      "state": {
       "description_width": ""
      }
     },
     "5a297e2b7dce4336af373fe335a3813d": {
      "model_module": "@jupyter-widgets/base",
      "model_module_version": "2.0.0",
      "model_name": "LayoutModel",
      "state": {}
     },
     "5a709fc4abf44c9f94396b3b9021e3de": {
      "model_module": "@jupyter-widgets/controls",
      "model_module_version": "2.0.0",
      "model_name": "HTMLStyleModel",
      "state": {
       "description_width": "",
       "font_size": null,
       "text_color": null
      }
     },
     "5aee094b1833414385ce426cdce10917": {
      "model_module": "@jupyter-widgets/base",
      "model_module_version": "2.0.0",
      "model_name": "LayoutModel",
      "state": {
       "display": "inline-flex",
       "flex_flow": "row wrap",
       "visibility": "hidden",
       "width": "100%"
      }
     },
     "5afc6cda61da47e4afba4c618f960dac": {
      "model_module": "@jupyter-widgets/controls",
      "model_module_version": "2.0.0",
      "model_name": "HTMLModel",
      "state": {
       "layout": "IPY_MODEL_27848130a64e4180925ca755362b7dec",
       "style": "IPY_MODEL_1fe04f545eff46f7a733559d51a4c12e",
       "value": " 280/280 [00:28&lt;00:00,  9.82it/s]"
      }
     },
     "5b0a72d259e544b8b3ddaf9d1d5bb608": {
      "model_module": "@jupyter-widgets/controls",
      "model_module_version": "2.0.0",
      "model_name": "HTMLStyleModel",
      "state": {
       "description_width": "",
       "font_size": null,
       "text_color": null
      }
     },
     "5b362c7ea04645efb09f201714098e80": {
      "model_module": "@jupyter-widgets/base",
      "model_module_version": "2.0.0",
      "model_name": "LayoutModel",
      "state": {
       "display": "inline-flex",
       "flex_flow": "row wrap",
       "visibility": "hidden",
       "width": "100%"
      }
     },
     "5b67ad9bc6cd4f19949733402a911468": {
      "model_module": "@jupyter-widgets/controls",
      "model_module_version": "2.0.0",
      "model_name": "HTMLStyleModel",
      "state": {
       "description_width": "",
       "font_size": null,
       "text_color": null
      }
     },
     "5bfcdd79643644b6b987a6106c8052d3": {
      "model_module": "@jupyter-widgets/controls",
      "model_module_version": "2.0.0",
      "model_name": "HTMLStyleModel",
      "state": {
       "description_width": "",
       "font_size": null,
       "text_color": null
      }
     },
     "5c488b0de8e34a0c9f91cb642173ea45": {
      "model_module": "@jupyter-widgets/base",
      "model_module_version": "2.0.0",
      "model_name": "LayoutModel",
      "state": {
       "display": "inline-flex",
       "flex_flow": "row wrap",
       "visibility": "hidden",
       "width": "100%"
      }
     },
     "5c54d093f6cb4dddbe180261e8025bb3": {
      "model_module": "@jupyter-widgets/base",
      "model_module_version": "2.0.0",
      "model_name": "LayoutModel",
      "state": {}
     },
     "5cb53e8f9f084089bd2049f37e401f7b": {
      "model_module": "@jupyter-widgets/base",
      "model_module_version": "2.0.0",
      "model_name": "LayoutModel",
      "state": {
       "display": "inline-flex",
       "flex_flow": "row wrap",
       "visibility": "hidden",
       "width": "100%"
      }
     },
     "5d2429f539c848e09c2c16ebd32ac44f": {
      "model_module": "@jupyter-widgets/controls",
      "model_module_version": "2.0.0",
      "model_name": "HTMLModel",
      "state": {
       "layout": "IPY_MODEL_feeecf27b04a496e89915232acd11ad8",
       "style": "IPY_MODEL_5b0a72d259e544b8b3ddaf9d1d5bb608",
       "value": "Validation DataLoader 0: 100%"
      }
     },
     "5d25a9de024a40d2b152d37a665eb018": {
      "model_module": "@jupyter-widgets/controls",
      "model_module_version": "2.0.0",
      "model_name": "HTMLStyleModel",
      "state": {
       "description_width": "",
       "font_size": null,
       "text_color": null
      }
     },
     "5db1bac775484776ad519719b701e74b": {
      "model_module": "@jupyter-widgets/base",
      "model_module_version": "2.0.0",
      "model_name": "LayoutModel",
      "state": {
       "flex": "2"
      }
     },
     "5e51b2d85939486493feb7647333aa9b": {
      "model_module": "@jupyter-widgets/controls",
      "model_module_version": "2.0.0",
      "model_name": "HTMLStyleModel",
      "state": {
       "description_width": "",
       "font_size": null,
       "text_color": null
      }
     },
     "5efbbb11a0c7417199a980c7562d4f4b": {
      "model_module": "@jupyter-widgets/base",
      "model_module_version": "2.0.0",
      "model_name": "LayoutModel",
      "state": {}
     },
     "5f5e0b4c442e4944a8bed016af2cbbc7": {
      "model_module": "@jupyter-widgets/controls",
      "model_module_version": "2.0.0",
      "model_name": "HTMLStyleModel",
      "state": {
       "description_width": "",
       "font_size": null,
       "text_color": null
      }
     },
     "5f7b886e01334fae8ac30144a4529f28": {
      "model_module": "@jupyter-widgets/controls",
      "model_module_version": "2.0.0",
      "model_name": "HTMLModel",
      "state": {
       "layout": "IPY_MODEL_410ba32cde794e2595e45e79be98fb24",
       "style": "IPY_MODEL_1b653b7c830d4666b628464ccc623ac6",
       "value": " 280/280 [00:26&lt;00:00, 10.58it/s]"
      }
     },
     "5ff632aad6334e95a251ed75ac2d6cae": {
      "model_module": "@jupyter-widgets/controls",
      "model_module_version": "2.0.0",
      "model_name": "ProgressStyleModel",
      "state": {
       "description_width": ""
      }
     },
     "6080ba3d805e4b65bcda39849b6cb7d1": {
      "model_module": "@jupyter-widgets/controls",
      "model_module_version": "2.0.0",
      "model_name": "HTMLStyleModel",
      "state": {
       "description_width": "",
       "font_size": null,
       "text_color": null
      }
     },
     "6191df079cf74e28a3c278a1df3aaa3d": {
      "model_module": "@jupyter-widgets/base",
      "model_module_version": "2.0.0",
      "model_name": "LayoutModel",
      "state": {
       "flex": "2"
      }
     },
     "6197433ef2b248269264391e0fc87343": {
      "model_module": "@jupyter-widgets/controls",
      "model_module_version": "2.0.0",
      "model_name": "HTMLModel",
      "state": {
       "layout": "IPY_MODEL_131ff76d46384428a0955e10add677b7",
       "style": "IPY_MODEL_86f4393eb8194364986a792f9c0b2615",
       "value": "Validation DataLoader 0: 100%"
      }
     },
     "624c4aaea17142e9bd983ef46b5b7db6": {
      "model_module": "@jupyter-widgets/controls",
      "model_module_version": "2.0.0",
      "model_name": "HTMLModel",
      "state": {
       "layout": "IPY_MODEL_36e37efd733c47a49c0156b46c8ff103",
       "style": "IPY_MODEL_1812f9fadf2d40f4a159321f117b1401",
       "value": " 280/280 [00:27&lt;00:00, 10.28it/s]"
      }
     },
     "626a55db280d4a79a5666eddc3cf2714": {
      "model_module": "@jupyter-widgets/controls",
      "model_module_version": "2.0.0",
      "model_name": "HTMLStyleModel",
      "state": {
       "description_width": "",
       "font_size": null,
       "text_color": null
      }
     },
     "62740ea4177e48ab9f3d56ce760d7ae1": {
      "model_module": "@jupyter-widgets/controls",
      "model_module_version": "2.0.0",
      "model_name": "HTMLStyleModel",
      "state": {
       "description_width": "",
       "font_size": null,
       "text_color": null
      }
     },
     "628860d19b194b16be4827ac985fb129": {
      "model_module": "@jupyter-widgets/base",
      "model_module_version": "2.0.0",
      "model_name": "LayoutModel",
      "state": {}
     },
     "62f364be644647168acead4e05d4e318": {
      "model_module": "@jupyter-widgets/controls",
      "model_module_version": "2.0.0",
      "model_name": "FloatProgressModel",
      "state": {
       "layout": "IPY_MODEL_1688ce217b954782a36d9765dd0bd44f",
       "max": 280,
       "style": "IPY_MODEL_1b2ac799ce554eb79b3b55b0b30328ee",
       "value": 280
      }
     },
     "63989d60d04b4e939b4e2f10c2466e58": {
      "model_module": "@jupyter-widgets/controls",
      "model_module_version": "2.0.0",
      "model_name": "ProgressStyleModel",
      "state": {
       "description_width": ""
      }
     },
     "644a0e941a5d491993ff16b1da256a45": {
      "model_module": "@jupyter-widgets/base",
      "model_module_version": "2.0.0",
      "model_name": "LayoutModel",
      "state": {
       "display": "inline-flex",
       "flex_flow": "row wrap",
       "visibility": "hidden",
       "width": "100%"
      }
     },
     "64940adf9af44f3da41a22aa610910fc": {
      "model_module": "@jupyter-widgets/controls",
      "model_module_version": "2.0.0",
      "model_name": "HTMLModel",
      "state": {
       "layout": "IPY_MODEL_a05cde51de454ee1b0e338ee0189d4ae",
       "style": "IPY_MODEL_057917ae26934432b462f91b29cb2388",
       "value": " 280/280 [00:27&lt;00:00, 10.20it/s]"
      }
     },
     "64cc146ea58c429da785ce66650ee984": {
      "model_module": "@jupyter-widgets/base",
      "model_module_version": "2.0.0",
      "model_name": "LayoutModel",
      "state": {}
     },
     "64eb7a24d34a42b499435669fdfa3d26": {
      "model_module": "@jupyter-widgets/controls",
      "model_module_version": "2.0.0",
      "model_name": "HTMLModel",
      "state": {
       "layout": "IPY_MODEL_c9701ff7ddeb4ea3b7cc005f37036f25",
       "style": "IPY_MODEL_cbea0754dfa64993b4f095fcf8a82573",
       "value": "Validation DataLoader 0: 100%"
      }
     },
     "64f9f2fe80e844a6a486a17127e7a43b": {
      "model_module": "@jupyter-widgets/controls",
      "model_module_version": "2.0.0",
      "model_name": "FloatProgressModel",
      "state": {
       "layout": "IPY_MODEL_aa726f380f6d4e138547ecc1389c4379",
       "max": 280,
       "style": "IPY_MODEL_dc5344185568465c8324426bcf2f3535",
       "value": 280
      }
     },
     "65891125dfdb4f28adf2fb55af477cf1": {
      "model_module": "@jupyter-widgets/base",
      "model_module_version": "2.0.0",
      "model_name": "LayoutModel",
      "state": {}
     },
     "65b243ddf5f54b26bf9c09d55a53116e": {
      "model_module": "@jupyter-widgets/controls",
      "model_module_version": "2.0.0",
      "model_name": "HTMLStyleModel",
      "state": {
       "description_width": "",
       "font_size": null,
       "text_color": null
      }
     },
     "65d01d7ef055404ebf211193bf77392d": {
      "model_module": "@jupyter-widgets/controls",
      "model_module_version": "2.0.0",
      "model_name": "HTMLModel",
      "state": {
       "layout": "IPY_MODEL_ab17275d98314108a729416c35c917c5",
       "style": "IPY_MODEL_233f77eb03514ffc9a16b5b052e8406a",
       "value": "Validation DataLoader 0: 100%"
      }
     },
     "66c4199e98e345c1a898804f6958f03e": {
      "model_module": "@jupyter-widgets/base",
      "model_module_version": "2.0.0",
      "model_name": "LayoutModel",
      "state": {
       "display": "inline-flex",
       "flex_flow": "row wrap",
       "visibility": "hidden",
       "width": "100%"
      }
     },
     "66d7b2419baf437e8b2d406251d064f9": {
      "model_module": "@jupyter-widgets/controls",
      "model_module_version": "2.0.0",
      "model_name": "HTMLStyleModel",
      "state": {
       "description_width": "",
       "font_size": null,
       "text_color": null
      }
     },
     "6715b65c602c4018b54a7ffff335270b": {
      "model_module": "@jupyter-widgets/controls",
      "model_module_version": "2.0.0",
      "model_name": "HTMLStyleModel",
      "state": {
       "description_width": "",
       "font_size": null,
       "text_color": null
      }
     },
     "6780bc412c784acc8a502d31a3c4cea3": {
      "model_module": "@jupyter-widgets/controls",
      "model_module_version": "2.0.0",
      "model_name": "FloatProgressModel",
      "state": {
       "layout": "IPY_MODEL_e6b14c8572ed40a5926217dcd0bcf052",
       "max": 280,
       "style": "IPY_MODEL_15b3118a6d0a405395c6f618cfed4291",
       "value": 280
      }
     },
     "67cdc68eb3004ad18a583f6b4a098478": {
      "model_module": "@jupyter-widgets/base",
      "model_module_version": "2.0.0",
      "model_name": "LayoutModel",
      "state": {}
     },
     "67e94e60f35d44b6a9f12b6f73afd380": {
      "model_module": "@jupyter-widgets/controls",
      "model_module_version": "2.0.0",
      "model_name": "HTMLModel",
      "state": {
       "layout": "IPY_MODEL_3c0df550bcd346d7bc84c488afaf5713",
       "style": "IPY_MODEL_7114d1958f794f33947fa77b24afead1",
       "value": " 280/280 [00:27&lt;00:00, 10.19it/s]"
      }
     },
     "6838527453df441cbed82ba099ff2438": {
      "model_module": "@jupyter-widgets/base",
      "model_module_version": "2.0.0",
      "model_name": "LayoutModel",
      "state": {
       "display": "inline-flex",
       "flex_flow": "row wrap",
       "visibility": "hidden",
       "width": "100%"
      }
     },
     "68e80fad3a934a628df6871c6a59ad7a": {
      "model_module": "@jupyter-widgets/controls",
      "model_module_version": "2.0.0",
      "model_name": "FloatProgressModel",
      "state": {
       "layout": "IPY_MODEL_1c51af7e72d5483cad841f329ba48bd8",
       "max": 280,
       "style": "IPY_MODEL_2acf8c7bb2954a909ad69a21840988d0",
       "value": 280
      }
     },
     "6936626e9dd542c5bb3650959f13f75b": {
      "model_module": "@jupyter-widgets/controls",
      "model_module_version": "2.0.0",
      "model_name": "HTMLStyleModel",
      "state": {
       "description_width": "",
       "font_size": null,
       "text_color": null
      }
     },
     "694b4ce1c0eb46cdb4dccfaaf838566d": {
      "model_module": "@jupyter-widgets/base",
      "model_module_version": "2.0.0",
      "model_name": "LayoutModel",
      "state": {
       "flex": "2"
      }
     },
     "6a829058e5b34c51abd017d2335ff0ec": {
      "model_module": "@jupyter-widgets/controls",
      "model_module_version": "2.0.0",
      "model_name": "HTMLModel",
      "state": {
       "layout": "IPY_MODEL_5459480cb550475da2da8952f62f83d8",
       "style": "IPY_MODEL_eabf6f1fc54746f184d4cbd209cff6ab",
       "value": " 280/280 [00:27&lt;00:00, 10.18it/s]"
      }
     },
     "6aac7c754aba4192875aca46efba135d": {
      "model_module": "@jupyter-widgets/controls",
      "model_module_version": "2.0.0",
      "model_name": "FloatProgressModel",
      "state": {
       "layout": "IPY_MODEL_76117a9c095f426bb8ae28a9b81e9362",
       "max": 280,
       "style": "IPY_MODEL_fd473f0e08ef46b5874a0436ac2e6883",
       "value": 280
      }
     },
     "6b9be86d01eb42c7a7b68bb1867f1ef3": {
      "model_module": "@jupyter-widgets/base",
      "model_module_version": "2.0.0",
      "model_name": "LayoutModel",
      "state": {}
     },
     "6baf3755fc754ae992e7adc720b63b8b": {
      "model_module": "@jupyter-widgets/base",
      "model_module_version": "2.0.0",
      "model_name": "LayoutModel",
      "state": {
       "display": "inline-flex",
       "flex_flow": "row wrap",
       "visibility": "hidden",
       "width": "100%"
      }
     },
     "6bb0a473d07f4df79bc67fbc4a592b0a": {
      "model_module": "@jupyter-widgets/base",
      "model_module_version": "2.0.0",
      "model_name": "LayoutModel",
      "state": {
       "flex": "2"
      }
     },
     "6bc9965a707341519db20f1231071e0c": {
      "model_module": "@jupyter-widgets/controls",
      "model_module_version": "2.0.0",
      "model_name": "ProgressStyleModel",
      "state": {
       "description_width": ""
      }
     },
     "6c408cd225014d438c47ff35a4bc3d2d": {
      "model_module": "@jupyter-widgets/controls",
      "model_module_version": "2.0.0",
      "model_name": "HTMLModel",
      "state": {
       "layout": "IPY_MODEL_350ea3b000034f259efcb8f701a5e4b6",
       "style": "IPY_MODEL_6df69e5abee64fa3b903f0562c5b5dfc",
       "value": "Validation DataLoader 0: 100%"
      }
     },
     "6cb733312a4d4c0d97fb90510bb80338": {
      "model_module": "@jupyter-widgets/controls",
      "model_module_version": "2.0.0",
      "model_name": "FloatProgressModel",
      "state": {
       "layout": "IPY_MODEL_3fa39d11715446da8da63965c111c955",
       "max": 280,
       "style": "IPY_MODEL_be737d7195b74b85bfa8f36042a73780",
       "value": 280
      }
     },
     "6cd4d20661ab4806ae3e57d94058d640": {
      "model_module": "@jupyter-widgets/base",
      "model_module_version": "2.0.0",
      "model_name": "LayoutModel",
      "state": {
       "flex": "2"
      }
     },
     "6ce68c74cd1747e59c0a5cb2cf797465": {
      "model_module": "@jupyter-widgets/base",
      "model_module_version": "2.0.0",
      "model_name": "LayoutModel",
      "state": {
       "display": "inline-flex",
       "flex_flow": "row wrap",
       "visibility": "hidden",
       "width": "100%"
      }
     },
     "6d14066b75c4479b98f3ff200828ab94": {
      "model_module": "@jupyter-widgets/controls",
      "model_module_version": "2.0.0",
      "model_name": "FloatProgressModel",
      "state": {
       "layout": "IPY_MODEL_fc8577a6864a4e61a45edbfaf1419b8e",
       "max": 280,
       "style": "IPY_MODEL_463d43d394a5458b90855dbb7983eea9",
       "value": 280
      }
     },
     "6ddfb040a7244965b864691183c9de93": {
      "model_module": "@jupyter-widgets/controls",
      "model_module_version": "2.0.0",
      "model_name": "HTMLModel",
      "state": {
       "layout": "IPY_MODEL_ca53996399054c7cbbf219f37bcd26a3",
       "style": "IPY_MODEL_626a55db280d4a79a5666eddc3cf2714",
       "value": "Validation DataLoader 0: 100%"
      }
     },
     "6de54cdaae7142e68791140e82782fea": {
      "model_module": "@jupyter-widgets/controls",
      "model_module_version": "2.0.0",
      "model_name": "ProgressStyleModel",
      "state": {
       "description_width": ""
      }
     },
     "6dec47ad8e9b47b3bfef3c30dc5c1fbf": {
      "model_module": "@jupyter-widgets/controls",
      "model_module_version": "2.0.0",
      "model_name": "HTMLModel",
      "state": {
       "layout": "IPY_MODEL_74d20bd2bb964b7095473778fc577cca",
       "style": "IPY_MODEL_1dbe7b94285d4d1abbeb18c7e16444c0",
       "value": "Validation DataLoader 0: 100%"
      }
     },
     "6df69e5abee64fa3b903f0562c5b5dfc": {
      "model_module": "@jupyter-widgets/controls",
      "model_module_version": "2.0.0",
      "model_name": "HTMLStyleModel",
      "state": {
       "description_width": "",
       "font_size": null,
       "text_color": null
      }
     },
     "6e28041d720841678931e6055935c9f7": {
      "model_module": "@jupyter-widgets/controls",
      "model_module_version": "2.0.0",
      "model_name": "HTMLStyleModel",
      "state": {
       "description_width": "",
       "font_size": null,
       "text_color": null
      }
     },
     "6eaa44f16ff64eb498fe699da8a2f336": {
      "model_module": "@jupyter-widgets/controls",
      "model_module_version": "2.0.0",
      "model_name": "HTMLStyleModel",
      "state": {
       "description_width": "",
       "font_size": null,
       "text_color": null
      }
     },
     "6f1642ee37534db0961a62df47bb48d1": {
      "model_module": "@jupyter-widgets/controls",
      "model_module_version": "2.0.0",
      "model_name": "HTMLModel",
      "state": {
       "layout": "IPY_MODEL_3688b877822147fa8dc4155f4a4c22cf",
       "style": "IPY_MODEL_720357a35b484e26842373e8ec773507",
       "value": "Validation DataLoader 0: 100%"
      }
     },
     "704bac0545464785a6ff440e0300017f": {
      "model_module": "@jupyter-widgets/controls",
      "model_module_version": "2.0.0",
      "model_name": "HTMLModel",
      "state": {
       "layout": "IPY_MODEL_64cc146ea58c429da785ce66650ee984",
       "style": "IPY_MODEL_df997adeaf554ccda7015b795c17d83e",
       "value": "Validation DataLoader 0: 100%"
      }
     },
     "704f5761ffb140a7b30e76ab6c148692": {
      "model_module": "@jupyter-widgets/base",
      "model_module_version": "2.0.0",
      "model_name": "LayoutModel",
      "state": {}
     },
     "705b09e71bd54646a87ed3594fac458d": {
      "model_module": "@jupyter-widgets/base",
      "model_module_version": "2.0.0",
      "model_name": "LayoutModel",
      "state": {}
     },
     "7091d4f63a504b15b8e2692dd4344a71": {
      "model_module": "@jupyter-widgets/base",
      "model_module_version": "2.0.0",
      "model_name": "LayoutModel",
      "state": {}
     },
     "70f45fe7e090437a9b6f85fffe564836": {
      "model_module": "@jupyter-widgets/base",
      "model_module_version": "2.0.0",
      "model_name": "LayoutModel",
      "state": {
       "display": "inline-flex",
       "flex_flow": "row wrap",
       "visibility": "hidden",
       "width": "100%"
      }
     },
     "7114d1958f794f33947fa77b24afead1": {
      "model_module": "@jupyter-widgets/controls",
      "model_module_version": "2.0.0",
      "model_name": "HTMLStyleModel",
      "state": {
       "description_width": "",
       "font_size": null,
       "text_color": null
      }
     },
     "71853b6c0d2f49a6a0c5038c45a021c8": {
      "model_module": "@jupyter-widgets/controls",
      "model_module_version": "2.0.0",
      "model_name": "HTMLStyleModel",
      "state": {
       "description_width": "",
       "font_size": null,
       "text_color": null
      }
     },
     "71b4de5bf6e44185a27b0b87dd91aa05": {
      "model_module": "@jupyter-widgets/base",
      "model_module_version": "2.0.0",
      "model_name": "LayoutModel",
      "state": {}
     },
     "720357a35b484e26842373e8ec773507": {
      "model_module": "@jupyter-widgets/controls",
      "model_module_version": "2.0.0",
      "model_name": "HTMLStyleModel",
      "state": {
       "description_width": "",
       "font_size": null,
       "text_color": null
      }
     },
     "72c3c6a52ce5451e92e2591696b1ee67": {
      "model_module": "@jupyter-widgets/controls",
      "model_module_version": "2.0.0",
      "model_name": "HTMLStyleModel",
      "state": {
       "description_width": "",
       "font_size": null,
       "text_color": null
      }
     },
     "730fc10fd71140738313139c7a577581": {
      "model_module": "@jupyter-widgets/controls",
      "model_module_version": "2.0.0",
      "model_name": "HTMLModel",
      "state": {
       "layout": "IPY_MODEL_7f60ed473ddb4b1f884dbcad45a5e1e3",
       "style": "IPY_MODEL_9aa3d711f620474e8aee93ea3f86315a",
       "value": " 280/280 [00:26&lt;00:00, 10.57it/s]"
      }
     },
     "7327bf816b494170b845889978364dce": {
      "model_module": "@jupyter-widgets/base",
      "model_module_version": "2.0.0",
      "model_name": "LayoutModel",
      "state": {
       "flex": "2"
      }
     },
     "737a35c1c19b46ceacf5a722717a2c2b": {
      "model_module": "@jupyter-widgets/base",
      "model_module_version": "2.0.0",
      "model_name": "LayoutModel",
      "state": {}
     },
     "73ea67c3f80c4c68be1df7590b223ea0": {
      "model_module": "@jupyter-widgets/controls",
      "model_module_version": "2.0.0",
      "model_name": "ProgressStyleModel",
      "state": {
       "description_width": ""
      }
     },
     "743db36972de4a5fb0b352f890d20b1f": {
      "model_module": "@jupyter-widgets/controls",
      "model_module_version": "2.0.0",
      "model_name": "FloatProgressModel",
      "state": {
       "layout": "IPY_MODEL_cd1eed080af041f786dc02302b3f9934",
       "max": 280,
       "style": "IPY_MODEL_9c005f068f3941bab42a813186371cfa",
       "value": 280
      }
     },
     "74d20bd2bb964b7095473778fc577cca": {
      "model_module": "@jupyter-widgets/base",
      "model_module_version": "2.0.0",
      "model_name": "LayoutModel",
      "state": {}
     },
     "7575c7a6677445858388e1a4ac4c498e": {
      "model_module": "@jupyter-widgets/controls",
      "model_module_version": "2.0.0",
      "model_name": "HTMLModel",
      "state": {
       "layout": "IPY_MODEL_9600f5546c274b9da8c0a2d537e60733",
       "style": "IPY_MODEL_197dcfd42d06451bac5737a744f68387",
       "value": "Validation DataLoader 0: 100%"
      }
     },
     "76082c73ed24417b95e45727d18fdf15": {
      "model_module": "@jupyter-widgets/controls",
      "model_module_version": "2.0.0",
      "model_name": "HTMLModel",
      "state": {
       "layout": "IPY_MODEL_515ae17b4256439aa95419e02072b479",
       "style": "IPY_MODEL_29d44ef1023a4d06a7f40210df23d104",
       "value": " 280/280 [00:27&lt;00:00, 10.18it/s]"
      }
     },
     "76117a9c095f426bb8ae28a9b81e9362": {
      "model_module": "@jupyter-widgets/base",
      "model_module_version": "2.0.0",
      "model_name": "LayoutModel",
      "state": {
       "flex": "2"
      }
     },
     "762566ba90554a0c91e85a4190289a5b": {
      "model_module": "@jupyter-widgets/controls",
      "model_module_version": "2.0.0",
      "model_name": "HTMLModel",
      "state": {
       "layout": "IPY_MODEL_1995378d312b4a6aa5c7bad708f2c7ad",
       "style": "IPY_MODEL_7f34d8ce52ee41988e125d7cc43b86dc",
       "value": " 280/280 [00:27&lt;00:00, 10.23it/s]"
      }
     },
     "76597d39bb9e4056918c465bc5447261": {
      "model_module": "@jupyter-widgets/controls",
      "model_module_version": "2.0.0",
      "model_name": "ProgressStyleModel",
      "state": {
       "description_width": ""
      }
     },
     "770e08344b0544e59175e3f686975869": {
      "model_module": "@jupyter-widgets/controls",
      "model_module_version": "2.0.0",
      "model_name": "ProgressStyleModel",
      "state": {
       "description_width": ""
      }
     },
     "77cfd1ebb5984872bff9004df912de9f": {
      "model_module": "@jupyter-widgets/base",
      "model_module_version": "2.0.0",
      "model_name": "LayoutModel",
      "state": {}
     },
     "77d710d6a01344dc827fc74d20a40d0f": {
      "model_module": "@jupyter-widgets/base",
      "model_module_version": "2.0.0",
      "model_name": "LayoutModel",
      "state": {}
     },
     "780033f8c8aa4aeb842ee0f7a8d428ba": {
      "model_module": "@jupyter-widgets/controls",
      "model_module_version": "2.0.0",
      "model_name": "FloatProgressModel",
      "state": {
       "layout": "IPY_MODEL_0dd87c45ad0c4bfab7e04bbd550a6109",
       "max": 280,
       "style": "IPY_MODEL_0ba8791b7b944cc7933ecfc6583aed01",
       "value": 280
      }
     },
     "78484aa6cbfc4242a1cf35156bb642f9": {
      "model_module": "@jupyter-widgets/controls",
      "model_module_version": "2.0.0",
      "model_name": "HTMLStyleModel",
      "state": {
       "description_width": "",
       "font_size": null,
       "text_color": null
      }
     },
     "78758e80b8174c2bb36fb98daf5874f2": {
      "model_module": "@jupyter-widgets/controls",
      "model_module_version": "2.0.0",
      "model_name": "HTMLStyleModel",
      "state": {
       "description_width": "",
       "font_size": null,
       "text_color": null
      }
     },
     "78d43e37833c49b085fd0c44bbec8f34": {
      "model_module": "@jupyter-widgets/controls",
      "model_module_version": "2.0.0",
      "model_name": "HTMLModel",
      "state": {
       "layout": "IPY_MODEL_2bc63b79db074d4697ae39e36cce8607",
       "style": "IPY_MODEL_8b75a2304a874790bdf7293bc15ae1a2",
       "value": "Validation DataLoader 0: 100%"
      }
     },
     "795dd114569b4d23ac25d6c0eb3946db": {
      "model_module": "@jupyter-widgets/base",
      "model_module_version": "2.0.0",
      "model_name": "LayoutModel",
      "state": {}
     },
     "79e1550456dd488d95522d8fb8dea7b4": {
      "model_module": "@jupyter-widgets/base",
      "model_module_version": "2.0.0",
      "model_name": "LayoutModel",
      "state": {
       "flex": "2"
      }
     },
     "7a6d64346247436fa0aa958807a7550a": {
      "model_module": "@jupyter-widgets/controls",
      "model_module_version": "2.0.0",
      "model_name": "FloatProgressModel",
      "state": {
       "layout": "IPY_MODEL_8d154d19ac174c349cc55ec2d8ddb032",
       "max": 280,
       "style": "IPY_MODEL_e72cbcb6945c43ac814cb05ef8a4634c",
       "value": 280
      }
     },
     "7ab41f9ff4714d2fbce2c5bcbc472f1d": {
      "model_module": "@jupyter-widgets/base",
      "model_module_version": "2.0.0",
      "model_name": "LayoutModel",
      "state": {
       "display": "inline-flex",
       "flex_flow": "row wrap",
       "visibility": "hidden",
       "width": "100%"
      }
     },
     "7b14d77c6b71471a9cbc7ebbcdc34488": {
      "model_module": "@jupyter-widgets/base",
      "model_module_version": "2.0.0",
      "model_name": "LayoutModel",
      "state": {}
     },
     "7bfcf63d9890443dbbc742be5bdcf1bc": {
      "model_module": "@jupyter-widgets/controls",
      "model_module_version": "2.0.0",
      "model_name": "FloatProgressModel",
      "state": {
       "layout": "IPY_MODEL_2a62c920f58f4342ab9d1e8e0ebcdd21",
       "max": 280,
       "style": "IPY_MODEL_b1025c137f264cf08796d8dfabfcce0c",
       "value": 280
      }
     },
     "7c546de61b0f4390851b81a37e64ec1f": {
      "model_module": "@jupyter-widgets/controls",
      "model_module_version": "2.0.0",
      "model_name": "HTMLModel",
      "state": {
       "layout": "IPY_MODEL_953112bc8d364b2b9731fc24c4839e71",
       "style": "IPY_MODEL_914c0642614c48d797b3c59ab1bdb8df",
       "value": " 280/280 [00:26&lt;00:00, 10.53it/s]"
      }
     },
     "7ce7cb5b840a486a95f7d8c20add98c8": {
      "model_module": "@jupyter-widgets/controls",
      "model_module_version": "2.0.0",
      "model_name": "HTMLModel",
      "state": {
       "layout": "IPY_MODEL_0f9a33e3a24340f59750b38360de4487",
       "style": "IPY_MODEL_332dcf4998034794a90633347853fd45",
       "value": "Validation DataLoader 0: 100%"
      }
     },
     "7e3453c64560405b936e00f7c9509cd5": {
      "model_module": "@jupyter-widgets/controls",
      "model_module_version": "2.0.0",
      "model_name": "HTMLStyleModel",
      "state": {
       "description_width": "",
       "font_size": null,
       "text_color": null
      }
     },
     "7e3fdc3211994ff2bfbbe16f29381342": {
      "model_module": "@jupyter-widgets/controls",
      "model_module_version": "2.0.0",
      "model_name": "HTMLModel",
      "state": {
       "layout": "IPY_MODEL_2a105f7c334d42ccb0fb715a32040581",
       "style": "IPY_MODEL_56b94f6814d94d8aad6d1f0f448698ac",
       "value": " 280/280 [00:26&lt;00:00, 10.58it/s]"
      }
     },
     "7e46d7487c344d99a05a39368c1dc04b": {
      "model_module": "@jupyter-widgets/controls",
      "model_module_version": "2.0.0",
      "model_name": "HTMLModel",
      "state": {
       "layout": "IPY_MODEL_ce9834828a864a1a9c46d2a799ad1e30",
       "style": "IPY_MODEL_061862e85ada422c88f7fc36e3351aa6",
       "value": "Validation DataLoader 0: 100%"
      }
     },
     "7e514d3430a248b48580c109daf49f04": {
      "model_module": "@jupyter-widgets/base",
      "model_module_version": "2.0.0",
      "model_name": "LayoutModel",
      "state": {
       "display": "inline-flex",
       "flex_flow": "row wrap",
       "visibility": "hidden",
       "width": "100%"
      }
     },
     "7f310a399f754e3e8e3d852987fe4838": {
      "model_module": "@jupyter-widgets/base",
      "model_module_version": "2.0.0",
      "model_name": "LayoutModel",
      "state": {}
     },
     "7f34d8ce52ee41988e125d7cc43b86dc": {
      "model_module": "@jupyter-widgets/controls",
      "model_module_version": "2.0.0",
      "model_name": "HTMLStyleModel",
      "state": {
       "description_width": "",
       "font_size": null,
       "text_color": null
      }
     },
     "7f60ed473ddb4b1f884dbcad45a5e1e3": {
      "model_module": "@jupyter-widgets/base",
      "model_module_version": "2.0.0",
      "model_name": "LayoutModel",
      "state": {}
     },
     "7fd79e6db7154f48bee67550a98a4805": {
      "model_module": "@jupyter-widgets/controls",
      "model_module_version": "2.0.0",
      "model_name": "ProgressStyleModel",
      "state": {
       "description_width": ""
      }
     },
     "7fe83490554542ed8892bef120a5a523": {
      "model_module": "@jupyter-widgets/base",
      "model_module_version": "2.0.0",
      "model_name": "LayoutModel",
      "state": {}
     },
     "8018e9dbbf1943ad8c2a19dea0efa966": {
      "model_module": "@jupyter-widgets/controls",
      "model_module_version": "2.0.0",
      "model_name": "FloatProgressModel",
      "state": {
       "layout": "IPY_MODEL_c617aec73a184860ae2c9c22f5be0b12",
       "max": 280,
       "style": "IPY_MODEL_1f1c06d44c804ef9a19cc56209b0b041",
       "value": 280
      }
     },
     "80249a3ed3f84a51a9cd8a138946588d": {
      "model_module": "@jupyter-widgets/base",
      "model_module_version": "2.0.0",
      "model_name": "LayoutModel",
      "state": {
       "flex": "2"
      }
     },
     "804fbd31456548799d1bccf8251eb975": {
      "model_module": "@jupyter-widgets/controls",
      "model_module_version": "2.0.0",
      "model_name": "FloatProgressModel",
      "state": {
       "layout": "IPY_MODEL_104902631ade42e69325e3c99d8cf2b6",
       "max": 280,
       "style": "IPY_MODEL_9233c89d2fc542be9a4d94ace9623d91",
       "value": 280
      }
     },
     "80a81e00657349b38d3b683289449938": {
      "model_module": "@jupyter-widgets/base",
      "model_module_version": "2.0.0",
      "model_name": "LayoutModel",
      "state": {
       "display": "inline-flex",
       "flex_flow": "row wrap",
       "visibility": "hidden",
       "width": "100%"
      }
     },
     "80c30a7f6c8f4710a16a807548795a27": {
      "model_module": "@jupyter-widgets/base",
      "model_module_version": "2.0.0",
      "model_name": "LayoutModel",
      "state": {
       "flex": "2"
      }
     },
     "82086232c92945e4a217aa29ecfd8b78": {
      "model_module": "@jupyter-widgets/controls",
      "model_module_version": "2.0.0",
      "model_name": "HTMLModel",
      "state": {
       "layout": "IPY_MODEL_67cdc68eb3004ad18a583f6b4a098478",
       "style": "IPY_MODEL_9f30b5ca94cc48e8b3488cff1627f594",
       "value": " 280/280 [00:27&lt;00:00, 10.24it/s]"
      }
     },
     "82d1b8b54c714044ba4c1f7aca6fae31": {
      "model_module": "@jupyter-widgets/base",
      "model_module_version": "2.0.0",
      "model_name": "LayoutModel",
      "state": {
       "display": "inline-flex",
       "flex_flow": "row wrap",
       "visibility": "hidden",
       "width": "100%"
      }
     },
     "836607236ea44af8bb220ba457b3867f": {
      "model_module": "@jupyter-widgets/controls",
      "model_module_version": "2.0.0",
      "model_name": "HTMLStyleModel",
      "state": {
       "description_width": "",
       "font_size": null,
       "text_color": null
      }
     },
     "83a1d979972b40e7a7372ab50b3a9eaa": {
      "model_module": "@jupyter-widgets/base",
      "model_module_version": "2.0.0",
      "model_name": "LayoutModel",
      "state": {
       "flex": "2"
      }
     },
     "8433dc392a4e4f7b9b5204cdc28efd78": {
      "model_module": "@jupyter-widgets/controls",
      "model_module_version": "2.0.0",
      "model_name": "HTMLModel",
      "state": {
       "layout": "IPY_MODEL_1eb50461cd694437a49c4981c310bb9e",
       "style": "IPY_MODEL_b456b8434f924e169abe88dbf5fca7c6",
       "value": "Sanity Checking DataLoader 0: 100%"
      }
     },
     "845719631c674323b2c9e629c62babaf": {
      "model_module": "@jupyter-widgets/base",
      "model_module_version": "2.0.0",
      "model_name": "LayoutModel",
      "state": {
       "flex": "2"
      }
     },
     "845ea928af634bb5a8fe4278119e6e12": {
      "model_module": "@jupyter-widgets/controls",
      "model_module_version": "2.0.0",
      "model_name": "FloatProgressModel",
      "state": {
       "layout": "IPY_MODEL_80249a3ed3f84a51a9cd8a138946588d",
       "max": 280,
       "style": "IPY_MODEL_e141ec9f2da546858cb0e449e016c4b1",
       "value": 280
      }
     },
     "85a655a63ae2487b9bbef711f283e690": {
      "model_module": "@jupyter-widgets/base",
      "model_module_version": "2.0.0",
      "model_name": "LayoutModel",
      "state": {}
     },
     "864a37adf85f460e8901b0355e72937c": {
      "model_module": "@jupyter-widgets/base",
      "model_module_version": "2.0.0",
      "model_name": "LayoutModel",
      "state": {}
     },
     "866bd7f9781544bc885d289c74fe1911": {
      "model_module": "@jupyter-widgets/controls",
      "model_module_version": "2.0.0",
      "model_name": "HTMLStyleModel",
      "state": {
       "description_width": "",
       "font_size": null,
       "text_color": null
      }
     },
     "86874acf87e245e5b6f4b40fccd9465e": {
      "model_module": "@jupyter-widgets/base",
      "model_module_version": "2.0.0",
      "model_name": "LayoutModel",
      "state": {
       "display": "inline-flex",
       "flex_flow": "row wrap",
       "visibility": "hidden",
       "width": "100%"
      }
     },
     "86f4393eb8194364986a792f9c0b2615": {
      "model_module": "@jupyter-widgets/controls",
      "model_module_version": "2.0.0",
      "model_name": "HTMLStyleModel",
      "state": {
       "description_width": "",
       "font_size": null,
       "text_color": null
      }
     },
     "8704f09ea7ae4177bd770455f57f5b72": {
      "model_module": "@jupyter-widgets/base",
      "model_module_version": "2.0.0",
      "model_name": "LayoutModel",
      "state": {
       "display": "inline-flex",
       "flex_flow": "row wrap",
       "visibility": "hidden",
       "width": "100%"
      }
     },
     "870b216a032e499fa4b9ac64f961c6cc": {
      "model_module": "@jupyter-widgets/controls",
      "model_module_version": "2.0.0",
      "model_name": "HTMLModel",
      "state": {
       "layout": "IPY_MODEL_c3887c6fd4044a15ab028b4ddbf6869f",
       "style": "IPY_MODEL_c5268b9fbd7f4d7abd815e2f0b38778f",
       "value": " 280/280 [00:27&lt;00:00, 10.20it/s]"
      }
     },
     "873831c9f21540ca8f22f1e980213ca3": {
      "model_module": "@jupyter-widgets/base",
      "model_module_version": "2.0.0",
      "model_name": "LayoutModel",
      "state": {}
     },
     "877ccc3b0bb94c29b87fda8d602aaa2c": {
      "model_module": "@jupyter-widgets/controls",
      "model_module_version": "2.0.0",
      "model_name": "HTMLModel",
      "state": {
       "layout": "IPY_MODEL_19a55af279fd4723ab33a4d9d7f1d7bc",
       "style": "IPY_MODEL_9f28d8190bd942619d1b7bad9299612f",
       "value": "Validation DataLoader 0: 100%"
      }
     },
     "87d37bc554c64406b62e1760495a62b5": {
      "model_module": "@jupyter-widgets/controls",
      "model_module_version": "2.0.0",
      "model_name": "FloatProgressModel",
      "state": {
       "layout": "IPY_MODEL_dbd1a778071f4bdbb26312564e449bf0",
       "max": 280,
       "style": "IPY_MODEL_46af114e64a34eea891230581ea255df",
       "value": 280
      }
     },
     "880c34fc62ed4a06b0c88d7c0645e8b9": {
      "model_module": "@jupyter-widgets/base",
      "model_module_version": "2.0.0",
      "model_name": "LayoutModel",
      "state": {
       "display": "inline-flex",
       "flex_flow": "row wrap",
       "width": "100%"
      }
     },
     "883647c7372f4a3690e1c7a3b72525e1": {
      "model_module": "@jupyter-widgets/output",
      "model_module_version": "1.0.0",
      "model_name": "OutputModel",
      "state": {
       "layout": "IPY_MODEL_5492f801b4d84d2a827ee30e89201d64",
       "outputs": [
        {
         "data": {
          "text/html": "<pre style=\"white-space:pre;overflow-x:auto;line-height:normal;font-family:Menlo,'DejaVu Sans Mono',consolas,'Courier New',monospace\"><span style=\"color: #800080; text-decoration-color: #800080\"> 100%</span> <span style=\"color: #729c1f; text-decoration-color: #729c1f\">━━━━━━━━━━━━━━━━━━━━━━━━━━━━━━━━━━━━━━━━━━━━━━━━━━━━━━━━━━━</span> <span style=\"color: #008000; text-decoration-color: #008000\">100,335/100,000 </span> [ <span style=\"color: #808000; text-decoration-color: #808000\">0:07:24</span> &lt; <span style=\"color: #008080; text-decoration-color: #008080\">0:00:00</span> , <span style=\"color: #800000; text-decoration-color: #800000\">206 it/s</span> ]\n</pre>\n",
          "text/plain": "\u001b[35m 100%\u001b[0m \u001b[38;2;114;156;31m━━━━━━━━━━━━━━━━━━━━━━━━━━━━━━━━━━━━━━━━━━━━━━━━━━━━━━━━━━━\u001b[0m \u001b[32m100,335/100,000 \u001b[0m [ \u001b[33m0:07:24\u001b[0m < \u001b[36m0:00:00\u001b[0m , \u001b[31m206 it/s\u001b[0m ]\n"
         },
         "metadata": {},
         "output_type": "display_data"
        }
       ]
      }
     },
     "88fedda008e54fa9a58fb93fff603356": {
      "model_module": "@jupyter-widgets/controls",
      "model_module_version": "2.0.0",
      "model_name": "FloatProgressModel",
      "state": {
       "layout": "IPY_MODEL_17d59d21fd4e4736b70718e91cacfd5f",
       "max": 280,
       "style": "IPY_MODEL_58d3072cca494f6da30a4c33142bec1f",
       "value": 280
      }
     },
     "89635f8e59ef48b2bb97ff0af59cd095": {
      "model_module": "@jupyter-widgets/controls",
      "model_module_version": "2.0.0",
      "model_name": "ProgressStyleModel",
      "state": {
       "description_width": ""
      }
     },
     "89bdfa1521a64d53a32e461ea884d37e": {
      "model_module": "@jupyter-widgets/base",
      "model_module_version": "2.0.0",
      "model_name": "LayoutModel",
      "state": {}
     },
     "8a877b7da54740829dff42209f389820": {
      "model_module": "@jupyter-widgets/controls",
      "model_module_version": "2.0.0",
      "model_name": "HTMLModel",
      "state": {
       "layout": "IPY_MODEL_5a297e2b7dce4336af373fe335a3813d",
       "style": "IPY_MODEL_e435b2287c994d0a82f6f1f6e1b81f90",
       "value": " 280/280 [00:27&lt;00:00, 10.23it/s]"
      }
     },
     "8a8e864398324337afe43b2c19770429": {
      "model_module": "@jupyter-widgets/controls",
      "model_module_version": "2.0.0",
      "model_name": "ProgressStyleModel",
      "state": {
       "description_width": ""
      }
     },
     "8aa3fa9f54dd4960819817ba7c64c7be": {
      "model_module": "@jupyter-widgets/base",
      "model_module_version": "2.0.0",
      "model_name": "LayoutModel",
      "state": {
       "flex": "2"
      }
     },
     "8ac7e3c0fa9147d8bfc3514b73f5b25f": {
      "model_module": "@jupyter-widgets/base",
      "model_module_version": "2.0.0",
      "model_name": "LayoutModel",
      "state": {}
     },
     "8afc16721d0349ad9d24eec194877024": {
      "model_module": "@jupyter-widgets/controls",
      "model_module_version": "2.0.0",
      "model_name": "FloatProgressModel",
      "state": {
       "layout": "IPY_MODEL_207b390f86524840ae932c4c9fd55dbe",
       "max": 280,
       "style": "IPY_MODEL_558adc057f4247fc8363a4045bda9612",
       "value": 280
      }
     },
     "8b72b545c31d4cd18506810889662752": {
      "model_module": "@jupyter-widgets/base",
      "model_module_version": "2.0.0",
      "model_name": "LayoutModel",
      "state": {}
     },
     "8b75a2304a874790bdf7293bc15ae1a2": {
      "model_module": "@jupyter-widgets/controls",
      "model_module_version": "2.0.0",
      "model_name": "HTMLStyleModel",
      "state": {
       "description_width": "",
       "font_size": null,
       "text_color": null
      }
     },
     "8c0cd635e54c489985a6f1003402c89a": {
      "model_module": "@jupyter-widgets/base",
      "model_module_version": "2.0.0",
      "model_name": "LayoutModel",
      "state": {
       "display": "inline-flex",
       "flex_flow": "row wrap",
       "visibility": "hidden",
       "width": "100%"
      }
     },
     "8c549df74cf7427db24ea24522e7aa03": {
      "model_module": "@jupyter-widgets/output",
      "model_module_version": "1.0.0",
      "model_name": "OutputModel",
      "state": {
       "layout": "IPY_MODEL_acba509224834a6496207909caa828f3",
       "outputs": [
        {
         "data": {
          "text/html": "<pre style=\"white-space:pre;overflow-x:auto;line-height:normal;font-family:Menlo,'DejaVu Sans Mono',consolas,'Courier New',monospace\"><span style=\"color: #800080; text-decoration-color: #800080\"> 100%</span> <span style=\"color: #729c1f; text-decoration-color: #729c1f\">━━━━━━━━━━━━━━━━━━━━━━━━━━━━━━━━━━━━━━━━━━━━━━━━━━━━━━━━━━━</span> <span style=\"color: #008000; text-decoration-color: #008000\">200,692/200,000 </span> [ <span style=\"color: #808000; text-decoration-color: #808000\">0:15:05</span> &lt; <span style=\"color: #008080; text-decoration-color: #008080\">0:00:00</span> , <span style=\"color: #800000; text-decoration-color: #800000\">213 it/s</span> ]\n</pre>\n",
          "text/plain": "\u001b[35m 100%\u001b[0m \u001b[38;2;114;156;31m━━━━━━━━━━━━━━━━━━━━━━━━━━━━━━━━━━━━━━━━━━━━━━━━━━━━━━━━━━━\u001b[0m \u001b[32m200,692/200,000 \u001b[0m [ \u001b[33m0:15:05\u001b[0m < \u001b[36m0:00:00\u001b[0m , \u001b[31m213 it/s\u001b[0m ]\n"
         },
         "metadata": {},
         "output_type": "display_data"
        }
       ]
      }
     },
     "8c8e32e4cc824373b3a7591d2ab60d59": {
      "model_module": "@jupyter-widgets/base",
      "model_module_version": "2.0.0",
      "model_name": "LayoutModel",
      "state": {
       "display": "inline-flex",
       "flex_flow": "row wrap",
       "visibility": "hidden",
       "width": "100%"
      }
     },
     "8c92c1d2adf94cd28348256aa7f54f29": {
      "model_module": "@jupyter-widgets/base",
      "model_module_version": "2.0.0",
      "model_name": "LayoutModel",
      "state": {}
     },
     "8d154d19ac174c349cc55ec2d8ddb032": {
      "model_module": "@jupyter-widgets/base",
      "model_module_version": "2.0.0",
      "model_name": "LayoutModel",
      "state": {
       "flex": "2"
      }
     },
     "8d253d252e93480a8597cbdb4fc0ae5d": {
      "model_module": "@jupyter-widgets/base",
      "model_module_version": "2.0.0",
      "model_name": "LayoutModel",
      "state": {
       "flex": "2"
      }
     },
     "8d9cbe949dec4d4989fd9b0ee6ce5c18": {
      "model_module": "@jupyter-widgets/base",
      "model_module_version": "2.0.0",
      "model_name": "LayoutModel",
      "state": {
       "display": "inline-flex",
       "flex_flow": "row wrap",
       "visibility": "hidden",
       "width": "100%"
      }
     },
     "8e2d936832264cd2a219a80d39166f02": {
      "model_module": "@jupyter-widgets/controls",
      "model_module_version": "2.0.0",
      "model_name": "HTMLStyleModel",
      "state": {
       "description_width": "",
       "font_size": null,
       "text_color": null
      }
     },
     "8e30510348f94bd79af0aeb224751418": {
      "model_module": "@jupyter-widgets/controls",
      "model_module_version": "2.0.0",
      "model_name": "HTMLModel",
      "state": {
       "layout": "IPY_MODEL_dcef08ed701e4a519801d7096e915191",
       "style": "IPY_MODEL_78758e80b8174c2bb36fb98daf5874f2",
       "value": "Validation DataLoader 0: 100%"
      }
     },
     "8e4428cd3983425ca48014c96eab48f9": {
      "model_module": "@jupyter-widgets/base",
      "model_module_version": "2.0.0",
      "model_name": "LayoutModel",
      "state": {}
     },
     "8e9f08c5007140a29f05301fc5d2badc": {
      "model_module": "@jupyter-widgets/controls",
      "model_module_version": "2.0.0",
      "model_name": "HTMLStyleModel",
      "state": {
       "description_width": "",
       "font_size": null,
       "text_color": null
      }
     },
     "8eb938a791f5463f88e37debe4238e15": {
      "model_module": "@jupyter-widgets/controls",
      "model_module_version": "2.0.0",
      "model_name": "HTMLStyleModel",
      "state": {
       "description_width": "",
       "font_size": null,
       "text_color": null
      }
     },
     "8f10326c16054ecc92113888a7e7c377": {
      "model_module": "@jupyter-widgets/controls",
      "model_module_version": "2.0.0",
      "model_name": "HTMLModel",
      "state": {
       "layout": "IPY_MODEL_36c4a115fb0d4a7c9efab89f38e535f3",
       "style": "IPY_MODEL_8eb938a791f5463f88e37debe4238e15",
       "value": " 280/280 [00:26&lt;00:00, 10.56it/s]"
      }
     },
     "8f5eb9da188141f98b0726620ad1d980": {
      "model_module": "@jupyter-widgets/base",
      "model_module_version": "2.0.0",
      "model_name": "LayoutModel",
      "state": {}
     },
     "8f6ddd68c38b417ea06b4a34b82707e2": {
      "model_module": "@jupyter-widgets/output",
      "model_module_version": "1.0.0",
      "model_name": "OutputModel",
      "state": {
       "layout": "IPY_MODEL_3f3b249913da42a4b56507c19fdb2e7b",
       "outputs": [
        {
         "data": {
          "text/html": "<pre style=\"white-space:pre;overflow-x:auto;line-height:normal;font-family:Menlo,'DejaVu Sans Mono',consolas,'Courier New',monospace\"><span style=\"color: #800080; text-decoration-color: #800080\"> 100%</span> <span style=\"color: #729c1f; text-decoration-color: #729c1f\">━━━━━━━━━━━━━━━━━━━━━━━━━━━━━━━━━━━━━━━━━━━━━━━━━━━━━━━━━━━</span> <span style=\"color: #008000; text-decoration-color: #008000\">200,692/200,000 </span> [ <span style=\"color: #808000; text-decoration-color: #808000\">0:13:16</span> &lt; <span style=\"color: #008080; text-decoration-color: #008080\">0:00:00</span> , <span style=\"color: #800000; text-decoration-color: #800000\">213 it/s</span> ]\n</pre>\n",
          "text/plain": "\u001b[35m 100%\u001b[0m \u001b[38;2;114;156;31m━━━━━━━━━━━━━━━━━━━━━━━━━━━━━━━━━━━━━━━━━━━━━━━━━━━━━━━━━━━\u001b[0m \u001b[32m200,692/200,000 \u001b[0m [ \u001b[33m0:13:16\u001b[0m < \u001b[36m0:00:00\u001b[0m , \u001b[31m213 it/s\u001b[0m ]\n"
         },
         "metadata": {},
         "output_type": "display_data"
        }
       ]
      }
     },
     "90238b64535749059ae1530fba37832c": {
      "model_module": "@jupyter-widgets/controls",
      "model_module_version": "2.0.0",
      "model_name": "HTMLModel",
      "state": {
       "layout": "IPY_MODEL_55b21e91409941ea8aea488f964b83c6",
       "style": "IPY_MODEL_da7986fffad040339f3d861ece37d422",
       "value": "Validation DataLoader 0: 100%"
      }
     },
     "90277411035c4471af15c379c85ead64": {
      "model_module": "@jupyter-widgets/base",
      "model_module_version": "2.0.0",
      "model_name": "LayoutModel",
      "state": {
       "display": "inline-flex",
       "flex_flow": "row wrap",
       "visibility": "hidden",
       "width": "100%"
      }
     },
     "909199fbac334da482c972c9481ec783": {
      "model_module": "@jupyter-widgets/controls",
      "model_module_version": "2.0.0",
      "model_name": "HTMLStyleModel",
      "state": {
       "description_width": "",
       "font_size": null,
       "text_color": null
      }
     },
     "90a61a0faffb458ab2edfcaf06e45c92": {
      "model_module": "@jupyter-widgets/base",
      "model_module_version": "2.0.0",
      "model_name": "LayoutModel",
      "state": {}
     },
     "90b8077bf5234acc9ced5e3ddf15eee8": {
      "model_module": "@jupyter-widgets/base",
      "model_module_version": "2.0.0",
      "model_name": "LayoutModel",
      "state": {
       "display": "inline-flex",
       "flex_flow": "row wrap",
       "visibility": "hidden",
       "width": "100%"
      }
     },
     "90e0e5fd82d746e2965fbbc749e0a5de": {
      "model_module": "@jupyter-widgets/controls",
      "model_module_version": "2.0.0",
      "model_name": "FloatProgressModel",
      "state": {
       "layout": "IPY_MODEL_8aa3fa9f54dd4960819817ba7c64c7be",
       "max": 280,
       "style": "IPY_MODEL_adfbec5e2ffe492088af99d297600ff1",
       "value": 280
      }
     },
     "9127cef9395f4c62863810d1966bb124": {
      "model_module": "@jupyter-widgets/base",
      "model_module_version": "2.0.0",
      "model_name": "LayoutModel",
      "state": {}
     },
     "914c0642614c48d797b3c59ab1bdb8df": {
      "model_module": "@jupyter-widgets/controls",
      "model_module_version": "2.0.0",
      "model_name": "HTMLStyleModel",
      "state": {
       "description_width": "",
       "font_size": null,
       "text_color": null
      }
     },
     "91b4db522ab7409d99f8d5c6ac879049": {
      "model_module": "@jupyter-widgets/controls",
      "model_module_version": "2.0.0",
      "model_name": "HTMLStyleModel",
      "state": {
       "description_width": "",
       "font_size": null,
       "text_color": null
      }
     },
     "9233c89d2fc542be9a4d94ace9623d91": {
      "model_module": "@jupyter-widgets/controls",
      "model_module_version": "2.0.0",
      "model_name": "ProgressStyleModel",
      "state": {
       "description_width": ""
      }
     },
     "925168f59c6b42979a7e47c8192c9d02": {
      "model_module": "@jupyter-widgets/controls",
      "model_module_version": "2.0.0",
      "model_name": "HTMLStyleModel",
      "state": {
       "description_width": "",
       "font_size": null,
       "text_color": null
      }
     },
     "92b2e80fbc8d4ebc925f62ee32f12540": {
      "model_module": "@jupyter-widgets/controls",
      "model_module_version": "2.0.0",
      "model_name": "ProgressStyleModel",
      "state": {
       "description_width": ""
      }
     },
     "92da76cb85af4840ac5b8d5b5bf352de": {
      "model_module": "@jupyter-widgets/base",
      "model_module_version": "2.0.0",
      "model_name": "LayoutModel",
      "state": {
       "flex": "2"
      }
     },
     "9385e579e93f4d4b89fd939c230745c3": {
      "model_module": "@jupyter-widgets/controls",
      "model_module_version": "2.0.0",
      "model_name": "HTMLStyleModel",
      "state": {
       "description_width": "",
       "font_size": null,
       "text_color": null
      }
     },
     "9483a3a6c21f4a23860af6562248b887": {
      "model_module": "@jupyter-widgets/controls",
      "model_module_version": "2.0.0",
      "model_name": "ProgressStyleModel",
      "state": {
       "description_width": ""
      }
     },
     "953112bc8d364b2b9731fc24c4839e71": {
      "model_module": "@jupyter-widgets/base",
      "model_module_version": "2.0.0",
      "model_name": "LayoutModel",
      "state": {}
     },
     "954de0cc13c0412fb189587d68704f27": {
      "model_module": "@jupyter-widgets/controls",
      "model_module_version": "2.0.0",
      "model_name": "FloatProgressModel",
      "state": {
       "layout": "IPY_MODEL_5db1bac775484776ad519719b701e74b",
       "max": 280,
       "style": "IPY_MODEL_dd30d68d40db4a5a8533a77e8ff5e8dd",
       "value": 280
      }
     },
     "9600f5546c274b9da8c0a2d537e60733": {
      "model_module": "@jupyter-widgets/base",
      "model_module_version": "2.0.0",
      "model_name": "LayoutModel",
      "state": {}
     },
     "964f805c1ca845499288f88f5b0745ca": {
      "model_module": "@jupyter-widgets/controls",
      "model_module_version": "2.0.0",
      "model_name": "HTMLModel",
      "state": {
       "layout": "IPY_MODEL_a171fbbe746f46d58edab0eb0031451c",
       "style": "IPY_MODEL_d2507802b94c49259eab006f6479f747",
       "value": " 280/280 [00:27&lt;00:00, 10.22it/s]"
      }
     },
     "969a7d418c7048d484fce26d6dfaa40c": {
      "model_module": "@jupyter-widgets/controls",
      "model_module_version": "2.0.0",
      "model_name": "FloatProgressModel",
      "state": {
       "layout": "IPY_MODEL_83a1d979972b40e7a7372ab50b3a9eaa",
       "max": 280,
       "style": "IPY_MODEL_4e93f232b5244baa9e8db0059e0e501b",
       "value": 280
      }
     },
     "96c7477077864b79b5cd2f80d340768c": {
      "model_module": "@jupyter-widgets/base",
      "model_module_version": "2.0.0",
      "model_name": "LayoutModel",
      "state": {}
     },
     "9721e44129a04f85bd5cc4c17bbeb368": {
      "model_module": "@jupyter-widgets/controls",
      "model_module_version": "2.0.0",
      "model_name": "HTMLStyleModel",
      "state": {
       "description_width": "",
       "font_size": null,
       "text_color": null
      }
     },
     "978ed8a45dff4fb98cb4a5d69f3c052f": {
      "model_module": "@jupyter-widgets/controls",
      "model_module_version": "2.0.0",
      "model_name": "FloatProgressModel",
      "state": {
       "layout": "IPY_MODEL_25a41a907a7a4548a7d123377ec0fc93",
       "max": 280,
       "style": "IPY_MODEL_e5784cd7d0d44736a9059af06a2f28bf",
       "value": 280
      }
     },
     "97edd87b0bdf4747b4bf02f12f2fb9af": {
      "model_module": "@jupyter-widgets/controls",
      "model_module_version": "2.0.0",
      "model_name": "HTMLModel",
      "state": {
       "layout": "IPY_MODEL_c16669c1ed0b495bbea6298874da6db4",
       "style": "IPY_MODEL_925168f59c6b42979a7e47c8192c9d02",
       "value": "Validation DataLoader 0: 100%"
      }
     },
     "97f2aa10ebea4bad982a5976f0a23689": {
      "model_module": "@jupyter-widgets/base",
      "model_module_version": "2.0.0",
      "model_name": "LayoutModel",
      "state": {
       "display": "inline-flex",
       "flex_flow": "row wrap",
       "visibility": "hidden",
       "width": "100%"
      }
     },
     "98267903a99c479095df774fb8252e41": {
      "model_module": "@jupyter-widgets/controls",
      "model_module_version": "2.0.0",
      "model_name": "HTMLStyleModel",
      "state": {
       "description_width": "",
       "font_size": null,
       "text_color": null
      }
     },
     "98f9a0d4e0ad41be8798ab7dfedc781f": {
      "model_module": "@jupyter-widgets/controls",
      "model_module_version": "2.0.0",
      "model_name": "FloatProgressModel",
      "state": {
       "layout": "IPY_MODEL_e8094181a0ca40b58f1729fcda992105",
       "max": 280,
       "style": "IPY_MODEL_3e245ddafad34c3eab479ec403b3f010",
       "value": 280
      }
     },
     "9963bb5582314718bf467d505392b755": {
      "model_module": "@jupyter-widgets/controls",
      "model_module_version": "2.0.0",
      "model_name": "ProgressStyleModel",
      "state": {
       "description_width": ""
      }
     },
     "9985952343ce41d1ae58ca4a56ac3ce4": {
      "model_module": "@jupyter-widgets/base",
      "model_module_version": "2.0.0",
      "model_name": "LayoutModel",
      "state": {}
     },
     "9aa3d711f620474e8aee93ea3f86315a": {
      "model_module": "@jupyter-widgets/controls",
      "model_module_version": "2.0.0",
      "model_name": "HTMLStyleModel",
      "state": {
       "description_width": "",
       "font_size": null,
       "text_color": null
      }
     },
     "9b07a6dca4024a80883506c412b26a57": {
      "model_module": "@jupyter-widgets/controls",
      "model_module_version": "2.0.0",
      "model_name": "HTMLModel",
      "state": {
       "layout": "IPY_MODEL_7091d4f63a504b15b8e2692dd4344a71",
       "style": "IPY_MODEL_fc6fbf2388e1448fb612fb6c41eed465",
       "value": " 280/280 [00:26&lt;00:00, 10.55it/s]"
      }
     },
     "9b159edf83404e58af0c99717f060f03": {
      "model_module": "@jupyter-widgets/controls",
      "model_module_version": "2.0.0",
      "model_name": "FloatProgressModel",
      "state": {
       "layout": "IPY_MODEL_1aa19844b9ae4254b0bd9599ad57a5c0",
       "max": 280,
       "style": "IPY_MODEL_c25e25ef6e8c4189911a4261c8614c93",
       "value": 280
      }
     },
     "9b18fad25e4d4f3b832bc95ed03d2eba": {
      "model_module": "@jupyter-widgets/controls",
      "model_module_version": "2.0.0",
      "model_name": "ProgressStyleModel",
      "state": {
       "description_width": ""
      }
     },
     "9bdacef1615a4e95a2651d6a87d1adc6": {
      "model_module": "@jupyter-widgets/base",
      "model_module_version": "2.0.0",
      "model_name": "LayoutModel",
      "state": {}
     },
     "9bdbadadd92a49aa923037d341474772": {
      "model_module": "@jupyter-widgets/controls",
      "model_module_version": "2.0.0",
      "model_name": "HTMLStyleModel",
      "state": {
       "description_width": "",
       "font_size": null,
       "text_color": null
      }
     },
     "9bdffb035ed74bf38f0cbb6032ce1ddf": {
      "model_module": "@jupyter-widgets/controls",
      "model_module_version": "2.0.0",
      "model_name": "HTMLStyleModel",
      "state": {
       "description_width": "",
       "font_size": null,
       "text_color": null
      }
     },
     "9c005f068f3941bab42a813186371cfa": {
      "model_module": "@jupyter-widgets/controls",
      "model_module_version": "2.0.0",
      "model_name": "ProgressStyleModel",
      "state": {
       "description_width": ""
      }
     },
     "9c945d7f344446d9ae5502981b656843": {
      "model_module": "@jupyter-widgets/controls",
      "model_module_version": "2.0.0",
      "model_name": "HTMLStyleModel",
      "state": {
       "description_width": "",
       "font_size": null,
       "text_color": null
      }
     },
     "9cf70a61c07a4e8f807c78d7f191bc3a": {
      "model_module": "@jupyter-widgets/controls",
      "model_module_version": "2.0.0",
      "model_name": "HTMLModel",
      "state": {
       "layout": "IPY_MODEL_873831c9f21540ca8f22f1e980213ca3",
       "style": "IPY_MODEL_b1e245e45203413ba3fa5d5e5f1c6337",
       "value": " 280/280 [00:27&lt;00:00, 10.16it/s]"
      }
     },
     "9d55720584df42a8933f0767d67e7c6d": {
      "model_module": "@jupyter-widgets/controls",
      "model_module_version": "2.0.0",
      "model_name": "HTMLModel",
      "state": {
       "layout": "IPY_MODEL_9985952343ce41d1ae58ca4a56ac3ce4",
       "style": "IPY_MODEL_a0e24d66bb9f4823b2d7dabaa32f2ad8",
       "value": "Validation DataLoader 0: 100%"
      }
     },
     "9de03656a5124cd68ab35e22029adbb9": {
      "model_module": "@jupyter-widgets/controls",
      "model_module_version": "2.0.0",
      "model_name": "HTMLStyleModel",
      "state": {
       "description_width": "",
       "font_size": null,
       "text_color": null
      }
     },
     "9e2bcc8f74954975b0f6e16b5957454c": {
      "model_module": "@jupyter-widgets/controls",
      "model_module_version": "2.0.0",
      "model_name": "HTMLModel",
      "state": {
       "layout": "IPY_MODEL_d7d078541e8648ba82ed3fd4ebf8944a",
       "style": "IPY_MODEL_35e5a67a921f45bbbae9d4f53daf5788",
       "value": "Validation DataLoader 0: 100%"
      }
     },
     "9e73c3d9e1bb4deb8f698e13a58b1855": {
      "model_module": "@jupyter-widgets/base",
      "model_module_version": "2.0.0",
      "model_name": "LayoutModel",
      "state": {
       "display": "inline-flex",
       "flex_flow": "row wrap",
       "visibility": "hidden",
       "width": "100%"
      }
     },
     "9e91dd0ee9b94f83818be062c1a3316b": {
      "model_module": "@jupyter-widgets/controls",
      "model_module_version": "2.0.0",
      "model_name": "HTMLModel",
      "state": {
       "layout": "IPY_MODEL_d5d0b792bfa7424e9a17164aa939d493",
       "style": "IPY_MODEL_f2fcafaba4f04bd1aa8060c887119a6c",
       "value": " 280/280 [00:27&lt;00:00, 10.12it/s]"
      }
     },
     "9ea16b8e42d24e0ba93d8a851b528911": {
      "model_module": "@jupyter-widgets/base",
      "model_module_version": "2.0.0",
      "model_name": "LayoutModel",
      "state": {}
     },
     "9eaf5e4ee8d44a1e9e64f14aeb523f40": {
      "model_module": "@jupyter-widgets/base",
      "model_module_version": "2.0.0",
      "model_name": "LayoutModel",
      "state": {
       "flex": "2"
      }
     },
     "9ecaf559fdc54835954afee731fc5c19": {
      "model_module": "@jupyter-widgets/base",
      "model_module_version": "2.0.0",
      "model_name": "LayoutModel",
      "state": {}
     },
     "9ef360b9a5f744138518d64048b69062": {
      "model_module": "@jupyter-widgets/controls",
      "model_module_version": "2.0.0",
      "model_name": "HTMLStyleModel",
      "state": {
       "description_width": "",
       "font_size": null,
       "text_color": null
      }
     },
     "9f28d8190bd942619d1b7bad9299612f": {
      "model_module": "@jupyter-widgets/controls",
      "model_module_version": "2.0.0",
      "model_name": "HTMLStyleModel",
      "state": {
       "description_width": "",
       "font_size": null,
       "text_color": null
      }
     },
     "9f2cb649482c4dfc8848502e3332f740": {
      "model_module": "@jupyter-widgets/output",
      "model_module_version": "1.0.0",
      "model_name": "OutputModel",
      "state": {
       "layout": "IPY_MODEL_71b4de5bf6e44185a27b0b87dd91aa05",
       "outputs": [
        {
         "data": {
          "text/html": "<pre style=\"white-space:pre;overflow-x:auto;line-height:normal;font-family:Menlo,'DejaVu Sans Mono',consolas,'Courier New',monospace\"><span style=\"color: #800080; text-decoration-color: #800080\"> 100%</span> <span style=\"color: #729c1f; text-decoration-color: #729c1f\">━━━━━━━━━━━━━━━━━━━━━━━━━━━━━━━━━━━━━━━━━━━━━━━━━━━━━━━━━━━</span> <span style=\"color: #008000; text-decoration-color: #008000\">200,678/200,000 </span> [ <span style=\"color: #808000; text-decoration-color: #808000\">0:15:00</span> &lt; <span style=\"color: #008080; text-decoration-color: #008080\">0:00:00</span> , <span style=\"color: #800000; text-decoration-color: #800000\">232 it/s</span> ]\n</pre>\n",
          "text/plain": "\u001b[35m 100%\u001b[0m \u001b[38;2;114;156;31m━━━━━━━━━━━━━━━━━━━━━━━━━━━━━━━━━━━━━━━━━━━━━━━━━━━━━━━━━━━\u001b[0m \u001b[32m200,678/200,000 \u001b[0m [ \u001b[33m0:15:00\u001b[0m < \u001b[36m0:00:00\u001b[0m , \u001b[31m232 it/s\u001b[0m ]\n"
         },
         "metadata": {},
         "output_type": "display_data"
        }
       ]
      }
     },
     "9f30b5ca94cc48e8b3488cff1627f594": {
      "model_module": "@jupyter-widgets/controls",
      "model_module_version": "2.0.0",
      "model_name": "HTMLStyleModel",
      "state": {
       "description_width": "",
       "font_size": null,
       "text_color": null
      }
     },
     "a0219305e7a0439e8f6125b923b0346a": {
      "model_module": "@jupyter-widgets/controls",
      "model_module_version": "2.0.0",
      "model_name": "FloatProgressModel",
      "state": {
       "layout": "IPY_MODEL_2c34b2511ad84021ba22e17ccd7a5443",
       "max": 280,
       "style": "IPY_MODEL_73ea67c3f80c4c68be1df7590b223ea0",
       "value": 280
      }
     },
     "a05cde51de454ee1b0e338ee0189d4ae": {
      "model_module": "@jupyter-widgets/base",
      "model_module_version": "2.0.0",
      "model_name": "LayoutModel",
      "state": {}
     },
     "a09b5a8a96694be29ca82e75b4340c2f": {
      "model_module": "@jupyter-widgets/base",
      "model_module_version": "2.0.0",
      "model_name": "LayoutModel",
      "state": {
       "flex": "2"
      }
     },
     "a0b6cac3589d4e2b818b7bf5b739fc0f": {
      "model_module": "@jupyter-widgets/base",
      "model_module_version": "2.0.0",
      "model_name": "LayoutModel",
      "state": {}
     },
     "a0e24d66bb9f4823b2d7dabaa32f2ad8": {
      "model_module": "@jupyter-widgets/controls",
      "model_module_version": "2.0.0",
      "model_name": "HTMLStyleModel",
      "state": {
       "description_width": "",
       "font_size": null,
       "text_color": null
      }
     },
     "a13ddb45e071445480bccfa166d175ea": {
      "model_module": "@jupyter-widgets/base",
      "model_module_version": "2.0.0",
      "model_name": "LayoutModel",
      "state": {}
     },
     "a171fbbe746f46d58edab0eb0031451c": {
      "model_module": "@jupyter-widgets/base",
      "model_module_version": "2.0.0",
      "model_name": "LayoutModel",
      "state": {}
     },
     "a28ed836eaf84d119f683f262b66e55d": {
      "model_module": "@jupyter-widgets/base",
      "model_module_version": "2.0.0",
      "model_name": "LayoutModel",
      "state": {}
     },
     "a3b1eb909ad74e3bbd7cba2b729e60ff": {
      "model_module": "@jupyter-widgets/base",
      "model_module_version": "2.0.0",
      "model_name": "LayoutModel",
      "state": {
       "flex": "2"
      }
     },
     "a3b9c2b307934bfe90a8c2b50128daad": {
      "model_module": "@jupyter-widgets/controls",
      "model_module_version": "2.0.0",
      "model_name": "HTMLStyleModel",
      "state": {
       "description_width": "",
       "font_size": null,
       "text_color": null
      }
     },
     "a3e3f1e66b6b4bd7ab0459fe0afc6468": {
      "model_module": "@jupyter-widgets/base",
      "model_module_version": "2.0.0",
      "model_name": "LayoutModel",
      "state": {}
     },
     "a3eca9caa84e4948b9d34c03f18b3e9b": {
      "model_module": "@jupyter-widgets/controls",
      "model_module_version": "2.0.0",
      "model_name": "FloatProgressModel",
      "state": {
       "layout": "IPY_MODEL_2f5e7d2441984196bdd8b0357fd97b79",
       "max": 280,
       "style": "IPY_MODEL_9963bb5582314718bf467d505392b755",
       "value": 280
      }
     },
     "a426502607b2479baaa0bd6e5af7f3d2": {
      "model_module": "@jupyter-widgets/controls",
      "model_module_version": "2.0.0",
      "model_name": "HTMLModel",
      "state": {
       "layout": "IPY_MODEL_77cfd1ebb5984872bff9004df912de9f",
       "style": "IPY_MODEL_1ec8e37b93b442bdaa6a6151915d7006",
       "value": " 280/280 [00:27&lt;00:00, 10.15it/s]"
      }
     },
     "a42f6087090e4a68a7a6f41b0dea08e7": {
      "model_module": "@jupyter-widgets/base",
      "model_module_version": "2.0.0",
      "model_name": "LayoutModel",
      "state": {}
     },
     "a4dac26391564a7a83b3630610fa9530": {
      "model_module": "@jupyter-widgets/controls",
      "model_module_version": "2.0.0",
      "model_name": "HTMLModel",
      "state": {
       "layout": "IPY_MODEL_aca36cdb15574c02897e0cf476ead440",
       "style": "IPY_MODEL_bb6b351baad04edaaf298837e1382356",
       "value": " 280/280 [00:27&lt;00:00, 10.24it/s]"
      }
     },
     "a57f2bc350b94d698683ffaedfb2c6f4": {
      "model_module": "@jupyter-widgets/controls",
      "model_module_version": "2.0.0",
      "model_name": "HTMLStyleModel",
      "state": {
       "description_width": "",
       "font_size": null,
       "text_color": null
      }
     },
     "a619c5ed89184f818f2119e6c3f55f40": {
      "model_module": "@jupyter-widgets/base",
      "model_module_version": "2.0.0",
      "model_name": "LayoutModel",
      "state": {}
     },
     "a6a142e1dadb4944ade3af4ad06e3c36": {
      "model_module": "@jupyter-widgets/base",
      "model_module_version": "2.0.0",
      "model_name": "LayoutModel",
      "state": {}
     },
     "a72611f2834d4497b32057d07650bb69": {
      "model_module": "@jupyter-widgets/controls",
      "model_module_version": "2.0.0",
      "model_name": "FloatProgressModel",
      "state": {
       "layout": "IPY_MODEL_dd0398e4c8044c21af9cba9945fea71d",
       "max": 280,
       "style": "IPY_MODEL_ceb0bccd121d48a89f7bbf4d799137f3",
       "value": 280
      }
     },
     "a80a4af6ad594f0baddfba442e2f7261": {
      "model_module": "@jupyter-widgets/controls",
      "model_module_version": "2.0.0",
      "model_name": "ProgressStyleModel",
      "state": {
       "description_width": ""
      }
     },
     "a81bc54650934b088c6b1c310974d7f9": {
      "model_module": "@jupyter-widgets/base",
      "model_module_version": "2.0.0",
      "model_name": "LayoutModel",
      "state": {
       "display": "inline-flex",
       "flex_flow": "row wrap",
       "visibility": "hidden",
       "width": "100%"
      }
     },
     "a8cd59f45e4347098adbdc8ec98aabbe": {
      "model_module": "@jupyter-widgets/base",
      "model_module_version": "2.0.0",
      "model_name": "LayoutModel",
      "state": {}
     },
     "a8d2a83b0aff41abbde20a7c39d7dda0": {
      "model_module": "@jupyter-widgets/controls",
      "model_module_version": "2.0.0",
      "model_name": "HTMLModel",
      "state": {
       "layout": "IPY_MODEL_047dcd03c117448aa0b9015dbad63f57",
       "style": "IPY_MODEL_b43f54107ef5458abf43a5c982c2446b",
       "value": "Validation DataLoader 0: 100%"
      }
     },
     "a8d562e464804f24ac9c61acee7310df": {
      "model_module": "@jupyter-widgets/base",
      "model_module_version": "2.0.0",
      "model_name": "LayoutModel",
      "state": {}
     },
     "a93aad12554a430aa32ce1a4b4b20742": {
      "model_module": "@jupyter-widgets/controls",
      "model_module_version": "2.0.0",
      "model_name": "HTMLModel",
      "state": {
       "layout": "IPY_MODEL_5efbbb11a0c7417199a980c7562d4f4b",
       "style": "IPY_MODEL_6eaa44f16ff64eb498fe699da8a2f336",
       "value": "Validation DataLoader 0: 100%"
      }
     },
     "a995bc2f6cda4ca1a97b8620cb16b658": {
      "model_module": "@jupyter-widgets/controls",
      "model_module_version": "2.0.0",
      "model_name": "HTMLStyleModel",
      "state": {
       "description_width": "",
       "font_size": null,
       "text_color": null
      }
     },
     "a99e1b78f37d4d3db377fa46236e210e": {
      "model_module": "@jupyter-widgets/controls",
      "model_module_version": "2.0.0",
      "model_name": "HTMLStyleModel",
      "state": {
       "description_width": "",
       "font_size": null,
       "text_color": null
      }
     },
     "a9ca2725ac64456b84b8dc70846c896d": {
      "model_module": "@jupyter-widgets/controls",
      "model_module_version": "2.0.0",
      "model_name": "FloatProgressModel",
      "state": {
       "layout": "IPY_MODEL_4e471eecb2774e9eaa60a71be8421c6c",
       "max": 280,
       "style": "IPY_MODEL_227bc0ccb0b94bf3b4c0fbead78d4a48",
       "value": 280
      }
     },
     "a9db1c3c6b024349b6ccb73aebc17a87": {
      "model_module": "@jupyter-widgets/controls",
      "model_module_version": "2.0.0",
      "model_name": "ProgressStyleModel",
      "state": {
       "description_width": ""
      }
     },
     "aa726f380f6d4e138547ecc1389c4379": {
      "model_module": "@jupyter-widgets/base",
      "model_module_version": "2.0.0",
      "model_name": "LayoutModel",
      "state": {
       "flex": "2"
      }
     },
     "aaa53c5fd662443b9b3278bb80d01ae7": {
      "model_module": "@jupyter-widgets/controls",
      "model_module_version": "2.0.0",
      "model_name": "HTMLStyleModel",
      "state": {
       "description_width": "",
       "font_size": null,
       "text_color": null
      }
     },
     "aaca1967fdbd4f10b2061232a0837879": {
      "model_module": "@jupyter-widgets/controls",
      "model_module_version": "2.0.0",
      "model_name": "HTMLStyleModel",
      "state": {
       "description_width": "",
       "font_size": null,
       "text_color": null
      }
     },
     "ab17275d98314108a729416c35c917c5": {
      "model_module": "@jupyter-widgets/base",
      "model_module_version": "2.0.0",
      "model_name": "LayoutModel",
      "state": {}
     },
     "abf51edc7f3d490598102c2dd06dd685": {
      "model_module": "@jupyter-widgets/base",
      "model_module_version": "2.0.0",
      "model_name": "LayoutModel",
      "state": {
       "display": "inline-flex",
       "flex_flow": "row wrap",
       "visibility": "hidden",
       "width": "100%"
      }
     },
     "aca36cdb15574c02897e0cf476ead440": {
      "model_module": "@jupyter-widgets/base",
      "model_module_version": "2.0.0",
      "model_name": "LayoutModel",
      "state": {}
     },
     "acb8ce338b3946fd82f3e10728cd80be": {
      "model_module": "@jupyter-widgets/controls",
      "model_module_version": "2.0.0",
      "model_name": "HTMLModel",
      "state": {
       "layout": "IPY_MODEL_a28ed836eaf84d119f683f262b66e55d",
       "style": "IPY_MODEL_25076092c1734fd4b7ac3ec3d9a6caf3",
       "value": " 280/280 [00:27&lt;00:00, 10.21it/s]"
      }
     },
     "acba509224834a6496207909caa828f3": {
      "model_module": "@jupyter-widgets/base",
      "model_module_version": "2.0.0",
      "model_name": "LayoutModel",
      "state": {}
     },
     "acd3ac240f794429aa8e312b3bdad4bd": {
      "model_module": "@jupyter-widgets/base",
      "model_module_version": "2.0.0",
      "model_name": "LayoutModel",
      "state": {}
     },
     "acf3f3bd30c04752ad7f06637bf2aed4": {
      "model_module": "@jupyter-widgets/controls",
      "model_module_version": "2.0.0",
      "model_name": "ProgressStyleModel",
      "state": {
       "description_width": ""
      }
     },
     "adfbec5e2ffe492088af99d297600ff1": {
      "model_module": "@jupyter-widgets/controls",
      "model_module_version": "2.0.0",
      "model_name": "ProgressStyleModel",
      "state": {
       "description_width": ""
      }
     },
     "ae32ed41ae7c4faebe534e660a42c01b": {
      "model_module": "@jupyter-widgets/controls",
      "model_module_version": "2.0.0",
      "model_name": "HTMLStyleModel",
      "state": {
       "description_width": "",
       "font_size": null,
       "text_color": null
      }
     },
     "ae3fea71648749dba41e949b4c955063": {
      "model_module": "@jupyter-widgets/controls",
      "model_module_version": "2.0.0",
      "model_name": "HTMLModel",
      "state": {
       "layout": "IPY_MODEL_dd7751da425d4a90a8227bdaaa59f1bb",
       "style": "IPY_MODEL_66d7b2419baf437e8b2d406251d064f9",
       "value": " 280/280 [00:26&lt;00:00, 10.54it/s]"
      }
     },
     "ae4d9215713543b59772e4b408fa28a6": {
      "model_module": "@jupyter-widgets/controls",
      "model_module_version": "2.0.0",
      "model_name": "HTMLModel",
      "state": {
       "layout": "IPY_MODEL_7fe83490554542ed8892bef120a5a523",
       "style": "IPY_MODEL_de1c88a756a94efe8f42d3d637bbc49c",
       "value": " 2/2 [00:00&lt;00:00,  9.52it/s]"
      }
     },
     "ae54aa0b06e14779bf1a484bd454e120": {
      "model_module": "@jupyter-widgets/controls",
      "model_module_version": "2.0.0",
      "model_name": "HTMLModel",
      "state": {
       "layout": "IPY_MODEL_ff7a282d00564ac39cf89bc0c6caf202",
       "style": "IPY_MODEL_c8a9392191324ccab885a87e21230c4f",
       "value": "Validation DataLoader 0: 100%"
      }
     },
     "aee93bcb472f44868b5b0d58c24b74db": {
      "model_module": "@jupyter-widgets/controls",
      "model_module_version": "2.0.0",
      "model_name": "HTMLModel",
      "state": {
       "layout": "IPY_MODEL_541622d6e68544f8bdfaf6b7e64d7ae3",
       "style": "IPY_MODEL_331c9a5b4ab34dc69910d09f2d047fd6",
       "value": "Validation DataLoader 0: 100%"
      }
     },
     "b1025c137f264cf08796d8dfabfcce0c": {
      "model_module": "@jupyter-widgets/controls",
      "model_module_version": "2.0.0",
      "model_name": "ProgressStyleModel",
      "state": {
       "description_width": ""
      }
     },
     "b19da6471b4c4a0a93285f04b0fd6337": {
      "model_module": "@jupyter-widgets/controls",
      "model_module_version": "2.0.0",
      "model_name": "HTMLStyleModel",
      "state": {
       "description_width": "",
       "font_size": null,
       "text_color": null
      }
     },
     "b1e245e45203413ba3fa5d5e5f1c6337": {
      "model_module": "@jupyter-widgets/controls",
      "model_module_version": "2.0.0",
      "model_name": "HTMLStyleModel",
      "state": {
       "description_width": "",
       "font_size": null,
       "text_color": null
      }
     },
     "b20d17bc65eb4a1fae5f5105876c1f35": {
      "model_module": "@jupyter-widgets/controls",
      "model_module_version": "2.0.0",
      "model_name": "HTMLModel",
      "state": {
       "layout": "IPY_MODEL_c6ef3a1f943e4179963d12d76d593a1b",
       "style": "IPY_MODEL_9ef360b9a5f744138518d64048b69062",
       "value": "Validation DataLoader 0: 100%"
      }
     },
     "b29aa9ff8a814de8bbe58f5a1acec22d": {
      "model_module": "@jupyter-widgets/controls",
      "model_module_version": "2.0.0",
      "model_name": "HTMLModel",
      "state": {
       "layout": "IPY_MODEL_df6e82f886f944329f51cfb85a18b8c5",
       "style": "IPY_MODEL_b7d87b52b84748eeb155cc02210b1ccb",
       "value": " 280/280 [00:27&lt;00:00, 10.22it/s]"
      }
     },
     "b29c952f9c004d56b9c79eb54c6205b3": {
      "model_module": "@jupyter-widgets/controls",
      "model_module_version": "2.0.0",
      "model_name": "HTMLModel",
      "state": {
       "layout": "IPY_MODEL_8ac7e3c0fa9147d8bfc3514b73f5b25f",
       "style": "IPY_MODEL_e1875449fab44c8a85555abdaf933205",
       "value": " 280/280 [00:26&lt;00:00, 10.43it/s]"
      }
     },
     "b2b2a866c13148dabf64a3f4848b99a4": {
      "model_module": "@jupyter-widgets/controls",
      "model_module_version": "2.0.0",
      "model_name": "FloatProgressModel",
      "state": {
       "layout": "IPY_MODEL_a09b5a8a96694be29ca82e75b4340c2f",
       "max": 280,
       "style": "IPY_MODEL_acf3f3bd30c04752ad7f06637bf2aed4",
       "value": 280
      }
     },
     "b3798ae4719044ecaaa7bc066ac9e250": {
      "model_module": "@jupyter-widgets/controls",
      "model_module_version": "2.0.0",
      "model_name": "HTMLStyleModel",
      "state": {
       "description_width": "",
       "font_size": null,
       "text_color": null
      }
     },
     "b415628cc3f54953851db9fc1b1a1666": {
      "model_module": "@jupyter-widgets/controls",
      "model_module_version": "2.0.0",
      "model_name": "FloatProgressModel",
      "state": {
       "layout": "IPY_MODEL_42a62fe8db7e4674aee4e252cac3fa87",
       "max": 280,
       "style": "IPY_MODEL_d9043a7ce75f4a929fd87be8d6443e1e",
       "value": 280
      }
     },
     "b42d2ec2f7684e598ab1994213c30678": {
      "model_module": "@jupyter-widgets/controls",
      "model_module_version": "2.0.0",
      "model_name": "HTMLStyleModel",
      "state": {
       "description_width": "",
       "font_size": null,
       "text_color": null
      }
     },
     "b43f54107ef5458abf43a5c982c2446b": {
      "model_module": "@jupyter-widgets/controls",
      "model_module_version": "2.0.0",
      "model_name": "HTMLStyleModel",
      "state": {
       "description_width": "",
       "font_size": null,
       "text_color": null
      }
     },
     "b456b8434f924e169abe88dbf5fca7c6": {
      "model_module": "@jupyter-widgets/controls",
      "model_module_version": "2.0.0",
      "model_name": "HTMLStyleModel",
      "state": {
       "description_width": "",
       "font_size": null,
       "text_color": null
      }
     },
     "b4731755699c4e27844a50a42f1f07e8": {
      "model_module": "@jupyter-widgets/base",
      "model_module_version": "2.0.0",
      "model_name": "LayoutModel",
      "state": {}
     },
     "b512687d4192477ab4c9128c7e1e2989": {
      "model_module": "@jupyter-widgets/base",
      "model_module_version": "2.0.0",
      "model_name": "LayoutModel",
      "state": {}
     },
     "b7714a28eebb44db8ec1fbb805d67374": {
      "model_module": "@jupyter-widgets/base",
      "model_module_version": "2.0.0",
      "model_name": "LayoutModel",
      "state": {
       "display": "inline-flex",
       "flex_flow": "row wrap",
       "visibility": "hidden",
       "width": "100%"
      }
     },
     "b7c00866656042619ca0ebe5f44c183c": {
      "model_module": "@jupyter-widgets/controls",
      "model_module_version": "2.0.0",
      "model_name": "HTMLStyleModel",
      "state": {
       "description_width": "",
       "font_size": null,
       "text_color": null
      }
     },
     "b7c23d5b114d4189a6f73329d2d4ffab": {
      "model_module": "@jupyter-widgets/controls",
      "model_module_version": "2.0.0",
      "model_name": "HTMLStyleModel",
      "state": {
       "description_width": "",
       "font_size": null,
       "text_color": null
      }
     },
     "b7d87b52b84748eeb155cc02210b1ccb": {
      "model_module": "@jupyter-widgets/controls",
      "model_module_version": "2.0.0",
      "model_name": "HTMLStyleModel",
      "state": {
       "description_width": "",
       "font_size": null,
       "text_color": null
      }
     },
     "b80980a59ce24c63905ee24ebee55669": {
      "model_module": "@jupyter-widgets/controls",
      "model_module_version": "2.0.0",
      "model_name": "HTMLModel",
      "state": {
       "layout": "IPY_MODEL_18e98fcdd525496e90c334a521973a24",
       "style": "IPY_MODEL_190232ade3b94cccb21d34e80d6b2f3f",
       "value": " 280/280 [00:27&lt;00:00, 10.21it/s]"
      }
     },
     "b829f7915ba14ce19ae2cebbc5e1d6a2": {
      "model_module": "@jupyter-widgets/base",
      "model_module_version": "2.0.0",
      "model_name": "LayoutModel",
      "state": {}
     },
     "b842f26476bc4596b6c3522013746006": {
      "model_module": "@jupyter-widgets/controls",
      "model_module_version": "2.0.0",
      "model_name": "HTMLStyleModel",
      "state": {
       "description_width": "",
       "font_size": null,
       "text_color": null
      }
     },
     "b89d70d821c6491fa5a0b04b33271971": {
      "model_module": "@jupyter-widgets/controls",
      "model_module_version": "2.0.0",
      "model_name": "ProgressStyleModel",
      "state": {
       "description_width": ""
      }
     },
     "b8c13d0ee0034108b973c8df3b1e7e5c": {
      "model_module": "@jupyter-widgets/base",
      "model_module_version": "2.0.0",
      "model_name": "LayoutModel",
      "state": {}
     },
     "b8e353f095da476186e44b26783436ca": {
      "model_module": "@jupyter-widgets/controls",
      "model_module_version": "2.0.0",
      "model_name": "HTMLStyleModel",
      "state": {
       "description_width": "",
       "font_size": null,
       "text_color": null
      }
     },
     "b8fb07cdc04c4991b56facb4ec657e51": {
      "model_module": "@jupyter-widgets/controls",
      "model_module_version": "2.0.0",
      "model_name": "FloatProgressModel",
      "state": {
       "layout": "IPY_MODEL_11ac656cbd2f42baaf800424bda73e75",
       "max": 280,
       "style": "IPY_MODEL_39416f86e4ea4a97b516bb7721817e4d",
       "value": 280
      }
     },
     "b8fb66bc49ed4bfa8d1c7f480ba5e239": {
      "model_module": "@jupyter-widgets/controls",
      "model_module_version": "2.0.0",
      "model_name": "HTMLModel",
      "state": {
       "layout": "IPY_MODEL_fc8b00890c954126a41a1b0125fffb09",
       "style": "IPY_MODEL_4eeac34ccbe84eb3ba00429182f5c3ab",
       "value": "Validation DataLoader 0: 100%"
      }
     },
     "b92df0eba33b48f59c44561d167948c7": {
      "model_module": "@jupyter-widgets/output",
      "model_module_version": "1.0.0",
      "model_name": "OutputModel",
      "state": {
       "layout": "IPY_MODEL_ca927c9341d9447187d8038b5134d3bd",
       "outputs": [
        {
         "data": {
          "text/html": "<pre style=\"white-space:pre;overflow-x:auto;line-height:normal;font-family:Menlo,'DejaVu Sans Mono',consolas,'Courier New',monospace\"><span style=\"color: #800080; text-decoration-color: #800080\"> 100%</span> <span style=\"color: #729c1f; text-decoration-color: #729c1f\">━━━━━━━━━━━━━━━━━━━━━━━━━━━━━━━━━━━━━━━━━━━━━━━━━━━━━━━━━━━</span> <span style=\"color: #008000; text-decoration-color: #008000\">100,338/100,000 </span> [ <span style=\"color: #808000; text-decoration-color: #808000\">0:08:02</span> &lt; <span style=\"color: #008080; text-decoration-color: #008080\">0:00:00</span> , <span style=\"color: #800000; text-decoration-color: #800000\">339 it/s</span> ]\n</pre>\n",
          "text/plain": "\u001b[35m 100%\u001b[0m \u001b[38;2;114;156;31m━━━━━━━━━━━━━━━━━━━━━━━━━━━━━━━━━━━━━━━━━━━━━━━━━━━━━━━━━━━\u001b[0m \u001b[32m100,338/100,000 \u001b[0m [ \u001b[33m0:08:02\u001b[0m < \u001b[36m0:00:00\u001b[0m , \u001b[31m339 it/s\u001b[0m ]\n"
         },
         "metadata": {},
         "output_type": "display_data"
        }
       ]
      }
     },
     "b986654f97d446248da2eb29555e9ebf": {
      "model_module": "@jupyter-widgets/controls",
      "model_module_version": "2.0.0",
      "model_name": "HTMLModel",
      "state": {
       "layout": "IPY_MODEL_56aed666811b497ea2554d5b9a25958b",
       "style": "IPY_MODEL_e17356e0027e4594b6439ccc9be1026b",
       "value": " 280/280 [00:26&lt;00:00, 10.61it/s]"
      }
     },
     "b988ad2b166344029b2c4cb83132da9b": {
      "model_module": "@jupyter-widgets/base",
      "model_module_version": "2.0.0",
      "model_name": "LayoutModel",
      "state": {}
     },
     "b9b4e2e89b8141ac821eefcf28ac2ff8": {
      "model_module": "@jupyter-widgets/controls",
      "model_module_version": "2.0.0",
      "model_name": "ProgressStyleModel",
      "state": {
       "description_width": ""
      }
     },
     "bb6b351baad04edaaf298837e1382356": {
      "model_module": "@jupyter-widgets/controls",
      "model_module_version": "2.0.0",
      "model_name": "HTMLStyleModel",
      "state": {
       "description_width": "",
       "font_size": null,
       "text_color": null
      }
     },
     "bb72682b562d4d6b9f4fabd7fabf850c": {
      "model_module": "@jupyter-widgets/controls",
      "model_module_version": "2.0.0",
      "model_name": "HTMLModel",
      "state": {
       "layout": "IPY_MODEL_d2b725f968b24071830735a44602e4c5",
       "style": "IPY_MODEL_866bd7f9781544bc885d289c74fe1911",
       "value": "Validation DataLoader 0: 100%"
      }
     },
     "bbf0425dd7cc45928e8193107c1d83a2": {
      "model_module": "@jupyter-widgets/base",
      "model_module_version": "2.0.0",
      "model_name": "LayoutModel",
      "state": {
       "display": "inline-flex",
       "flex_flow": "row wrap",
       "visibility": "hidden",
       "width": "100%"
      }
     },
     "bc1a176241024c4d9036d63b83d17b1a": {
      "model_module": "@jupyter-widgets/controls",
      "model_module_version": "2.0.0",
      "model_name": "ProgressStyleModel",
      "state": {
       "description_width": ""
      }
     },
     "bc29b791f06b481e8ce13d2d122d0bb2": {
      "model_module": "@jupyter-widgets/controls",
      "model_module_version": "2.0.0",
      "model_name": "HTMLModel",
      "state": {
       "layout": "IPY_MODEL_3a39ecf869ba4d8e88681551b18e5e7f",
       "style": "IPY_MODEL_aaa53c5fd662443b9b3278bb80d01ae7",
       "value": "Epoch 69: 100%"
      }
     },
     "bc4dd24d9a5d4e4db2ac0b513f51b0bf": {
      "model_module": "@jupyter-widgets/base",
      "model_module_version": "2.0.0",
      "model_name": "LayoutModel",
      "state": {
       "display": "inline-flex",
       "flex_flow": "row wrap",
       "visibility": "hidden",
       "width": "100%"
      }
     },
     "bc7b8c00e84943a498cb2c4ee30cf0ab": {
      "model_module": "@jupyter-widgets/controls",
      "model_module_version": "2.0.0",
      "model_name": "HTMLStyleModel",
      "state": {
       "description_width": "",
       "font_size": null,
       "text_color": null
      }
     },
     "bd0131a7c028462385cf77cd40262f56": {
      "model_module": "@jupyter-widgets/base",
      "model_module_version": "2.0.0",
      "model_name": "LayoutModel",
      "state": {
       "display": "inline-flex",
       "flex_flow": "row wrap",
       "visibility": "hidden",
       "width": "100%"
      }
     },
     "bd11fee27a774130a8921753f4cd630d": {
      "model_module": "@jupyter-widgets/controls",
      "model_module_version": "2.0.0",
      "model_name": "HTMLStyleModel",
      "state": {
       "description_width": "",
       "font_size": null,
       "text_color": null
      }
     },
     "bd5b8de61b234eafa65bc8199e593eb4": {
      "model_module": "@jupyter-widgets/controls",
      "model_module_version": "2.0.0",
      "model_name": "FloatProgressModel",
      "state": {
       "layout": "IPY_MODEL_9eaf5e4ee8d44a1e9e64f14aeb523f40",
       "max": 280,
       "style": "IPY_MODEL_63989d60d04b4e939b4e2f10c2466e58",
       "value": 280
      }
     },
     "bd891a3fee484c06b270c3983c309b28": {
      "model_module": "@jupyter-widgets/controls",
      "model_module_version": "2.0.0",
      "model_name": "HTMLModel",
      "state": {
       "layout": "IPY_MODEL_dcc4729698cd47b690bcc11ef8fc1f72",
       "style": "IPY_MODEL_11a1de01628b4920a1032c3d824dd621",
       "value": "Validation DataLoader 0: 100%"
      }
     },
     "be3421fbf110435993ff860ed8c6d0b1": {
      "model_module": "@jupyter-widgets/base",
      "model_module_version": "2.0.0",
      "model_name": "LayoutModel",
      "state": {
       "display": "inline-flex",
       "flex_flow": "row wrap",
       "visibility": "hidden",
       "width": "100%"
      }
     },
     "be6f911b987f42af832f228b1a1c91cd": {
      "model_module": "@jupyter-widgets/base",
      "model_module_version": "2.0.0",
      "model_name": "LayoutModel",
      "state": {}
     },
     "be737d7195b74b85bfa8f36042a73780": {
      "model_module": "@jupyter-widgets/controls",
      "model_module_version": "2.0.0",
      "model_name": "ProgressStyleModel",
      "state": {
       "description_width": ""
      }
     },
     "bf0853ae13054b929c8cd78d7f971f9e": {
      "model_module": "@jupyter-widgets/base",
      "model_module_version": "2.0.0",
      "model_name": "LayoutModel",
      "state": {
       "flex": "2"
      }
     },
     "bf635180ece54e22998275aabd4b3a6a": {
      "model_module": "@jupyter-widgets/base",
      "model_module_version": "2.0.0",
      "model_name": "LayoutModel",
      "state": {}
     },
     "c0089e548c824466b0f7d73f15af5b64": {
      "model_module": "@jupyter-widgets/controls",
      "model_module_version": "2.0.0",
      "model_name": "HTMLModel",
      "state": {
       "layout": "IPY_MODEL_7f310a399f754e3e8e3d852987fe4838",
       "style": "IPY_MODEL_9385e579e93f4d4b89fd939c230745c3",
       "value": "Validation DataLoader 0: 100%"
      }
     },
     "c09fdaaa50ae4000acd2e1090e3d101d": {
      "model_module": "@jupyter-widgets/controls",
      "model_module_version": "2.0.0",
      "model_name": "HTMLStyleModel",
      "state": {
       "description_width": "",
       "font_size": null,
       "text_color": null
      }
     },
     "c16669c1ed0b495bbea6298874da6db4": {
      "model_module": "@jupyter-widgets/base",
      "model_module_version": "2.0.0",
      "model_name": "LayoutModel",
      "state": {}
     },
     "c1c43f8ca3a14ae7a4f98dcb1c89bf1f": {
      "model_module": "@jupyter-widgets/base",
      "model_module_version": "2.0.0",
      "model_name": "LayoutModel",
      "state": {}
     },
     "c25e25ef6e8c4189911a4261c8614c93": {
      "model_module": "@jupyter-widgets/controls",
      "model_module_version": "2.0.0",
      "model_name": "ProgressStyleModel",
      "state": {
       "description_width": ""
      }
     },
     "c265417381644ea0a5701432820e5dda": {
      "model_module": "@jupyter-widgets/controls",
      "model_module_version": "2.0.0",
      "model_name": "HTMLModel",
      "state": {
       "layout": "IPY_MODEL_6b9be86d01eb42c7a7b68bb1867f1ef3",
       "style": "IPY_MODEL_f097bbec11d24271ac9b5d9b8c576b0d",
       "value": "Validation DataLoader 0: 100%"
      }
     },
     "c321ab2ed92348beb81f1df62c7cfb3f": {
      "model_module": "@jupyter-widgets/controls",
      "model_module_version": "2.0.0",
      "model_name": "HTMLModel",
      "state": {
       "layout": "IPY_MODEL_d1b11bc1ef1b4330a662ac2c3da3e761",
       "style": "IPY_MODEL_043ebab977b54106809e2919ea102354",
       "value": "Validation DataLoader 0: 100%"
      }
     },
     "c3887c6fd4044a15ab028b4ddbf6869f": {
      "model_module": "@jupyter-widgets/base",
      "model_module_version": "2.0.0",
      "model_name": "LayoutModel",
      "state": {}
     },
     "c3a7b48b6ba9484bbd1387b20bef2cba": {
      "model_module": "@jupyter-widgets/controls",
      "model_module_version": "2.0.0",
      "model_name": "HTMLStyleModel",
      "state": {
       "description_width": "",
       "font_size": null,
       "text_color": null
      }
     },
     "c3edcc181e6041e393a02a41c1cf8ed2": {
      "model_module": "@jupyter-widgets/controls",
      "model_module_version": "2.0.0",
      "model_name": "FloatProgressModel",
      "state": {
       "layout": "IPY_MODEL_845719631c674323b2c9e629c62babaf",
       "max": 280,
       "style": "IPY_MODEL_d315b66560d04eb7ad3210b53ed04f15",
       "value": 280
      }
     },
     "c43b9319fc784b5787642cf375b64180": {
      "model_module": "@jupyter-widgets/controls",
      "model_module_version": "2.0.0",
      "model_name": "FloatProgressModel",
      "state": {
       "layout": "IPY_MODEL_495f2a9226d94a6cbfacc4fb277caea9",
       "max": 280,
       "style": "IPY_MODEL_083e84f4eeb64fa79d7e70f2288e1de1",
       "value": 280
      }
     },
     "c5268b9fbd7f4d7abd815e2f0b38778f": {
      "model_module": "@jupyter-widgets/controls",
      "model_module_version": "2.0.0",
      "model_name": "HTMLStyleModel",
      "state": {
       "description_width": "",
       "font_size": null,
       "text_color": null
      }
     },
     "c53ba7edd00f4bd4928d880750b06875": {
      "model_module": "@jupyter-widgets/controls",
      "model_module_version": "2.0.0",
      "model_name": "HTMLModel",
      "state": {
       "layout": "IPY_MODEL_c569516fd89146f6bf8f568c559367d3",
       "style": "IPY_MODEL_b7c00866656042619ca0ebe5f44c183c",
       "value": " 280/280 [00:26&lt;00:00, 10.58it/s]"
      }
     },
     "c54f54b649d24aefad927b9878f95d36": {
      "model_module": "@jupyter-widgets/controls",
      "model_module_version": "2.0.0",
      "model_name": "FloatProgressModel",
      "state": {
       "layout": "IPY_MODEL_127fe8a0508948e489a2f9ac547c0f93",
       "max": 280,
       "style": "IPY_MODEL_b9b4e2e89b8141ac821eefcf28ac2ff8",
       "value": 280
      }
     },
     "c569516fd89146f6bf8f568c559367d3": {
      "model_module": "@jupyter-widgets/base",
      "model_module_version": "2.0.0",
      "model_name": "LayoutModel",
      "state": {}
     },
     "c617aec73a184860ae2c9c22f5be0b12": {
      "model_module": "@jupyter-widgets/base",
      "model_module_version": "2.0.0",
      "model_name": "LayoutModel",
      "state": {
       "flex": "2"
      }
     },
     "c6ef3a1f943e4179963d12d76d593a1b": {
      "model_module": "@jupyter-widgets/base",
      "model_module_version": "2.0.0",
      "model_name": "LayoutModel",
      "state": {}
     },
     "c6fa31612dd14303adb054694ded4f83": {
      "model_module": "@jupyter-widgets/controls",
      "model_module_version": "2.0.0",
      "model_name": "HTMLModel",
      "state": {
       "layout": "IPY_MODEL_ec03ea73b31c4646a6a135d1b0dfef81",
       "style": "IPY_MODEL_f1b26793edea49dcb0c580eeb1702c82",
       "value": " 280/280 [00:26&lt;00:00, 10.51it/s]"
      }
     },
     "c71c1c5ab4d540a2bb0929fae6055e51": {
      "model_module": "@jupyter-widgets/base",
      "model_module_version": "2.0.0",
      "model_name": "LayoutModel",
      "state": {
       "display": "inline-flex",
       "flex_flow": "row wrap",
       "visibility": "hidden",
       "width": "100%"
      }
     },
     "c81f80c6be434f43b928a98bf80fab10": {
      "model_module": "@jupyter-widgets/controls",
      "model_module_version": "2.0.0",
      "model_name": "HTMLStyleModel",
      "state": {
       "description_width": "",
       "font_size": null,
       "text_color": null
      }
     },
     "c853dc796cc34e5f820befeebc03ae19": {
      "model_module": "@jupyter-widgets/controls",
      "model_module_version": "2.0.0",
      "model_name": "HTMLModel",
      "state": {
       "layout": "IPY_MODEL_52404db8565340a49223d4f2a67a6d24",
       "style": "IPY_MODEL_6e28041d720841678931e6055935c9f7",
       "value": "Validation DataLoader 0: 100%"
      }
     },
     "c860c789105e49839b57147103f28b82": {
      "model_module": "@jupyter-widgets/controls",
      "model_module_version": "2.0.0",
      "model_name": "HTMLModel",
      "state": {
       "layout": "IPY_MODEL_5c54d093f6cb4dddbe180261e8025bb3",
       "style": "IPY_MODEL_3efc8b1970114f02af707f075e0e762f",
       "value": "Validation DataLoader 0: 100%"
      }
     },
     "c8a9392191324ccab885a87e21230c4f": {
      "model_module": "@jupyter-widgets/controls",
      "model_module_version": "2.0.0",
      "model_name": "HTMLStyleModel",
      "state": {
       "description_width": "",
       "font_size": null,
       "text_color": null
      }
     },
     "c8e82c7be74e41ad92448ab1ae2a6110": {
      "model_module": "@jupyter-widgets/controls",
      "model_module_version": "2.0.0",
      "model_name": "ProgressStyleModel",
      "state": {
       "description_width": ""
      }
     },
     "c9701ff7ddeb4ea3b7cc005f37036f25": {
      "model_module": "@jupyter-widgets/base",
      "model_module_version": "2.0.0",
      "model_name": "LayoutModel",
      "state": {}
     },
     "c97302cb79d242f297c91e0a076a4a8e": {
      "model_module": "@jupyter-widgets/base",
      "model_module_version": "2.0.0",
      "model_name": "LayoutModel",
      "state": {
       "display": "inline-flex",
       "flex_flow": "row wrap",
       "visibility": "hidden",
       "width": "100%"
      }
     },
     "c991b5c8caaa42b8905db9263d1995ef": {
      "model_module": "@jupyter-widgets/base",
      "model_module_version": "2.0.0",
      "model_name": "LayoutModel",
      "state": {
       "flex": "2"
      }
     },
     "c999027866bb46b2b883367c908514f8": {
      "model_module": "@jupyter-widgets/controls",
      "model_module_version": "2.0.0",
      "model_name": "HTMLModel",
      "state": {
       "layout": "IPY_MODEL_a0b6cac3589d4e2b818b7bf5b739fc0f",
       "style": "IPY_MODEL_a57f2bc350b94d698683ffaedfb2c6f4",
       "value": " 280/280 [00:26&lt;00:00, 10.53it/s]"
      }
     },
     "ca53996399054c7cbbf219f37bcd26a3": {
      "model_module": "@jupyter-widgets/base",
      "model_module_version": "2.0.0",
      "model_name": "LayoutModel",
      "state": {}
     },
     "ca927c9341d9447187d8038b5134d3bd": {
      "model_module": "@jupyter-widgets/base",
      "model_module_version": "2.0.0",
      "model_name": "LayoutModel",
      "state": {}
     },
     "caf2507594bb48ad85f15053d09a7853": {
      "model_module": "@jupyter-widgets/controls",
      "model_module_version": "2.0.0",
      "model_name": "FloatProgressModel",
      "state": {
       "bar_style": "success",
       "layout": "IPY_MODEL_0ab91e64321b45af84b10702d3d24dad",
       "max": 839,
       "style": "IPY_MODEL_4db6a72020ad4e1eb28214559bb8785b",
       "value": 839
      }
     },
     "cbc439b289f04bf6a683041a3ed64b07": {
      "model_module": "@jupyter-widgets/controls",
      "model_module_version": "2.0.0",
      "model_name": "HTMLStyleModel",
      "state": {
       "description_width": "",
       "font_size": null,
       "text_color": null
      }
     },
     "cbea0754dfa64993b4f095fcf8a82573": {
      "model_module": "@jupyter-widgets/controls",
      "model_module_version": "2.0.0",
      "model_name": "HTMLStyleModel",
      "state": {
       "description_width": "",
       "font_size": null,
       "text_color": null
      }
     },
     "cc0e1835af064b7fa12aacdfef842b56": {
      "model_module": "@jupyter-widgets/controls",
      "model_module_version": "2.0.0",
      "model_name": "ProgressStyleModel",
      "state": {
       "description_width": ""
      }
     },
     "cc0ed93e552340e8af339f1ec3762c01": {
      "model_module": "@jupyter-widgets/controls",
      "model_module_version": "2.0.0",
      "model_name": "HTMLModel",
      "state": {
       "layout": "IPY_MODEL_c1c43f8ca3a14ae7a4f98dcb1c89bf1f",
       "style": "IPY_MODEL_6715b65c602c4018b54a7ffff335270b",
       "value": " 280/280 [00:26&lt;00:00, 10.50it/s]"
      }
     },
     "cc35d945f59842348958fbb937333741": {
      "model_module": "@jupyter-widgets/controls",
      "model_module_version": "2.0.0",
      "model_name": "HTMLModel",
      "state": {
       "layout": "IPY_MODEL_39ef6c0da0f74bb99e895d76e2a1e968",
       "style": "IPY_MODEL_cead29d8079341d6bce2c7bb230bbc44",
       "value": "Validation DataLoader 0: 100%"
      }
     },
     "ccb61e75758540c2a51b28d1e9527549": {
      "model_module": "@jupyter-widgets/controls",
      "model_module_version": "2.0.0",
      "model_name": "HTMLStyleModel",
      "state": {
       "description_width": "",
       "font_size": null,
       "text_color": null
      }
     },
     "cd1eed080af041f786dc02302b3f9934": {
      "model_module": "@jupyter-widgets/base",
      "model_module_version": "2.0.0",
      "model_name": "LayoutModel",
      "state": {
       "flex": "2"
      }
     },
     "ce4a278d428f4a48979c70a419bb1ffc": {
      "model_module": "@jupyter-widgets/controls",
      "model_module_version": "2.0.0",
      "model_name": "FloatProgressModel",
      "state": {
       "layout": "IPY_MODEL_282c6e9983854b258ff2ffc757dbcaf2",
       "max": 280,
       "style": "IPY_MODEL_4d7f21202e1b46d9a9af59b14bc4b2f9",
       "value": 280
      }
     },
     "ce56878eec8f445d9e7bbfed5972b584": {
      "model_module": "@jupyter-widgets/base",
      "model_module_version": "2.0.0",
      "model_name": "LayoutModel",
      "state": {
       "flex": "2"
      }
     },
     "ce9834828a864a1a9c46d2a799ad1e30": {
      "model_module": "@jupyter-widgets/base",
      "model_module_version": "2.0.0",
      "model_name": "LayoutModel",
      "state": {}
     },
     "cead29d8079341d6bce2c7bb230bbc44": {
      "model_module": "@jupyter-widgets/controls",
      "model_module_version": "2.0.0",
      "model_name": "HTMLStyleModel",
      "state": {
       "description_width": "",
       "font_size": null,
       "text_color": null
      }
     },
     "ceb0bccd121d48a89f7bbf4d799137f3": {
      "model_module": "@jupyter-widgets/controls",
      "model_module_version": "2.0.0",
      "model_name": "ProgressStyleModel",
      "state": {
       "description_width": ""
      }
     },
     "ced15d3488294d6687fb1eb5219e7232": {
      "model_module": "@jupyter-widgets/controls",
      "model_module_version": "2.0.0",
      "model_name": "HTMLStyleModel",
      "state": {
       "description_width": "",
       "font_size": null,
       "text_color": null
      }
     },
     "d0caa3487dd34eaeb156383158586512": {
      "model_module": "@jupyter-widgets/controls",
      "model_module_version": "2.0.0",
      "model_name": "FloatProgressModel",
      "state": {
       "layout": "IPY_MODEL_694b4ce1c0eb46cdb4dccfaaf838566d",
       "max": 280,
       "style": "IPY_MODEL_92b2e80fbc8d4ebc925f62ee32f12540",
       "value": 280
      }
     },
     "d18384737a314c6f9c0d29f7187a6fad": {
      "model_module": "@jupyter-widgets/base",
      "model_module_version": "2.0.0",
      "model_name": "LayoutModel",
      "state": {
       "display": "inline-flex",
       "flex_flow": "row wrap",
       "visibility": "hidden",
       "width": "100%"
      }
     },
     "d1b11bc1ef1b4330a662ac2c3da3e761": {
      "model_module": "@jupyter-widgets/base",
      "model_module_version": "2.0.0",
      "model_name": "LayoutModel",
      "state": {}
     },
     "d2507802b94c49259eab006f6479f747": {
      "model_module": "@jupyter-widgets/controls",
      "model_module_version": "2.0.0",
      "model_name": "HTMLStyleModel",
      "state": {
       "description_width": "",
       "font_size": null,
       "text_color": null
      }
     },
     "d2b34f6d6ace48fb884192125ccdcbed": {
      "model_module": "@jupyter-widgets/base",
      "model_module_version": "2.0.0",
      "model_name": "LayoutModel",
      "state": {}
     },
     "d2b725f968b24071830735a44602e4c5": {
      "model_module": "@jupyter-widgets/base",
      "model_module_version": "2.0.0",
      "model_name": "LayoutModel",
      "state": {}
     },
     "d2e87119f3564b559cfcdd0faded924f": {
      "model_module": "@jupyter-widgets/controls",
      "model_module_version": "2.0.0",
      "model_name": "HTMLModel",
      "state": {
       "layout": "IPY_MODEL_07d4333337a44ad990db0796fa6457cd",
       "style": "IPY_MODEL_f382dfd7697141d1ae8b94760eabcc10",
       "value": " 280/280 [00:27&lt;00:00, 10.21it/s]"
      }
     },
     "d315b66560d04eb7ad3210b53ed04f15": {
      "model_module": "@jupyter-widgets/controls",
      "model_module_version": "2.0.0",
      "model_name": "ProgressStyleModel",
      "state": {
       "description_width": ""
      }
     },
     "d339cc5c37944bcaa93b7a9b62a17db7": {
      "model_module": "@jupyter-widgets/base",
      "model_module_version": "2.0.0",
      "model_name": "LayoutModel",
      "state": {
       "display": "inline-flex",
       "flex_flow": "row wrap",
       "visibility": "hidden",
       "width": "100%"
      }
     },
     "d37db69b0f924329a0b4fefd145dc456": {
      "model_module": "@jupyter-widgets/controls",
      "model_module_version": "2.0.0",
      "model_name": "HTMLStyleModel",
      "state": {
       "description_width": "",
       "font_size": null,
       "text_color": null
      }
     },
     "d38432fe21b34ec086702d06de9e9ff4": {
      "model_module": "@jupyter-widgets/controls",
      "model_module_version": "2.0.0",
      "model_name": "ProgressStyleModel",
      "state": {
       "description_width": ""
      }
     },
     "d390a27abf8a43bebda49b8dacd0ec60": {
      "model_module": "@jupyter-widgets/controls",
      "model_module_version": "2.0.0",
      "model_name": "HTMLStyleModel",
      "state": {
       "description_width": "",
       "font_size": null,
       "text_color": null
      }
     },
     "d3c2fe620a0d402eb53f32079fce83f4": {
      "model_module": "@jupyter-widgets/controls",
      "model_module_version": "2.0.0",
      "model_name": "HTMLModel",
      "state": {
       "layout": "IPY_MODEL_de095976f7224330a96c0b9679fda07d",
       "style": "IPY_MODEL_0390022fcc4e4430ba243f4f1c9abafd",
       "value": "Validation DataLoader 0: 100%"
      }
     },
     "d3d00d02acc641f290ebb33dddbe2fee": {
      "model_module": "@jupyter-widgets/controls",
      "model_module_version": "2.0.0",
      "model_name": "HTMLStyleModel",
      "state": {
       "description_width": "",
       "font_size": null,
       "text_color": null
      }
     },
     "d3f4f55d6b8441a4abb224d40b6f8c6c": {
      "model_module": "@jupyter-widgets/controls",
      "model_module_version": "2.0.0",
      "model_name": "HTMLModel",
      "state": {
       "layout": "IPY_MODEL_d6902b7ce3bc496389f55dd1ef221c39",
       "style": "IPY_MODEL_b42d2ec2f7684e598ab1994213c30678",
       "value": "Testing DataLoader 0: 100%"
      }
     },
     "d3fb1950ebc041c29cfc9f53fe5fe09e": {
      "model_module": "@jupyter-widgets/controls",
      "model_module_version": "2.0.0",
      "model_name": "FloatProgressModel",
      "state": {
       "layout": "IPY_MODEL_ce56878eec8f445d9e7bbfed5972b584",
       "max": 280,
       "style": "IPY_MODEL_4126c3bceb874f11944b56b08e4950a0",
       "value": 280
      }
     },
     "d48f86b38a93410da222f1a050fa795d": {
      "model_module": "@jupyter-widgets/controls",
      "model_module_version": "2.0.0",
      "model_name": "HTMLModel",
      "state": {
       "layout": "IPY_MODEL_bf635180ece54e22998275aabd4b3a6a",
       "style": "IPY_MODEL_b3798ae4719044ecaaa7bc066ac9e250",
       "value": " 280/280 [00:27&lt;00:00, 10.20it/s]"
      }
     },
     "d4ca5894e0a84732a05559f1ba3f53db": {
      "model_module": "@jupyter-widgets/controls",
      "model_module_version": "2.0.0",
      "model_name": "HTMLStyleModel",
      "state": {
       "description_width": "",
       "font_size": null,
       "text_color": null
      }
     },
     "d587ce5baf3d42cfaf27e1281b9e64d2": {
      "model_module": "@jupyter-widgets/base",
      "model_module_version": "2.0.0",
      "model_name": "LayoutModel",
      "state": {
       "display": "inline-flex",
       "flex_flow": "row wrap",
       "visibility": "hidden",
       "width": "100%"
      }
     },
     "d5d0b792bfa7424e9a17164aa939d493": {
      "model_module": "@jupyter-widgets/base",
      "model_module_version": "2.0.0",
      "model_name": "LayoutModel",
      "state": {}
     },
     "d6902b7ce3bc496389f55dd1ef221c39": {
      "model_module": "@jupyter-widgets/base",
      "model_module_version": "2.0.0",
      "model_name": "LayoutModel",
      "state": {}
     },
     "d765cada7c7546b1ba1e0a42b320e8fb": {
      "model_module": "@jupyter-widgets/base",
      "model_module_version": "2.0.0",
      "model_name": "LayoutModel",
      "state": {}
     },
     "d76bc89b5a334f44b5aa9ffc818c2625": {
      "model_module": "@jupyter-widgets/controls",
      "model_module_version": "2.0.0",
      "model_name": "HTMLModel",
      "state": {
       "layout": "IPY_MODEL_0f8f26e29f0d4c95aa4e261f02da7b21",
       "style": "IPY_MODEL_98267903a99c479095df774fb8252e41",
       "value": " 280/280 [00:27&lt;00:00, 10.28it/s]"
      }
     },
     "d7b870bcb58b4f34b7bf126eb11d7ee2": {
      "model_module": "@jupyter-widgets/controls",
      "model_module_version": "2.0.0",
      "model_name": "FloatProgressModel",
      "state": {
       "layout": "IPY_MODEL_226bebdc2b614f238f598aa5c9294e83",
       "max": 280,
       "style": "IPY_MODEL_7fd79e6db7154f48bee67550a98a4805",
       "value": 280
      }
     },
     "d7d078541e8648ba82ed3fd4ebf8944a": {
      "model_module": "@jupyter-widgets/base",
      "model_module_version": "2.0.0",
      "model_name": "LayoutModel",
      "state": {}
     },
     "d804bf24452b490d8e5a717486160827": {
      "model_module": "@jupyter-widgets/base",
      "model_module_version": "2.0.0",
      "model_name": "LayoutModel",
      "state": {
       "display": "inline-flex",
       "flex_flow": "row wrap",
       "visibility": "hidden",
       "width": "100%"
      }
     },
     "d86d787310ff4364869fa94bab7f8f9b": {
      "model_module": "@jupyter-widgets/controls",
      "model_module_version": "2.0.0",
      "model_name": "HTMLModel",
      "state": {
       "layout": "IPY_MODEL_acd3ac240f794429aa8e312b3bdad4bd",
       "style": "IPY_MODEL_4a7d3ffadc1b46698aebf63d0f2ba51b",
       "value": " 280/280 [00:27&lt;00:00, 10.24it/s]"
      }
     },
     "d87d852d74d84d54ae14da7857795578": {
      "model_module": "@jupyter-widgets/controls",
      "model_module_version": "2.0.0",
      "model_name": "HTMLModel",
      "state": {
       "layout": "IPY_MODEL_fc0693249b3649cbad46a967e3091ce1",
       "style": "IPY_MODEL_c09fdaaa50ae4000acd2e1090e3d101d",
       "value": " 280/280 [00:27&lt;00:00, 10.23it/s]"
      }
     },
     "d9043a7ce75f4a929fd87be8d6443e1e": {
      "model_module": "@jupyter-widgets/controls",
      "model_module_version": "2.0.0",
      "model_name": "ProgressStyleModel",
      "state": {
       "description_width": ""
      }
     },
     "d9e4c94224eb47f6839f50cfa1db8982": {
      "model_module": "@jupyter-widgets/controls",
      "model_module_version": "2.0.0",
      "model_name": "HTMLModel",
      "state": {
       "layout": "IPY_MODEL_a42f6087090e4a68a7a6f41b0dea08e7",
       "style": "IPY_MODEL_b19da6471b4c4a0a93285f04b0fd6337",
       "value": "Validation DataLoader 0: 100%"
      }
     },
     "da7986fffad040339f3d861ece37d422": {
      "model_module": "@jupyter-widgets/controls",
      "model_module_version": "2.0.0",
      "model_name": "HTMLStyleModel",
      "state": {
       "description_width": "",
       "font_size": null,
       "text_color": null
      }
     },
     "da9fae14777344d4ac538f3fb157ea86": {
      "model_module": "@jupyter-widgets/controls",
      "model_module_version": "2.0.0",
      "model_name": "HTMLStyleModel",
      "state": {
       "description_width": "",
       "font_size": null,
       "text_color": null
      }
     },
     "db738e97c1f04471acac981b84b8d322": {
      "model_module": "@jupyter-widgets/base",
      "model_module_version": "2.0.0",
      "model_name": "LayoutModel",
      "state": {
       "display": "inline-flex",
       "flex_flow": "row wrap",
       "visibility": "hidden",
       "width": "100%"
      }
     },
     "dba621f4b54d4f64a0c715b3b092a4cb": {
      "model_module": "@jupyter-widgets/controls",
      "model_module_version": "2.0.0",
      "model_name": "HTMLModel",
      "state": {
       "layout": "IPY_MODEL_e8345d5fa08743a1819234e019fb4ed9",
       "style": "IPY_MODEL_5b67ad9bc6cd4f19949733402a911468",
       "value": "Validation DataLoader 0: 100%"
      }
     },
     "dbd1a778071f4bdbb26312564e449bf0": {
      "model_module": "@jupyter-widgets/base",
      "model_module_version": "2.0.0",
      "model_name": "LayoutModel",
      "state": {
       "flex": "2"
      }
     },
     "dc184fecc5cc4ae6907f5fcf2a01d2cc": {
      "model_module": "@jupyter-widgets/base",
      "model_module_version": "2.0.0",
      "model_name": "LayoutModel",
      "state": {}
     },
     "dc5344185568465c8324426bcf2f3535": {
      "model_module": "@jupyter-widgets/controls",
      "model_module_version": "2.0.0",
      "model_name": "ProgressStyleModel",
      "state": {
       "description_width": ""
      }
     },
     "dc9b0d0a600f40e89cdd98c6aa7faec0": {
      "model_module": "@jupyter-widgets/controls",
      "model_module_version": "2.0.0",
      "model_name": "HTMLModel",
      "state": {
       "layout": "IPY_MODEL_261e3010af5f4491b4e73b8d84a4b9a0",
       "style": "IPY_MODEL_91b4db522ab7409d99f8d5c6ac879049",
       "value": " 280/280 [00:27&lt;00:00, 10.17it/s]"
      }
     },
     "dcc4729698cd47b690bcc11ef8fc1f72": {
      "model_module": "@jupyter-widgets/base",
      "model_module_version": "2.0.0",
      "model_name": "LayoutModel",
      "state": {}
     },
     "dcd850776871499e91aa7363fe274129": {
      "model_module": "@jupyter-widgets/controls",
      "model_module_version": "2.0.0",
      "model_name": "FloatProgressModel",
      "state": {
       "layout": "IPY_MODEL_45a892bc25bf4ff99089a44aa2b9893b",
       "max": 280,
       "style": "IPY_MODEL_2bd28c35dc0243d88b4d98cc5239ea25",
       "value": 280
      }
     },
     "dcef08ed701e4a519801d7096e915191": {
      "model_module": "@jupyter-widgets/base",
      "model_module_version": "2.0.0",
      "model_name": "LayoutModel",
      "state": {}
     },
     "dcf85e615b004f869483a5e7955a1716": {
      "model_module": "@jupyter-widgets/controls",
      "model_module_version": "2.0.0",
      "model_name": "HTMLStyleModel",
      "state": {
       "description_width": "",
       "font_size": null,
       "text_color": null
      }
     },
     "dd0398e4c8044c21af9cba9945fea71d": {
      "model_module": "@jupyter-widgets/base",
      "model_module_version": "2.0.0",
      "model_name": "LayoutModel",
      "state": {
       "flex": "2"
      }
     },
     "dd19d5580e344e08846115e324bfd337": {
      "model_module": "@jupyter-widgets/controls",
      "model_module_version": "2.0.0",
      "model_name": "FloatProgressModel",
      "state": {
       "layout": "IPY_MODEL_92da76cb85af4840ac5b8d5b5bf352de",
       "max": 280,
       "style": "IPY_MODEL_f5501da911964932a812baa30a20f7f7",
       "value": 280
      }
     },
     "dd27987472ed4d29a3711f9e96912c03": {
      "model_module": "@jupyter-widgets/base",
      "model_module_version": "2.0.0",
      "model_name": "LayoutModel",
      "state": {
       "display": "inline-flex",
       "flex_flow": "row wrap",
       "visibility": "hidden",
       "width": "100%"
      }
     },
     "dd30d68d40db4a5a8533a77e8ff5e8dd": {
      "model_module": "@jupyter-widgets/controls",
      "model_module_version": "2.0.0",
      "model_name": "ProgressStyleModel",
      "state": {
       "description_width": ""
      }
     },
     "dd7751da425d4a90a8227bdaaa59f1bb": {
      "model_module": "@jupyter-widgets/base",
      "model_module_version": "2.0.0",
      "model_name": "LayoutModel",
      "state": {}
     },
     "de095976f7224330a96c0b9679fda07d": {
      "model_module": "@jupyter-widgets/base",
      "model_module_version": "2.0.0",
      "model_name": "LayoutModel",
      "state": {}
     },
     "de1c88a756a94efe8f42d3d637bbc49c": {
      "model_module": "@jupyter-widgets/controls",
      "model_module_version": "2.0.0",
      "model_name": "HTMLStyleModel",
      "state": {
       "description_width": "",
       "font_size": null,
       "text_color": null
      }
     },
     "de67af8bab5e41a9ab3d71a1e3f084a9": {
      "model_module": "@jupyter-widgets/controls",
      "model_module_version": "2.0.0",
      "model_name": "FloatProgressModel",
      "state": {
       "layout": "IPY_MODEL_1f2252faa6594afa863c8acaa4a263d7",
       "max": 280,
       "style": "IPY_MODEL_e1b2732c9d6a499fbf5bff605e3a7d88",
       "value": 280
      }
     },
     "decd787c1add4f73836cb276b5701c33": {
      "model_module": "@jupyter-widgets/base",
      "model_module_version": "2.0.0",
      "model_name": "LayoutModel",
      "state": {
       "display": "inline-flex",
       "flex_flow": "row wrap",
       "visibility": "hidden",
       "width": "100%"
      }
     },
     "deefa164ab0b42f08c0fbd6ae2c7053b": {
      "model_module": "@jupyter-widgets/base",
      "model_module_version": "2.0.0",
      "model_name": "LayoutModel",
      "state": {}
     },
     "df04af9939f341a3ac06b8ef4b7c3b34": {
      "model_module": "@jupyter-widgets/controls",
      "model_module_version": "2.0.0",
      "model_name": "ProgressStyleModel",
      "state": {
       "description_width": ""
      }
     },
     "df6e82f886f944329f51cfb85a18b8c5": {
      "model_module": "@jupyter-widgets/base",
      "model_module_version": "2.0.0",
      "model_name": "LayoutModel",
      "state": {}
     },
     "df997adeaf554ccda7015b795c17d83e": {
      "model_module": "@jupyter-widgets/controls",
      "model_module_version": "2.0.0",
      "model_name": "HTMLStyleModel",
      "state": {
       "description_width": "",
       "font_size": null,
       "text_color": null
      }
     },
     "e06d6525c5694e30ad8a54f5c1f7ead5": {
      "model_module": "@jupyter-widgets/controls",
      "model_module_version": "2.0.0",
      "model_name": "FloatProgressModel",
      "state": {
       "layout": "IPY_MODEL_6cd4d20661ab4806ae3e57d94058d640",
       "max": 280,
       "style": "IPY_MODEL_770e08344b0544e59175e3f686975869",
       "value": 280
      }
     },
     "e0acb9193b2f49b28a97b52af9130f29": {
      "model_module": "@jupyter-widgets/base",
      "model_module_version": "2.0.0",
      "model_name": "LayoutModel",
      "state": {}
     },
     "e0b78bcfc3a840748da9e3887f9d417c": {
      "model_module": "@jupyter-widgets/controls",
      "model_module_version": "2.0.0",
      "model_name": "HTMLModel",
      "state": {
       "layout": "IPY_MODEL_b8c13d0ee0034108b973c8df3b1e7e5c",
       "style": "IPY_MODEL_a3b9c2b307934bfe90a8c2b50128daad",
       "value": "Validation DataLoader 0: 100%"
      }
     },
     "e141ec9f2da546858cb0e449e016c4b1": {
      "model_module": "@jupyter-widgets/controls",
      "model_module_version": "2.0.0",
      "model_name": "ProgressStyleModel",
      "state": {
       "description_width": ""
      }
     },
     "e17157de685547849b0c2772ec17f5ee": {
      "model_module": "@jupyter-widgets/controls",
      "model_module_version": "2.0.0",
      "model_name": "FloatProgressModel",
      "state": {
       "layout": "IPY_MODEL_560ef7f032fc42d69c3f4b382b6735f8",
       "max": 280,
       "style": "IPY_MODEL_1212a8d06d6a45e8a0ebc6680a348130",
       "value": 280
      }
     },
     "e17356e0027e4594b6439ccc9be1026b": {
      "model_module": "@jupyter-widgets/controls",
      "model_module_version": "2.0.0",
      "model_name": "HTMLStyleModel",
      "state": {
       "description_width": "",
       "font_size": null,
       "text_color": null
      }
     },
     "e1875449fab44c8a85555abdaf933205": {
      "model_module": "@jupyter-widgets/controls",
      "model_module_version": "2.0.0",
      "model_name": "HTMLStyleModel",
      "state": {
       "description_width": "",
       "font_size": null,
       "text_color": null
      }
     },
     "e192ddb4a0384e399a04b600ca193568": {
      "model_module": "@jupyter-widgets/base",
      "model_module_version": "2.0.0",
      "model_name": "LayoutModel",
      "state": {}
     },
     "e1b2732c9d6a499fbf5bff605e3a7d88": {
      "model_module": "@jupyter-widgets/controls",
      "model_module_version": "2.0.0",
      "model_name": "ProgressStyleModel",
      "state": {
       "description_width": ""
      }
     },
     "e1c6b9fcf9874855bf06ee2ad2e80a60": {
      "model_module": "@jupyter-widgets/base",
      "model_module_version": "2.0.0",
      "model_name": "LayoutModel",
      "state": {}
     },
     "e37dc1f2867349da9e9ddd0ee637cfa8": {
      "model_module": "@jupyter-widgets/base",
      "model_module_version": "2.0.0",
      "model_name": "LayoutModel",
      "state": {
       "flex": "2"
      }
     },
     "e435b2287c994d0a82f6f1f6e1b81f90": {
      "model_module": "@jupyter-widgets/controls",
      "model_module_version": "2.0.0",
      "model_name": "HTMLStyleModel",
      "state": {
       "description_width": "",
       "font_size": null,
       "text_color": null
      }
     },
     "e49a105e3b4c4cc1aed908e345eb19de": {
      "model_module": "@jupyter-widgets/controls",
      "model_module_version": "2.0.0",
      "model_name": "HTMLModel",
      "state": {
       "layout": "IPY_MODEL_e0acb9193b2f49b28a97b52af9130f29",
       "style": "IPY_MODEL_62740ea4177e48ab9f3d56ce760d7ae1",
       "value": " 280/280 [00:26&lt;00:00, 10.60it/s]"
      }
     },
     "e5784cd7d0d44736a9059af06a2f28bf": {
      "model_module": "@jupyter-widgets/controls",
      "model_module_version": "2.0.0",
      "model_name": "ProgressStyleModel",
      "state": {
       "description_width": ""
      }
     },
     "e57a93bb8fca451f9135f8619af84bad": {
      "model_module": "@jupyter-widgets/controls",
      "model_module_version": "2.0.0",
      "model_name": "HTMLModel",
      "state": {
       "layout": "IPY_MODEL_e1c6b9fcf9874855bf06ee2ad2e80a60",
       "style": "IPY_MODEL_fd6498964b84422a8f088298c31340b3",
       "value": "Validation DataLoader 0: 100%"
      }
     },
     "e5b8e93f194248eebf2f60d96141bbe8": {
      "model_module": "@jupyter-widgets/base",
      "model_module_version": "2.0.0",
      "model_name": "LayoutModel",
      "state": {
       "flex": "2"
      }
     },
     "e69f79b759304720a71d0b3ab1bfcbe3": {
      "model_module": "@jupyter-widgets/controls",
      "model_module_version": "2.0.0",
      "model_name": "HTMLStyleModel",
      "state": {
       "description_width": "",
       "font_size": null,
       "text_color": null
      }
     },
     "e6b14c8572ed40a5926217dcd0bcf052": {
      "model_module": "@jupyter-widgets/base",
      "model_module_version": "2.0.0",
      "model_name": "LayoutModel",
      "state": {
       "flex": "2"
      }
     },
     "e719a78b0b074e5e8d1663f226f1b2eb": {
      "model_module": "@jupyter-widgets/base",
      "model_module_version": "2.0.0",
      "model_name": "LayoutModel",
      "state": {}
     },
     "e72cbcb6945c43ac814cb05ef8a4634c": {
      "model_module": "@jupyter-widgets/controls",
      "model_module_version": "2.0.0",
      "model_name": "ProgressStyleModel",
      "state": {
       "description_width": ""
      }
     },
     "e74cc11cd67d448eae51811c50d79a46": {
      "model_module": "@jupyter-widgets/controls",
      "model_module_version": "2.0.0",
      "model_name": "FloatProgressModel",
      "state": {
       "layout": "IPY_MODEL_1f2b7283af8441d48b9b5586f7ae6211",
       "max": 280,
       "style": "IPY_MODEL_b89d70d821c6491fa5a0b04b33271971",
       "value": 280
      }
     },
     "e76ecfea3a824ad2bb1706bdd41dd68b": {
      "model_module": "@jupyter-widgets/controls",
      "model_module_version": "2.0.0",
      "model_name": "FloatProgressModel",
      "state": {
       "layout": "IPY_MODEL_3db3a269d0be406e8394b147342992a9",
       "max": 280,
       "style": "IPY_MODEL_c8e82c7be74e41ad92448ab1ae2a6110",
       "value": 280
      }
     },
     "e7fe25929baf4ef3a0645fdff4bc99cc": {
      "model_module": "@jupyter-widgets/controls",
      "model_module_version": "2.0.0",
      "model_name": "HTMLModel",
      "state": {
       "layout": "IPY_MODEL_f8dac4e76022492a960beb96addcaa0c",
       "style": "IPY_MODEL_6080ba3d805e4b65bcda39849b6cb7d1",
       "value": " 280/280 [00:26&lt;00:00, 10.52it/s]"
      }
     },
     "e8094181a0ca40b58f1729fcda992105": {
      "model_module": "@jupyter-widgets/base",
      "model_module_version": "2.0.0",
      "model_name": "LayoutModel",
      "state": {
       "flex": "2"
      }
     },
     "e8345d5fa08743a1819234e019fb4ed9": {
      "model_module": "@jupyter-widgets/base",
      "model_module_version": "2.0.0",
      "model_name": "LayoutModel",
      "state": {}
     },
     "e879412a0f424e9f990ca38cc697e146": {
      "model_module": "@jupyter-widgets/controls",
      "model_module_version": "2.0.0",
      "model_name": "HTMLModel",
      "state": {
       "layout": "IPY_MODEL_ec31aa9b776041719fd438b5a933409f",
       "style": "IPY_MODEL_8e2d936832264cd2a219a80d39166f02",
       "value": " 280/280 [00:27&lt;00:00, 10.23it/s]"
      }
     },
     "e89fc715e9984ffcad9e2b3f4d269f6a": {
      "model_module": "@jupyter-widgets/base",
      "model_module_version": "2.0.0",
      "model_name": "LayoutModel",
      "state": {}
     },
     "e9304aa338224f9e80389fce455bcaaa": {
      "model_module": "@jupyter-widgets/controls",
      "model_module_version": "2.0.0",
      "model_name": "FloatProgressModel",
      "state": {
       "layout": "IPY_MODEL_f0d9810752c14d0b81e9f432db18299e",
       "max": 280,
       "style": "IPY_MODEL_fde7258987ef48d0825f83e93fdc389d",
       "value": 280
      }
     },
     "eabf6f1fc54746f184d4cbd209cff6ab": {
      "model_module": "@jupyter-widgets/controls",
      "model_module_version": "2.0.0",
      "model_name": "HTMLStyleModel",
      "state": {
       "description_width": "",
       "font_size": null,
       "text_color": null
      }
     },
     "eacf937101df45e4a1dde7256ec2cbd0": {
      "model_module": "@jupyter-widgets/controls",
      "model_module_version": "2.0.0",
      "model_name": "HTMLModel",
      "state": {
       "layout": "IPY_MODEL_383b322fb82c40a9b85cd2a3eea73543",
       "style": "IPY_MODEL_eec619a5d5b64ab099e5a722a88b9af8",
       "value": "Validation DataLoader 0: 100%"
      }
     },
     "eb8a22bc1f9047bb92fa35ddf034ba4e": {
      "model_module": "@jupyter-widgets/controls",
      "model_module_version": "2.0.0",
      "model_name": "FloatProgressModel",
      "state": {
       "layout": "IPY_MODEL_12f8f14e153e4b6cac926bc0cf5ab73a",
       "max": 280,
       "style": "IPY_MODEL_5ff632aad6334e95a251ed75ac2d6cae",
       "value": 280
      }
     },
     "ec03ea73b31c4646a6a135d1b0dfef81": {
      "model_module": "@jupyter-widgets/base",
      "model_module_version": "2.0.0",
      "model_name": "LayoutModel",
      "state": {}
     },
     "ec14dd6df29541c083e55ceb50732dd9": {
      "model_module": "@jupyter-widgets/controls",
      "model_module_version": "2.0.0",
      "model_name": "HTMLModel",
      "state": {
       "layout": "IPY_MODEL_50a432e0d13040f5b4ddb02581910b79",
       "style": "IPY_MODEL_909199fbac334da482c972c9481ec783",
       "value": " 280/280 [00:27&lt;00:00, 10.23it/s]"
      }
     },
     "ec31aa9b776041719fd438b5a933409f": {
      "model_module": "@jupyter-widgets/base",
      "model_module_version": "2.0.0",
      "model_name": "LayoutModel",
      "state": {}
     },
     "ec5c80f33ef24d0787136f46614f51a0": {
      "model_module": "@jupyter-widgets/controls",
      "model_module_version": "2.0.0",
      "model_name": "ProgressStyleModel",
      "state": {
       "description_width": ""
      }
     },
     "edc826bb35d743dfaa9dd73ddee95973": {
      "model_module": "@jupyter-widgets/controls",
      "model_module_version": "2.0.0",
      "model_name": "HTMLModel",
      "state": {
       "layout": "IPY_MODEL_704f5761ffb140a7b30e76ab6c148692",
       "style": "IPY_MODEL_092586e6a1ec446a8fe1d8edcb041345",
       "value": " 280/280 [00:27&lt;00:00, 10.18it/s]"
      }
     },
     "ede466cac79447f9990650138d158120": {
      "model_module": "@jupyter-widgets/controls",
      "model_module_version": "2.0.0",
      "model_name": "HTMLModel",
      "state": {
       "layout": "IPY_MODEL_f5fc4f3e4da24b5a8fc93543d4f42346",
       "style": "IPY_MODEL_5a709fc4abf44c9f94396b3b9021e3de",
       "value": " 280/280 [00:26&lt;00:00, 10.52it/s]"
      }
     },
     "ee6f2d45a9c841e6b85a98c2649605a6": {
      "model_module": "@jupyter-widgets/controls",
      "model_module_version": "2.0.0",
      "model_name": "HTMLModel",
      "state": {
       "layout": "IPY_MODEL_7b14d77c6b71471a9cbc7ebbcdc34488",
       "style": "IPY_MODEL_b8e353f095da476186e44b26783436ca",
       "value": " 280/280 [00:27&lt;00:00, 10.20it/s]"
      }
     },
     "eec619a5d5b64ab099e5a722a88b9af8": {
      "model_module": "@jupyter-widgets/controls",
      "model_module_version": "2.0.0",
      "model_name": "HTMLStyleModel",
      "state": {
       "description_width": "",
       "font_size": null,
       "text_color": null
      }
     },
     "ef8c28168ed14327ae74d2f802e9e1c6": {
      "model_module": "@jupyter-widgets/base",
      "model_module_version": "2.0.0",
      "model_name": "LayoutModel",
      "state": {
       "display": "inline-flex",
       "flex_flow": "row wrap",
       "visibility": "hidden",
       "width": "100%"
      }
     },
     "efa8ac10633b43b4a3670afd1ed4bd2c": {
      "model_module": "@jupyter-widgets/base",
      "model_module_version": "2.0.0",
      "model_name": "LayoutModel",
      "state": {
       "display": "inline-flex",
       "flex_flow": "row wrap",
       "visibility": "hidden",
       "width": "100%"
      }
     },
     "efcdc6be1a254140919a887720c7140c": {
      "model_module": "@jupyter-widgets/controls",
      "model_module_version": "2.0.0",
      "model_name": "HTMLStyleModel",
      "state": {
       "description_width": "",
       "font_size": null,
       "text_color": null
      }
     },
     "f0124c0644dd42588fd8eda69d4a1488": {
      "model_module": "@jupyter-widgets/base",
      "model_module_version": "2.0.0",
      "model_name": "LayoutModel",
      "state": {
       "flex": "2"
      }
     },
     "f097bbec11d24271ac9b5d9b8c576b0d": {
      "model_module": "@jupyter-widgets/controls",
      "model_module_version": "2.0.0",
      "model_name": "HTMLStyleModel",
      "state": {
       "description_width": "",
       "font_size": null,
       "text_color": null
      }
     },
     "f0cfe256ddb74e589fcf038450ba224b": {
      "model_module": "@jupyter-widgets/base",
      "model_module_version": "2.0.0",
      "model_name": "LayoutModel",
      "state": {
       "display": "inline-flex",
       "flex_flow": "row wrap",
       "visibility": "hidden",
       "width": "100%"
      }
     },
     "f0d9810752c14d0b81e9f432db18299e": {
      "model_module": "@jupyter-widgets/base",
      "model_module_version": "2.0.0",
      "model_name": "LayoutModel",
      "state": {
       "flex": "2"
      }
     },
     "f0e4e10b1f9c417ab0c34b240853455c": {
      "model_module": "@jupyter-widgets/base",
      "model_module_version": "2.0.0",
      "model_name": "LayoutModel",
      "state": {
       "display": "inline-flex",
       "flex_flow": "row wrap",
       "visibility": "hidden",
       "width": "100%"
      }
     },
     "f169114afa41485688e6db302d1a322b": {
      "model_module": "@jupyter-widgets/controls",
      "model_module_version": "2.0.0",
      "model_name": "HTMLModel",
      "state": {
       "layout": "IPY_MODEL_fa7d972cceb24beab2cbaa60f1fb55b0",
       "style": "IPY_MODEL_71853b6c0d2f49a6a0c5038c45a021c8",
       "value": "Validation DataLoader 0: 100%"
      }
     },
     "f1b26793edea49dcb0c580eeb1702c82": {
      "model_module": "@jupyter-widgets/controls",
      "model_module_version": "2.0.0",
      "model_name": "HTMLStyleModel",
      "state": {
       "description_width": "",
       "font_size": null,
       "text_color": null
      }
     },
     "f2191dd6273943fd8ceeb59a83abcad6": {
      "model_module": "@jupyter-widgets/controls",
      "model_module_version": "2.0.0",
      "model_name": "HTMLModel",
      "state": {
       "layout": "IPY_MODEL_0280d9d67e4940e2bad5ba23a4eee775",
       "style": "IPY_MODEL_c81f80c6be434f43b928a98bf80fab10",
       "value": " 280/280 [00:26&lt;00:00, 10.60it/s]"
      }
     },
     "f26857e0304a4ef2b8184aa7cd8f673a": {
      "model_module": "@jupyter-widgets/controls",
      "model_module_version": "2.0.0",
      "model_name": "HTMLModel",
      "state": {
       "layout": "IPY_MODEL_737a35c1c19b46ceacf5a722717a2c2b",
       "style": "IPY_MODEL_54fa35ceed204b29b168cf3cd3e45e76",
       "value": "Validation DataLoader 0: 100%"
      }
     },
     "f2fcafaba4f04bd1aa8060c887119a6c": {
      "model_module": "@jupyter-widgets/controls",
      "model_module_version": "2.0.0",
      "model_name": "HTMLStyleModel",
      "state": {
       "description_width": "",
       "font_size": null,
       "text_color": null
      }
     },
     "f382dfd7697141d1ae8b94760eabcc10": {
      "model_module": "@jupyter-widgets/controls",
      "model_module_version": "2.0.0",
      "model_name": "HTMLStyleModel",
      "state": {
       "description_width": "",
       "font_size": null,
       "text_color": null
      }
     },
     "f3891ce7a2724c558ca55e9d159e6d8e": {
      "model_module": "@jupyter-widgets/controls",
      "model_module_version": "2.0.0",
      "model_name": "HTMLStyleModel",
      "state": {
       "description_width": "",
       "font_size": null,
       "text_color": null
      }
     },
     "f4b974413a5e4d23ad8b3e64c4b5a81e": {
      "model_module": "@jupyter-widgets/controls",
      "model_module_version": "2.0.0",
      "model_name": "HTMLModel",
      "state": {
       "layout": "IPY_MODEL_009d32efd0a840a7afd34311299ff832",
       "style": "IPY_MODEL_9bdbadadd92a49aa923037d341474772",
       "value": "Validation DataLoader 0: 100%"
      }
     },
     "f5501da911964932a812baa30a20f7f7": {
      "model_module": "@jupyter-widgets/controls",
      "model_module_version": "2.0.0",
      "model_name": "ProgressStyleModel",
      "state": {
       "description_width": ""
      }
     },
     "f5fc4f3e4da24b5a8fc93543d4f42346": {
      "model_module": "@jupyter-widgets/base",
      "model_module_version": "2.0.0",
      "model_name": "LayoutModel",
      "state": {}
     },
     "f6a7acb0becb4daabcddea0d2a562376": {
      "model_module": "@jupyter-widgets/controls",
      "model_module_version": "2.0.0",
      "model_name": "ProgressStyleModel",
      "state": {
       "description_width": ""
      }
     },
     "f6badd34e07746a08406ef6a308fa8bb": {
      "model_module": "@jupyter-widgets/base",
      "model_module_version": "2.0.0",
      "model_name": "LayoutModel",
      "state": {
       "display": "inline-flex",
       "flex_flow": "row wrap",
       "visibility": "hidden",
       "width": "100%"
      }
     },
     "f8334131d0f2434fa3e3e8fbfe58a927": {
      "model_module": "@jupyter-widgets/base",
      "model_module_version": "2.0.0",
      "model_name": "LayoutModel",
      "state": {
       "display": "inline-flex",
       "flex_flow": "row wrap",
       "visibility": "hidden",
       "width": "100%"
      }
     },
     "f8dac4e76022492a960beb96addcaa0c": {
      "model_module": "@jupyter-widgets/base",
      "model_module_version": "2.0.0",
      "model_name": "LayoutModel",
      "state": {}
     },
     "f8f53f6ca0ad42958615dbc8ebbe703d": {
      "model_module": "@jupyter-widgets/base",
      "model_module_version": "2.0.0",
      "model_name": "LayoutModel",
      "state": {
       "flex": "2"
      }
     },
     "f9efe2fac40a4789804681b3737e5a91": {
      "model_module": "@jupyter-widgets/base",
      "model_module_version": "2.0.0",
      "model_name": "LayoutModel",
      "state": {
       "display": "inline-flex",
       "flex_flow": "row wrap",
       "visibility": "hidden",
       "width": "100%"
      }
     },
     "fa43bff4b3054197be4bcbdc6d85a359": {
      "model_module": "@jupyter-widgets/controls",
      "model_module_version": "2.0.0",
      "model_name": "HTMLModel",
      "state": {
       "layout": "IPY_MODEL_d2b34f6d6ace48fb884192125ccdcbed",
       "style": "IPY_MODEL_8e9f08c5007140a29f05301fc5d2badc",
       "value": " 280/280 [00:27&lt;00:00, 10.28it/s]"
      }
     },
     "fa7d972cceb24beab2cbaa60f1fb55b0": {
      "model_module": "@jupyter-widgets/base",
      "model_module_version": "2.0.0",
      "model_name": "LayoutModel",
      "state": {}
     },
     "faa24e39eeda44229261e258a6d7178c": {
      "model_module": "@jupyter-widgets/base",
      "model_module_version": "2.0.0",
      "model_name": "LayoutModel",
      "state": {
       "display": "inline-flex",
       "flex_flow": "row wrap",
       "visibility": "hidden",
       "width": "100%"
      }
     },
     "faab13c209064f3785ccf819418f1188": {
      "model_module": "@jupyter-widgets/controls",
      "model_module_version": "2.0.0",
      "model_name": "HTMLModel",
      "state": {
       "layout": "IPY_MODEL_a13ddb45e071445480bccfa166d175ea",
       "style": "IPY_MODEL_efcdc6be1a254140919a887720c7140c",
       "value": " 280/280 [00:23&lt;00:00, 11.84it/s]"
      }
     },
     "fad1466797ac490494ad8b377c45e655": {
      "model_module": "@jupyter-widgets/controls",
      "model_module_version": "2.0.0",
      "model_name": "FloatProgressModel",
      "state": {
       "layout": "IPY_MODEL_e5b8e93f194248eebf2f60d96141bbe8",
       "max": 280,
       "style": "IPY_MODEL_cc0e1835af064b7fa12aacdfef842b56",
       "value": 280
      }
     },
     "fc0693249b3649cbad46a967e3091ce1": {
      "model_module": "@jupyter-widgets/base",
      "model_module_version": "2.0.0",
      "model_name": "LayoutModel",
      "state": {}
     },
     "fc6fbf2388e1448fb612fb6c41eed465": {
      "model_module": "@jupyter-widgets/controls",
      "model_module_version": "2.0.0",
      "model_name": "HTMLStyleModel",
      "state": {
       "description_width": "",
       "font_size": null,
       "text_color": null
      }
     },
     "fc8577a6864a4e61a45edbfaf1419b8e": {
      "model_module": "@jupyter-widgets/base",
      "model_module_version": "2.0.0",
      "model_name": "LayoutModel",
      "state": {
       "flex": "2"
      }
     },
     "fc8b00890c954126a41a1b0125fffb09": {
      "model_module": "@jupyter-widgets/base",
      "model_module_version": "2.0.0",
      "model_name": "LayoutModel",
      "state": {}
     },
     "fd473f0e08ef46b5874a0436ac2e6883": {
      "model_module": "@jupyter-widgets/controls",
      "model_module_version": "2.0.0",
      "model_name": "ProgressStyleModel",
      "state": {
       "description_width": ""
      }
     },
     "fd6498964b84422a8f088298c31340b3": {
      "model_module": "@jupyter-widgets/controls",
      "model_module_version": "2.0.0",
      "model_name": "HTMLStyleModel",
      "state": {
       "description_width": "",
       "font_size": null,
       "text_color": null
      }
     },
     "fd8a3f52375740e789a50b147b7d34ca": {
      "model_module": "@jupyter-widgets/controls",
      "model_module_version": "2.0.0",
      "model_name": "HTMLModel",
      "state": {
       "layout": "IPY_MODEL_51bb2c7696884c3cb5d3380d05fa3b32",
       "style": "IPY_MODEL_9721e44129a04f85bd5cc4c17bbeb368",
       "value": "Validation DataLoader 0: 100%"
      }
     },
     "fd91bc21c26045e5a6a2e33152e20507": {
      "model_module": "@jupyter-widgets/controls",
      "model_module_version": "2.0.0",
      "model_name": "HTMLModel",
      "state": {
       "layout": "IPY_MODEL_2d469f12bb53491a860c441b2eeb00cd",
       "style": "IPY_MODEL_19dee6858e07433bb55e45113261d4da",
       "value": " 280/280 [00:27&lt;00:00, 10.21it/s]"
      }
     },
     "fdba219c48334a1eadb7a851ab5bfb94": {
      "model_module": "@jupyter-widgets/base",
      "model_module_version": "2.0.0",
      "model_name": "LayoutModel",
      "state": {}
     },
     "fde7258987ef48d0825f83e93fdc389d": {
      "model_module": "@jupyter-widgets/controls",
      "model_module_version": "2.0.0",
      "model_name": "ProgressStyleModel",
      "state": {
       "description_width": ""
      }
     },
     "fdeed89b92264e238487fbc75e31fa39": {
      "model_module": "@jupyter-widgets/controls",
      "model_module_version": "2.0.0",
      "model_name": "HTMLModel",
      "state": {
       "layout": "IPY_MODEL_56e4739ab5b146f4a5ffd53c68f339d5",
       "style": "IPY_MODEL_ae32ed41ae7c4faebe534e660a42c01b",
       "value": " 280/280 [00:26&lt;00:00, 10.61it/s]"
      }
     },
     "feeecf27b04a496e89915232acd11ad8": {
      "model_module": "@jupyter-widgets/base",
      "model_module_version": "2.0.0",
      "model_name": "LayoutModel",
      "state": {}
     },
     "ff7a282d00564ac39cf89bc0c6caf202": {
      "model_module": "@jupyter-widgets/base",
      "model_module_version": "2.0.0",
      "model_name": "LayoutModel",
      "state": {}
     }
    },
    "version_major": 2,
    "version_minor": 0
   }
  }
 },
 "nbformat": 4,
 "nbformat_minor": 5
}
